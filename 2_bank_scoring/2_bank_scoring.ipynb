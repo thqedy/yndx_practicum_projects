{
 "cells": [
  {
   "cell_type": "markdown",
   "id": "4b6f90e9",
   "metadata": {},
   "source": [
    "# Исследование надёжности заёмщиков"
   ]
  },
  {
   "cell_type": "markdown",
   "id": "94c2291c",
   "metadata": {},
   "source": [
    "## Обзор данных"
   ]
  },
  {
   "cell_type": "markdown",
   "id": "5a3e4ddf",
   "metadata": {},
   "source": [
    "Импортируем библиотеку Pandas для работы с таблицами.    И тут же библиотеку Seaborn для построения визуализаций в ходе выполнения проекта."
   ]
  },
  {
   "cell_type": "code",
   "execution_count": 23,
   "id": "41fe3d29",
   "metadata": {},
   "outputs": [],
   "source": [
    "import pandas as pd\n",
    "import seaborn as sns"
   ]
  },
  {
   "cell_type": "markdown",
   "id": "9c6725b5",
   "metadata": {},
   "source": [
    "Прочитаем файл `data.csv` и сохраним его в переменной `df`:"
   ]
  },
  {
   "cell_type": "code",
   "execution_count": 24,
   "id": "b76874dc",
   "metadata": {},
   "outputs": [],
   "source": [
    "df = pd.read_csv('.../data.csv')"
   ]
  },
  {
   "cell_type": "markdown",
   "id": "ba9e6424",
   "metadata": {},
   "source": [
    "Выведем на экран первые 10 строк таблицы для ознакомления с её структурой:"
   ]
  },
  {
   "cell_type": "code",
   "execution_count": 25,
   "id": "1c708b83",
   "metadata": {},
   "outputs": [
    {
     "data": {
      "text/html": [
       "<div>\n",
       "<style scoped>\n",
       "    .dataframe tbody tr th:only-of-type {\n",
       "        vertical-align: middle;\n",
       "    }\n",
       "\n",
       "    .dataframe tbody tr th {\n",
       "        vertical-align: top;\n",
       "    }\n",
       "\n",
       "    .dataframe thead th {\n",
       "        text-align: right;\n",
       "    }\n",
       "</style>\n",
       "<table border=\"1\" class=\"dataframe\">\n",
       "  <thead>\n",
       "    <tr style=\"text-align: right;\">\n",
       "      <th></th>\n",
       "      <th>children</th>\n",
       "      <th>days_employed</th>\n",
       "      <th>dob_years</th>\n",
       "      <th>education</th>\n",
       "      <th>education_id</th>\n",
       "      <th>family_status</th>\n",
       "      <th>family_status_id</th>\n",
       "      <th>gender</th>\n",
       "      <th>income_type</th>\n",
       "      <th>debt</th>\n",
       "      <th>total_income</th>\n",
       "      <th>purpose</th>\n",
       "    </tr>\n",
       "  </thead>\n",
       "  <tbody>\n",
       "    <tr>\n",
       "      <th>0</th>\n",
       "      <td>1</td>\n",
       "      <td>-8437.673028</td>\n",
       "      <td>42</td>\n",
       "      <td>высшее</td>\n",
       "      <td>0</td>\n",
       "      <td>женат / замужем</td>\n",
       "      <td>0</td>\n",
       "      <td>F</td>\n",
       "      <td>сотрудник</td>\n",
       "      <td>0</td>\n",
       "      <td>253875.639453</td>\n",
       "      <td>покупка жилья</td>\n",
       "    </tr>\n",
       "    <tr>\n",
       "      <th>1</th>\n",
       "      <td>1</td>\n",
       "      <td>-4024.803754</td>\n",
       "      <td>36</td>\n",
       "      <td>среднее</td>\n",
       "      <td>1</td>\n",
       "      <td>женат / замужем</td>\n",
       "      <td>0</td>\n",
       "      <td>F</td>\n",
       "      <td>сотрудник</td>\n",
       "      <td>0</td>\n",
       "      <td>112080.014102</td>\n",
       "      <td>приобретение автомобиля</td>\n",
       "    </tr>\n",
       "    <tr>\n",
       "      <th>2</th>\n",
       "      <td>0</td>\n",
       "      <td>-5623.422610</td>\n",
       "      <td>33</td>\n",
       "      <td>Среднее</td>\n",
       "      <td>1</td>\n",
       "      <td>женат / замужем</td>\n",
       "      <td>0</td>\n",
       "      <td>M</td>\n",
       "      <td>сотрудник</td>\n",
       "      <td>0</td>\n",
       "      <td>145885.952297</td>\n",
       "      <td>покупка жилья</td>\n",
       "    </tr>\n",
       "    <tr>\n",
       "      <th>3</th>\n",
       "      <td>3</td>\n",
       "      <td>-4124.747207</td>\n",
       "      <td>32</td>\n",
       "      <td>среднее</td>\n",
       "      <td>1</td>\n",
       "      <td>женат / замужем</td>\n",
       "      <td>0</td>\n",
       "      <td>M</td>\n",
       "      <td>сотрудник</td>\n",
       "      <td>0</td>\n",
       "      <td>267628.550329</td>\n",
       "      <td>дополнительное образование</td>\n",
       "    </tr>\n",
       "    <tr>\n",
       "      <th>4</th>\n",
       "      <td>0</td>\n",
       "      <td>340266.072047</td>\n",
       "      <td>53</td>\n",
       "      <td>среднее</td>\n",
       "      <td>1</td>\n",
       "      <td>гражданский брак</td>\n",
       "      <td>1</td>\n",
       "      <td>F</td>\n",
       "      <td>пенсионер</td>\n",
       "      <td>0</td>\n",
       "      <td>158616.077870</td>\n",
       "      <td>сыграть свадьбу</td>\n",
       "    </tr>\n",
       "    <tr>\n",
       "      <th>5</th>\n",
       "      <td>0</td>\n",
       "      <td>-926.185831</td>\n",
       "      <td>27</td>\n",
       "      <td>высшее</td>\n",
       "      <td>0</td>\n",
       "      <td>гражданский брак</td>\n",
       "      <td>1</td>\n",
       "      <td>M</td>\n",
       "      <td>компаньон</td>\n",
       "      <td>0</td>\n",
       "      <td>255763.565419</td>\n",
       "      <td>покупка жилья</td>\n",
       "    </tr>\n",
       "    <tr>\n",
       "      <th>6</th>\n",
       "      <td>0</td>\n",
       "      <td>-2879.202052</td>\n",
       "      <td>43</td>\n",
       "      <td>высшее</td>\n",
       "      <td>0</td>\n",
       "      <td>женат / замужем</td>\n",
       "      <td>0</td>\n",
       "      <td>F</td>\n",
       "      <td>компаньон</td>\n",
       "      <td>0</td>\n",
       "      <td>240525.971920</td>\n",
       "      <td>операции с жильем</td>\n",
       "    </tr>\n",
       "    <tr>\n",
       "      <th>7</th>\n",
       "      <td>0</td>\n",
       "      <td>-152.779569</td>\n",
       "      <td>50</td>\n",
       "      <td>СРЕДНЕЕ</td>\n",
       "      <td>1</td>\n",
       "      <td>женат / замужем</td>\n",
       "      <td>0</td>\n",
       "      <td>M</td>\n",
       "      <td>сотрудник</td>\n",
       "      <td>0</td>\n",
       "      <td>135823.934197</td>\n",
       "      <td>образование</td>\n",
       "    </tr>\n",
       "    <tr>\n",
       "      <th>8</th>\n",
       "      <td>2</td>\n",
       "      <td>-6929.865299</td>\n",
       "      <td>35</td>\n",
       "      <td>ВЫСШЕЕ</td>\n",
       "      <td>0</td>\n",
       "      <td>гражданский брак</td>\n",
       "      <td>1</td>\n",
       "      <td>F</td>\n",
       "      <td>сотрудник</td>\n",
       "      <td>0</td>\n",
       "      <td>95856.832424</td>\n",
       "      <td>на проведение свадьбы</td>\n",
       "    </tr>\n",
       "    <tr>\n",
       "      <th>9</th>\n",
       "      <td>0</td>\n",
       "      <td>-2188.756445</td>\n",
       "      <td>41</td>\n",
       "      <td>среднее</td>\n",
       "      <td>1</td>\n",
       "      <td>женат / замужем</td>\n",
       "      <td>0</td>\n",
       "      <td>M</td>\n",
       "      <td>сотрудник</td>\n",
       "      <td>0</td>\n",
       "      <td>144425.938277</td>\n",
       "      <td>покупка жилья для семьи</td>\n",
       "    </tr>\n",
       "  </tbody>\n",
       "</table>\n",
       "</div>"
      ],
      "text/plain": [
       "   children  days_employed  dob_years education  education_id  \\\n",
       "0         1   -8437.673028         42    высшее             0   \n",
       "1         1   -4024.803754         36   среднее             1   \n",
       "2         0   -5623.422610         33   Среднее             1   \n",
       "3         3   -4124.747207         32   среднее             1   \n",
       "4         0  340266.072047         53   среднее             1   \n",
       "5         0    -926.185831         27    высшее             0   \n",
       "6         0   -2879.202052         43    высшее             0   \n",
       "7         0    -152.779569         50   СРЕДНЕЕ             1   \n",
       "8         2   -6929.865299         35    ВЫСШЕЕ             0   \n",
       "9         0   -2188.756445         41   среднее             1   \n",
       "\n",
       "      family_status  family_status_id gender income_type  debt   total_income  \\\n",
       "0   женат / замужем                 0      F   сотрудник     0  253875.639453   \n",
       "1   женат / замужем                 0      F   сотрудник     0  112080.014102   \n",
       "2   женат / замужем                 0      M   сотрудник     0  145885.952297   \n",
       "3   женат / замужем                 0      M   сотрудник     0  267628.550329   \n",
       "4  гражданский брак                 1      F   пенсионер     0  158616.077870   \n",
       "5  гражданский брак                 1      M   компаньон     0  255763.565419   \n",
       "6   женат / замужем                 0      F   компаньон     0  240525.971920   \n",
       "7   женат / замужем                 0      M   сотрудник     0  135823.934197   \n",
       "8  гражданский брак                 1      F   сотрудник     0   95856.832424   \n",
       "9   женат / замужем                 0      M   сотрудник     0  144425.938277   \n",
       "\n",
       "                      purpose  \n",
       "0               покупка жилья  \n",
       "1     приобретение автомобиля  \n",
       "2               покупка жилья  \n",
       "3  дополнительное образование  \n",
       "4             сыграть свадьбу  \n",
       "5               покупка жилья  \n",
       "6           операции с жильем  \n",
       "7                 образование  \n",
       "8       на проведение свадьбы  \n",
       "9     покупка жилья для семьи  "
      ]
     },
     "execution_count": 25,
     "metadata": {},
     "output_type": "execute_result"
    }
   ],
   "source": [
    "df.head(10)"
   ]
  },
  {
   "cell_type": "markdown",
   "id": "3e9b037b",
   "metadata": {},
   "source": [
    "Также ознакомимся с общей информацией о таблице `df`:"
   ]
  },
  {
   "cell_type": "code",
   "execution_count": 26,
   "id": "59e6bf82",
   "metadata": {},
   "outputs": [
    {
     "name": "stdout",
     "output_type": "stream",
     "text": [
      "<class 'pandas.core.frame.DataFrame'>\n",
      "RangeIndex: 21525 entries, 0 to 21524\n",
      "Data columns (total 12 columns):\n",
      " #   Column            Non-Null Count  Dtype  \n",
      "---  ------            --------------  -----  \n",
      " 0   children          21525 non-null  int64  \n",
      " 1   days_employed     19351 non-null  float64\n",
      " 2   dob_years         21525 non-null  int64  \n",
      " 3   education         21525 non-null  object \n",
      " 4   education_id      21525 non-null  int64  \n",
      " 5   family_status     21525 non-null  object \n",
      " 6   family_status_id  21525 non-null  int64  \n",
      " 7   gender            21525 non-null  object \n",
      " 8   income_type       21525 non-null  object \n",
      " 9   debt              21525 non-null  int64  \n",
      " 10  total_income      19351 non-null  float64\n",
      " 11  purpose           21525 non-null  object \n",
      "dtypes: float64(2), int64(5), object(5)\n",
      "memory usage: 2.0+ MB\n"
     ]
    }
   ],
   "source": [
    "df.info()"
   ]
  },
  {
   "cell_type": "markdown",
   "id": "c7140a0d",
   "metadata": {},
   "source": [
    "В таблице 12 столбцов с тремя типами данных: _float_, _int_ и _object_.\n",
    "    \n",
    "Согласно документации к данным:\n",
    "    \n",
    "* `children` — количество детей в семье;\n",
    "* `days_employed` — общий трудовой стаж в днях;\n",
    "* `dob_years` — возраст клиента в годах;\n",
    "* `education` — уровень образования клиента;\n",
    "* `education_id` — идентификатор уровня образования;\n",
    "* `family_status` — семейное положение;\n",
    "* `family_status_id` — идентификатор семейного положения;\n",
    "* `gender` — пол клиента;\n",
    "* `income_type` — тип занятости;\n",
    "* `debt` — имел ли задолженность по возврату кредитов;\n",
    "* `total_income` — ежемесячный доход;\n",
    "* `purpose` — цель получения кредита."
   ]
  },
  {
   "cell_type": "markdown",
   "id": "d4fe3986",
   "metadata": {},
   "source": [
    "**Выводы**\n",
    "\n",
    "Названия столбцов таблицы корректны.\n",
    "Каждая строка соответствует одному заёмщику.\n",
    "Количество значений в двух столбцах меньше, чем в остальных — значит, в данных есть пропуски.\n",
    "В таблице присутствуют как количественные, так и категорийные данные. Не везде оптимален выбор типа данных.\n",
    "Также обращают на себя внимание отрицательные числа в колонке стажа и неунифицированные значения в колонках об образовании и цели получения кредита.\n",
    "\n",
    "Предварительно можно утверждать, что, данных достаточно для исследования. Однако необходимо провести предобработку."
   ]
  },
  {
   "cell_type": "markdown",
   "id": "413fb6bd",
   "metadata": {},
   "source": [
    "## Предобработка данных\n",
    "\n",
    "### Заполнение пропусков"
   ]
  },
  {
   "cell_type": "markdown",
   "id": "ec444cc7",
   "metadata": {},
   "source": [
    "Итак, вывод общей информации о таблице показал наличие пропусков данных в столбцах `days_employed` и `total_income`. Причём количество пропущенных значений в колонках одинаковое, поэтому можно предположить, что пропущены они в одних и тех же строках.\n",
    "Проверим, так ли это."
   ]
  },
  {
   "cell_type": "code",
   "execution_count": 27,
   "id": "d397d8f7",
   "metadata": {},
   "outputs": [
    {
     "data": {
      "text/html": [
       "<div>\n",
       "<style scoped>\n",
       "    .dataframe tbody tr th:only-of-type {\n",
       "        vertical-align: middle;\n",
       "    }\n",
       "\n",
       "    .dataframe tbody tr th {\n",
       "        vertical-align: top;\n",
       "    }\n",
       "\n",
       "    .dataframe thead th {\n",
       "        text-align: right;\n",
       "    }\n",
       "</style>\n",
       "<table border=\"1\" class=\"dataframe\">\n",
       "  <thead>\n",
       "    <tr style=\"text-align: right;\">\n",
       "      <th></th>\n",
       "      <th>children</th>\n",
       "      <th>days_employed</th>\n",
       "      <th>dob_years</th>\n",
       "      <th>education</th>\n",
       "      <th>education_id</th>\n",
       "      <th>family_status</th>\n",
       "      <th>family_status_id</th>\n",
       "      <th>gender</th>\n",
       "      <th>income_type</th>\n",
       "      <th>debt</th>\n",
       "      <th>total_income</th>\n",
       "      <th>purpose</th>\n",
       "    </tr>\n",
       "  </thead>\n",
       "  <tbody>\n",
       "    <tr>\n",
       "      <th>12</th>\n",
       "      <td>0</td>\n",
       "      <td>NaN</td>\n",
       "      <td>65</td>\n",
       "      <td>среднее</td>\n",
       "      <td>1</td>\n",
       "      <td>гражданский брак</td>\n",
       "      <td>1</td>\n",
       "      <td>M</td>\n",
       "      <td>пенсионер</td>\n",
       "      <td>0</td>\n",
       "      <td>NaN</td>\n",
       "      <td>сыграть свадьбу</td>\n",
       "    </tr>\n",
       "    <tr>\n",
       "      <th>26</th>\n",
       "      <td>0</td>\n",
       "      <td>NaN</td>\n",
       "      <td>41</td>\n",
       "      <td>среднее</td>\n",
       "      <td>1</td>\n",
       "      <td>женат / замужем</td>\n",
       "      <td>0</td>\n",
       "      <td>M</td>\n",
       "      <td>госслужащий</td>\n",
       "      <td>0</td>\n",
       "      <td>NaN</td>\n",
       "      <td>образование</td>\n",
       "    </tr>\n",
       "    <tr>\n",
       "      <th>29</th>\n",
       "      <td>0</td>\n",
       "      <td>NaN</td>\n",
       "      <td>63</td>\n",
       "      <td>среднее</td>\n",
       "      <td>1</td>\n",
       "      <td>Не женат / не замужем</td>\n",
       "      <td>4</td>\n",
       "      <td>F</td>\n",
       "      <td>пенсионер</td>\n",
       "      <td>0</td>\n",
       "      <td>NaN</td>\n",
       "      <td>строительство жилой недвижимости</td>\n",
       "    </tr>\n",
       "    <tr>\n",
       "      <th>41</th>\n",
       "      <td>0</td>\n",
       "      <td>NaN</td>\n",
       "      <td>50</td>\n",
       "      <td>среднее</td>\n",
       "      <td>1</td>\n",
       "      <td>женат / замужем</td>\n",
       "      <td>0</td>\n",
       "      <td>F</td>\n",
       "      <td>госслужащий</td>\n",
       "      <td>0</td>\n",
       "      <td>NaN</td>\n",
       "      <td>сделка с подержанным автомобилем</td>\n",
       "    </tr>\n",
       "    <tr>\n",
       "      <th>55</th>\n",
       "      <td>0</td>\n",
       "      <td>NaN</td>\n",
       "      <td>54</td>\n",
       "      <td>среднее</td>\n",
       "      <td>1</td>\n",
       "      <td>гражданский брак</td>\n",
       "      <td>1</td>\n",
       "      <td>F</td>\n",
       "      <td>пенсионер</td>\n",
       "      <td>1</td>\n",
       "      <td>NaN</td>\n",
       "      <td>сыграть свадьбу</td>\n",
       "    </tr>\n",
       "  </tbody>\n",
       "</table>\n",
       "</div>"
      ],
      "text/plain": [
       "    children  days_employed  dob_years education  education_id  \\\n",
       "12         0            NaN         65   среднее             1   \n",
       "26         0            NaN         41   среднее             1   \n",
       "29         0            NaN         63   среднее             1   \n",
       "41         0            NaN         50   среднее             1   \n",
       "55         0            NaN         54   среднее             1   \n",
       "\n",
       "            family_status  family_status_id gender  income_type  debt  \\\n",
       "12       гражданский брак                 1      M    пенсионер     0   \n",
       "26        женат / замужем                 0      M  госслужащий     0   \n",
       "29  Не женат / не замужем                 4      F    пенсионер     0   \n",
       "41        женат / замужем                 0      F  госслужащий     0   \n",
       "55       гражданский брак                 1      F    пенсионер     1   \n",
       "\n",
       "    total_income                           purpose  \n",
       "12           NaN                   сыграть свадьбу  \n",
       "26           NaN                       образование  \n",
       "29           NaN  строительство жилой недвижимости  \n",
       "41           NaN  сделка с подержанным автомобилем  \n",
       "55           NaN                   сыграть свадьбу  "
      ]
     },
     "execution_count": 27,
     "metadata": {},
     "output_type": "execute_result"
    }
   ],
   "source": [
    "df[(df['days_employed'].isna()) & (df['total_income'].isna())].head()"
   ]
  },
  {
   "cell_type": "markdown",
   "id": "4cf9ae76",
   "metadata": {},
   "source": [
    "Действительно, данные об общем трудовом стаже и ежемесячном доходе отсутствуют у одних и тех же заёмщиков.\n",
    "\n",
    "Теперь проверим, какую долю составляют эти пропущенные значения. Достаточно будет проверки лишь по одному столбцу."
   ]
  },
  {
   "cell_type": "code",
   "execution_count": 28,
   "id": "4a8b0666",
   "metadata": {},
   "outputs": [
    {
     "data": {
      "text/plain": [
       "0.10099883855981417"
      ]
     },
     "execution_count": 28,
     "metadata": {},
     "output_type": "execute_result"
    }
   ],
   "source": [
    "df['days_employed'].isna().sum() / df.shape[0]"
   ]
  },
  {
   "cell_type": "markdown",
   "id": "b596ac4a",
   "metadata": {},
   "source": [
    "<a id=\"медианы\"></a>\n",
    "Пропущено 10 % значений. Это большая доля, а механизм формирования пропусков похож на неслучайный (MNAR): данные отсутствуют попарно, при этом не наблюдается корреляции с другими значениями. Вероятно, к появлению этих пропусков привели какие-то технические ошибки при формировании/выгрузке базы данных, возможно, совмещении таблиц.\n",
    "Удаление такого процента строк может очень сильно искозить результат исследования, поэтому избавляться от строк с пропущенными значениями в данном случае нельзя. Пропуски нужно заполнить.\n",
    "\n",
    "В целом, цель исследования не предполагает описание зависимости платёжеспособности клиента от его дохода или трудового стажа, но данные могут понадобиться при категоризации заёмщиков, поэтому для адекватного представления данных пропуски будет уместно *заполнить медианным значением* по столбцу: значения дохода и стажа могут сильно выделяться среди большинства, и среднее значение будет некорректно характеризовать данные. \n",
    "\n",
    "Однако, на медианы будут влиять аномальные значения в столбцах, а также возможные дубликаты. Поэтому прежде избавимся от них и вернёмся к пропускам в [пункте 2.3](#1медианы)."
   ]
  },
  {
   "cell_type": "markdown",
   "id": "a058e016",
   "metadata": {},
   "source": [
    "### Проверка данных на аномалии и исправления"
   ]
  },
  {
   "cell_type": "markdown",
   "id": "bb110de9",
   "metadata": {},
   "source": [
    "В столбце `days_employed`, который содержит данные о трудовом стаже в днях, есть отрицательные значения. Это аномальные значения, также, вероятно, возникшие в результате ошибок при формировании базы данных.\n",
    "Обработаем значения в этом столбце, заменив значения в нём на абсолютные."
   ]
  },
  {
   "cell_type": "code",
   "execution_count": 29,
   "id": "519e5b3f",
   "metadata": {},
   "outputs": [
    {
     "data": {
      "text/html": [
       "<div>\n",
       "<style scoped>\n",
       "    .dataframe tbody tr th:only-of-type {\n",
       "        vertical-align: middle;\n",
       "    }\n",
       "\n",
       "    .dataframe tbody tr th {\n",
       "        vertical-align: top;\n",
       "    }\n",
       "\n",
       "    .dataframe thead th {\n",
       "        text-align: right;\n",
       "    }\n",
       "</style>\n",
       "<table border=\"1\" class=\"dataframe\">\n",
       "  <thead>\n",
       "    <tr style=\"text-align: right;\">\n",
       "      <th></th>\n",
       "      <th>children</th>\n",
       "      <th>days_employed</th>\n",
       "      <th>dob_years</th>\n",
       "      <th>education</th>\n",
       "      <th>education_id</th>\n",
       "      <th>family_status</th>\n",
       "      <th>family_status_id</th>\n",
       "      <th>gender</th>\n",
       "      <th>income_type</th>\n",
       "      <th>debt</th>\n",
       "      <th>total_income</th>\n",
       "      <th>purpose</th>\n",
       "    </tr>\n",
       "  </thead>\n",
       "  <tbody>\n",
       "    <tr>\n",
       "      <th>0</th>\n",
       "      <td>1</td>\n",
       "      <td>8437.673028</td>\n",
       "      <td>42</td>\n",
       "      <td>высшее</td>\n",
       "      <td>0</td>\n",
       "      <td>женат / замужем</td>\n",
       "      <td>0</td>\n",
       "      <td>F</td>\n",
       "      <td>сотрудник</td>\n",
       "      <td>0</td>\n",
       "      <td>253875.639453</td>\n",
       "      <td>покупка жилья</td>\n",
       "    </tr>\n",
       "    <tr>\n",
       "      <th>1</th>\n",
       "      <td>1</td>\n",
       "      <td>4024.803754</td>\n",
       "      <td>36</td>\n",
       "      <td>среднее</td>\n",
       "      <td>1</td>\n",
       "      <td>женат / замужем</td>\n",
       "      <td>0</td>\n",
       "      <td>F</td>\n",
       "      <td>сотрудник</td>\n",
       "      <td>0</td>\n",
       "      <td>112080.014102</td>\n",
       "      <td>приобретение автомобиля</td>\n",
       "    </tr>\n",
       "    <tr>\n",
       "      <th>2</th>\n",
       "      <td>0</td>\n",
       "      <td>5623.422610</td>\n",
       "      <td>33</td>\n",
       "      <td>Среднее</td>\n",
       "      <td>1</td>\n",
       "      <td>женат / замужем</td>\n",
       "      <td>0</td>\n",
       "      <td>M</td>\n",
       "      <td>сотрудник</td>\n",
       "      <td>0</td>\n",
       "      <td>145885.952297</td>\n",
       "      <td>покупка жилья</td>\n",
       "    </tr>\n",
       "    <tr>\n",
       "      <th>3</th>\n",
       "      <td>3</td>\n",
       "      <td>4124.747207</td>\n",
       "      <td>32</td>\n",
       "      <td>среднее</td>\n",
       "      <td>1</td>\n",
       "      <td>женат / замужем</td>\n",
       "      <td>0</td>\n",
       "      <td>M</td>\n",
       "      <td>сотрудник</td>\n",
       "      <td>0</td>\n",
       "      <td>267628.550329</td>\n",
       "      <td>дополнительное образование</td>\n",
       "    </tr>\n",
       "    <tr>\n",
       "      <th>4</th>\n",
       "      <td>0</td>\n",
       "      <td>340266.072047</td>\n",
       "      <td>53</td>\n",
       "      <td>среднее</td>\n",
       "      <td>1</td>\n",
       "      <td>гражданский брак</td>\n",
       "      <td>1</td>\n",
       "      <td>F</td>\n",
       "      <td>пенсионер</td>\n",
       "      <td>0</td>\n",
       "      <td>158616.077870</td>\n",
       "      <td>сыграть свадьбу</td>\n",
       "    </tr>\n",
       "  </tbody>\n",
       "</table>\n",
       "</div>"
      ],
      "text/plain": [
       "   children  days_employed  dob_years education  education_id  \\\n",
       "0         1    8437.673028         42    высшее             0   \n",
       "1         1    4024.803754         36   среднее             1   \n",
       "2         0    5623.422610         33   Среднее             1   \n",
       "3         3    4124.747207         32   среднее             1   \n",
       "4         0  340266.072047         53   среднее             1   \n",
       "\n",
       "      family_status  family_status_id gender income_type  debt   total_income  \\\n",
       "0   женат / замужем                 0      F   сотрудник     0  253875.639453   \n",
       "1   женат / замужем                 0      F   сотрудник     0  112080.014102   \n",
       "2   женат / замужем                 0      M   сотрудник     0  145885.952297   \n",
       "3   женат / замужем                 0      M   сотрудник     0  267628.550329   \n",
       "4  гражданский брак                 1      F   пенсионер     0  158616.077870   \n",
       "\n",
       "                      purpose  \n",
       "0               покупка жилья  \n",
       "1     приобретение автомобиля  \n",
       "2               покупка жилья  \n",
       "3  дополнительное образование  \n",
       "4             сыграть свадьбу  "
      ]
     },
     "execution_count": 29,
     "metadata": {},
     "output_type": "execute_result"
    }
   ],
   "source": [
    "df['days_employed'] = df['days_employed'].abs()\n",
    "df.head()"
   ]
  },
  {
   "cell_type": "markdown",
   "id": "77eaebef",
   "metadata": {},
   "source": [
    "В пятой строке можно заметить аномально большое значение — больше 1000 лет трудового стажа. Проверим, какие ещё нереальные значения скрываются в этом столбце, отсортировав датафрейм по убыванию в колонке `days_employed`."
   ]
  },
  {
   "cell_type": "code",
   "execution_count": 30,
   "id": "ba6f6425",
   "metadata": {},
   "outputs": [
    {
     "data": {
      "text/html": [
       "<div>\n",
       "<style scoped>\n",
       "    .dataframe tbody tr th:only-of-type {\n",
       "        vertical-align: middle;\n",
       "    }\n",
       "\n",
       "    .dataframe tbody tr th {\n",
       "        vertical-align: top;\n",
       "    }\n",
       "\n",
       "    .dataframe thead th {\n",
       "        text-align: right;\n",
       "    }\n",
       "</style>\n",
       "<table border=\"1\" class=\"dataframe\">\n",
       "  <thead>\n",
       "    <tr style=\"text-align: right;\">\n",
       "      <th></th>\n",
       "      <th>children</th>\n",
       "      <th>days_employed</th>\n",
       "      <th>dob_years</th>\n",
       "      <th>education</th>\n",
       "      <th>education_id</th>\n",
       "      <th>family_status</th>\n",
       "      <th>family_status_id</th>\n",
       "      <th>gender</th>\n",
       "      <th>income_type</th>\n",
       "      <th>debt</th>\n",
       "      <th>total_income</th>\n",
       "      <th>purpose</th>\n",
       "    </tr>\n",
       "  </thead>\n",
       "  <tbody>\n",
       "    <tr>\n",
       "      <th>6954</th>\n",
       "      <td>0</td>\n",
       "      <td>401755.400475</td>\n",
       "      <td>56</td>\n",
       "      <td>среднее</td>\n",
       "      <td>1</td>\n",
       "      <td>вдовец / вдова</td>\n",
       "      <td>2</td>\n",
       "      <td>F</td>\n",
       "      <td>пенсионер</td>\n",
       "      <td>0</td>\n",
       "      <td>176278.441171</td>\n",
       "      <td>ремонт жилью</td>\n",
       "    </tr>\n",
       "    <tr>\n",
       "      <th>10006</th>\n",
       "      <td>0</td>\n",
       "      <td>401715.811749</td>\n",
       "      <td>69</td>\n",
       "      <td>высшее</td>\n",
       "      <td>0</td>\n",
       "      <td>Не женат / не замужем</td>\n",
       "      <td>4</td>\n",
       "      <td>F</td>\n",
       "      <td>пенсионер</td>\n",
       "      <td>0</td>\n",
       "      <td>57390.256908</td>\n",
       "      <td>получение образования</td>\n",
       "    </tr>\n",
       "    <tr>\n",
       "      <th>7664</th>\n",
       "      <td>1</td>\n",
       "      <td>401675.093434</td>\n",
       "      <td>61</td>\n",
       "      <td>среднее</td>\n",
       "      <td>1</td>\n",
       "      <td>женат / замужем</td>\n",
       "      <td>0</td>\n",
       "      <td>F</td>\n",
       "      <td>пенсионер</td>\n",
       "      <td>0</td>\n",
       "      <td>126214.519212</td>\n",
       "      <td>операции с жильем</td>\n",
       "    </tr>\n",
       "    <tr>\n",
       "      <th>2156</th>\n",
       "      <td>0</td>\n",
       "      <td>401674.466633</td>\n",
       "      <td>60</td>\n",
       "      <td>среднее</td>\n",
       "      <td>1</td>\n",
       "      <td>женат / замужем</td>\n",
       "      <td>0</td>\n",
       "      <td>M</td>\n",
       "      <td>пенсионер</td>\n",
       "      <td>0</td>\n",
       "      <td>325395.724541</td>\n",
       "      <td>автомобили</td>\n",
       "    </tr>\n",
       "    <tr>\n",
       "      <th>7794</th>\n",
       "      <td>0</td>\n",
       "      <td>401663.850046</td>\n",
       "      <td>61</td>\n",
       "      <td>среднее</td>\n",
       "      <td>1</td>\n",
       "      <td>гражданский брак</td>\n",
       "      <td>1</td>\n",
       "      <td>F</td>\n",
       "      <td>пенсионер</td>\n",
       "      <td>0</td>\n",
       "      <td>48286.441362</td>\n",
       "      <td>свадьба</td>\n",
       "    </tr>\n",
       "  </tbody>\n",
       "</table>\n",
       "</div>"
      ],
      "text/plain": [
       "       children  days_employed  dob_years education  education_id  \\\n",
       "6954          0  401755.400475         56   среднее             1   \n",
       "10006         0  401715.811749         69    высшее             0   \n",
       "7664          1  401675.093434         61   среднее             1   \n",
       "2156          0  401674.466633         60   среднее             1   \n",
       "7794          0  401663.850046         61   среднее             1   \n",
       "\n",
       "               family_status  family_status_id gender income_type  debt  \\\n",
       "6954          вдовец / вдова                 2      F   пенсионер     0   \n",
       "10006  Не женат / не замужем                 4      F   пенсионер     0   \n",
       "7664         женат / замужем                 0      F   пенсионер     0   \n",
       "2156         женат / замужем                 0      M   пенсионер     0   \n",
       "7794        гражданский брак                 1      F   пенсионер     0   \n",
       "\n",
       "        total_income                purpose  \n",
       "6954   176278.441171           ремонт жилью  \n",
       "10006   57390.256908  получение образования  \n",
       "7664   126214.519212      операции с жильем  \n",
       "2156   325395.724541             автомобили  \n",
       "7794    48286.441362                свадьба  "
      ]
     },
     "execution_count": 30,
     "metadata": {},
     "output_type": "execute_result"
    }
   ],
   "source": [
    "df.sort_values(by='days_employed', ascending=False).head()"
   ]
  },
  {
   "cell_type": "markdown",
   "id": "ff6df123",
   "metadata": {},
   "source": [
    "Похоже, что строк с тысячелетними значениями стажа в таблице много."
   ]
  },
  {
   "cell_type": "code",
   "execution_count": 31,
   "id": "13583411",
   "metadata": {},
   "outputs": [
    {
     "data": {
      "text/plain": [
       "3445"
      ]
     },
     "execution_count": 31,
     "metadata": {},
     "output_type": "execute_result"
    }
   ],
   "source": [
    "df[df['days_employed'] > 20000]['days_employed'].count()"
   ]
  },
  {
   "cell_type": "markdown",
   "id": "1ee33dff",
   "metadata": {},
   "source": [
    "А именно, 3445.\n",
    "\n",
    "Примечательно, что в последнем отсортированном выводе таблицы все строки имеют категорию `пенсионер` в колонке `income_type`.\n",
    "Проверим, принадлежат ли все строки с артефактами к какой-то определённой категории типа занятости."
   ]
  },
  {
   "cell_type": "code",
   "execution_count": 32,
   "id": "d83dcd24",
   "metadata": {},
   "outputs": [
    {
     "data": {
      "text/html": [
       "<div>\n",
       "<style scoped>\n",
       "    .dataframe tbody tr th:only-of-type {\n",
       "        vertical-align: middle;\n",
       "    }\n",
       "\n",
       "    .dataframe tbody tr th {\n",
       "        vertical-align: top;\n",
       "    }\n",
       "\n",
       "    .dataframe thead tr th {\n",
       "        text-align: left;\n",
       "    }\n",
       "\n",
       "    .dataframe thead tr:last-of-type th {\n",
       "        text-align: right;\n",
       "    }\n",
       "</style>\n",
       "<table border=\"1\" class=\"dataframe\">\n",
       "  <thead>\n",
       "    <tr>\n",
       "      <th></th>\n",
       "      <th colspan=\"2\" halign=\"left\">days_employed</th>\n",
       "    </tr>\n",
       "    <tr>\n",
       "      <th></th>\n",
       "      <th>min</th>\n",
       "      <th>max</th>\n",
       "    </tr>\n",
       "    <tr>\n",
       "      <th>income_type</th>\n",
       "      <th></th>\n",
       "      <th></th>\n",
       "    </tr>\n",
       "  </thead>\n",
       "  <tbody>\n",
       "    <tr>\n",
       "      <th>безработный</th>\n",
       "      <td>337524.466835</td>\n",
       "      <td>395302.838654</td>\n",
       "    </tr>\n",
       "    <tr>\n",
       "      <th>в декрете</th>\n",
       "      <td>3296.759962</td>\n",
       "      <td>3296.759962</td>\n",
       "    </tr>\n",
       "    <tr>\n",
       "      <th>госслужащий</th>\n",
       "      <td>39.954170</td>\n",
       "      <td>15193.032201</td>\n",
       "    </tr>\n",
       "    <tr>\n",
       "      <th>компаньон</th>\n",
       "      <td>30.195337</td>\n",
       "      <td>17615.563266</td>\n",
       "    </tr>\n",
       "    <tr>\n",
       "      <th>пенсионер</th>\n",
       "      <td>328728.720605</td>\n",
       "      <td>401755.400475</td>\n",
       "    </tr>\n",
       "    <tr>\n",
       "      <th>предприниматель</th>\n",
       "      <td>520.848083</td>\n",
       "      <td>520.848083</td>\n",
       "    </tr>\n",
       "    <tr>\n",
       "      <th>сотрудник</th>\n",
       "      <td>24.141633</td>\n",
       "      <td>18388.949901</td>\n",
       "    </tr>\n",
       "    <tr>\n",
       "      <th>студент</th>\n",
       "      <td>578.751554</td>\n",
       "      <td>578.751554</td>\n",
       "    </tr>\n",
       "  </tbody>\n",
       "</table>\n",
       "</div>"
      ],
      "text/plain": [
       "                 days_employed               \n",
       "                           min            max\n",
       "income_type                                  \n",
       "безработный      337524.466835  395302.838654\n",
       "в декрете          3296.759962    3296.759962\n",
       "госслужащий          39.954170   15193.032201\n",
       "компаньон            30.195337   17615.563266\n",
       "пенсионер        328728.720605  401755.400475\n",
       "предприниматель     520.848083     520.848083\n",
       "сотрудник            24.141633   18388.949901\n",
       "студент             578.751554     578.751554"
      ]
     },
     "execution_count": 32,
     "metadata": {},
     "output_type": "execute_result"
    }
   ],
   "source": [
    "df.groupby('income_type').agg({'days_employed': ['min', 'max']})"
   ]
  },
  {
   "cell_type": "markdown",
   "id": "a630a608",
   "metadata": {},
   "source": [
    "Теперь видно, что проблема с отображением стажа внутри двух категорий типа занятости — `пенсионер` и `безработный`."
   ]
  },
  {
   "cell_type": "markdown",
   "id": "bd7ffc4a",
   "metadata": {},
   "source": [
    "Для данного исследования не очень важно, как именно будут (и будут ли вообще) заменены аномальные значения в колонке стажа заёмщиков, но для адекватного представления данных заменим их следующим образом:\n",
    "- всем пенсионерам присвоим стаж, равный максимальному значению стажа в категории 'сотрудник',\n",
    "- всем безработным присвоим средний стаж категории 'госслужащий'."
   ]
  },
  {
   "cell_type": "code",
   "execution_count": 33,
   "id": "d31d8e85",
   "metadata": {},
   "outputs": [
    {
     "data": {
      "text/html": [
       "<div>\n",
       "<style scoped>\n",
       "    .dataframe tbody tr th:only-of-type {\n",
       "        vertical-align: middle;\n",
       "    }\n",
       "\n",
       "    .dataframe tbody tr th {\n",
       "        vertical-align: top;\n",
       "    }\n",
       "\n",
       "    .dataframe thead tr th {\n",
       "        text-align: left;\n",
       "    }\n",
       "\n",
       "    .dataframe thead tr:last-of-type th {\n",
       "        text-align: right;\n",
       "    }\n",
       "</style>\n",
       "<table border=\"1\" class=\"dataframe\">\n",
       "  <thead>\n",
       "    <tr>\n",
       "      <th></th>\n",
       "      <th colspan=\"2\" halign=\"left\">days_employed</th>\n",
       "    </tr>\n",
       "    <tr>\n",
       "      <th></th>\n",
       "      <th>min</th>\n",
       "      <th>max</th>\n",
       "    </tr>\n",
       "    <tr>\n",
       "      <th>income_type</th>\n",
       "      <th></th>\n",
       "      <th></th>\n",
       "    </tr>\n",
       "  </thead>\n",
       "  <tbody>\n",
       "    <tr>\n",
       "      <th>безработный</th>\n",
       "      <td>3399.896902</td>\n",
       "      <td>3399.896902</td>\n",
       "    </tr>\n",
       "    <tr>\n",
       "      <th>в декрете</th>\n",
       "      <td>3296.759962</td>\n",
       "      <td>3296.759962</td>\n",
       "    </tr>\n",
       "    <tr>\n",
       "      <th>госслужащий</th>\n",
       "      <td>39.954170</td>\n",
       "      <td>15193.032201</td>\n",
       "    </tr>\n",
       "    <tr>\n",
       "      <th>компаньон</th>\n",
       "      <td>30.195337</td>\n",
       "      <td>17615.563266</td>\n",
       "    </tr>\n",
       "    <tr>\n",
       "      <th>пенсионер</th>\n",
       "      <td>18388.949901</td>\n",
       "      <td>18388.949901</td>\n",
       "    </tr>\n",
       "    <tr>\n",
       "      <th>предприниматель</th>\n",
       "      <td>520.848083</td>\n",
       "      <td>520.848083</td>\n",
       "    </tr>\n",
       "    <tr>\n",
       "      <th>сотрудник</th>\n",
       "      <td>24.141633</td>\n",
       "      <td>18388.949901</td>\n",
       "    </tr>\n",
       "    <tr>\n",
       "      <th>студент</th>\n",
       "      <td>578.751554</td>\n",
       "      <td>578.751554</td>\n",
       "    </tr>\n",
       "  </tbody>\n",
       "</table>\n",
       "</div>"
      ],
      "text/plain": [
       "                days_employed              \n",
       "                          min           max\n",
       "income_type                                \n",
       "безработный       3399.896902   3399.896902\n",
       "в декрете         3296.759962   3296.759962\n",
       "госслужащий         39.954170  15193.032201\n",
       "компаньон           30.195337  17615.563266\n",
       "пенсионер        18388.949901  18388.949901\n",
       "предприниматель    520.848083    520.848083\n",
       "сотрудник           24.141633  18388.949901\n",
       "студент            578.751554    578.751554"
      ]
     },
     "execution_count": 33,
     "metadata": {},
     "output_type": "execute_result"
    }
   ],
   "source": [
    "df.loc[df['income_type'] == 'пенсионер', 'days_employed'] = df[df['income_type'] == 'сотрудник']['days_employed'].max()\n",
    "df.loc[df['income_type'] == 'безработный', 'days_employed'] = df[df['income_type'] == 'госслужащий']['days_employed'].mean()\n",
    "\n",
    "df.groupby('income_type').agg({'days_employed': ['min', 'max']})"
   ]
  },
  {
   "cell_type": "markdown",
   "id": "f380f434",
   "metadata": {},
   "source": [
    "Проверим также  значения в колонках `children` и `dob_years`."
   ]
  },
  {
   "cell_type": "code",
   "execution_count": 34,
   "id": "39fef7fa",
   "metadata": {},
   "outputs": [
    {
     "data": {
      "text/plain": [
       "array([42, 36, 33, 32, 53, 27, 43, 50, 35, 41, 40, 65, 54, 56, 26, 48, 24,\n",
       "       21, 57, 67, 28, 63, 62, 47, 34, 68, 25, 31, 30, 20, 49, 37, 45, 61,\n",
       "       64, 44, 52, 46, 23, 38, 39, 51,  0, 59, 29, 60, 55, 58, 71, 22, 73,\n",
       "       66, 69, 19, 72, 70, 74, 75], dtype=int64)"
      ]
     },
     "execution_count": 34,
     "metadata": {},
     "output_type": "execute_result"
    }
   ],
   "source": [
    "df['dob_years'].unique()"
   ]
  },
  {
   "cell_type": "code",
   "execution_count": 35,
   "id": "1fc2943f",
   "metadata": {},
   "outputs": [
    {
     "data": {
      "text/plain": [
       " 0     14149\n",
       " 1      4818\n",
       " 2      2055\n",
       " 3       330\n",
       " 20       76\n",
       "-1        47\n",
       " 4        41\n",
       " 5         9\n",
       "Name: children, dtype: int64"
      ]
     },
     "execution_count": 35,
     "metadata": {},
     "output_type": "execute_result"
    }
   ],
   "source": [
    "df['children'].value_counts()"
   ]
  },
  {
   "cell_type": "markdown",
   "id": "6a347a22",
   "metadata": {},
   "source": [
    "Среди уникальных значений в колонке `dob_years` встречается `0`, что является аномальным значением. Но реальный возраст заёмщика в этом случае неизвестен и не важен в исследовании, а остальные значения корректны, поэтому оставим этот столбец без изменений.\n",
    "\n",
    "А вот в столбце `children` встречается два аномальных значения, которые без корректировки окажут влияние на исследование. Это отрицательное значение `-1` и довольно высокое значение `20`. Довольно маловероятно, что 76 человек в выборке имеют по 20 детей, а вот клавиши \"2\" и \"0\" на числовой клавиатуре находятся рядом, поэтому допустим, что это ошибка, и заменим  *20*  на  *2*, а  *-1*  на  *1*."
   ]
  },
  {
   "cell_type": "code",
   "execution_count": 36,
   "id": "a33938cf",
   "metadata": {},
   "outputs": [
    {
     "data": {
      "text/plain": [
       "0    14149\n",
       "1     4865\n",
       "2     2131\n",
       "3      330\n",
       "4       41\n",
       "5        9\n",
       "Name: children, dtype: int64"
      ]
     },
     "execution_count": 36,
     "metadata": {},
     "output_type": "execute_result"
    }
   ],
   "source": [
    "df.loc[df['children'] == -1, 'children'] = 1\n",
    "df.loc[df['children'] == 20, 'children'] = 2\n",
    "\n",
    "df['children'].value_counts()"
   ]
  },
  {
   "cell_type": "markdown",
   "id": "8b6dc926",
   "metadata": {},
   "source": [
    "### Удаление дубликатов"
   ]
  },
  {
   "cell_type": "markdown",
   "id": "ff02ce07",
   "metadata": {},
   "source": [
    "Уже при обзоре таблицы бросалось в глаза наличие неявных дубликатов в столбце `education`: одни и те же значения тут записаны по-разному — с использованием заглавных и строчных букв. Приведём все значения столбца к нижнему регистру."
   ]
  },
  {
   "cell_type": "code",
   "execution_count": 37,
   "id": "bb22e11b",
   "metadata": {},
   "outputs": [],
   "source": [
    "df['education'] = df['education'].str.lower()"
   ]
  },
  {
   "cell_type": "markdown",
   "id": "c2310596",
   "metadata": {},
   "source": [
    "Далее посмотрим на варианты значений в столбце `family_status`."
   ]
  },
  {
   "cell_type": "code",
   "execution_count": 38,
   "id": "8ce4adea",
   "metadata": {},
   "outputs": [
    {
     "data": {
      "text/plain": [
       "array(['женат / замужем', 'гражданский брак', 'вдовец / вдова',\n",
       "       'в разводе', 'Не женат / не замужем'], dtype=object)"
      ]
     },
     "execution_count": 38,
     "metadata": {},
     "output_type": "execute_result"
    }
   ],
   "source": [
    "df['family_status'].unique()"
   ]
  },
  {
   "cell_type": "code",
   "execution_count": 39,
   "id": "11d42043",
   "metadata": {},
   "outputs": [],
   "source": [
    "df['family_status'] = df['family_status'].str.lower() #  приведём значения в столбце к нижнему регистру"
   ]
  },
  {
   "cell_type": "markdown",
   "id": "f72d58f6",
   "metadata": {},
   "source": [
    "<a id=\"целикредита\"></a>\n",
    "Также проверим значения колонки с целью кредита."
   ]
  },
  {
   "cell_type": "code",
   "execution_count": 40,
   "id": "08c57d3b",
   "metadata": {},
   "outputs": [
    {
     "data": {
      "text/plain": [
       "свадьба                                   797\n",
       "на проведение свадьбы                     777\n",
       "сыграть свадьбу                           774\n",
       "операции с недвижимостью                  676\n",
       "покупка коммерческой недвижимости         664\n",
       "покупка жилья для сдачи                   653\n",
       "операции с жильем                         653\n",
       "операции с коммерческой недвижимостью     651\n",
       "покупка жилья                             647\n",
       "жилье                                     647\n",
       "покупка жилья для семьи                   641\n",
       "строительство собственной недвижимости    635\n",
       "недвижимость                              634\n",
       "операции со своей недвижимостью           630\n",
       "строительство жилой недвижимости          626\n",
       "покупка недвижимости                      624\n",
       "строительство недвижимости                620\n",
       "покупка своего жилья                      620\n",
       "ремонт жилью                              612\n",
       "покупка жилой недвижимости                607\n",
       "на покупку своего автомобиля              505\n",
       "заняться высшим образованием              496\n",
       "автомобиль                                495\n",
       "сделка с подержанным автомобилем          489\n",
       "свой автомобиль                           480\n",
       "на покупку подержанного автомобиля        479\n",
       "автомобили                                478\n",
       "на покупку автомобиля                     472\n",
       "дополнительное образование                462\n",
       "приобретение автомобиля                   462\n",
       "сделка с автомобилем                      455\n",
       "высшее образование                        453\n",
       "образование                               447\n",
       "получение дополнительного образования     447\n",
       "получение образования                     443\n",
       "профильное образование                    436\n",
       "получение высшего образования             426\n",
       "заняться образованием                     412\n",
       "Name: purpose, dtype: int64"
      ]
     },
     "execution_count": 40,
     "metadata": {},
     "output_type": "execute_result"
    }
   ],
   "source": [
    "df['purpose'].value_counts()"
   ]
  },
  {
   "cell_type": "markdown",
   "id": "5ecf43f9",
   "metadata": {},
   "source": [
    "В столбце обнаруживается большое количество одинаковых по смыслу, но разных по написанию значений. Видимо, это поле в анкете (как и поле с образованием) заполнялось заёмщиком/сотрудником банка вручную — отсюда многократное дублирование целей в разнообразных формулировках.\n",
    "Для выполнения задач исследования прибегнем к категоризации по цели кредита в [пункте 3.3](#категоризация_целей).\n",
    "Пока оставим колонку без изменений."
   ]
  },
  {
   "cell_type": "markdown",
   "id": "977ddece",
   "metadata": {},
   "source": [
    "Теперь проверим наличие и посчитаем количество явных дубликатов в таблице."
   ]
  },
  {
   "cell_type": "code",
   "execution_count": 41,
   "id": "5eaaae27",
   "metadata": {},
   "outputs": [
    {
     "data": {
      "text/plain": [
       "71"
      ]
     },
     "execution_count": 41,
     "metadata": {},
     "output_type": "execute_result"
    }
   ],
   "source": [
    "df.duplicated().sum()"
   ]
  },
  {
   "cell_type": "markdown",
   "id": "668a013c",
   "metadata": {},
   "source": [
    "Удалим явные дубликаты и обновим индексацию в датафрейме."
   ]
  },
  {
   "cell_type": "code",
   "execution_count": 42,
   "id": "63f75f73",
   "metadata": {},
   "outputs": [
    {
     "data": {
      "text/plain": [
       "0"
      ]
     },
     "execution_count": 42,
     "metadata": {},
     "output_type": "execute_result"
    }
   ],
   "source": [
    "df = df.drop_duplicates().reset_index(drop=True)\n",
    "df.duplicated().sum()"
   ]
  },
  {
   "cell_type": "markdown",
   "id": "ff4b6a08",
   "metadata": {},
   "source": [
    "<a id=\"1медианы\"></a>\n",
    "\n",
    "Теперь, когда мы избавились от дубликатов и аномалий в таблице, нужно вернуться к [пункту 2.1](#медианы) и заполнить пропуски в столбцах `days_employed` и `total_income` медианными значениями.\n",
    "\n",
    "Дни заменим общей медианой."
   ]
  },
  {
   "cell_type": "code",
   "execution_count": 43,
   "id": "de7f7f07",
   "metadata": {},
   "outputs": [
    {
     "data": {
      "text/plain": [
       "0"
      ]
     },
     "execution_count": 43,
     "metadata": {},
     "output_type": "execute_result"
    }
   ],
   "source": [
    "df['days_employed'] = df['days_employed'].fillna(df['days_employed'].median())\n",
    "\n",
    "df['days_employed'].isna().sum() # проверка"
   ]
  },
  {
   "cell_type": "markdown",
   "id": "c87ee95a",
   "metadata": {},
   "source": [
    "А для заполнения пропусков с доходом возьмём медианное значение в разрезе категорий дохода `income_type`. Так мы не усредним данные и меньше повлияем на распределение."
   ]
  },
  {
   "cell_type": "code",
   "execution_count": 44,
   "id": "97ed21ca",
   "metadata": {},
   "outputs": [
    {
     "data": {
      "text/plain": [
       "0"
      ]
     },
     "execution_count": 44,
     "metadata": {},
     "output_type": "execute_result"
    }
   ],
   "source": [
    "for t in df['income_type'].unique():\n",
    "    df.loc[(df['income_type'] == t) & (df['total_income'].isna()), 'total_income'] = \\\n",
    "    df.loc[(df['income_type'] == t), 'total_income'].median()\n",
    "    \n",
    "df['income_type'].isna().sum() # проверка"
   ]
  },
  {
   "cell_type": "markdown",
   "id": "e9701d37",
   "metadata": {},
   "source": [
    "### Изменение типов данных"
   ]
  },
  {
   "cell_type": "markdown",
   "id": "1c8163a5",
   "metadata": {},
   "source": [
    "Ещё раз взглянем на типы данных в столбцах датафрейма."
   ]
  },
  {
   "cell_type": "code",
   "execution_count": 45,
   "id": "4fc153e3",
   "metadata": {},
   "outputs": [
    {
     "data": {
      "text/plain": [
       "children              int64\n",
       "days_employed       float64\n",
       "dob_years             int64\n",
       "education            object\n",
       "education_id          int64\n",
       "family_status        object\n",
       "family_status_id      int64\n",
       "gender               object\n",
       "income_type          object\n",
       "debt                  int64\n",
       "total_income        float64\n",
       "purpose              object\n",
       "dtype: object"
      ]
     },
     "execution_count": 45,
     "metadata": {},
     "output_type": "execute_result"
    }
   ],
   "source": [
    "df.dtypes"
   ]
  },
  {
   "cell_type": "markdown",
   "id": "f37c591d",
   "metadata": {},
   "source": [
    "Вещественный тип данных в столбцах `days_employed` и `total_income` вполне можно заменить на целочисленный."
   ]
  },
  {
   "cell_type": "code",
   "execution_count": 46,
   "id": "bff3c90d",
   "metadata": {},
   "outputs": [],
   "source": [
    "df['days_employed'] = df['days_employed'].astype('int')\n",
    "df['total_income'] = df['total_income'].astype('int')"
   ]
  },
  {
   "cell_type": "markdown",
   "id": "8af46a5c",
   "metadata": {},
   "source": [
    "Проверим информацию о таблице после всех преобразований."
   ]
  },
  {
   "cell_type": "code",
   "execution_count": 47,
   "id": "48921785",
   "metadata": {},
   "outputs": [
    {
     "name": "stdout",
     "output_type": "stream",
     "text": [
      "<class 'pandas.core.frame.DataFrame'>\n",
      "RangeIndex: 21454 entries, 0 to 21453\n",
      "Data columns (total 12 columns):\n",
      " #   Column            Non-Null Count  Dtype \n",
      "---  ------            --------------  ----- \n",
      " 0   children          21454 non-null  int64 \n",
      " 1   days_employed     21454 non-null  int32 \n",
      " 2   dob_years         21454 non-null  int64 \n",
      " 3   education         21454 non-null  object\n",
      " 4   education_id      21454 non-null  int64 \n",
      " 5   family_status     21454 non-null  object\n",
      " 6   family_status_id  21454 non-null  int64 \n",
      " 7   gender            21454 non-null  object\n",
      " 8   income_type       21454 non-null  object\n",
      " 9   debt              21454 non-null  int64 \n",
      " 10  total_income      21454 non-null  int32 \n",
      " 11  purpose           21454 non-null  object\n",
      "dtypes: int32(2), int64(5), object(5)\n",
      "memory usage: 1.8+ MB\n"
     ]
    }
   ],
   "source": [
    "df.info()"
   ]
  },
  {
   "cell_type": "markdown",
   "id": "328eec11",
   "metadata": {},
   "source": [
    "**Выводы**\n",
    "\n",
    "Итак, мы подготовили данные: избавились от явных и неявных дубликатов, пропусков значений и аномалий, которые могли бы оказать влияние на исследование; откорректировали типы данных в колонках для их лучшей репреентации информации.\n",
    "Теперь можно переходить к поиску ответа в соответствии с целью исследования."
   ]
  },
  {
   "cell_type": "markdown",
   "id": "47074cbc",
   "metadata": {},
   "source": [
    "## Исследование\n",
    "\n",
    "### Формирование дополнительных датафреймов словарей, декомпозиция исходного датафрейма"
   ]
  },
  {
   "cell_type": "markdown",
   "id": "ca102f81",
   "metadata": {},
   "source": [
    "Создим два новых датафрейма, в которых:\n",
    "* каждому уникальному значению из `education` соответствует уникальное значение `education_id` — в первом;\n",
    "* каждому уникальному значению из `family_status` соответствует уникальное значение `family_status_id` — во втором."
   ]
  },
  {
   "cell_type": "code",
   "execution_count": 48,
   "id": "05a6ae30",
   "metadata": {},
   "outputs": [
    {
     "data": {
      "text/html": [
       "<div>\n",
       "<style scoped>\n",
       "    .dataframe tbody tr th:only-of-type {\n",
       "        vertical-align: middle;\n",
       "    }\n",
       "\n",
       "    .dataframe tbody tr th {\n",
       "        vertical-align: top;\n",
       "    }\n",
       "\n",
       "    .dataframe thead th {\n",
       "        text-align: right;\n",
       "    }\n",
       "</style>\n",
       "<table border=\"1\" class=\"dataframe\">\n",
       "  <thead>\n",
       "    <tr style=\"text-align: right;\">\n",
       "      <th></th>\n",
       "      <th>education_id</th>\n",
       "      <th>education</th>\n",
       "    </tr>\n",
       "  </thead>\n",
       "  <tbody>\n",
       "    <tr>\n",
       "      <th>0</th>\n",
       "      <td>0</td>\n",
       "      <td>высшее</td>\n",
       "    </tr>\n",
       "    <tr>\n",
       "      <th>1</th>\n",
       "      <td>1</td>\n",
       "      <td>среднее</td>\n",
       "    </tr>\n",
       "    <tr>\n",
       "      <th>2</th>\n",
       "      <td>2</td>\n",
       "      <td>неоконченное высшее</td>\n",
       "    </tr>\n",
       "    <tr>\n",
       "      <th>3</th>\n",
       "      <td>3</td>\n",
       "      <td>начальное</td>\n",
       "    </tr>\n",
       "    <tr>\n",
       "      <th>4</th>\n",
       "      <td>4</td>\n",
       "      <td>ученая степень</td>\n",
       "    </tr>\n",
       "  </tbody>\n",
       "</table>\n",
       "</div>"
      ],
      "text/plain": [
       "   education_id            education\n",
       "0             0               высшее\n",
       "1             1              среднее\n",
       "2             2  неоконченное высшее\n",
       "3             3            начальное\n",
       "4             4       ученая степень"
      ]
     },
     "metadata": {},
     "output_type": "display_data"
    },
    {
     "data": {
      "text/html": [
       "<div>\n",
       "<style scoped>\n",
       "    .dataframe tbody tr th:only-of-type {\n",
       "        vertical-align: middle;\n",
       "    }\n",
       "\n",
       "    .dataframe tbody tr th {\n",
       "        vertical-align: top;\n",
       "    }\n",
       "\n",
       "    .dataframe thead th {\n",
       "        text-align: right;\n",
       "    }\n",
       "</style>\n",
       "<table border=\"1\" class=\"dataframe\">\n",
       "  <thead>\n",
       "    <tr style=\"text-align: right;\">\n",
       "      <th></th>\n",
       "      <th>family_status_id</th>\n",
       "      <th>family_status</th>\n",
       "    </tr>\n",
       "  </thead>\n",
       "  <tbody>\n",
       "    <tr>\n",
       "      <th>0</th>\n",
       "      <td>0</td>\n",
       "      <td>женат / замужем</td>\n",
       "    </tr>\n",
       "    <tr>\n",
       "      <th>1</th>\n",
       "      <td>1</td>\n",
       "      <td>гражданский брак</td>\n",
       "    </tr>\n",
       "    <tr>\n",
       "      <th>2</th>\n",
       "      <td>2</td>\n",
       "      <td>вдовец / вдова</td>\n",
       "    </tr>\n",
       "    <tr>\n",
       "      <th>3</th>\n",
       "      <td>3</td>\n",
       "      <td>в разводе</td>\n",
       "    </tr>\n",
       "    <tr>\n",
       "      <th>4</th>\n",
       "      <td>4</td>\n",
       "      <td>не женат / не замужем</td>\n",
       "    </tr>\n",
       "  </tbody>\n",
       "</table>\n",
       "</div>"
      ],
      "text/plain": [
       "   family_status_id          family_status\n",
       "0                 0        женат / замужем\n",
       "1                 1       гражданский брак\n",
       "2                 2         вдовец / вдова\n",
       "3                 3              в разводе\n",
       "4                 4  не женат / не замужем"
      ]
     },
     "execution_count": 48,
     "metadata": {},
     "output_type": "execute_result"
    }
   ],
   "source": [
    "education_log = df[['education_id', 'education']].drop_duplicates().reset_index(drop=True)\n",
    "family_status_log = df[['family_status_id', 'family_status']].drop_duplicates().reset_index(drop=True)\n",
    "\n",
    "display(education_log)\n",
    "family_status_log"
   ]
  },
  {
   "cell_type": "markdown",
   "id": "35b7fba7",
   "metadata": {},
   "source": [
    "Из оригинального датафрейма удалим столбцы `education` и `family_status`, оставив только идентификаторы. Об их значении будем узнавать из новых \"словарей\"."
   ]
  },
  {
   "cell_type": "code",
   "execution_count": 49,
   "id": "c06e2514",
   "metadata": {},
   "outputs": [
    {
     "data": {
      "text/html": [
       "<div>\n",
       "<style scoped>\n",
       "    .dataframe tbody tr th:only-of-type {\n",
       "        vertical-align: middle;\n",
       "    }\n",
       "\n",
       "    .dataframe tbody tr th {\n",
       "        vertical-align: top;\n",
       "    }\n",
       "\n",
       "    .dataframe thead th {\n",
       "        text-align: right;\n",
       "    }\n",
       "</style>\n",
       "<table border=\"1\" class=\"dataframe\">\n",
       "  <thead>\n",
       "    <tr style=\"text-align: right;\">\n",
       "      <th></th>\n",
       "      <th>children</th>\n",
       "      <th>days_employed</th>\n",
       "      <th>dob_years</th>\n",
       "      <th>education_id</th>\n",
       "      <th>family_status_id</th>\n",
       "      <th>gender</th>\n",
       "      <th>income_type</th>\n",
       "      <th>debt</th>\n",
       "      <th>total_income</th>\n",
       "      <th>purpose</th>\n",
       "    </tr>\n",
       "  </thead>\n",
       "  <tbody>\n",
       "    <tr>\n",
       "      <th>0</th>\n",
       "      <td>1</td>\n",
       "      <td>8437</td>\n",
       "      <td>42</td>\n",
       "      <td>0</td>\n",
       "      <td>0</td>\n",
       "      <td>F</td>\n",
       "      <td>сотрудник</td>\n",
       "      <td>0</td>\n",
       "      <td>253875</td>\n",
       "      <td>покупка жилья</td>\n",
       "    </tr>\n",
       "    <tr>\n",
       "      <th>1</th>\n",
       "      <td>1</td>\n",
       "      <td>4024</td>\n",
       "      <td>36</td>\n",
       "      <td>1</td>\n",
       "      <td>0</td>\n",
       "      <td>F</td>\n",
       "      <td>сотрудник</td>\n",
       "      <td>0</td>\n",
       "      <td>112080</td>\n",
       "      <td>приобретение автомобиля</td>\n",
       "    </tr>\n",
       "    <tr>\n",
       "      <th>2</th>\n",
       "      <td>0</td>\n",
       "      <td>5623</td>\n",
       "      <td>33</td>\n",
       "      <td>1</td>\n",
       "      <td>0</td>\n",
       "      <td>M</td>\n",
       "      <td>сотрудник</td>\n",
       "      <td>0</td>\n",
       "      <td>145885</td>\n",
       "      <td>покупка жилья</td>\n",
       "    </tr>\n",
       "    <tr>\n",
       "      <th>3</th>\n",
       "      <td>3</td>\n",
       "      <td>4124</td>\n",
       "      <td>32</td>\n",
       "      <td>1</td>\n",
       "      <td>0</td>\n",
       "      <td>M</td>\n",
       "      <td>сотрудник</td>\n",
       "      <td>0</td>\n",
       "      <td>267628</td>\n",
       "      <td>дополнительное образование</td>\n",
       "    </tr>\n",
       "    <tr>\n",
       "      <th>4</th>\n",
       "      <td>0</td>\n",
       "      <td>18388</td>\n",
       "      <td>53</td>\n",
       "      <td>1</td>\n",
       "      <td>1</td>\n",
       "      <td>F</td>\n",
       "      <td>пенсионер</td>\n",
       "      <td>0</td>\n",
       "      <td>158616</td>\n",
       "      <td>сыграть свадьбу</td>\n",
       "    </tr>\n",
       "  </tbody>\n",
       "</table>\n",
       "</div>"
      ],
      "text/plain": [
       "   children  days_employed  dob_years  education_id  family_status_id gender  \\\n",
       "0         1           8437         42             0                 0      F   \n",
       "1         1           4024         36             1                 0      F   \n",
       "2         0           5623         33             1                 0      M   \n",
       "3         3           4124         32             1                 0      M   \n",
       "4         0          18388         53             1                 1      F   \n",
       "\n",
       "  income_type  debt  total_income                     purpose  \n",
       "0   сотрудник     0        253875               покупка жилья  \n",
       "1   сотрудник     0        112080     приобретение автомобиля  \n",
       "2   сотрудник     0        145885               покупка жилья  \n",
       "3   сотрудник     0        267628  дополнительное образование  \n",
       "4   пенсионер     0        158616             сыграть свадьбу  "
      ]
     },
     "execution_count": 49,
     "metadata": {},
     "output_type": "execute_result"
    }
   ],
   "source": [
    "df.drop(columns=['education', 'family_status'], axis=1, inplace=True)\n",
    "df.head()"
   ]
  },
  {
   "cell_type": "markdown",
   "id": "bff3b520",
   "metadata": {},
   "source": [
    "### Категоризация дохода"
   ]
  },
  {
   "cell_type": "markdown",
   "id": "fc7459e1",
   "metadata": {},
   "source": [
    "На основании диапазонов, указанных ниже, создадим столбец `total_income_category` с категориями:\n",
    "- 0–30000 — `E`;\n",
    "- 30001–50000 — `D`;\n",
    "- 50001–200000 — `C`;\n",
    "- 200001–1000000 — `B`;\n",
    "- 1000001 и выше — `A`.\n",
    "\n",
    "Для этого напишем функцию `income_category`:"
   ]
  },
  {
   "cell_type": "code",
   "execution_count": 50,
   "id": "8b7dd2b7",
   "metadata": {},
   "outputs": [
    {
     "data": {
      "text/plain": [
       "'E'"
      ]
     },
     "metadata": {},
     "output_type": "display_data"
    },
    {
     "data": {
      "text/plain": [
       "'C'"
      ]
     },
     "metadata": {},
     "output_type": "display_data"
    },
    {
     "data": {
      "text/plain": [
       "'A'"
      ]
     },
     "metadata": {},
     "output_type": "display_data"
    }
   ],
   "source": [
    "# функция принимает в качестве аргумента доход клиента и возвращает категорию дохода\n",
    "\n",
    "def income_category(income):\n",
    "    if income <= 30000:\n",
    "        return 'E'\n",
    "    if income <=50000:\n",
    "        return 'D'\n",
    "    if income <= 200000:\n",
    "        return 'C'\n",
    "    if income <=1000000:\n",
    "        return 'B'\n",
    "    return 'A'\n",
    "\n",
    "# проверка работы функции\n",
    "display(income_category(10000))\n",
    "display(income_category(51000))\n",
    "display(income_category(1300000))"
   ]
  },
  {
   "cell_type": "markdown",
   "id": "efa4bf02",
   "metadata": {},
   "source": [
    "Теперь создадим отдельный столбец с категориями доходов, и в его ячейки запишем значения, возвращаемые функцией."
   ]
  },
  {
   "cell_type": "code",
   "execution_count": 51,
   "id": "a26e7b4d",
   "metadata": {},
   "outputs": [
    {
     "data": {
      "text/html": [
       "<div>\n",
       "<style scoped>\n",
       "    .dataframe tbody tr th:only-of-type {\n",
       "        vertical-align: middle;\n",
       "    }\n",
       "\n",
       "    .dataframe tbody tr th {\n",
       "        vertical-align: top;\n",
       "    }\n",
       "\n",
       "    .dataframe thead th {\n",
       "        text-align: right;\n",
       "    }\n",
       "</style>\n",
       "<table border=\"1\" class=\"dataframe\">\n",
       "  <thead>\n",
       "    <tr style=\"text-align: right;\">\n",
       "      <th></th>\n",
       "      <th>children</th>\n",
       "      <th>days_employed</th>\n",
       "      <th>dob_years</th>\n",
       "      <th>education_id</th>\n",
       "      <th>family_status_id</th>\n",
       "      <th>gender</th>\n",
       "      <th>income_type</th>\n",
       "      <th>debt</th>\n",
       "      <th>total_income</th>\n",
       "      <th>purpose</th>\n",
       "      <th>total_income_category</th>\n",
       "    </tr>\n",
       "  </thead>\n",
       "  <tbody>\n",
       "    <tr>\n",
       "      <th>0</th>\n",
       "      <td>1</td>\n",
       "      <td>8437</td>\n",
       "      <td>42</td>\n",
       "      <td>0</td>\n",
       "      <td>0</td>\n",
       "      <td>F</td>\n",
       "      <td>сотрудник</td>\n",
       "      <td>0</td>\n",
       "      <td>253875</td>\n",
       "      <td>покупка жилья</td>\n",
       "      <td>B</td>\n",
       "    </tr>\n",
       "    <tr>\n",
       "      <th>1</th>\n",
       "      <td>1</td>\n",
       "      <td>4024</td>\n",
       "      <td>36</td>\n",
       "      <td>1</td>\n",
       "      <td>0</td>\n",
       "      <td>F</td>\n",
       "      <td>сотрудник</td>\n",
       "      <td>0</td>\n",
       "      <td>112080</td>\n",
       "      <td>приобретение автомобиля</td>\n",
       "      <td>C</td>\n",
       "    </tr>\n",
       "    <tr>\n",
       "      <th>2</th>\n",
       "      <td>0</td>\n",
       "      <td>5623</td>\n",
       "      <td>33</td>\n",
       "      <td>1</td>\n",
       "      <td>0</td>\n",
       "      <td>M</td>\n",
       "      <td>сотрудник</td>\n",
       "      <td>0</td>\n",
       "      <td>145885</td>\n",
       "      <td>покупка жилья</td>\n",
       "      <td>C</td>\n",
       "    </tr>\n",
       "    <tr>\n",
       "      <th>3</th>\n",
       "      <td>3</td>\n",
       "      <td>4124</td>\n",
       "      <td>32</td>\n",
       "      <td>1</td>\n",
       "      <td>0</td>\n",
       "      <td>M</td>\n",
       "      <td>сотрудник</td>\n",
       "      <td>0</td>\n",
       "      <td>267628</td>\n",
       "      <td>дополнительное образование</td>\n",
       "      <td>B</td>\n",
       "    </tr>\n",
       "    <tr>\n",
       "      <th>4</th>\n",
       "      <td>0</td>\n",
       "      <td>18388</td>\n",
       "      <td>53</td>\n",
       "      <td>1</td>\n",
       "      <td>1</td>\n",
       "      <td>F</td>\n",
       "      <td>пенсионер</td>\n",
       "      <td>0</td>\n",
       "      <td>158616</td>\n",
       "      <td>сыграть свадьбу</td>\n",
       "      <td>C</td>\n",
       "    </tr>\n",
       "  </tbody>\n",
       "</table>\n",
       "</div>"
      ],
      "text/plain": [
       "   children  days_employed  dob_years  education_id  family_status_id gender  \\\n",
       "0         1           8437         42             0                 0      F   \n",
       "1         1           4024         36             1                 0      F   \n",
       "2         0           5623         33             1                 0      M   \n",
       "3         3           4124         32             1                 0      M   \n",
       "4         0          18388         53             1                 1      F   \n",
       "\n",
       "  income_type  debt  total_income                     purpose  \\\n",
       "0   сотрудник     0        253875               покупка жилья   \n",
       "1   сотрудник     0        112080     приобретение автомобиля   \n",
       "2   сотрудник     0        145885               покупка жилья   \n",
       "3   сотрудник     0        267628  дополнительное образование   \n",
       "4   пенсионер     0        158616             сыграть свадьбу   \n",
       "\n",
       "  total_income_category  \n",
       "0                     B  \n",
       "1                     C  \n",
       "2                     C  \n",
       "3                     B  \n",
       "4                     C  "
      ]
     },
     "execution_count": 51,
     "metadata": {},
     "output_type": "execute_result"
    }
   ],
   "source": [
    "df['total_income_category'] = df['total_income'].apply(income_category)\n",
    "df.head()"
   ]
  },
  {
   "cell_type": "markdown",
   "id": "fc95fb41",
   "metadata": {},
   "source": [
    "### Категоризация целей кредита"
   ]
  },
  {
   "cell_type": "markdown",
   "id": "61993eb1",
   "metadata": {},
   "source": [
    "<a id=\"категоризация_целей\"></a>\n",
    "Для категоризации целей кредита создадим функцию, которая на основании данных из столбца `purpose` сформирует новый столбец `purpose_category`, в который войдут следующие категории:\n",
    "- `операции с автомобилем`,\n",
    "- `операции с недвижимостью`,\n",
    "- `проведение свадьбы`,\n",
    "- `получение образования`. \n",
    "\n",
    "Уникальные значения в столбце `purpose` рассматривали в [пункте 2.3](#целикредита)."
   ]
  },
  {
   "cell_type": "code",
   "execution_count": 52,
   "id": "371e6871",
   "metadata": {},
   "outputs": [
    {
     "data": {
      "text/plain": [
       "'получение образования'"
      ]
     },
     "metadata": {},
     "output_type": "display_data"
    },
    {
     "data": {
      "text/plain": [
       "'проведение свадьбы'"
      ]
     },
     "metadata": {},
     "output_type": "display_data"
    },
    {
     "data": {
      "text/plain": [
       "'операции с недвижимостью'"
      ]
     },
     "metadata": {},
     "output_type": "display_data"
    },
    {
     "data": {
      "text/plain": [
       "'операции с автомобилем'"
      ]
     },
     "metadata": {},
     "output_type": "display_data"
    }
   ],
   "source": [
    "# функция принимает в качестве аргумента подстроку, ищет в ней соответствие по ключевым словам\n",
    "# и возвращает категорию цели кредита\n",
    "\n",
    "def purpose_category(purpose):\n",
    "    if 'автомобил' in purpose:\n",
    "        return 'операции с автомобилем'\n",
    "    if 'недвиж' in purpose or 'жиль' in purpose:\n",
    "        return 'операции с недвижимостью'\n",
    "    if 'свадьб' in purpose:\n",
    "        return 'проведение свадьбы'\n",
    "    if 'образовани' in purpose:\n",
    "        return 'получение образования'\n",
    "    return 'другое'\n",
    "\n",
    "# проверка работы функции\n",
    "display(purpose_category('получить образование'))\n",
    "display(purpose_category('на свадьбу'))\n",
    "display(purpose_category('покупка коммерческой недвижимости'))\n",
    "display(purpose_category('свой автомобиль'))"
   ]
  },
  {
   "cell_type": "markdown",
   "id": "7849c9fe",
   "metadata": {},
   "source": [
    "Теперь формируем новый столбец с категориями целей кредита, избавляемся от ненужных больше столбцов `total_income` и `purpose` и проверяем финальный вид таблицы."
   ]
  },
  {
   "cell_type": "code",
   "execution_count": 53,
   "id": "56ee650d",
   "metadata": {},
   "outputs": [
    {
     "data": {
      "text/html": [
       "<div>\n",
       "<style scoped>\n",
       "    .dataframe tbody tr th:only-of-type {\n",
       "        vertical-align: middle;\n",
       "    }\n",
       "\n",
       "    .dataframe tbody tr th {\n",
       "        vertical-align: top;\n",
       "    }\n",
       "\n",
       "    .dataframe thead th {\n",
       "        text-align: right;\n",
       "    }\n",
       "</style>\n",
       "<table border=\"1\" class=\"dataframe\">\n",
       "  <thead>\n",
       "    <tr style=\"text-align: right;\">\n",
       "      <th></th>\n",
       "      <th>children</th>\n",
       "      <th>days_employed</th>\n",
       "      <th>dob_years</th>\n",
       "      <th>education_id</th>\n",
       "      <th>family_status_id</th>\n",
       "      <th>gender</th>\n",
       "      <th>income_type</th>\n",
       "      <th>debt</th>\n",
       "      <th>total_income_category</th>\n",
       "      <th>purpose_category</th>\n",
       "    </tr>\n",
       "  </thead>\n",
       "  <tbody>\n",
       "    <tr>\n",
       "      <th>0</th>\n",
       "      <td>1</td>\n",
       "      <td>8437</td>\n",
       "      <td>42</td>\n",
       "      <td>0</td>\n",
       "      <td>0</td>\n",
       "      <td>F</td>\n",
       "      <td>сотрудник</td>\n",
       "      <td>0</td>\n",
       "      <td>B</td>\n",
       "      <td>операции с недвижимостью</td>\n",
       "    </tr>\n",
       "    <tr>\n",
       "      <th>1</th>\n",
       "      <td>1</td>\n",
       "      <td>4024</td>\n",
       "      <td>36</td>\n",
       "      <td>1</td>\n",
       "      <td>0</td>\n",
       "      <td>F</td>\n",
       "      <td>сотрудник</td>\n",
       "      <td>0</td>\n",
       "      <td>C</td>\n",
       "      <td>операции с автомобилем</td>\n",
       "    </tr>\n",
       "    <tr>\n",
       "      <th>2</th>\n",
       "      <td>0</td>\n",
       "      <td>5623</td>\n",
       "      <td>33</td>\n",
       "      <td>1</td>\n",
       "      <td>0</td>\n",
       "      <td>M</td>\n",
       "      <td>сотрудник</td>\n",
       "      <td>0</td>\n",
       "      <td>C</td>\n",
       "      <td>операции с недвижимостью</td>\n",
       "    </tr>\n",
       "    <tr>\n",
       "      <th>3</th>\n",
       "      <td>3</td>\n",
       "      <td>4124</td>\n",
       "      <td>32</td>\n",
       "      <td>1</td>\n",
       "      <td>0</td>\n",
       "      <td>M</td>\n",
       "      <td>сотрудник</td>\n",
       "      <td>0</td>\n",
       "      <td>B</td>\n",
       "      <td>получение образования</td>\n",
       "    </tr>\n",
       "    <tr>\n",
       "      <th>4</th>\n",
       "      <td>0</td>\n",
       "      <td>18388</td>\n",
       "      <td>53</td>\n",
       "      <td>1</td>\n",
       "      <td>1</td>\n",
       "      <td>F</td>\n",
       "      <td>пенсионер</td>\n",
       "      <td>0</td>\n",
       "      <td>C</td>\n",
       "      <td>проведение свадьбы</td>\n",
       "    </tr>\n",
       "  </tbody>\n",
       "</table>\n",
       "</div>"
      ],
      "text/plain": [
       "   children  days_employed  dob_years  education_id  family_status_id gender  \\\n",
       "0         1           8437         42             0                 0      F   \n",
       "1         1           4024         36             1                 0      F   \n",
       "2         0           5623         33             1                 0      M   \n",
       "3         3           4124         32             1                 0      M   \n",
       "4         0          18388         53             1                 1      F   \n",
       "\n",
       "  income_type  debt total_income_category          purpose_category  \n",
       "0   сотрудник     0                     B  операции с недвижимостью  \n",
       "1   сотрудник     0                     C    операции с автомобилем  \n",
       "2   сотрудник     0                     C  операции с недвижимостью  \n",
       "3   сотрудник     0                     B     получение образования  \n",
       "4   пенсионер     0                     C        проведение свадьбы  "
      ]
     },
     "execution_count": 53,
     "metadata": {},
     "output_type": "execute_result"
    }
   ],
   "source": [
    "df['purpose_category'] = df['purpose'].apply(purpose_category)\n",
    "\n",
    "df.drop(columns=['total_income', 'purpose'], axis=1, inplace=True)\n",
    "df.head()"
   ]
  },
  {
   "cell_type": "markdown",
   "id": "1b235be5",
   "metadata": {},
   "source": [
    "### Ответы на вопросы"
   ]
  },
  {
   "cell_type": "markdown",
   "id": "1f4467bb",
   "metadata": {},
   "source": [
    "#### Вопрос 1:"
   ]
  },
  {
   "cell_type": "markdown",
   "id": "7a5facbd",
   "metadata": {},
   "source": [
    "**Зависимость между количеством детей и возвратом кредита в срок**\n",
    "\n",
    "Для ответа на вопрос, есть ли зависимость между количеством детей и возвратом кредита в срок, выведем необходимые данные в сводной таблице."
   ]
  },
  {
   "cell_type": "code",
   "execution_count": 54,
   "id": "8ab835f6",
   "metadata": {},
   "outputs": [
    {
     "data": {
      "text/html": [
       "<div>\n",
       "<style scoped>\n",
       "    .dataframe tbody tr th:only-of-type {\n",
       "        vertical-align: middle;\n",
       "    }\n",
       "\n",
       "    .dataframe tbody tr th {\n",
       "        vertical-align: top;\n",
       "    }\n",
       "\n",
       "    .dataframe thead th {\n",
       "        text-align: right;\n",
       "    }\n",
       "</style>\n",
       "<table border=\"1\" class=\"dataframe\">\n",
       "  <thead>\n",
       "    <tr style=\"text-align: right;\">\n",
       "      <th>debt</th>\n",
       "      <th>children</th>\n",
       "      <th>0</th>\n",
       "      <th>1</th>\n",
       "    </tr>\n",
       "  </thead>\n",
       "  <tbody>\n",
       "    <tr>\n",
       "      <th>0</th>\n",
       "      <td>0</td>\n",
       "      <td>13028.0</td>\n",
       "      <td>1063.0</td>\n",
       "    </tr>\n",
       "    <tr>\n",
       "      <th>1</th>\n",
       "      <td>1</td>\n",
       "      <td>4410.0</td>\n",
       "      <td>445.0</td>\n",
       "    </tr>\n",
       "    <tr>\n",
       "      <th>2</th>\n",
       "      <td>2</td>\n",
       "      <td>1926.0</td>\n",
       "      <td>202.0</td>\n",
       "    </tr>\n",
       "    <tr>\n",
       "      <th>3</th>\n",
       "      <td>3</td>\n",
       "      <td>303.0</td>\n",
       "      <td>27.0</td>\n",
       "    </tr>\n",
       "    <tr>\n",
       "      <th>4</th>\n",
       "      <td>4</td>\n",
       "      <td>37.0</td>\n",
       "      <td>4.0</td>\n",
       "    </tr>\n",
       "    <tr>\n",
       "      <th>5</th>\n",
       "      <td>5</td>\n",
       "      <td>9.0</td>\n",
       "      <td>NaN</td>\n",
       "    </tr>\n",
       "  </tbody>\n",
       "</table>\n",
       "</div>"
      ],
      "text/plain": [
       "debt  children        0       1\n",
       "0            0  13028.0  1063.0\n",
       "1            1   4410.0   445.0\n",
       "2            2   1926.0   202.0\n",
       "3            3    303.0    27.0\n",
       "4            4     37.0     4.0\n",
       "5            5      9.0     NaN"
      ]
     },
     "execution_count": 54,
     "metadata": {},
     "output_type": "execute_result"
    }
   ],
   "source": [
    "# для параметра values берём любой столбец - нужно посчитать лишь количество строк\n",
    "children_debt = df.pivot_table(index='children', columns='debt', values='purpose_category', aggfunc='count').reset_index()\n",
    "children_debt"
   ]
  },
  {
   "cell_type": "markdown",
   "id": "104b5c2f",
   "metadata": {},
   "source": [
    "Чтобы иметь возможность сравнить наличие долга по кредитам в группах разной численности, посчитаем и запишем в новую колонку `debt_share` долю невозвратов в срок."
   ]
  },
  {
   "cell_type": "code",
   "execution_count": 55,
   "id": "d209508c",
   "metadata": {},
   "outputs": [
    {
     "data": {
      "text/html": [
       "<div>\n",
       "<style scoped>\n",
       "    .dataframe tbody tr th:only-of-type {\n",
       "        vertical-align: middle;\n",
       "    }\n",
       "\n",
       "    .dataframe tbody tr th {\n",
       "        vertical-align: top;\n",
       "    }\n",
       "\n",
       "    .dataframe thead th {\n",
       "        text-align: right;\n",
       "    }\n",
       "</style>\n",
       "<table border=\"1\" class=\"dataframe\">\n",
       "  <thead>\n",
       "    <tr style=\"text-align: right;\">\n",
       "      <th>debt</th>\n",
       "      <th>children</th>\n",
       "      <th>0</th>\n",
       "      <th>1</th>\n",
       "      <th>debt_percentage</th>\n",
       "    </tr>\n",
       "  </thead>\n",
       "  <tbody>\n",
       "    <tr>\n",
       "      <th>0</th>\n",
       "      <td>0</td>\n",
       "      <td>13028.0</td>\n",
       "      <td>1063.0</td>\n",
       "      <td>7.5</td>\n",
       "    </tr>\n",
       "    <tr>\n",
       "      <th>1</th>\n",
       "      <td>1</td>\n",
       "      <td>4410.0</td>\n",
       "      <td>445.0</td>\n",
       "      <td>9.2</td>\n",
       "    </tr>\n",
       "    <tr>\n",
       "      <th>2</th>\n",
       "      <td>2</td>\n",
       "      <td>1926.0</td>\n",
       "      <td>202.0</td>\n",
       "      <td>9.5</td>\n",
       "    </tr>\n",
       "    <tr>\n",
       "      <th>3</th>\n",
       "      <td>3</td>\n",
       "      <td>303.0</td>\n",
       "      <td>27.0</td>\n",
       "      <td>8.2</td>\n",
       "    </tr>\n",
       "    <tr>\n",
       "      <th>4</th>\n",
       "      <td>4</td>\n",
       "      <td>37.0</td>\n",
       "      <td>4.0</td>\n",
       "      <td>9.8</td>\n",
       "    </tr>\n",
       "    <tr>\n",
       "      <th>5</th>\n",
       "      <td>5</td>\n",
       "      <td>9.0</td>\n",
       "      <td>0.0</td>\n",
       "      <td>0.0</td>\n",
       "    </tr>\n",
       "  </tbody>\n",
       "</table>\n",
       "</div>"
      ],
      "text/plain": [
       "debt  children        0       1  debt_percentage\n",
       "0            0  13028.0  1063.0              7.5\n",
       "1            1   4410.0   445.0              9.2\n",
       "2            2   1926.0   202.0              9.5\n",
       "3            3    303.0    27.0              8.2\n",
       "4            4     37.0     4.0              9.8\n",
       "5            5      9.0     0.0              0.0"
      ]
     },
     "execution_count": 55,
     "metadata": {},
     "output_type": "execute_result"
    }
   ],
   "source": [
    "children_debt[1] = children_debt[1].fillna(0) # заполним пропуск нулём, чтобы он не повлиял на рассчёты\n",
    "\n",
    "children_debt['debt_percentage'] = (children_debt[1] / (children_debt[0] + children_debt[1]) * 100).round(1)\n",
    "children_debt"
   ]
  },
  {
   "cell_type": "markdown",
   "id": "72ef9996",
   "metadata": {},
   "source": [
    "Теперь можно сравнить данные в новом столбце. Для наглядности построим гистограмму."
   ]
  },
  {
   "cell_type": "code",
   "execution_count": 70,
   "id": "e6e98361",
   "metadata": {},
   "outputs": [
    {
     "data": {
      "image/png": "[encoded data removed]",
      "text/plain": [
       "<Figure size 432x288 with 1 Axes>"
      ]
     },
     "metadata": {},
     "output_type": "display_data"
    }
   ],
   "source": [
    "sns.set_style('whitegrid')\n",
    "sns.barplot(x='children', y='debt_percentage', data=children_debt, \n",
    "            color='lightgreen');"
   ]
  },
  {
   "cell_type": "markdown",
   "id": "47cbed94",
   "metadata": {},
   "source": [
    "#### Вывод 1:"
   ]
  },
  {
   "cell_type": "markdown",
   "id": "b0a81bd1",
   "metadata": {},
   "source": [
    "На основании полученных данных можно сделать вывод, что **количество детей у заёмщика не оказывает значительного влияния на факт погашения кредита в срок**. У всех категорий процент невозврата находится в диапазоне 7-10 %. Совсем нет долгов лишь у малочисленной категории с пятью детьми - это нерепрезентативная выборка, поэтому нельзя учитывать её влияние на общий результат.\n",
    "Тем не менее, можно отметить, что меньше всего задолжностей имеют бездетные заёмщики."
   ]
  },
  {
   "cell_type": "markdown",
   "id": "976f7526",
   "metadata": {},
   "source": [
    "#### Вопрос 2:"
   ]
  },
  {
   "cell_type": "markdown",
   "id": "18d50491",
   "metadata": {},
   "source": [
    "**Зависимость между семейным положением и возвратом кредита в срок**\n",
    "\n",
    "Для ответа на вопрос, есть ли зависимость между семейным положением и возвратом кредита в срок, выведем необходимые данные в сводной таблице."
   ]
  },
  {
   "cell_type": "code",
   "execution_count": 65,
   "id": "e0e10d8f",
   "metadata": {},
   "outputs": [
    {
     "data": {
      "text/html": [
       "<div>\n",
       "<style scoped>\n",
       "    .dataframe tbody tr th:only-of-type {\n",
       "        vertical-align: middle;\n",
       "    }\n",
       "\n",
       "    .dataframe tbody tr th {\n",
       "        vertical-align: top;\n",
       "    }\n",
       "\n",
       "    .dataframe thead th {\n",
       "        text-align: right;\n",
       "    }\n",
       "</style>\n",
       "<table border=\"1\" class=\"dataframe\">\n",
       "  <thead>\n",
       "    <tr style=\"text-align: right;\">\n",
       "      <th>debt</th>\n",
       "      <th>family_status_id</th>\n",
       "      <th>0</th>\n",
       "      <th>1</th>\n",
       "    </tr>\n",
       "  </thead>\n",
       "  <tbody>\n",
       "    <tr>\n",
       "      <th>0</th>\n",
       "      <td>0</td>\n",
       "      <td>11408</td>\n",
       "      <td>931</td>\n",
       "    </tr>\n",
       "    <tr>\n",
       "      <th>1</th>\n",
       "      <td>1</td>\n",
       "      <td>3763</td>\n",
       "      <td>388</td>\n",
       "    </tr>\n",
       "    <tr>\n",
       "      <th>2</th>\n",
       "      <td>2</td>\n",
       "      <td>896</td>\n",
       "      <td>63</td>\n",
       "    </tr>\n",
       "    <tr>\n",
       "      <th>3</th>\n",
       "      <td>3</td>\n",
       "      <td>1110</td>\n",
       "      <td>85</td>\n",
       "    </tr>\n",
       "    <tr>\n",
       "      <th>4</th>\n",
       "      <td>4</td>\n",
       "      <td>2536</td>\n",
       "      <td>274</td>\n",
       "    </tr>\n",
       "  </tbody>\n",
       "</table>\n",
       "</div>"
      ],
      "text/plain": [
       "debt  family_status_id      0    1\n",
       "0                    0  11408  931\n",
       "1                    1   3763  388\n",
       "2                    2    896   63\n",
       "3                    3   1110   85\n",
       "4                    4   2536  274"
      ]
     },
     "execution_count": 65,
     "metadata": {},
     "output_type": "execute_result"
    }
   ],
   "source": [
    "family_debt = df.pivot_table(index='family_status_id', columns='debt', values='purpose_category', aggfunc='count').reset_index()\n",
    "family_debt"
   ]
  },
  {
   "cell_type": "markdown",
   "id": "89bf39ba",
   "metadata": {},
   "source": [
    "Объединим сводную таблицу со \"словарём\" значений семейного положения и по аналогии с предыдущим пунктом рассчитаем в процентах долю невыплат по каждой категории."
   ]
  },
  {
   "cell_type": "code",
   "execution_count": 66,
   "id": "5868fb3c",
   "metadata": {},
   "outputs": [
    {
     "data": {
      "text/html": [
       "<div>\n",
       "<style scoped>\n",
       "    .dataframe tbody tr th:only-of-type {\n",
       "        vertical-align: middle;\n",
       "    }\n",
       "\n",
       "    .dataframe tbody tr th {\n",
       "        vertical-align: top;\n",
       "    }\n",
       "\n",
       "    .dataframe thead th {\n",
       "        text-align: right;\n",
       "    }\n",
       "</style>\n",
       "<table border=\"1\" class=\"dataframe\">\n",
       "  <thead>\n",
       "    <tr style=\"text-align: right;\">\n",
       "      <th></th>\n",
       "      <th>family_status_id</th>\n",
       "      <th>0</th>\n",
       "      <th>1</th>\n",
       "      <th>family_status</th>\n",
       "      <th>debt_percentage</th>\n",
       "    </tr>\n",
       "  </thead>\n",
       "  <tbody>\n",
       "    <tr>\n",
       "      <th>0</th>\n",
       "      <td>0</td>\n",
       "      <td>11408</td>\n",
       "      <td>931</td>\n",
       "      <td>женат / замужем</td>\n",
       "      <td>7.5</td>\n",
       "    </tr>\n",
       "    <tr>\n",
       "      <th>1</th>\n",
       "      <td>1</td>\n",
       "      <td>3763</td>\n",
       "      <td>388</td>\n",
       "      <td>гражданский брак</td>\n",
       "      <td>9.3</td>\n",
       "    </tr>\n",
       "    <tr>\n",
       "      <th>2</th>\n",
       "      <td>2</td>\n",
       "      <td>896</td>\n",
       "      <td>63</td>\n",
       "      <td>вдовец / вдова</td>\n",
       "      <td>6.6</td>\n",
       "    </tr>\n",
       "    <tr>\n",
       "      <th>3</th>\n",
       "      <td>3</td>\n",
       "      <td>1110</td>\n",
       "      <td>85</td>\n",
       "      <td>в разводе</td>\n",
       "      <td>7.1</td>\n",
       "    </tr>\n",
       "    <tr>\n",
       "      <th>4</th>\n",
       "      <td>4</td>\n",
       "      <td>2536</td>\n",
       "      <td>274</td>\n",
       "      <td>не женат / не замужем</td>\n",
       "      <td>9.8</td>\n",
       "    </tr>\n",
       "  </tbody>\n",
       "</table>\n",
       "</div>"
      ],
      "text/plain": [
       "   family_status_id      0    1          family_status  debt_percentage\n",
       "0                 0  11408  931        женат / замужем              7.5\n",
       "1                 1   3763  388       гражданский брак              9.3\n",
       "2                 2    896   63         вдовец / вдова              6.6\n",
       "3                 3   1110   85              в разводе              7.1\n",
       "4                 4   2536  274  не женат / не замужем              9.8"
      ]
     },
     "execution_count": 66,
     "metadata": {},
     "output_type": "execute_result"
    }
   ],
   "source": [
    "family_debt = family_debt.merge(right=family_status_log, on='family_status_id')\n",
    "family_debt['debt_percentage'] = (family_debt[1] / (family_debt[0] + family_debt[1]) * 100).round(1)\n",
    "family_debt"
   ]
  },
  {
   "cell_type": "markdown",
   "id": "12a6e268",
   "metadata": {},
   "source": [
    "Построим гистограмму."
   ]
  },
  {
   "cell_type": "code",
   "execution_count": 67,
   "id": "4039b9bb",
   "metadata": {},
   "outputs": [
    {
     "data": {
      "image/png": "[encoded data removed]",
      "text/plain": [
       "<Figure size 432x288 with 1 Axes>"
      ]
     },
     "metadata": {},
     "output_type": "display_data"
    }
   ],
   "source": [
    "sns.barplot(x='family_status', y='debt_percentage', data=family_debt, color='lightpink');"
   ]
  },
  {
   "cell_type": "markdown",
   "id": "36c10d7c",
   "metadata": {},
   "source": [
    "#### Вывод 2:"
   ]
  },
  {
   "cell_type": "markdown",
   "id": "b503a964",
   "metadata": {},
   "source": [
    "Как и при проверке предыдущей гипотезы, полученные данные показывают, что **семейное положение заёмщика не оказывает *значительного* влияния на факт погашения кредита в срок**. У всех категорий процент невозврата находится в диапазоне 6-10 %. Это небольшой разброс.\n",
    "Однако, меньше всего задолжностей у клиентов в категориях `вдовец / вдова` и `в разводе`, а больше, чем у остальных, -- в категории `не женат / не замужем\t`."
   ]
  },
  {
   "cell_type": "markdown",
   "id": "0302e314",
   "metadata": {},
   "source": [
    "#### Вопрос 3:"
   ]
  },
  {
   "cell_type": "markdown",
   "id": "c735f9d9",
   "metadata": {},
   "source": [
    "**Зависимость между уровнем дохода и возвратом кредита в срок**\n",
    "\n",
    "Аналогично действиям в предыдущих пунктах сформируем сводную таблицу по категориям дохода и задолжностям по кредиту и посчитаем в процентах долю задолжностей в каждой категории."
   ]
  },
  {
   "cell_type": "code",
   "execution_count": 71,
   "id": "3e421986",
   "metadata": {},
   "outputs": [
    {
     "data": {
      "text/html": [
       "<div>\n",
       "<style scoped>\n",
       "    .dataframe tbody tr th:only-of-type {\n",
       "        vertical-align: middle;\n",
       "    }\n",
       "\n",
       "    .dataframe tbody tr th {\n",
       "        vertical-align: top;\n",
       "    }\n",
       "\n",
       "    .dataframe thead th {\n",
       "        text-align: right;\n",
       "    }\n",
       "</style>\n",
       "<table border=\"1\" class=\"dataframe\">\n",
       "  <thead>\n",
       "    <tr style=\"text-align: right;\">\n",
       "      <th>debt</th>\n",
       "      <th>total_income_category</th>\n",
       "      <th>0</th>\n",
       "      <th>1</th>\n",
       "      <th>debt_percentage</th>\n",
       "    </tr>\n",
       "  </thead>\n",
       "  <tbody>\n",
       "    <tr>\n",
       "      <th>0</th>\n",
       "      <td>A</td>\n",
       "      <td>23</td>\n",
       "      <td>2</td>\n",
       "      <td>8.0</td>\n",
       "    </tr>\n",
       "    <tr>\n",
       "      <th>1</th>\n",
       "      <td>B</td>\n",
       "      <td>4686</td>\n",
       "      <td>356</td>\n",
       "      <td>7.1</td>\n",
       "    </tr>\n",
       "    <tr>\n",
       "      <th>2</th>\n",
       "      <td>C</td>\n",
       "      <td>14655</td>\n",
       "      <td>1360</td>\n",
       "      <td>8.5</td>\n",
       "    </tr>\n",
       "    <tr>\n",
       "      <th>3</th>\n",
       "      <td>D</td>\n",
       "      <td>329</td>\n",
       "      <td>21</td>\n",
       "      <td>6.0</td>\n",
       "    </tr>\n",
       "    <tr>\n",
       "      <th>4</th>\n",
       "      <td>E</td>\n",
       "      <td>20</td>\n",
       "      <td>2</td>\n",
       "      <td>9.1</td>\n",
       "    </tr>\n",
       "  </tbody>\n",
       "</table>\n",
       "</div>"
      ],
      "text/plain": [
       "debt total_income_category      0     1  debt_percentage\n",
       "0                        A     23     2              8.0\n",
       "1                        B   4686   356              7.1\n",
       "2                        C  14655  1360              8.5\n",
       "3                        D    329    21              6.0\n",
       "4                        E     20     2              9.1"
      ]
     },
     "execution_count": 71,
     "metadata": {},
     "output_type": "execute_result"
    }
   ],
   "source": [
    "income_debt = df.pivot_table(index='total_income_category', columns='debt', values='purpose_category', aggfunc='count').reset_index()\n",
    "income_debt['debt_percentage'] = (income_debt[1] / (income_debt[0] + income_debt[1]) * 100).round(1)\n",
    "income_debt"
   ]
  },
  {
   "cell_type": "code",
   "execution_count": 72,
   "id": "a1cabb40",
   "metadata": {},
   "outputs": [
    {
     "data": {
      "image/png": "[encoded data removed]",
      "text/plain": [
       "<Figure size 432x288 with 1 Axes>"
      ]
     },
     "metadata": {},
     "output_type": "display_data"
    }
   ],
   "source": [
    "#строим гистограмму\n",
    "sns.barplot(x='total_income_category', y='debt_percentage', data=income_debt, color='lightblue');"
   ]
  },
  {
   "cell_type": "markdown",
   "id": "139e99e0",
   "metadata": {},
   "source": [
    "#### Вывод 3:"
   ]
  },
  {
   "cell_type": "markdown",
   "id": "7cef942c",
   "metadata": {},
   "source": [
    "Снова не очень большой разброс данных. **Задолжностей больше всего у заёмщиков в категории с наименьшим доходом - `E`**. Однако платёжеспособность не коррелирует с повышением дохода. Прилежнее всего долг возвращают люди с доходом от 30000 до 50000 (категория `D`)."
   ]
  },
  {
   "cell_type": "markdown",
   "id": "aa68cbe9",
   "metadata": {},
   "source": [
    "#### Вопрос 4:"
   ]
  },
  {
   "cell_type": "markdown",
   "id": "4fa4894d",
   "metadata": {},
   "source": [
    "**Влияние цели кредита на его возврат в срок**\n",
    "\n"
   ]
  },
  {
   "cell_type": "markdown",
   "id": "c823c35d",
   "metadata": {},
   "source": [
    "Формируем сводную таблицу по целям кредита и задолжностям по кредиту и считаем в процентах долю задолжностей в каждой категории."
   ]
  },
  {
   "cell_type": "code",
   "execution_count": 73,
   "id": "a4810542",
   "metadata": {},
   "outputs": [
    {
     "data": {
      "text/html": [
       "<div>\n",
       "<style scoped>\n",
       "    .dataframe tbody tr th:only-of-type {\n",
       "        vertical-align: middle;\n",
       "    }\n",
       "\n",
       "    .dataframe tbody tr th {\n",
       "        vertical-align: top;\n",
       "    }\n",
       "\n",
       "    .dataframe thead th {\n",
       "        text-align: right;\n",
       "    }\n",
       "</style>\n",
       "<table border=\"1\" class=\"dataframe\">\n",
       "  <thead>\n",
       "    <tr style=\"text-align: right;\">\n",
       "      <th>debt</th>\n",
       "      <th>purpose_category</th>\n",
       "      <th>0</th>\n",
       "      <th>1</th>\n",
       "      <th>debt_percentage</th>\n",
       "    </tr>\n",
       "  </thead>\n",
       "  <tbody>\n",
       "    <tr>\n",
       "      <th>0</th>\n",
       "      <td>операции с автомобилем</td>\n",
       "      <td>3903</td>\n",
       "      <td>403</td>\n",
       "      <td>9.4</td>\n",
       "    </tr>\n",
       "    <tr>\n",
       "      <th>1</th>\n",
       "      <td>операции с недвижимостью</td>\n",
       "      <td>10029</td>\n",
       "      <td>782</td>\n",
       "      <td>7.2</td>\n",
       "    </tr>\n",
       "    <tr>\n",
       "      <th>2</th>\n",
       "      <td>получение образования</td>\n",
       "      <td>3643</td>\n",
       "      <td>370</td>\n",
       "      <td>9.2</td>\n",
       "    </tr>\n",
       "    <tr>\n",
       "      <th>3</th>\n",
       "      <td>проведение свадьбы</td>\n",
       "      <td>2138</td>\n",
       "      <td>186</td>\n",
       "      <td>8.0</td>\n",
       "    </tr>\n",
       "  </tbody>\n",
       "</table>\n",
       "</div>"
      ],
      "text/plain": [
       "debt          purpose_category      0    1  debt_percentage\n",
       "0       операции с автомобилем   3903  403              9.4\n",
       "1     операции с недвижимостью  10029  782              7.2\n",
       "2        получение образования   3643  370              9.2\n",
       "3           проведение свадьбы   2138  186              8.0"
      ]
     },
     "execution_count": 73,
     "metadata": {},
     "output_type": "execute_result"
    }
   ],
   "source": [
    "purpose_debt = df.pivot_table(index='purpose_category', columns='debt', values='total_income_category', aggfunc='count').reset_index()\n",
    "purpose_debt['debt_percentage'] = (purpose_debt[1] / (purpose_debt[0] + purpose_debt[1]) * 100).round(1)\n",
    "purpose_debt"
   ]
  },
  {
   "cell_type": "code",
   "execution_count": 74,
   "id": "c36676c6",
   "metadata": {},
   "outputs": [
    {
     "data": {
      "image/png": "[encoded data removed]",
      "text/plain": [
       "<Figure size 432x288 with 1 Axes>"
      ]
     },
     "metadata": {},
     "output_type": "display_data"
    }
   ],
   "source": [
    "# гистограмма\n",
    "sns.barplot(x='purpose_category', y='debt_percentage', data=purpose_debt, color='blueviolet');"
   ]
  },
  {
   "cell_type": "markdown",
   "id": "7fadc225",
   "metadata": {},
   "source": [
    "#### Вывод 4:"
   ]
  },
  {
   "cell_type": "markdown",
   "id": "0af1195d",
   "metadata": {},
   "source": [
    "Сравнительно высокий процент задолженности показывают кредиты на автомобили и образование - по 9,3 %. **Лучше всего люди возвращают деньги по ипотечным займам**."
   ]
  },
  {
   "cell_type": "markdown",
   "id": "d4c020a7",
   "metadata": {},
   "source": [
    "## Общий вывод:"
   ]
  },
  {
   "cell_type": "markdown",
   "id": "92a0fa0e",
   "metadata": {},
   "source": [
    "В ходе выполнения проекта был выполнен обзор данных и, на основании выявленных недочётов, их предобработка: заполнены пропуски, изучены и исправлены аномалии, оптимизированы типы данных и удалены дубликаты.\n",
    "\n",
    "Для осуществления анализа были сформированы дополнительные датафреймы словарей, проведена декомпозиция исходного датафрейма, а также категоризация доходов клиентов и целей кредита.\n",
    "\n",
    "На основании подготовленных данных исследована и визуализирована зависимость между кредитными задолжностями и жизненными обстоятельствами заёмщика: количеством детей, семейным положением, категорией дохода, целью кредитования.\n",
    "\n",
    "Несмотря на то, что данные не показали какого-то значительного разброса ни по одному из проверяемых критериев, обстоятельства заёмщика всё-таки, похоже, влияют на его/её платёжеспособность. Самый \"надёжный\" клиент -- бездетный вдовец, приобретающий недвижимость, с доходом в 30-50 тыс. руб."
   ]
  }
 ],
 "metadata": {
  "ExecuteTimeLog": [
   {
    "duration": 93,
    "start_time": "2022-03-14T19:29:31.139Z"
   },
   {
    "duration": 691,
    "start_time": "2022-03-14T19:43:06.528Z"
   },
   {
    "duration": 73,
    "start_time": "2022-03-14T19:45:57.739Z"
   },
   {
    "duration": 3,
    "start_time": "2022-03-14T19:46:32.277Z"
   },
   {
    "duration": 58,
    "start_time": "2022-03-14T19:46:34.313Z"
   },
   {
    "duration": 29,
    "start_time": "2022-03-14T19:47:43.901Z"
   },
   {
    "duration": 17,
    "start_time": "2022-03-14T19:50:49.152Z"
   },
   {
    "duration": 370,
    "start_time": "2022-03-19T15:43:10.831Z"
   },
   {
    "duration": 63,
    "start_time": "2022-03-19T15:43:11.203Z"
   },
   {
    "duration": 18,
    "start_time": "2022-03-19T15:43:11.268Z"
   },
   {
    "duration": 16,
    "start_time": "2022-03-19T15:43:11.288Z"
   },
   {
    "duration": 11,
    "start_time": "2022-03-19T16:42:44.198Z"
   },
   {
    "duration": 13,
    "start_time": "2022-03-19T16:42:55.631Z"
   },
   {
    "duration": 14,
    "start_time": "2022-03-19T16:43:07.286Z"
   },
   {
    "duration": 14,
    "start_time": "2022-03-19T16:43:43.112Z"
   },
   {
    "duration": 16,
    "start_time": "2022-03-19T16:44:03.453Z"
   },
   {
    "duration": 21,
    "start_time": "2022-03-19T16:49:16.662Z"
   },
   {
    "duration": 60,
    "start_time": "2022-03-19T17:15:55.206Z"
   },
   {
    "duration": 8,
    "start_time": "2022-03-19T17:16:54.597Z"
   },
   {
    "duration": 5,
    "start_time": "2022-03-19T17:17:01.176Z"
   },
   {
    "duration": 4,
    "start_time": "2022-03-19T17:17:24.380Z"
   },
   {
    "duration": 4,
    "start_time": "2022-03-19T17:17:33.242Z"
   },
   {
    "duration": 4,
    "start_time": "2022-03-19T17:18:04.582Z"
   },
   {
    "duration": 5,
    "start_time": "2022-03-19T17:18:17.252Z"
   },
   {
    "duration": 9,
    "start_time": "2022-03-19T17:18:38.477Z"
   },
   {
    "duration": 21,
    "start_time": "2022-03-19T17:19:24.182Z"
   },
   {
    "duration": 5,
    "start_time": "2022-03-19T17:19:30.266Z"
   },
   {
    "duration": 4,
    "start_time": "2022-03-19T17:20:28.655Z"
   },
   {
    "duration": 5,
    "start_time": "2022-03-19T17:20:49.158Z"
   },
   {
    "duration": 183,
    "start_time": "2022-03-19T17:20:54.424Z"
   },
   {
    "duration": 4,
    "start_time": "2022-03-19T17:21:00.996Z"
   },
   {
    "duration": 16,
    "start_time": "2022-03-19T17:33:34.208Z"
   },
   {
    "duration": 12,
    "start_time": "2022-03-19T17:34:10.909Z"
   },
   {
    "duration": 344,
    "start_time": "2022-03-19T19:42:21.228Z"
   },
   {
    "duration": 63,
    "start_time": "2022-03-19T19:42:21.574Z"
   },
   {
    "duration": 18,
    "start_time": "2022-03-19T19:42:21.639Z"
   },
   {
    "duration": 14,
    "start_time": "2022-03-19T19:42:21.659Z"
   },
   {
    "duration": 11,
    "start_time": "2022-03-19T19:42:21.681Z"
   },
   {
    "duration": 4,
    "start_time": "2022-03-19T19:42:21.694Z"
   },
   {
    "duration": 186,
    "start_time": "2022-03-19T19:46:24.183Z"
   },
   {
    "duration": 189,
    "start_time": "2022-03-19T19:46:47.785Z"
   },
   {
    "duration": 57,
    "start_time": "2022-03-19T19:52:06.478Z"
   },
   {
    "duration": 196,
    "start_time": "2022-03-19T19:52:47.658Z"
   },
   {
    "duration": 7,
    "start_time": "2022-03-19T19:52:52.805Z"
   },
   {
    "duration": 3,
    "start_time": "2022-03-19T20:05:58.135Z"
   },
   {
    "duration": 11,
    "start_time": "2022-03-19T20:06:14.121Z"
   },
   {
    "duration": 12,
    "start_time": "2022-03-19T20:06:40.919Z"
   },
   {
    "duration": 9,
    "start_time": "2022-03-19T20:07:51.238Z"
   },
   {
    "duration": 4,
    "start_time": "2022-03-19T20:08:23.019Z"
   },
   {
    "duration": 16,
    "start_time": "2022-03-19T20:10:10.668Z"
   },
   {
    "duration": 18,
    "start_time": "2022-03-19T20:10:25.614Z"
   },
   {
    "duration": 21,
    "start_time": "2022-03-19T20:10:38.418Z"
   },
   {
    "duration": 17,
    "start_time": "2022-03-19T20:11:03.511Z"
   },
   {
    "duration": 24,
    "start_time": "2022-03-19T20:15:58.987Z"
   },
   {
    "duration": 8,
    "start_time": "2022-03-19T20:16:12.023Z"
   },
   {
    "duration": 1746,
    "start_time": "2022-03-19T20:16:44.484Z"
   },
   {
    "duration": 6,
    "start_time": "2022-03-19T20:17:03.227Z"
   },
   {
    "duration": 20,
    "start_time": "2022-03-19T20:17:41.729Z"
   },
   {
    "duration": 6,
    "start_time": "2022-03-19T20:18:06.548Z"
   },
   {
    "duration": 6,
    "start_time": "2022-03-19T20:18:34.908Z"
   },
   {
    "duration": 6,
    "start_time": "2022-03-19T20:18:46.568Z"
   },
   {
    "duration": 7,
    "start_time": "2022-03-19T20:19:04.080Z"
   },
   {
    "duration": 6,
    "start_time": "2022-03-19T20:19:27.136Z"
   },
   {
    "duration": 6,
    "start_time": "2022-03-19T20:19:30.944Z"
   },
   {
    "duration": 6,
    "start_time": "2022-03-19T20:19:36.684Z"
   },
   {
    "duration": 6,
    "start_time": "2022-03-19T20:19:44.263Z"
   },
   {
    "duration": 6,
    "start_time": "2022-03-19T20:26:28.589Z"
   },
   {
    "duration": 6,
    "start_time": "2022-03-19T20:44:32.564Z"
   },
   {
    "duration": 6,
    "start_time": "2022-03-19T20:44:54.046Z"
   },
   {
    "duration": 7,
    "start_time": "2022-03-19T20:45:04.714Z"
   },
   {
    "duration": 6,
    "start_time": "2022-03-19T20:45:11.364Z"
   },
   {
    "duration": 6,
    "start_time": "2022-03-19T20:45:26.392Z"
   },
   {
    "duration": 6,
    "start_time": "2022-03-19T20:45:33.857Z"
   },
   {
    "duration": 7,
    "start_time": "2022-03-19T20:46:27.123Z"
   },
   {
    "duration": 8,
    "start_time": "2022-03-19T20:46:34.790Z"
   },
   {
    "duration": 8,
    "start_time": "2022-03-19T20:46:59.859Z"
   },
   {
    "duration": 8,
    "start_time": "2022-03-19T20:47:04.751Z"
   },
   {
    "duration": 8,
    "start_time": "2022-03-19T20:47:54.393Z"
   },
   {
    "duration": 5,
    "start_time": "2022-03-19T20:48:30.021Z"
   },
   {
    "duration": 8,
    "start_time": "2022-03-19T20:48:44.143Z"
   },
   {
    "duration": 7,
    "start_time": "2022-03-19T20:48:50.313Z"
   },
   {
    "duration": 7,
    "start_time": "2022-03-19T20:48:56.053Z"
   },
   {
    "duration": 7,
    "start_time": "2022-03-19T20:49:07.315Z"
   },
   {
    "duration": 5,
    "start_time": "2022-03-19T20:49:20.268Z"
   },
   {
    "duration": 6,
    "start_time": "2022-03-19T20:49:29.428Z"
   },
   {
    "duration": 6,
    "start_time": "2022-03-19T20:49:39.521Z"
   },
   {
    "duration": 4,
    "start_time": "2022-03-19T20:50:59.322Z"
   },
   {
    "duration": 5,
    "start_time": "2022-03-19T20:51:04.559Z"
   },
   {
    "duration": 55,
    "start_time": "2022-03-19T20:53:19.246Z"
   },
   {
    "duration": 66,
    "start_time": "2022-03-19T20:58:23.645Z"
   },
   {
    "duration": 50,
    "start_time": "2022-03-19T20:58:47.619Z"
   },
   {
    "duration": 46,
    "start_time": "2022-03-19T20:59:08.398Z"
   },
   {
    "duration": 14,
    "start_time": "2022-03-19T20:59:14.759Z"
   },
   {
    "duration": 44,
    "start_time": "2022-03-19T20:59:25.726Z"
   },
   {
    "duration": 45,
    "start_time": "2022-03-19T20:59:51.290Z"
   },
   {
    "duration": 42,
    "start_time": "2022-03-19T21:00:00.150Z"
   },
   {
    "duration": 44,
    "start_time": "2022-03-19T21:00:15.861Z"
   },
   {
    "duration": 49,
    "start_time": "2022-03-19T21:00:24.632Z"
   },
   {
    "duration": 51,
    "start_time": "2022-03-19T21:00:46.071Z"
   },
   {
    "duration": 46,
    "start_time": "2022-03-19T21:01:00.761Z"
   },
   {
    "duration": 48,
    "start_time": "2022-03-19T21:01:16.434Z"
   },
   {
    "duration": 373,
    "start_time": "2022-03-19T21:12:11.994Z"
   },
   {
    "duration": 62,
    "start_time": "2022-03-19T21:12:12.369Z"
   },
   {
    "duration": 17,
    "start_time": "2022-03-19T21:12:12.432Z"
   },
   {
    "duration": 13,
    "start_time": "2022-03-19T21:12:12.451Z"
   },
   {
    "duration": 18,
    "start_time": "2022-03-19T21:12:12.466Z"
   },
   {
    "duration": 4,
    "start_time": "2022-03-19T21:12:12.486Z"
   },
   {
    "duration": 13,
    "start_time": "2022-03-19T21:12:12.492Z"
   },
   {
    "duration": 14,
    "start_time": "2022-03-19T21:12:12.506Z"
   },
   {
    "duration": 5,
    "start_time": "2022-03-19T21:12:12.522Z"
   },
   {
    "duration": 5,
    "start_time": "2022-03-19T21:12:12.529Z"
   },
   {
    "duration": 76,
    "start_time": "2022-03-19T21:12:12.535Z"
   },
   {
    "duration": 9,
    "start_time": "2022-03-19T21:36:15.971Z"
   },
   {
    "duration": 10,
    "start_time": "2022-03-19T21:37:18.962Z"
   },
   {
    "duration": 214,
    "start_time": "2022-03-19T21:37:42.754Z"
   },
   {
    "duration": 10,
    "start_time": "2022-03-19T21:37:49.428Z"
   },
   {
    "duration": 10,
    "start_time": "2022-03-19T21:37:57.595Z"
   },
   {
    "duration": 10,
    "start_time": "2022-03-19T21:38:07.596Z"
   },
   {
    "duration": 6,
    "start_time": "2022-03-19T21:39:37.956Z"
   },
   {
    "duration": 8,
    "start_time": "2022-03-19T21:41:31.800Z"
   },
   {
    "duration": 16,
    "start_time": "2022-03-19T21:41:45.724Z"
   },
   {
    "duration": 19,
    "start_time": "2022-03-19T21:41:55.053Z"
   },
   {
    "duration": 21,
    "start_time": "2022-03-19T21:42:17.965Z"
   },
   {
    "duration": 24,
    "start_time": "2022-03-19T21:43:45.591Z"
   },
   {
    "duration": 24,
    "start_time": "2022-03-19T21:44:03.723Z"
   },
   {
    "duration": 27,
    "start_time": "2022-03-19T21:44:21.710Z"
   },
   {
    "duration": 23,
    "start_time": "2022-03-19T21:45:24.331Z"
   },
   {
    "duration": 70,
    "start_time": "2022-03-19T21:47:59.512Z"
   },
   {
    "duration": 20,
    "start_time": "2022-03-19T21:48:07.611Z"
   },
   {
    "duration": 17,
    "start_time": "2022-03-19T21:50:35.335Z"
   },
   {
    "duration": 17,
    "start_time": "2022-03-19T21:50:51.089Z"
   },
   {
    "duration": 22,
    "start_time": "2022-03-19T21:57:17.504Z"
   },
   {
    "duration": 14,
    "start_time": "2022-03-19T22:03:04.776Z"
   },
   {
    "duration": 377,
    "start_time": "2022-03-19T22:06:23.041Z"
   },
   {
    "duration": 62,
    "start_time": "2022-03-19T22:06:23.420Z"
   },
   {
    "duration": 18,
    "start_time": "2022-03-19T22:06:23.484Z"
   },
   {
    "duration": 14,
    "start_time": "2022-03-19T22:06:23.504Z"
   },
   {
    "duration": 11,
    "start_time": "2022-03-19T22:06:23.520Z"
   },
   {
    "duration": 4,
    "start_time": "2022-03-19T22:06:23.532Z"
   },
   {
    "duration": 13,
    "start_time": "2022-03-19T22:06:23.537Z"
   },
   {
    "duration": 39,
    "start_time": "2022-03-19T22:06:23.552Z"
   },
   {
    "duration": 6,
    "start_time": "2022-03-19T22:06:23.593Z"
   },
   {
    "duration": 11,
    "start_time": "2022-03-19T22:06:23.602Z"
   },
   {
    "duration": 22,
    "start_time": "2022-03-19T22:06:23.615Z"
   },
   {
    "duration": 4,
    "start_time": "2022-03-19T22:12:47.994Z"
   },
   {
    "duration": 6,
    "start_time": "2022-03-19T22:13:25.113Z"
   },
   {
    "duration": 6,
    "start_time": "2022-03-19T22:14:16.028Z"
   },
   {
    "duration": 4,
    "start_time": "2022-03-19T22:15:05.725Z"
   },
   {
    "duration": 7,
    "start_time": "2022-03-19T22:26:19.425Z"
   },
   {
    "duration": 13,
    "start_time": "2022-03-19T22:26:39.160Z"
   },
   {
    "duration": 399,
    "start_time": "2022-03-19T22:26:52.172Z"
   },
   {
    "duration": 65,
    "start_time": "2022-03-19T22:26:52.573Z"
   },
   {
    "duration": 19,
    "start_time": "2022-03-19T22:26:52.639Z"
   },
   {
    "duration": 14,
    "start_time": "2022-03-19T22:26:52.660Z"
   },
   {
    "duration": 13,
    "start_time": "2022-03-19T22:26:52.681Z"
   },
   {
    "duration": 6,
    "start_time": "2022-03-19T22:26:52.696Z"
   },
   {
    "duration": 13,
    "start_time": "2022-03-19T22:26:52.703Z"
   },
   {
    "duration": 14,
    "start_time": "2022-03-19T22:26:52.718Z"
   },
   {
    "duration": 5,
    "start_time": "2022-03-19T22:26:52.734Z"
   },
   {
    "duration": 47,
    "start_time": "2022-03-19T22:26:52.741Z"
   },
   {
    "duration": 25,
    "start_time": "2022-03-19T22:26:52.789Z"
   },
   {
    "duration": 4,
    "start_time": "2022-03-19T22:26:52.816Z"
   },
   {
    "duration": 6,
    "start_time": "2022-03-19T22:26:52.822Z"
   },
   {
    "duration": 13,
    "start_time": "2022-03-19T22:26:52.830Z"
   },
   {
    "duration": 5,
    "start_time": "2022-03-19T22:29:25.499Z"
   },
   {
    "duration": 66,
    "start_time": "2022-03-19T22:34:19.291Z"
   },
   {
    "duration": 11,
    "start_time": "2022-03-19T22:34:45.703Z"
   },
   {
    "duration": 10,
    "start_time": "2022-03-19T22:34:51.770Z"
   },
   {
    "duration": 13,
    "start_time": "2022-03-19T22:35:28.121Z"
   },
   {
    "duration": 3,
    "start_time": "2022-03-19T22:35:33.671Z"
   },
   {
    "duration": 414,
    "start_time": "2022-03-19T22:37:55.350Z"
   },
   {
    "duration": 63,
    "start_time": "2022-03-19T22:37:55.766Z"
   },
   {
    "duration": 17,
    "start_time": "2022-03-19T22:37:55.831Z"
   },
   {
    "duration": 14,
    "start_time": "2022-03-19T22:37:55.850Z"
   },
   {
    "duration": 25,
    "start_time": "2022-03-19T22:37:55.866Z"
   },
   {
    "duration": 5,
    "start_time": "2022-03-19T22:37:55.893Z"
   },
   {
    "duration": 12,
    "start_time": "2022-03-19T22:37:55.900Z"
   },
   {
    "duration": 15,
    "start_time": "2022-03-19T22:37:55.914Z"
   },
   {
    "duration": 6,
    "start_time": "2022-03-19T22:37:55.930Z"
   },
   {
    "duration": 45,
    "start_time": "2022-03-19T22:37:55.938Z"
   },
   {
    "duration": 25,
    "start_time": "2022-03-19T22:37:55.985Z"
   },
   {
    "duration": 4,
    "start_time": "2022-03-19T22:37:56.012Z"
   },
   {
    "duration": 6,
    "start_time": "2022-03-19T22:37:56.017Z"
   },
   {
    "duration": 12,
    "start_time": "2022-03-19T22:37:56.025Z"
   },
   {
    "duration": 4,
    "start_time": "2022-03-19T22:37:56.039Z"
   },
   {
    "duration": 2,
    "start_time": "2022-03-19T22:37:56.082Z"
   },
   {
    "duration": 46,
    "start_time": "2022-03-20T08:12:43.692Z"
   },
   {
    "duration": 378,
    "start_time": "2022-03-20T08:12:58.162Z"
   },
   {
    "duration": 64,
    "start_time": "2022-03-20T08:12:58.542Z"
   },
   {
    "duration": 20,
    "start_time": "2022-03-20T08:12:58.608Z"
   },
   {
    "duration": 15,
    "start_time": "2022-03-20T08:12:58.630Z"
   },
   {
    "duration": 12,
    "start_time": "2022-03-20T08:12:58.648Z"
   },
   {
    "duration": 4,
    "start_time": "2022-03-20T08:12:58.661Z"
   },
   {
    "duration": 14,
    "start_time": "2022-03-20T08:12:58.667Z"
   },
   {
    "duration": 22,
    "start_time": "2022-03-20T08:12:58.682Z"
   },
   {
    "duration": 33,
    "start_time": "2022-03-20T08:12:58.706Z"
   },
   {
    "duration": 14,
    "start_time": "2022-03-20T08:12:58.741Z"
   },
   {
    "duration": 24,
    "start_time": "2022-03-20T08:12:58.757Z"
   },
   {
    "duration": 4,
    "start_time": "2022-03-20T08:12:58.782Z"
   },
   {
    "duration": 7,
    "start_time": "2022-03-20T08:12:58.788Z"
   },
   {
    "duration": 51,
    "start_time": "2022-03-20T08:12:58.798Z"
   },
   {
    "duration": 15,
    "start_time": "2022-03-20T08:12:58.850Z"
   },
   {
    "duration": 4,
    "start_time": "2022-03-20T08:12:58.867Z"
   },
   {
    "duration": 19,
    "start_time": "2022-03-20T08:12:58.873Z"
   },
   {
    "duration": 17,
    "start_time": "2022-03-20T08:13:29.307Z"
   },
   {
    "duration": 14,
    "start_time": "2022-03-20T08:14:21.274Z"
   },
   {
    "duration": 105,
    "start_time": "2022-03-20T08:16:28.762Z"
   },
   {
    "duration": 2102,
    "start_time": "2022-03-20T08:16:37.411Z"
   },
   {
    "duration": 1925,
    "start_time": "2022-03-20T08:17:13.252Z"
   },
   {
    "duration": 19,
    "start_time": "2022-03-20T08:19:02.318Z"
   },
   {
    "duration": 27,
    "start_time": "2022-03-20T08:19:13.405Z"
   },
   {
    "duration": 4,
    "start_time": "2022-03-20T08:20:11.193Z"
   },
   {
    "duration": 10,
    "start_time": "2022-03-20T08:27:19.052Z"
   },
   {
    "duration": 18,
    "start_time": "2022-03-20T08:27:41.799Z"
   },
   {
    "duration": 8,
    "start_time": "2022-03-20T08:28:16.929Z"
   },
   {
    "duration": 9,
    "start_time": "2022-03-20T08:30:43.737Z"
   },
   {
    "duration": 14,
    "start_time": "2022-03-20T08:30:48.966Z"
   },
   {
    "duration": 15,
    "start_time": "2022-03-20T08:31:05.665Z"
   },
   {
    "duration": 14,
    "start_time": "2022-03-20T08:31:11.661Z"
   },
   {
    "duration": 22,
    "start_time": "2022-03-20T08:31:26.115Z"
   },
   {
    "duration": 14,
    "start_time": "2022-03-20T08:31:34.182Z"
   },
   {
    "duration": 20,
    "start_time": "2022-03-20T08:33:22.165Z"
   },
   {
    "duration": 21,
    "start_time": "2022-03-20T08:33:36.333Z"
   },
   {
    "duration": 22,
    "start_time": "2022-03-20T08:33:48.613Z"
   },
   {
    "duration": 17,
    "start_time": "2022-03-20T08:34:02.984Z"
   },
   {
    "duration": 17,
    "start_time": "2022-03-20T08:34:22.571Z"
   },
   {
    "duration": 15,
    "start_time": "2022-03-20T08:35:11.426Z"
   },
   {
    "duration": 20,
    "start_time": "2022-03-20T08:35:32.297Z"
   },
   {
    "duration": 7,
    "start_time": "2022-03-20T08:37:06.303Z"
   },
   {
    "duration": 5,
    "start_time": "2022-03-20T08:37:27.306Z"
   },
   {
    "duration": 5,
    "start_time": "2022-03-20T08:44:34.808Z"
   },
   {
    "duration": 7,
    "start_time": "2022-03-20T08:47:57.114Z"
   },
   {
    "duration": 8,
    "start_time": "2022-03-20T08:48:38.596Z"
   },
   {
    "duration": 9,
    "start_time": "2022-03-20T08:52:55.242Z"
   },
   {
    "duration": 13,
    "start_time": "2022-03-20T08:53:04.844Z"
   },
   {
    "duration": 13,
    "start_time": "2022-03-20T08:53:16.296Z"
   },
   {
    "duration": 14,
    "start_time": "2022-03-20T08:55:15.619Z"
   },
   {
    "duration": 23,
    "start_time": "2022-03-20T08:55:32.186Z"
   },
   {
    "duration": 10,
    "start_time": "2022-03-20T09:02:55.196Z"
   },
   {
    "duration": 26,
    "start_time": "2022-03-20T09:03:07.078Z"
   },
   {
    "duration": 11,
    "start_time": "2022-03-20T09:03:18.332Z"
   },
   {
    "duration": 9,
    "start_time": "2022-03-20T09:04:10.046Z"
   },
   {
    "duration": 13,
    "start_time": "2022-03-20T09:05:49.893Z"
   },
   {
    "duration": 14,
    "start_time": "2022-03-20T09:06:00.624Z"
   },
   {
    "duration": 10,
    "start_time": "2022-03-20T09:06:22.198Z"
   },
   {
    "duration": 8,
    "start_time": "2022-03-20T09:08:18.337Z"
   },
   {
    "duration": 7,
    "start_time": "2022-03-20T09:24:35.768Z"
   },
   {
    "duration": 13,
    "start_time": "2022-03-20T09:25:04.840Z"
   },
   {
    "duration": 10,
    "start_time": "2022-03-20T09:25:14.492Z"
   },
   {
    "duration": 8,
    "start_time": "2022-03-20T09:25:19.703Z"
   },
   {
    "duration": 16,
    "start_time": "2022-03-20T09:26:05.749Z"
   },
   {
    "duration": 402,
    "start_time": "2022-03-20T09:26:34.870Z"
   },
   {
    "duration": 67,
    "start_time": "2022-03-20T09:26:35.274Z"
   },
   {
    "duration": 26,
    "start_time": "2022-03-20T09:26:35.343Z"
   },
   {
    "duration": 26,
    "start_time": "2022-03-20T09:26:35.371Z"
   },
   {
    "duration": 13,
    "start_time": "2022-03-20T09:26:35.399Z"
   },
   {
    "duration": 6,
    "start_time": "2022-03-20T09:26:35.414Z"
   },
   {
    "duration": 36,
    "start_time": "2022-03-20T09:26:35.421Z"
   },
   {
    "duration": 19,
    "start_time": "2022-03-20T09:26:35.459Z"
   },
   {
    "duration": 19,
    "start_time": "2022-03-20T09:26:35.479Z"
   },
   {
    "duration": 21,
    "start_time": "2022-03-20T09:26:35.502Z"
   },
   {
    "duration": 25,
    "start_time": "2022-03-20T09:26:35.525Z"
   },
   {
    "duration": 4,
    "start_time": "2022-03-20T09:26:35.552Z"
   },
   {
    "duration": 20,
    "start_time": "2022-03-20T09:26:35.558Z"
   },
   {
    "duration": 25,
    "start_time": "2022-03-20T09:26:35.580Z"
   },
   {
    "duration": 15,
    "start_time": "2022-03-20T09:26:35.607Z"
   },
   {
    "duration": 33,
    "start_time": "2022-03-20T09:26:35.623Z"
   },
   {
    "duration": 13,
    "start_time": "2022-03-20T09:26:35.658Z"
   },
   {
    "duration": 18,
    "start_time": "2022-03-20T09:26:35.672Z"
   },
   {
    "duration": 36,
    "start_time": "2022-03-20T09:26:35.692Z"
   },
   {
    "duration": 9,
    "start_time": "2022-03-20T09:26:35.730Z"
   },
   {
    "duration": 26,
    "start_time": "2022-03-20T09:26:35.740Z"
   },
   {
    "duration": 28,
    "start_time": "2022-03-20T09:26:35.768Z"
   },
   {
    "duration": 11,
    "start_time": "2022-03-20T09:26:35.798Z"
   },
   {
    "duration": 17,
    "start_time": "2022-03-20T09:26:35.810Z"
   },
   {
    "duration": 13,
    "start_time": "2022-03-20T09:28:20.999Z"
   },
   {
    "duration": 7,
    "start_time": "2022-03-20T09:28:36.730Z"
   },
   {
    "duration": 8,
    "start_time": "2022-03-20T09:29:21.637Z"
   },
   {
    "duration": 5,
    "start_time": "2022-03-20T09:29:48.279Z"
   },
   {
    "duration": 26,
    "start_time": "2022-03-20T09:29:57.306Z"
   },
   {
    "duration": 14,
    "start_time": "2022-03-20T09:30:20.024Z"
   },
   {
    "duration": 10,
    "start_time": "2022-03-20T09:30:50.467Z"
   },
   {
    "duration": 4,
    "start_time": "2022-03-20T09:33:10.843Z"
   },
   {
    "duration": 16,
    "start_time": "2022-03-20T09:34:00.819Z"
   },
   {
    "duration": 5,
    "start_time": "2022-03-20T09:34:21.773Z"
   },
   {
    "duration": 15,
    "start_time": "2022-03-20T09:34:22.843Z"
   },
   {
    "duration": 387,
    "start_time": "2022-03-20T09:34:41.363Z"
   },
   {
    "duration": 64,
    "start_time": "2022-03-20T09:34:41.753Z"
   },
   {
    "duration": 21,
    "start_time": "2022-03-20T09:34:41.822Z"
   },
   {
    "duration": 15,
    "start_time": "2022-03-20T09:34:41.845Z"
   },
   {
    "duration": 13,
    "start_time": "2022-03-20T09:34:41.862Z"
   },
   {
    "duration": 7,
    "start_time": "2022-03-20T09:34:41.877Z"
   },
   {
    "duration": 16,
    "start_time": "2022-03-20T09:34:41.885Z"
   },
   {
    "duration": 47,
    "start_time": "2022-03-20T09:34:41.903Z"
   },
   {
    "duration": 7,
    "start_time": "2022-03-20T09:34:41.954Z"
   },
   {
    "duration": 18,
    "start_time": "2022-03-20T09:34:41.963Z"
   },
   {
    "duration": 23,
    "start_time": "2022-03-20T09:34:41.982Z"
   },
   {
    "duration": 35,
    "start_time": "2022-03-20T09:34:42.007Z"
   },
   {
    "duration": 11,
    "start_time": "2022-03-20T09:34:42.044Z"
   },
   {
    "duration": 15,
    "start_time": "2022-03-20T09:34:42.057Z"
   },
   {
    "duration": 15,
    "start_time": "2022-03-20T09:34:42.073Z"
   },
   {
    "duration": 53,
    "start_time": "2022-03-20T09:34:42.089Z"
   },
   {
    "duration": 14,
    "start_time": "2022-03-20T09:34:42.144Z"
   },
   {
    "duration": 10,
    "start_time": "2022-03-20T09:34:42.159Z"
   },
   {
    "duration": 28,
    "start_time": "2022-03-20T09:34:42.171Z"
   },
   {
    "duration": 8,
    "start_time": "2022-03-20T09:34:42.201Z"
   },
   {
    "duration": 30,
    "start_time": "2022-03-20T09:34:42.211Z"
   },
   {
    "duration": 23,
    "start_time": "2022-03-20T09:34:42.243Z"
   },
   {
    "duration": 32,
    "start_time": "2022-03-20T09:34:42.268Z"
   },
   {
    "duration": 4,
    "start_time": "2022-03-20T09:34:42.302Z"
   },
   {
    "duration": 8,
    "start_time": "2022-03-20T09:34:42.308Z"
   },
   {
    "duration": 18,
    "start_time": "2022-03-20T09:34:42.317Z"
   },
   {
    "duration": 2107,
    "start_time": "2022-03-20T13:52:13.507Z"
   },
   {
    "duration": 6,
    "start_time": "2022-03-20T13:52:33.831Z"
   },
   {
    "duration": 11,
    "start_time": "2022-03-20T13:52:42.587Z"
   },
   {
    "duration": 14,
    "start_time": "2022-03-20T13:53:21.972Z"
   },
   {
    "duration": 13,
    "start_time": "2022-03-20T13:53:40.491Z"
   },
   {
    "duration": 13,
    "start_time": "2022-03-20T13:53:50.151Z"
   },
   {
    "duration": 11,
    "start_time": "2022-03-20T13:53:53.975Z"
   },
   {
    "duration": 12,
    "start_time": "2022-03-20T13:54:45.524Z"
   },
   {
    "duration": 2195,
    "start_time": "2022-03-20T13:55:13.380Z"
   },
   {
    "duration": 12,
    "start_time": "2022-03-20T13:55:23.762Z"
   },
   {
    "duration": 2156,
    "start_time": "2022-03-20T13:55:48.984Z"
   },
   {
    "duration": 2295,
    "start_time": "2022-03-20T13:56:11.658Z"
   },
   {
    "duration": 2195,
    "start_time": "2022-03-20T13:56:24.910Z"
   },
   {
    "duration": 13,
    "start_time": "2022-03-20T13:56:33.013Z"
   },
   {
    "duration": 17,
    "start_time": "2022-03-20T13:56:52.302Z"
   },
   {
    "duration": 14,
    "start_time": "2022-03-20T13:57:04.331Z"
   },
   {
    "duration": 13,
    "start_time": "2022-03-20T13:58:21.517Z"
   },
   {
    "duration": 15,
    "start_time": "2022-03-20T13:58:32.881Z"
   },
   {
    "duration": 17,
    "start_time": "2022-03-20T13:59:26.792Z"
   },
   {
    "duration": 15,
    "start_time": "2022-03-20T13:59:40.537Z"
   },
   {
    "duration": 16,
    "start_time": "2022-03-20T13:59:50.769Z"
   },
   {
    "duration": 20,
    "start_time": "2022-03-20T14:00:59.541Z"
   },
   {
    "duration": 21,
    "start_time": "2022-03-20T14:01:13.131Z"
   },
   {
    "duration": 6,
    "start_time": "2022-03-20T14:07:50.734Z"
   },
   {
    "duration": 12,
    "start_time": "2022-03-20T14:07:58.343Z"
   },
   {
    "duration": 11,
    "start_time": "2022-03-20T14:08:17.387Z"
   },
   {
    "duration": 116,
    "start_time": "2022-03-20T14:08:47.592Z"
   },
   {
    "duration": 18,
    "start_time": "2022-03-20T14:09:16.623Z"
   },
   {
    "duration": 10,
    "start_time": "2022-03-20T14:10:21.954Z"
   },
   {
    "duration": 12,
    "start_time": "2022-03-20T14:10:31.424Z"
   },
   {
    "duration": 11,
    "start_time": "2022-03-20T14:11:39.859Z"
   },
   {
    "duration": 414,
    "start_time": "2022-03-20T14:12:35.317Z"
   },
   {
    "duration": 60,
    "start_time": "2022-03-20T14:12:35.733Z"
   },
   {
    "duration": 18,
    "start_time": "2022-03-20T14:12:35.795Z"
   },
   {
    "duration": 29,
    "start_time": "2022-03-20T14:12:35.815Z"
   },
   {
    "duration": 19,
    "start_time": "2022-03-20T14:12:35.846Z"
   },
   {
    "duration": 5,
    "start_time": "2022-03-20T14:12:35.866Z"
   },
   {
    "duration": 14,
    "start_time": "2022-03-20T14:12:35.872Z"
   },
   {
    "duration": 23,
    "start_time": "2022-03-20T14:12:35.888Z"
   },
   {
    "duration": 29,
    "start_time": "2022-03-20T14:12:35.913Z"
   },
   {
    "duration": 15,
    "start_time": "2022-03-20T14:12:35.945Z"
   },
   {
    "duration": 24,
    "start_time": "2022-03-20T14:12:35.961Z"
   },
   {
    "duration": 6,
    "start_time": "2022-03-20T14:12:35.987Z"
   },
   {
    "duration": 20,
    "start_time": "2022-03-20T14:12:35.995Z"
   },
   {
    "duration": 39,
    "start_time": "2022-03-20T14:12:36.017Z"
   },
   {
    "duration": 17,
    "start_time": "2022-03-20T14:12:36.058Z"
   },
   {
    "duration": 29,
    "start_time": "2022-03-20T14:12:36.077Z"
   },
   {
    "duration": 37,
    "start_time": "2022-03-20T14:12:36.108Z"
   },
   {
    "duration": 12,
    "start_time": "2022-03-20T14:12:36.148Z"
   },
   {
    "duration": 25,
    "start_time": "2022-03-20T14:12:36.163Z"
   },
   {
    "duration": 13,
    "start_time": "2022-03-20T14:12:36.190Z"
   },
   {
    "duration": 8,
    "start_time": "2022-03-20T14:12:36.205Z"
   },
   {
    "duration": 9,
    "start_time": "2022-03-20T14:12:36.237Z"
   },
   {
    "duration": 6,
    "start_time": "2022-03-20T14:12:36.248Z"
   },
   {
    "duration": 5,
    "start_time": "2022-03-20T14:12:36.256Z"
   },
   {
    "duration": 17,
    "start_time": "2022-03-20T14:12:36.262Z"
   },
   {
    "duration": 21,
    "start_time": "2022-03-20T14:12:36.281Z"
   },
   {
    "duration": 38,
    "start_time": "2022-03-20T14:12:36.303Z"
   },
   {
    "duration": 78,
    "start_time": "2022-03-20T14:12:42.305Z"
   },
   {
    "duration": 11,
    "start_time": "2022-03-20T14:13:12.952Z"
   },
   {
    "duration": 12,
    "start_time": "2022-03-20T14:15:04.482Z"
   },
   {
    "duration": 10,
    "start_time": "2022-03-20T14:16:05.470Z"
   },
   {
    "duration": 11,
    "start_time": "2022-03-20T14:17:06.052Z"
   },
   {
    "duration": 11,
    "start_time": "2022-03-20T14:18:29.699Z"
   },
   {
    "duration": 11,
    "start_time": "2022-03-20T14:19:13.833Z"
   },
   {
    "duration": 11,
    "start_time": "2022-03-20T14:19:56.853Z"
   },
   {
    "duration": 13,
    "start_time": "2022-03-20T14:21:06.014Z"
   },
   {
    "duration": 385,
    "start_time": "2022-03-20T14:22:44.955Z"
   },
   {
    "duration": 92,
    "start_time": "2022-03-20T14:22:45.342Z"
   },
   {
    "duration": 19,
    "start_time": "2022-03-20T14:22:45.435Z"
   },
   {
    "duration": 14,
    "start_time": "2022-03-20T14:22:45.457Z"
   },
   {
    "duration": 15,
    "start_time": "2022-03-20T14:22:45.473Z"
   },
   {
    "duration": 6,
    "start_time": "2022-03-20T14:22:45.490Z"
   },
   {
    "duration": 15,
    "start_time": "2022-03-20T14:22:45.498Z"
   },
   {
    "duration": 35,
    "start_time": "2022-03-20T14:22:45.515Z"
   },
   {
    "duration": 7,
    "start_time": "2022-03-20T14:22:45.552Z"
   },
   {
    "duration": 18,
    "start_time": "2022-03-20T14:22:45.562Z"
   },
   {
    "duration": 24,
    "start_time": "2022-03-20T14:22:45.582Z"
   },
   {
    "duration": 5,
    "start_time": "2022-03-20T14:22:45.637Z"
   },
   {
    "duration": 10,
    "start_time": "2022-03-20T14:22:45.643Z"
   },
   {
    "duration": 30,
    "start_time": "2022-03-20T14:22:45.655Z"
   },
   {
    "duration": 18,
    "start_time": "2022-03-20T14:22:45.688Z"
   },
   {
    "duration": 48,
    "start_time": "2022-03-20T14:22:45.708Z"
   },
   {
    "duration": 13,
    "start_time": "2022-03-20T14:22:45.758Z"
   },
   {
    "duration": 4,
    "start_time": "2022-03-20T14:22:45.773Z"
   },
   {
    "duration": 29,
    "start_time": "2022-03-20T14:22:45.779Z"
   },
   {
    "duration": 27,
    "start_time": "2022-03-20T14:22:45.810Z"
   },
   {
    "duration": 9,
    "start_time": "2022-03-20T14:22:45.839Z"
   },
   {
    "duration": 19,
    "start_time": "2022-03-20T14:22:45.849Z"
   },
   {
    "duration": 9,
    "start_time": "2022-03-20T14:22:45.870Z"
   },
   {
    "duration": 17,
    "start_time": "2022-03-20T14:22:45.881Z"
   },
   {
    "duration": 30,
    "start_time": "2022-03-20T14:22:45.900Z"
   },
   {
    "duration": 30,
    "start_time": "2022-03-20T14:22:45.932Z"
   },
   {
    "duration": 6,
    "start_time": "2022-03-20T14:22:45.964Z"
   },
   {
    "duration": 69,
    "start_time": "2022-03-20T14:23:02.122Z"
   },
   {
    "duration": 3,
    "start_time": "2022-03-20T14:23:36.591Z"
   },
   {
    "duration": 14,
    "start_time": "2022-03-20T14:23:49.167Z"
   },
   {
    "duration": 428,
    "start_time": "2022-03-20T14:24:43.817Z"
   },
   {
    "duration": 60,
    "start_time": "2022-03-20T14:24:44.248Z"
   },
   {
    "duration": 20,
    "start_time": "2022-03-20T14:24:44.309Z"
   },
   {
    "duration": 15,
    "start_time": "2022-03-20T14:24:44.337Z"
   },
   {
    "duration": 13,
    "start_time": "2022-03-20T14:24:44.354Z"
   },
   {
    "duration": 5,
    "start_time": "2022-03-20T14:24:44.368Z"
   },
   {
    "duration": 14,
    "start_time": "2022-03-20T14:24:44.375Z"
   },
   {
    "duration": 48,
    "start_time": "2022-03-20T14:24:44.390Z"
   },
   {
    "duration": 8,
    "start_time": "2022-03-20T14:24:44.439Z"
   },
   {
    "duration": 21,
    "start_time": "2022-03-20T14:24:44.449Z"
   },
   {
    "duration": 21,
    "start_time": "2022-03-20T14:24:44.472Z"
   },
   {
    "duration": 4,
    "start_time": "2022-03-20T14:24:44.495Z"
   },
   {
    "duration": 6,
    "start_time": "2022-03-20T14:24:44.501Z"
   },
   {
    "duration": 41,
    "start_time": "2022-03-20T14:24:44.508Z"
   },
   {
    "duration": 14,
    "start_time": "2022-03-20T14:24:44.551Z"
   },
   {
    "duration": 25,
    "start_time": "2022-03-20T14:24:44.567Z"
   },
   {
    "duration": 12,
    "start_time": "2022-03-20T14:24:44.594Z"
   },
   {
    "duration": 32,
    "start_time": "2022-03-20T14:24:44.608Z"
   },
   {
    "duration": 24,
    "start_time": "2022-03-20T14:24:44.642Z"
   },
   {
    "duration": 8,
    "start_time": "2022-03-20T14:24:44.668Z"
   },
   {
    "duration": 8,
    "start_time": "2022-03-20T14:24:44.678Z"
   },
   {
    "duration": 9,
    "start_time": "2022-03-20T14:24:44.687Z"
   },
   {
    "duration": 5,
    "start_time": "2022-03-20T14:24:44.698Z"
   },
   {
    "duration": 37,
    "start_time": "2022-03-20T14:24:44.704Z"
   },
   {
    "duration": 17,
    "start_time": "2022-03-20T14:24:44.743Z"
   },
   {
    "duration": 20,
    "start_time": "2022-03-20T14:24:44.762Z"
   },
   {
    "duration": 19,
    "start_time": "2022-03-20T14:24:44.784Z"
   },
   {
    "duration": 3,
    "start_time": "2022-03-20T14:24:44.837Z"
   },
   {
    "duration": 17,
    "start_time": "2022-03-20T14:25:05.991Z"
   },
   {
    "duration": 440,
    "start_time": "2022-03-20T14:25:58.547Z"
   },
   {
    "duration": 68,
    "start_time": "2022-03-20T14:25:58.989Z"
   },
   {
    "duration": 21,
    "start_time": "2022-03-20T14:25:59.059Z"
   },
   {
    "duration": 16,
    "start_time": "2022-03-20T14:25:59.083Z"
   },
   {
    "duration": 43,
    "start_time": "2022-03-20T14:25:59.101Z"
   },
   {
    "duration": 5,
    "start_time": "2022-03-20T14:25:59.146Z"
   },
   {
    "duration": 15,
    "start_time": "2022-03-20T14:25:59.153Z"
   },
   {
    "duration": 17,
    "start_time": "2022-03-20T14:25:59.170Z"
   },
   {
    "duration": 6,
    "start_time": "2022-03-20T14:25:59.189Z"
   },
   {
    "duration": 52,
    "start_time": "2022-03-20T14:25:59.198Z"
   },
   {
    "duration": 26,
    "start_time": "2022-03-20T14:25:59.252Z"
   },
   {
    "duration": 4,
    "start_time": "2022-03-20T14:25:59.280Z"
   },
   {
    "duration": 11,
    "start_time": "2022-03-20T14:25:59.286Z"
   },
   {
    "duration": 50,
    "start_time": "2022-03-20T14:25:59.299Z"
   },
   {
    "duration": 16,
    "start_time": "2022-03-20T14:25:59.351Z"
   },
   {
    "duration": 29,
    "start_time": "2022-03-20T14:25:59.369Z"
   },
   {
    "duration": 47,
    "start_time": "2022-03-20T14:25:59.400Z"
   },
   {
    "duration": 5,
    "start_time": "2022-03-20T14:25:59.449Z"
   },
   {
    "duration": 25,
    "start_time": "2022-03-20T14:25:59.455Z"
   },
   {
    "duration": 9,
    "start_time": "2022-03-20T14:25:59.482Z"
   },
   {
    "duration": 9,
    "start_time": "2022-03-20T14:25:59.492Z"
   },
   {
    "duration": 41,
    "start_time": "2022-03-20T14:25:59.503Z"
   },
   {
    "duration": 6,
    "start_time": "2022-03-20T14:25:59.546Z"
   },
   {
    "duration": 8,
    "start_time": "2022-03-20T14:25:59.553Z"
   },
   {
    "duration": 21,
    "start_time": "2022-03-20T14:25:59.562Z"
   },
   {
    "duration": 24,
    "start_time": "2022-03-20T14:25:59.585Z"
   },
   {
    "duration": 38,
    "start_time": "2022-03-20T14:25:59.611Z"
   },
   {
    "duration": 64,
    "start_time": "2022-03-20T14:54:05.931Z"
   },
   {
    "duration": 5,
    "start_time": "2022-03-20T14:54:25.114Z"
   },
   {
    "duration": 7,
    "start_time": "2022-03-20T14:55:29.274Z"
   },
   {
    "duration": 3,
    "start_time": "2022-03-20T14:58:11.902Z"
   },
   {
    "duration": 17,
    "start_time": "2022-03-20T15:00:58.031Z"
   },
   {
    "duration": 8,
    "start_time": "2022-03-20T15:19:24.241Z"
   },
   {
    "duration": 9,
    "start_time": "2022-03-20T15:20:01.419Z"
   },
   {
    "duration": 4,
    "start_time": "2022-03-20T15:26:53.783Z"
   },
   {
    "duration": 16,
    "start_time": "2022-03-20T15:28:57.801Z"
   },
   {
    "duration": 3,
    "start_time": "2022-03-20T15:29:16.242Z"
   },
   {
    "duration": 17,
    "start_time": "2022-03-20T15:29:18.574Z"
   },
   {
    "duration": 3,
    "start_time": "2022-03-20T15:29:52.210Z"
   },
   {
    "duration": 17,
    "start_time": "2022-03-20T15:29:55.663Z"
   },
   {
    "duration": 16,
    "start_time": "2022-03-20T15:30:11.298Z"
   },
   {
    "duration": 16,
    "start_time": "2022-03-20T15:30:26.970Z"
   },
   {
    "duration": 6,
    "start_time": "2022-03-20T15:34:04.352Z"
   },
   {
    "duration": 23,
    "start_time": "2022-03-20T15:39:01.420Z"
   },
   {
    "duration": 21,
    "start_time": "2022-03-20T15:49:27.624Z"
   },
   {
    "duration": 6,
    "start_time": "2022-03-20T15:50:19.917Z"
   },
   {
    "duration": 6,
    "start_time": "2022-03-20T15:50:32.397Z"
   },
   {
    "duration": 14,
    "start_time": "2022-03-20T15:51:42.976Z"
   },
   {
    "duration": 18,
    "start_time": "2022-03-20T15:51:53.945Z"
   },
   {
    "duration": 10,
    "start_time": "2022-03-20T15:57:23.752Z"
   },
   {
    "duration": 18,
    "start_time": "2022-03-20T16:00:24.110Z"
   },
   {
    "duration": 18,
    "start_time": "2022-03-20T16:00:36.406Z"
   },
   {
    "duration": 11,
    "start_time": "2022-03-20T16:03:12.033Z"
   },
   {
    "duration": 10,
    "start_time": "2022-03-20T16:03:49.696Z"
   },
   {
    "duration": 10,
    "start_time": "2022-03-20T16:04:01.835Z"
   },
   {
    "duration": 2,
    "start_time": "2022-03-20T16:21:15.240Z"
   },
   {
    "duration": 17,
    "start_time": "2022-03-20T16:23:35.476Z"
   },
   {
    "duration": 11,
    "start_time": "2022-03-20T16:26:37.838Z"
   },
   {
    "duration": 7,
    "start_time": "2022-03-20T16:26:53.304Z"
   },
   {
    "duration": 387,
    "start_time": "2022-03-20T16:27:15.373Z"
   },
   {
    "duration": 68,
    "start_time": "2022-03-20T16:27:15.762Z"
   },
   {
    "duration": 22,
    "start_time": "2022-03-20T16:27:15.831Z"
   },
   {
    "duration": 15,
    "start_time": "2022-03-20T16:27:15.855Z"
   },
   {
    "duration": 13,
    "start_time": "2022-03-20T16:27:15.871Z"
   },
   {
    "duration": 15,
    "start_time": "2022-03-20T16:27:15.886Z"
   },
   {
    "duration": 19,
    "start_time": "2022-03-20T16:27:15.903Z"
   },
   {
    "duration": 17,
    "start_time": "2022-03-20T16:27:15.938Z"
   },
   {
    "duration": 19,
    "start_time": "2022-03-20T16:27:15.957Z"
   },
   {
    "duration": 18,
    "start_time": "2022-03-20T16:27:15.979Z"
   },
   {
    "duration": 25,
    "start_time": "2022-03-20T16:27:15.998Z"
   },
   {
    "duration": 15,
    "start_time": "2022-03-20T16:27:16.025Z"
   },
   {
    "duration": 14,
    "start_time": "2022-03-20T16:27:16.042Z"
   },
   {
    "duration": 18,
    "start_time": "2022-03-20T16:27:16.058Z"
   },
   {
    "duration": 15,
    "start_time": "2022-03-20T16:27:16.077Z"
   },
   {
    "duration": 54,
    "start_time": "2022-03-20T16:27:16.094Z"
   },
   {
    "duration": 14,
    "start_time": "2022-03-20T16:27:16.149Z"
   },
   {
    "duration": 10,
    "start_time": "2022-03-20T16:27:16.165Z"
   },
   {
    "duration": 26,
    "start_time": "2022-03-20T16:27:16.177Z"
   },
   {
    "duration": 8,
    "start_time": "2022-03-20T16:27:16.204Z"
   },
   {
    "duration": 31,
    "start_time": "2022-03-20T16:27:16.214Z"
   },
   {
    "duration": 11,
    "start_time": "2022-03-20T16:27:16.246Z"
   },
   {
    "duration": 5,
    "start_time": "2022-03-20T16:27:16.258Z"
   },
   {
    "duration": 7,
    "start_time": "2022-03-20T16:27:16.265Z"
   },
   {
    "duration": 21,
    "start_time": "2022-03-20T16:27:16.274Z"
   },
   {
    "duration": 47,
    "start_time": "2022-03-20T16:27:16.297Z"
   },
   {
    "duration": 13,
    "start_time": "2022-03-20T16:27:16.346Z"
   },
   {
    "duration": 3,
    "start_time": "2022-03-20T16:27:16.362Z"
   },
   {
    "duration": 19,
    "start_time": "2022-03-20T16:27:16.367Z"
   },
   {
    "duration": 6,
    "start_time": "2022-03-20T16:27:16.388Z"
   },
   {
    "duration": 45,
    "start_time": "2022-03-20T16:27:16.396Z"
   },
   {
    "duration": 20,
    "start_time": "2022-03-20T16:27:16.442Z"
   },
   {
    "duration": 12,
    "start_time": "2022-03-20T16:27:16.463Z"
   },
   {
    "duration": 23,
    "start_time": "2022-03-20T16:27:16.477Z"
   },
   {
    "duration": 86,
    "start_time": "2022-03-20T16:27:16.502Z"
   },
   {
    "duration": 9,
    "start_time": "2022-03-20T16:27:34.833Z"
   },
   {
    "duration": 12,
    "start_time": "2022-03-20T16:27:40.699Z"
   },
   {
    "duration": 7,
    "start_time": "2022-03-20T16:28:20.927Z"
   },
   {
    "duration": 7,
    "start_time": "2022-03-20T16:30:35.617Z"
   },
   {
    "duration": 11,
    "start_time": "2022-03-20T16:30:42.237Z"
   },
   {
    "duration": 12,
    "start_time": "2022-03-20T16:30:56.560Z"
   },
   {
    "duration": 430,
    "start_time": "2022-03-20T16:31:09.711Z"
   },
   {
    "duration": 66,
    "start_time": "2022-03-20T16:31:10.142Z"
   },
   {
    "duration": 19,
    "start_time": "2022-03-20T16:31:10.209Z"
   },
   {
    "duration": 16,
    "start_time": "2022-03-20T16:31:10.229Z"
   },
   {
    "duration": 12,
    "start_time": "2022-03-20T16:31:10.247Z"
   },
   {
    "duration": 8,
    "start_time": "2022-03-20T16:31:10.260Z"
   },
   {
    "duration": 17,
    "start_time": "2022-03-20T16:31:10.269Z"
   },
   {
    "duration": 20,
    "start_time": "2022-03-20T16:31:10.288Z"
   },
   {
    "duration": 29,
    "start_time": "2022-03-20T16:31:10.309Z"
   },
   {
    "duration": 14,
    "start_time": "2022-03-20T16:31:10.340Z"
   },
   {
    "duration": 23,
    "start_time": "2022-03-20T16:31:10.355Z"
   },
   {
    "duration": 4,
    "start_time": "2022-03-20T16:31:10.379Z"
   },
   {
    "duration": 6,
    "start_time": "2022-03-20T16:31:10.385Z"
   },
   {
    "duration": 46,
    "start_time": "2022-03-20T16:31:10.394Z"
   },
   {
    "duration": 14,
    "start_time": "2022-03-20T16:31:10.442Z"
   },
   {
    "duration": 27,
    "start_time": "2022-03-20T16:31:10.458Z"
   },
   {
    "duration": 13,
    "start_time": "2022-03-20T16:31:10.487Z"
   },
   {
    "duration": 12,
    "start_time": "2022-03-20T16:31:10.501Z"
   },
   {
    "duration": 44,
    "start_time": "2022-03-20T16:31:10.514Z"
   },
   {
    "duration": 8,
    "start_time": "2022-03-20T16:31:10.560Z"
   },
   {
    "duration": 9,
    "start_time": "2022-03-20T16:31:10.570Z"
   },
   {
    "duration": 8,
    "start_time": "2022-03-20T16:31:10.581Z"
   },
   {
    "duration": 5,
    "start_time": "2022-03-20T16:31:10.591Z"
   },
   {
    "duration": 40,
    "start_time": "2022-03-20T16:31:10.598Z"
   },
   {
    "duration": 17,
    "start_time": "2022-03-20T16:31:10.639Z"
   },
   {
    "duration": 27,
    "start_time": "2022-03-20T16:31:10.657Z"
   },
   {
    "duration": 11,
    "start_time": "2022-03-20T16:31:10.686Z"
   },
   {
    "duration": 14,
    "start_time": "2022-03-20T16:31:10.698Z"
   },
   {
    "duration": 32,
    "start_time": "2022-03-20T16:31:10.714Z"
   },
   {
    "duration": 5,
    "start_time": "2022-03-20T16:31:10.748Z"
   },
   {
    "duration": 23,
    "start_time": "2022-03-20T16:31:10.754Z"
   },
   {
    "duration": 19,
    "start_time": "2022-03-20T16:31:10.779Z"
   },
   {
    "duration": 10,
    "start_time": "2022-03-20T16:31:10.800Z"
   },
   {
    "duration": 39,
    "start_time": "2022-03-20T16:31:10.811Z"
   },
   {
    "duration": 10,
    "start_time": "2022-03-20T16:31:10.852Z"
   },
   {
    "duration": 435,
    "start_time": "2022-03-20T16:32:10.013Z"
   },
   {
    "duration": 63,
    "start_time": "2022-03-20T16:32:10.450Z"
   },
   {
    "duration": 22,
    "start_time": "2022-03-20T16:32:10.515Z"
   },
   {
    "duration": 15,
    "start_time": "2022-03-20T16:32:10.540Z"
   },
   {
    "duration": 20,
    "start_time": "2022-03-20T16:32:10.557Z"
   },
   {
    "duration": 5,
    "start_time": "2022-03-20T16:32:10.578Z"
   },
   {
    "duration": 16,
    "start_time": "2022-03-20T16:32:10.585Z"
   },
   {
    "duration": 38,
    "start_time": "2022-03-20T16:32:10.603Z"
   },
   {
    "duration": 7,
    "start_time": "2022-03-20T16:32:10.643Z"
   },
   {
    "duration": 14,
    "start_time": "2022-03-20T16:32:10.653Z"
   },
   {
    "duration": 24,
    "start_time": "2022-03-20T16:32:10.668Z"
   },
   {
    "duration": 4,
    "start_time": "2022-03-20T16:32:10.694Z"
   },
   {
    "duration": 41,
    "start_time": "2022-03-20T16:32:10.700Z"
   },
   {
    "duration": 21,
    "start_time": "2022-03-20T16:32:10.743Z"
   },
   {
    "duration": 15,
    "start_time": "2022-03-20T16:32:10.766Z"
   },
   {
    "duration": 27,
    "start_time": "2022-03-20T16:32:10.783Z"
   },
   {
    "duration": 31,
    "start_time": "2022-03-20T16:32:10.811Z"
   },
   {
    "duration": 4,
    "start_time": "2022-03-20T16:32:10.844Z"
   },
   {
    "duration": 32,
    "start_time": "2022-03-20T16:32:10.850Z"
   },
   {
    "duration": 8,
    "start_time": "2022-03-20T16:32:10.884Z"
   },
   {
    "duration": 11,
    "start_time": "2022-03-20T16:32:10.894Z"
   },
   {
    "duration": 10,
    "start_time": "2022-03-20T16:32:10.906Z"
   },
   {
    "duration": 22,
    "start_time": "2022-03-20T16:32:10.917Z"
   },
   {
    "duration": 5,
    "start_time": "2022-03-20T16:32:10.940Z"
   },
   {
    "duration": 19,
    "start_time": "2022-03-20T16:32:10.946Z"
   },
   {
    "duration": 21,
    "start_time": "2022-03-20T16:32:10.967Z"
   },
   {
    "duration": 11,
    "start_time": "2022-03-20T16:32:10.989Z"
   },
   {
    "duration": 9,
    "start_time": "2022-03-20T16:32:11.037Z"
   },
   {
    "duration": 23,
    "start_time": "2022-03-20T16:32:11.048Z"
   },
   {
    "duration": 9,
    "start_time": "2022-03-20T16:32:11.072Z"
   },
   {
    "duration": 22,
    "start_time": "2022-03-20T16:32:11.083Z"
   },
   {
    "duration": 17,
    "start_time": "2022-03-20T16:32:11.107Z"
   },
   {
    "duration": 11,
    "start_time": "2022-03-20T16:32:11.137Z"
   },
   {
    "duration": 25,
    "start_time": "2022-03-20T16:32:11.149Z"
   },
   {
    "duration": 76,
    "start_time": "2022-03-20T16:32:11.175Z"
   },
   {
    "duration": 11,
    "start_time": "2022-03-20T16:32:25.756Z"
   },
   {
    "duration": 399,
    "start_time": "2022-03-20T16:32:51.132Z"
   },
   {
    "duration": 57,
    "start_time": "2022-03-20T16:32:51.533Z"
   },
   {
    "duration": 18,
    "start_time": "2022-03-20T16:32:51.592Z"
   },
   {
    "duration": 26,
    "start_time": "2022-03-20T16:32:51.612Z"
   },
   {
    "duration": 13,
    "start_time": "2022-03-20T16:32:51.640Z"
   },
   {
    "duration": 6,
    "start_time": "2022-03-20T16:32:51.654Z"
   },
   {
    "duration": 19,
    "start_time": "2022-03-20T16:32:51.661Z"
   },
   {
    "duration": 15,
    "start_time": "2022-03-20T16:32:51.681Z"
   },
   {
    "duration": 6,
    "start_time": "2022-03-20T16:32:51.697Z"
   },
   {
    "duration": 38,
    "start_time": "2022-03-20T16:32:51.705Z"
   },
   {
    "duration": 21,
    "start_time": "2022-03-20T16:32:51.745Z"
   },
   {
    "duration": 4,
    "start_time": "2022-03-20T16:32:51.768Z"
   },
   {
    "duration": 8,
    "start_time": "2022-03-20T16:32:51.774Z"
   },
   {
    "duration": 15,
    "start_time": "2022-03-20T16:32:51.784Z"
   },
   {
    "duration": 38,
    "start_time": "2022-03-20T16:32:51.801Z"
   },
   {
    "duration": 27,
    "start_time": "2022-03-20T16:32:51.841Z"
   },
   {
    "duration": 13,
    "start_time": "2022-03-20T16:32:51.869Z"
   },
   {
    "duration": 7,
    "start_time": "2022-03-20T16:32:51.883Z"
   },
   {
    "duration": 25,
    "start_time": "2022-03-20T16:32:51.891Z"
   },
   {
    "duration": 9,
    "start_time": "2022-03-20T16:32:51.938Z"
   },
   {
    "duration": 8,
    "start_time": "2022-03-20T16:32:51.948Z"
   },
   {
    "duration": 8,
    "start_time": "2022-03-20T16:32:51.958Z"
   },
   {
    "duration": 5,
    "start_time": "2022-03-20T16:32:51.967Z"
   },
   {
    "duration": 4,
    "start_time": "2022-03-20T16:32:51.974Z"
   },
   {
    "duration": 16,
    "start_time": "2022-03-20T16:32:51.979Z"
   },
   {
    "duration": 54,
    "start_time": "2022-03-20T16:32:51.997Z"
   },
   {
    "duration": 11,
    "start_time": "2022-03-20T16:32:52.053Z"
   },
   {
    "duration": 4,
    "start_time": "2022-03-20T16:32:52.067Z"
   },
   {
    "duration": 16,
    "start_time": "2022-03-20T16:32:52.073Z"
   },
   {
    "duration": 3,
    "start_time": "2022-03-20T16:32:52.091Z"
   },
   {
    "duration": 48,
    "start_time": "2022-03-20T16:32:52.096Z"
   },
   {
    "duration": 18,
    "start_time": "2022-03-20T16:32:52.146Z"
   },
   {
    "duration": 9,
    "start_time": "2022-03-20T16:32:52.166Z"
   },
   {
    "duration": 18,
    "start_time": "2022-03-20T16:32:52.177Z"
   },
   {
    "duration": 10,
    "start_time": "2022-03-20T16:32:52.197Z"
   },
   {
    "duration": 391,
    "start_time": "2022-03-20T16:33:55.954Z"
   },
   {
    "duration": 65,
    "start_time": "2022-03-20T16:33:56.346Z"
   },
   {
    "duration": 19,
    "start_time": "2022-03-20T16:33:56.412Z"
   },
   {
    "duration": 30,
    "start_time": "2022-03-20T16:33:56.433Z"
   },
   {
    "duration": 12,
    "start_time": "2022-03-20T16:33:56.465Z"
   },
   {
    "duration": 4,
    "start_time": "2022-03-20T16:33:56.479Z"
   },
   {
    "duration": 24,
    "start_time": "2022-03-20T16:33:56.484Z"
   },
   {
    "duration": 19,
    "start_time": "2022-03-20T16:33:56.510Z"
   },
   {
    "duration": 10,
    "start_time": "2022-03-20T16:33:56.531Z"
   },
   {
    "duration": 23,
    "start_time": "2022-03-20T16:33:56.544Z"
   },
   {
    "duration": 21,
    "start_time": "2022-03-20T16:33:56.568Z"
   },
   {
    "duration": 3,
    "start_time": "2022-03-20T16:33:56.591Z"
   },
   {
    "duration": 16,
    "start_time": "2022-03-20T16:33:56.596Z"
   },
   {
    "duration": 25,
    "start_time": "2022-03-20T16:33:56.614Z"
   },
   {
    "duration": 21,
    "start_time": "2022-03-20T16:33:56.641Z"
   },
   {
    "duration": 26,
    "start_time": "2022-03-20T16:33:56.664Z"
   },
   {
    "duration": 12,
    "start_time": "2022-03-20T16:33:56.692Z"
   },
   {
    "duration": 10,
    "start_time": "2022-03-20T16:33:56.706Z"
   },
   {
    "duration": 38,
    "start_time": "2022-03-20T16:33:56.718Z"
   },
   {
    "duration": 8,
    "start_time": "2022-03-20T16:33:56.758Z"
   },
   {
    "duration": 19,
    "start_time": "2022-03-20T16:33:56.768Z"
   },
   {
    "duration": 22,
    "start_time": "2022-03-20T16:33:56.789Z"
   },
   {
    "duration": 6,
    "start_time": "2022-03-20T16:33:56.813Z"
   },
   {
    "duration": 13,
    "start_time": "2022-03-20T16:33:56.820Z"
   },
   {
    "duration": 24,
    "start_time": "2022-03-20T16:33:56.834Z"
   },
   {
    "duration": 21,
    "start_time": "2022-03-20T16:33:56.860Z"
   },
   {
    "duration": 12,
    "start_time": "2022-03-20T16:33:56.882Z"
   },
   {
    "duration": 14,
    "start_time": "2022-03-20T16:33:56.898Z"
   },
   {
    "duration": 32,
    "start_time": "2022-03-20T16:33:56.914Z"
   },
   {
    "duration": 4,
    "start_time": "2022-03-20T16:33:56.948Z"
   },
   {
    "duration": 28,
    "start_time": "2022-03-20T16:33:56.954Z"
   },
   {
    "duration": 18,
    "start_time": "2022-03-20T16:33:56.984Z"
   },
   {
    "duration": 17,
    "start_time": "2022-03-20T16:33:57.004Z"
   },
   {
    "duration": 28,
    "start_time": "2022-03-20T16:33:57.023Z"
   },
   {
    "duration": 11,
    "start_time": "2022-03-20T16:33:57.053Z"
   },
   {
    "duration": 379,
    "start_time": "2022-03-20T16:34:58.658Z"
   },
   {
    "duration": 65,
    "start_time": "2022-03-20T16:34:59.039Z"
   },
   {
    "duration": 18,
    "start_time": "2022-03-20T16:34:59.107Z"
   },
   {
    "duration": 18,
    "start_time": "2022-03-20T16:34:59.127Z"
   },
   {
    "duration": 14,
    "start_time": "2022-03-20T16:34:59.147Z"
   },
   {
    "duration": 4,
    "start_time": "2022-03-20T16:34:59.163Z"
   },
   {
    "duration": 18,
    "start_time": "2022-03-20T16:34:59.168Z"
   },
   {
    "duration": 20,
    "start_time": "2022-03-20T16:34:59.187Z"
   },
   {
    "duration": 7,
    "start_time": "2022-03-20T16:34:59.208Z"
   },
   {
    "duration": 14,
    "start_time": "2022-03-20T16:34:59.237Z"
   },
   {
    "duration": 22,
    "start_time": "2022-03-20T16:34:59.252Z"
   },
   {
    "duration": 4,
    "start_time": "2022-03-20T16:34:59.275Z"
   },
   {
    "duration": 8,
    "start_time": "2022-03-20T16:34:59.280Z"
   },
   {
    "duration": 15,
    "start_time": "2022-03-20T16:34:59.291Z"
   },
   {
    "duration": 41,
    "start_time": "2022-03-20T16:34:59.308Z"
   },
   {
    "duration": 26,
    "start_time": "2022-03-20T16:34:59.350Z"
   },
   {
    "duration": 13,
    "start_time": "2022-03-20T16:34:59.377Z"
   },
   {
    "duration": 5,
    "start_time": "2022-03-20T16:34:59.392Z"
   },
   {
    "duration": 50,
    "start_time": "2022-03-20T16:34:59.398Z"
   },
   {
    "duration": 8,
    "start_time": "2022-03-20T16:34:59.450Z"
   },
   {
    "duration": 10,
    "start_time": "2022-03-20T16:34:59.460Z"
   },
   {
    "duration": 8,
    "start_time": "2022-03-20T16:34:59.472Z"
   },
   {
    "duration": 5,
    "start_time": "2022-03-20T16:34:59.481Z"
   },
   {
    "duration": 9,
    "start_time": "2022-03-20T16:34:59.488Z"
   },
   {
    "duration": 39,
    "start_time": "2022-03-20T16:34:59.499Z"
   },
   {
    "duration": 21,
    "start_time": "2022-03-20T16:34:59.540Z"
   },
   {
    "duration": 11,
    "start_time": "2022-03-20T16:34:59.563Z"
   },
   {
    "duration": 5,
    "start_time": "2022-03-20T16:34:59.575Z"
   },
   {
    "duration": 18,
    "start_time": "2022-03-20T16:34:59.582Z"
   },
   {
    "duration": 3,
    "start_time": "2022-03-20T16:34:59.602Z"
   },
   {
    "duration": 50,
    "start_time": "2022-03-20T16:34:59.606Z"
   },
   {
    "duration": 17,
    "start_time": "2022-03-20T16:34:59.658Z"
   },
   {
    "duration": 9,
    "start_time": "2022-03-20T16:34:59.677Z"
   },
   {
    "duration": 19,
    "start_time": "2022-03-20T16:34:59.688Z"
   },
   {
    "duration": 34,
    "start_time": "2022-03-20T16:34:59.709Z"
   },
   {
    "duration": 448,
    "start_time": "2022-03-20T16:35:14.522Z"
   },
   {
    "duration": 68,
    "start_time": "2022-03-20T16:35:14.972Z"
   },
   {
    "duration": 21,
    "start_time": "2022-03-20T16:35:15.042Z"
   },
   {
    "duration": 16,
    "start_time": "2022-03-20T16:35:15.066Z"
   },
   {
    "duration": 15,
    "start_time": "2022-03-20T16:35:15.084Z"
   },
   {
    "duration": 8,
    "start_time": "2022-03-20T16:35:15.101Z"
   },
   {
    "duration": 37,
    "start_time": "2022-03-20T16:35:15.111Z"
   },
   {
    "duration": 23,
    "start_time": "2022-03-20T16:35:15.150Z"
   },
   {
    "duration": 8,
    "start_time": "2022-03-20T16:35:15.175Z"
   },
   {
    "duration": 19,
    "start_time": "2022-03-20T16:35:15.186Z"
   },
   {
    "duration": 40,
    "start_time": "2022-03-20T16:35:15.207Z"
   },
   {
    "duration": 5,
    "start_time": "2022-03-20T16:35:15.248Z"
   },
   {
    "duration": 9,
    "start_time": "2022-03-20T16:35:15.254Z"
   },
   {
    "duration": 16,
    "start_time": "2022-03-20T16:35:15.265Z"
   },
   {
    "duration": 15,
    "start_time": "2022-03-20T16:35:15.282Z"
   },
   {
    "duration": 56,
    "start_time": "2022-03-20T16:35:15.298Z"
   },
   {
    "duration": 14,
    "start_time": "2022-03-20T16:35:15.356Z"
   },
   {
    "duration": 7,
    "start_time": "2022-03-20T16:35:15.372Z"
   },
   {
    "duration": 27,
    "start_time": "2022-03-20T16:35:15.381Z"
   },
   {
    "duration": 35,
    "start_time": "2022-03-20T16:35:15.410Z"
   },
   {
    "duration": 10,
    "start_time": "2022-03-20T16:35:15.446Z"
   },
   {
    "duration": 10,
    "start_time": "2022-03-20T16:35:15.457Z"
   },
   {
    "duration": 5,
    "start_time": "2022-03-20T16:35:15.469Z"
   },
   {
    "duration": 6,
    "start_time": "2022-03-20T16:35:15.476Z"
   },
   {
    "duration": 17,
    "start_time": "2022-03-20T16:35:15.483Z"
   },
   {
    "duration": 55,
    "start_time": "2022-03-20T16:35:15.502Z"
   },
   {
    "duration": 13,
    "start_time": "2022-03-20T16:35:15.559Z"
   },
   {
    "duration": 3,
    "start_time": "2022-03-20T16:35:15.576Z"
   },
   {
    "duration": 23,
    "start_time": "2022-03-20T16:35:15.581Z"
   },
   {
    "duration": 4,
    "start_time": "2022-03-20T16:35:15.606Z"
   },
   {
    "duration": 22,
    "start_time": "2022-03-20T16:35:15.638Z"
   },
   {
    "duration": 19,
    "start_time": "2022-03-20T16:35:15.662Z"
   },
   {
    "duration": 11,
    "start_time": "2022-03-20T16:35:15.683Z"
   },
   {
    "duration": 51,
    "start_time": "2022-03-20T16:35:15.696Z"
   },
   {
    "duration": 9,
    "start_time": "2022-03-20T16:35:15.749Z"
   },
   {
    "duration": 10,
    "start_time": "2022-03-20T16:58:40.100Z"
   },
   {
    "duration": 12,
    "start_time": "2022-03-20T16:59:27.042Z"
   },
   {
    "duration": 378,
    "start_time": "2022-03-20T16:59:35.387Z"
   },
   {
    "duration": 60,
    "start_time": "2022-03-20T16:59:35.766Z"
   },
   {
    "duration": 25,
    "start_time": "2022-03-20T16:59:35.827Z"
   },
   {
    "duration": 23,
    "start_time": "2022-03-20T16:59:35.854Z"
   },
   {
    "duration": 12,
    "start_time": "2022-03-20T16:59:35.879Z"
   },
   {
    "duration": 5,
    "start_time": "2022-03-20T16:59:35.892Z"
   },
   {
    "duration": 35,
    "start_time": "2022-03-20T16:59:35.898Z"
   },
   {
    "duration": 26,
    "start_time": "2022-03-20T16:59:35.934Z"
   },
   {
    "duration": 9,
    "start_time": "2022-03-20T16:59:35.962Z"
   },
   {
    "duration": 41,
    "start_time": "2022-03-20T16:59:35.974Z"
   },
   {
    "duration": 35,
    "start_time": "2022-03-20T16:59:36.017Z"
   },
   {
    "duration": 19,
    "start_time": "2022-03-20T16:59:36.054Z"
   },
   {
    "duration": 29,
    "start_time": "2022-03-20T16:59:36.074Z"
   },
   {
    "duration": 34,
    "start_time": "2022-03-20T16:59:36.105Z"
   },
   {
    "duration": 24,
    "start_time": "2022-03-20T16:59:36.141Z"
   },
   {
    "duration": 36,
    "start_time": "2022-03-20T16:59:36.166Z"
   },
   {
    "duration": 16,
    "start_time": "2022-03-20T16:59:36.203Z"
   },
   {
    "duration": 27,
    "start_time": "2022-03-20T16:59:36.220Z"
   },
   {
    "duration": 46,
    "start_time": "2022-03-20T16:59:36.248Z"
   },
   {
    "duration": 11,
    "start_time": "2022-03-20T16:59:36.296Z"
   },
   {
    "duration": 15,
    "start_time": "2022-03-20T16:59:36.308Z"
   },
   {
    "duration": 41,
    "start_time": "2022-03-20T16:59:36.325Z"
   },
   {
    "duration": 25,
    "start_time": "2022-03-20T16:59:36.368Z"
   },
   {
    "duration": 26,
    "start_time": "2022-03-20T16:59:36.394Z"
   },
   {
    "duration": 34,
    "start_time": "2022-03-20T16:59:36.421Z"
   },
   {
    "duration": 48,
    "start_time": "2022-03-20T16:59:36.457Z"
   },
   {
    "duration": 20,
    "start_time": "2022-03-20T16:59:36.506Z"
   },
   {
    "duration": 46,
    "start_time": "2022-03-20T16:59:36.529Z"
   },
   {
    "duration": 42,
    "start_time": "2022-03-20T16:59:36.577Z"
   },
   {
    "duration": 5,
    "start_time": "2022-03-20T16:59:36.621Z"
   },
   {
    "duration": 40,
    "start_time": "2022-03-20T16:59:36.628Z"
   },
   {
    "duration": 17,
    "start_time": "2022-03-20T16:59:36.670Z"
   },
   {
    "duration": 10,
    "start_time": "2022-03-20T16:59:36.689Z"
   },
   {
    "duration": 25,
    "start_time": "2022-03-20T16:59:36.700Z"
   },
   {
    "duration": 22,
    "start_time": "2022-03-20T16:59:36.727Z"
   },
   {
    "duration": 14,
    "start_time": "2022-03-20T17:02:12.741Z"
   },
   {
    "duration": 412,
    "start_time": "2022-03-20T17:05:14.953Z"
   },
   {
    "duration": 89,
    "start_time": "2022-03-20T17:05:15.378Z"
   },
   {
    "duration": 23,
    "start_time": "2022-03-20T17:05:15.468Z"
   },
   {
    "duration": 17,
    "start_time": "2022-03-20T17:05:15.493Z"
   },
   {
    "duration": 31,
    "start_time": "2022-03-20T17:05:15.512Z"
   },
   {
    "duration": 5,
    "start_time": "2022-03-20T17:05:15.545Z"
   },
   {
    "duration": 29,
    "start_time": "2022-03-20T17:05:15.551Z"
   },
   {
    "duration": 37,
    "start_time": "2022-03-20T17:05:15.582Z"
   },
   {
    "duration": 15,
    "start_time": "2022-03-20T17:05:15.620Z"
   },
   {
    "duration": 34,
    "start_time": "2022-03-20T17:05:15.637Z"
   },
   {
    "duration": 31,
    "start_time": "2022-03-20T17:05:15.673Z"
   },
   {
    "duration": 9,
    "start_time": "2022-03-20T17:05:15.706Z"
   },
   {
    "duration": 14,
    "start_time": "2022-03-20T17:05:15.716Z"
   },
   {
    "duration": 21,
    "start_time": "2022-03-20T17:05:15.731Z"
   },
   {
    "duration": 45,
    "start_time": "2022-03-20T17:05:15.754Z"
   },
   {
    "duration": 39,
    "start_time": "2022-03-20T17:05:15.801Z"
   },
   {
    "duration": 14,
    "start_time": "2022-03-20T17:05:15.842Z"
   },
   {
    "duration": 15,
    "start_time": "2022-03-20T17:05:15.857Z"
   },
   {
    "duration": 28,
    "start_time": "2022-03-20T17:05:15.873Z"
   },
   {
    "duration": 17,
    "start_time": "2022-03-20T17:05:15.903Z"
   },
   {
    "duration": 21,
    "start_time": "2022-03-20T17:05:15.922Z"
   },
   {
    "duration": 11,
    "start_time": "2022-03-20T17:05:15.945Z"
   },
   {
    "duration": 16,
    "start_time": "2022-03-20T17:05:15.957Z"
   },
   {
    "duration": 12,
    "start_time": "2022-03-20T17:05:15.974Z"
   },
   {
    "duration": 35,
    "start_time": "2022-03-20T17:05:15.988Z"
   },
   {
    "duration": 41,
    "start_time": "2022-03-20T17:05:16.025Z"
   },
   {
    "duration": 25,
    "start_time": "2022-03-20T17:05:16.068Z"
   },
   {
    "duration": 18,
    "start_time": "2022-03-20T17:05:16.097Z"
   },
   {
    "duration": 31,
    "start_time": "2022-03-20T17:05:16.118Z"
   },
   {
    "duration": 26,
    "start_time": "2022-03-20T17:05:16.151Z"
   },
   {
    "duration": 43,
    "start_time": "2022-03-20T17:05:16.179Z"
   },
   {
    "duration": 22,
    "start_time": "2022-03-20T17:05:16.224Z"
   },
   {
    "duration": 11,
    "start_time": "2022-03-20T17:05:16.247Z"
   },
   {
    "duration": 25,
    "start_time": "2022-03-20T17:05:16.260Z"
   },
   {
    "duration": 14,
    "start_time": "2022-03-20T17:05:16.287Z"
   },
   {
    "duration": 2132,
    "start_time": "2022-03-20T17:08:37.760Z"
   },
   {
    "duration": 382,
    "start_time": "2022-03-20T17:09:35.465Z"
   },
   {
    "duration": 60,
    "start_time": "2022-03-20T17:09:35.849Z"
   },
   {
    "duration": 29,
    "start_time": "2022-03-20T17:09:35.911Z"
   },
   {
    "duration": 15,
    "start_time": "2022-03-20T17:09:35.942Z"
   },
   {
    "duration": 14,
    "start_time": "2022-03-20T17:09:35.959Z"
   },
   {
    "duration": 5,
    "start_time": "2022-03-20T17:09:35.975Z"
   },
   {
    "duration": 18,
    "start_time": "2022-03-20T17:09:35.982Z"
   },
   {
    "duration": 49,
    "start_time": "2022-03-20T17:09:36.002Z"
   },
   {
    "duration": 8,
    "start_time": "2022-03-20T17:09:36.053Z"
   },
   {
    "duration": 16,
    "start_time": "2022-03-20T17:09:36.065Z"
   },
   {
    "duration": 63,
    "start_time": "2022-03-20T17:09:36.083Z"
   },
   {
    "duration": 5,
    "start_time": "2022-03-20T17:09:36.148Z"
   },
   {
    "duration": 11,
    "start_time": "2022-03-20T17:09:36.155Z"
   },
   {
    "duration": 23,
    "start_time": "2022-03-20T17:09:36.168Z"
   },
   {
    "duration": 16,
    "start_time": "2022-03-20T17:09:36.193Z"
   },
   {
    "duration": 55,
    "start_time": "2022-03-20T17:09:36.211Z"
   },
   {
    "duration": 14,
    "start_time": "2022-03-20T17:09:36.268Z"
   },
   {
    "duration": 10,
    "start_time": "2022-03-20T17:09:36.284Z"
   },
   {
    "duration": 48,
    "start_time": "2022-03-20T17:09:36.296Z"
   },
   {
    "duration": 10,
    "start_time": "2022-03-20T17:09:36.345Z"
   },
   {
    "duration": 8,
    "start_time": "2022-03-20T17:09:36.357Z"
   },
   {
    "duration": 9,
    "start_time": "2022-03-20T17:09:36.367Z"
   },
   {
    "duration": 7,
    "start_time": "2022-03-20T17:09:36.378Z"
   },
   {
    "duration": 9,
    "start_time": "2022-03-20T17:09:36.387Z"
   },
   {
    "duration": 48,
    "start_time": "2022-03-20T17:09:36.398Z"
   },
   {
    "duration": 25,
    "start_time": "2022-03-20T17:09:36.449Z"
   },
   {
    "duration": 14,
    "start_time": "2022-03-20T17:09:36.476Z"
   },
   {
    "duration": 4,
    "start_time": "2022-03-20T17:09:36.494Z"
   },
   {
    "duration": 48,
    "start_time": "2022-03-20T17:09:36.500Z"
   },
   {
    "duration": 6,
    "start_time": "2022-03-20T17:09:36.550Z"
   },
   {
    "duration": 26,
    "start_time": "2022-03-20T17:09:36.558Z"
   },
   {
    "duration": 20,
    "start_time": "2022-03-20T17:09:36.586Z"
   },
   {
    "duration": 39,
    "start_time": "2022-03-20T17:09:36.608Z"
   },
   {
    "duration": 17,
    "start_time": "2022-03-20T17:09:36.649Z"
   },
   {
    "duration": 14,
    "start_time": "2022-03-20T17:09:36.668Z"
   },
   {
    "duration": 438,
    "start_time": "2022-03-20T17:10:30.122Z"
   },
   {
    "duration": 68,
    "start_time": "2022-03-20T17:10:30.562Z"
   },
   {
    "duration": 20,
    "start_time": "2022-03-20T17:10:30.632Z"
   },
   {
    "duration": 24,
    "start_time": "2022-03-20T17:10:30.655Z"
   },
   {
    "duration": 16,
    "start_time": "2022-03-20T17:10:30.682Z"
   },
   {
    "duration": 9,
    "start_time": "2022-03-20T17:10:30.700Z"
   },
   {
    "duration": 36,
    "start_time": "2022-03-20T17:10:30.737Z"
   },
   {
    "duration": 46,
    "start_time": "2022-03-20T17:10:30.774Z"
   },
   {
    "duration": 7,
    "start_time": "2022-03-20T17:10:30.822Z"
   },
   {
    "duration": 36,
    "start_time": "2022-03-20T17:10:30.832Z"
   },
   {
    "duration": 32,
    "start_time": "2022-03-20T17:10:30.870Z"
   },
   {
    "duration": 4,
    "start_time": "2022-03-20T17:10:30.904Z"
   },
   {
    "duration": 18,
    "start_time": "2022-03-20T17:10:30.910Z"
   },
   {
    "duration": 31,
    "start_time": "2022-03-20T17:10:30.930Z"
   },
   {
    "duration": 21,
    "start_time": "2022-03-20T17:10:30.963Z"
   },
   {
    "duration": 57,
    "start_time": "2022-03-20T17:10:30.985Z"
   },
   {
    "duration": 30,
    "start_time": "2022-03-20T17:10:31.044Z"
   },
   {
    "duration": 8,
    "start_time": "2022-03-20T17:10:31.075Z"
   },
   {
    "duration": 36,
    "start_time": "2022-03-20T17:10:31.085Z"
   },
   {
    "duration": 10,
    "start_time": "2022-03-20T17:10:31.123Z"
   },
   {
    "duration": 12,
    "start_time": "2022-03-20T17:10:31.137Z"
   },
   {
    "duration": 10,
    "start_time": "2022-03-20T17:10:31.151Z"
   },
   {
    "duration": 25,
    "start_time": "2022-03-20T17:10:31.163Z"
   },
   {
    "duration": 45,
    "start_time": "2022-03-20T17:10:31.191Z"
   },
   {
    "duration": 25,
    "start_time": "2022-03-20T17:10:31.237Z"
   },
   {
    "duration": 33,
    "start_time": "2022-03-20T17:10:31.263Z"
   },
   {
    "duration": 20,
    "start_time": "2022-03-20T17:10:31.297Z"
   },
   {
    "duration": 27,
    "start_time": "2022-03-20T17:10:31.321Z"
   },
   {
    "duration": 34,
    "start_time": "2022-03-20T17:10:31.350Z"
   },
   {
    "duration": 5,
    "start_time": "2022-03-20T17:10:31.387Z"
   },
   {
    "duration": 54,
    "start_time": "2022-03-20T17:10:31.394Z"
   },
   {
    "duration": 23,
    "start_time": "2022-03-20T17:10:31.450Z"
   },
   {
    "duration": 12,
    "start_time": "2022-03-20T17:10:31.475Z"
   },
   {
    "duration": 29,
    "start_time": "2022-03-20T17:10:31.488Z"
   },
   {
    "duration": 27,
    "start_time": "2022-03-20T17:10:31.519Z"
   },
   {
    "duration": 475,
    "start_time": "2022-03-20T17:11:25.179Z"
   },
   {
    "duration": 61,
    "start_time": "2022-03-20T17:11:25.656Z"
   },
   {
    "duration": 30,
    "start_time": "2022-03-20T17:11:25.719Z"
   },
   {
    "duration": 15,
    "start_time": "2022-03-20T17:11:25.751Z"
   },
   {
    "duration": 15,
    "start_time": "2022-03-20T17:11:25.768Z"
   },
   {
    "duration": 4,
    "start_time": "2022-03-20T17:11:25.786Z"
   },
   {
    "duration": 47,
    "start_time": "2022-03-20T17:11:25.792Z"
   },
   {
    "duration": 18,
    "start_time": "2022-03-20T17:11:25.841Z"
   },
   {
    "duration": 7,
    "start_time": "2022-03-20T17:11:25.861Z"
   },
   {
    "duration": 16,
    "start_time": "2022-03-20T17:11:25.871Z"
   },
   {
    "duration": 50,
    "start_time": "2022-03-20T17:11:25.889Z"
   },
   {
    "duration": 5,
    "start_time": "2022-03-20T17:11:25.941Z"
   },
   {
    "duration": 9,
    "start_time": "2022-03-20T17:11:25.947Z"
   },
   {
    "duration": 16,
    "start_time": "2022-03-20T17:11:25.958Z"
   },
   {
    "duration": 16,
    "start_time": "2022-03-20T17:11:25.976Z"
   },
   {
    "duration": 64,
    "start_time": "2022-03-20T17:11:25.993Z"
   },
   {
    "duration": 14,
    "start_time": "2022-03-20T17:11:26.060Z"
   },
   {
    "duration": 12,
    "start_time": "2022-03-20T17:11:26.077Z"
   },
   {
    "duration": 28,
    "start_time": "2022-03-20T17:11:26.090Z"
   },
   {
    "duration": 25,
    "start_time": "2022-03-20T17:11:26.120Z"
   },
   {
    "duration": 11,
    "start_time": "2022-03-20T17:11:26.147Z"
   },
   {
    "duration": 12,
    "start_time": "2022-03-20T17:11:26.160Z"
   },
   {
    "duration": 7,
    "start_time": "2022-03-20T17:11:26.174Z"
   },
   {
    "duration": 7,
    "start_time": "2022-03-20T17:11:26.182Z"
   },
   {
    "duration": 17,
    "start_time": "2022-03-20T17:11:26.190Z"
   },
   {
    "duration": 49,
    "start_time": "2022-03-20T17:11:26.209Z"
   },
   {
    "duration": 14,
    "start_time": "2022-03-20T17:11:26.259Z"
   },
   {
    "duration": 3,
    "start_time": "2022-03-20T17:11:26.277Z"
   },
   {
    "duration": 19,
    "start_time": "2022-03-20T17:11:26.282Z"
   },
   {
    "duration": 35,
    "start_time": "2022-03-20T17:11:26.303Z"
   },
   {
    "duration": 26,
    "start_time": "2022-03-20T17:11:26.340Z"
   },
   {
    "duration": 20,
    "start_time": "2022-03-20T17:11:26.368Z"
   },
   {
    "duration": 10,
    "start_time": "2022-03-20T17:11:26.390Z"
   },
   {
    "duration": 42,
    "start_time": "2022-03-20T17:11:26.402Z"
   },
   {
    "duration": 15,
    "start_time": "2022-03-20T17:11:26.446Z"
   },
   {
    "duration": 391,
    "start_time": "2022-03-20T17:11:49.649Z"
   },
   {
    "duration": 62,
    "start_time": "2022-03-20T17:11:50.042Z"
   },
   {
    "duration": 20,
    "start_time": "2022-03-20T17:11:50.106Z"
   },
   {
    "duration": 16,
    "start_time": "2022-03-20T17:11:50.138Z"
   },
   {
    "duration": 13,
    "start_time": "2022-03-20T17:11:50.156Z"
   },
   {
    "duration": 4,
    "start_time": "2022-03-20T17:11:50.171Z"
   },
   {
    "duration": 14,
    "start_time": "2022-03-20T17:11:50.176Z"
   },
   {
    "duration": 45,
    "start_time": "2022-03-20T17:11:50.192Z"
   },
   {
    "duration": 8,
    "start_time": "2022-03-20T17:11:50.239Z"
   },
   {
    "duration": 15,
    "start_time": "2022-03-20T17:11:50.249Z"
   },
   {
    "duration": 24,
    "start_time": "2022-03-20T17:11:50.265Z"
   },
   {
    "duration": 5,
    "start_time": "2022-03-20T17:11:50.290Z"
   },
   {
    "duration": 43,
    "start_time": "2022-03-20T17:11:50.296Z"
   },
   {
    "duration": 14,
    "start_time": "2022-03-20T17:11:50.340Z"
   },
   {
    "duration": 16,
    "start_time": "2022-03-20T17:11:50.355Z"
   },
   {
    "duration": 29,
    "start_time": "2022-03-20T17:11:50.373Z"
   },
   {
    "duration": 43,
    "start_time": "2022-03-20T17:11:50.405Z"
   },
   {
    "duration": 9,
    "start_time": "2022-03-20T17:11:50.450Z"
   },
   {
    "duration": 25,
    "start_time": "2022-03-20T17:11:50.460Z"
   },
   {
    "duration": 18,
    "start_time": "2022-03-20T17:11:50.487Z"
   },
   {
    "duration": 7,
    "start_time": "2022-03-20T17:11:50.507Z"
   },
   {
    "duration": 29,
    "start_time": "2022-03-20T17:11:50.515Z"
   },
   {
    "duration": 4,
    "start_time": "2022-03-20T17:11:50.546Z"
   },
   {
    "duration": 6,
    "start_time": "2022-03-20T17:11:50.552Z"
   },
   {
    "duration": 20,
    "start_time": "2022-03-20T17:11:50.560Z"
   },
   {
    "duration": 23,
    "start_time": "2022-03-20T17:11:50.581Z"
   },
   {
    "duration": 44,
    "start_time": "2022-03-20T17:11:50.605Z"
   },
   {
    "duration": 6,
    "start_time": "2022-03-20T17:11:50.652Z"
   },
   {
    "duration": 20,
    "start_time": "2022-03-20T17:11:50.659Z"
   },
   {
    "duration": 4,
    "start_time": "2022-03-20T17:11:50.680Z"
   },
   {
    "duration": 25,
    "start_time": "2022-03-20T17:11:50.685Z"
   },
   {
    "duration": 40,
    "start_time": "2022-03-20T17:11:50.712Z"
   },
   {
    "duration": 11,
    "start_time": "2022-03-20T17:11:50.754Z"
   },
   {
    "duration": 28,
    "start_time": "2022-03-20T17:11:50.766Z"
   },
   {
    "duration": 12,
    "start_time": "2022-03-20T17:11:50.796Z"
   },
   {
    "duration": 18,
    "start_time": "2022-03-20T17:27:17.907Z"
   },
   {
    "duration": 20,
    "start_time": "2022-03-20T17:28:28.842Z"
   },
   {
    "duration": 22,
    "start_time": "2022-03-20T17:32:29.145Z"
   },
   {
    "duration": 2045,
    "start_time": "2022-03-20T17:37:09.797Z"
   },
   {
    "duration": 394,
    "start_time": "2022-03-20T17:37:22.555Z"
   },
   {
    "duration": 67,
    "start_time": "2022-03-20T17:37:22.951Z"
   },
   {
    "duration": 20,
    "start_time": "2022-03-20T17:37:23.020Z"
   },
   {
    "duration": 35,
    "start_time": "2022-03-20T17:37:23.042Z"
   },
   {
    "duration": 30,
    "start_time": "2022-03-20T17:37:23.079Z"
   },
   {
    "duration": 30,
    "start_time": "2022-03-20T17:37:23.110Z"
   },
   {
    "duration": 39,
    "start_time": "2022-03-20T17:37:23.142Z"
   },
   {
    "duration": 42,
    "start_time": "2022-03-20T17:37:23.183Z"
   },
   {
    "duration": 39,
    "start_time": "2022-03-20T17:37:23.227Z"
   },
   {
    "duration": 28,
    "start_time": "2022-03-20T17:37:23.270Z"
   },
   {
    "duration": 47,
    "start_time": "2022-03-20T17:37:23.299Z"
   },
   {
    "duration": 23,
    "start_time": "2022-03-20T17:37:23.348Z"
   },
   {
    "duration": 27,
    "start_time": "2022-03-20T17:37:23.373Z"
   },
   {
    "duration": 52,
    "start_time": "2022-03-20T17:37:23.402Z"
   },
   {
    "duration": 29,
    "start_time": "2022-03-20T17:37:23.456Z"
   },
   {
    "duration": 45,
    "start_time": "2022-03-20T17:37:23.488Z"
   },
   {
    "duration": 28,
    "start_time": "2022-03-20T17:37:23.535Z"
   },
   {
    "duration": 25,
    "start_time": "2022-03-20T17:37:23.565Z"
   },
   {
    "duration": 62,
    "start_time": "2022-03-20T17:37:23.591Z"
   },
   {
    "duration": 29,
    "start_time": "2022-03-20T17:37:23.654Z"
   },
   {
    "duration": 8,
    "start_time": "2022-03-20T17:37:23.685Z"
   },
   {
    "duration": 31,
    "start_time": "2022-03-20T17:37:23.695Z"
   },
   {
    "duration": 20,
    "start_time": "2022-03-20T17:37:23.727Z"
   },
   {
    "duration": 22,
    "start_time": "2022-03-20T17:37:23.749Z"
   },
   {
    "duration": 28,
    "start_time": "2022-03-20T17:37:23.773Z"
   },
   {
    "duration": 26,
    "start_time": "2022-03-20T17:37:23.803Z"
   },
   {
    "duration": 23,
    "start_time": "2022-03-20T17:37:23.831Z"
   },
   {
    "duration": 26,
    "start_time": "2022-03-20T17:37:23.857Z"
   },
   {
    "duration": 72,
    "start_time": "2022-03-20T17:37:23.885Z"
   },
   {
    "duration": 46,
    "start_time": "2022-03-20T17:37:23.959Z"
   },
   {
    "duration": 29,
    "start_time": "2022-03-20T17:37:24.006Z"
   },
   {
    "duration": 22,
    "start_time": "2022-03-20T17:37:24.037Z"
   },
   {
    "duration": 21,
    "start_time": "2022-03-20T17:37:24.061Z"
   },
   {
    "duration": 29,
    "start_time": "2022-03-20T17:37:24.084Z"
   },
   {
    "duration": 13,
    "start_time": "2022-03-20T17:37:24.115Z"
   },
   {
    "duration": 46,
    "start_time": "2022-03-20T17:37:24.130Z"
   },
   {
    "duration": 22,
    "start_time": "2022-03-20T17:37:24.178Z"
   },
   {
    "duration": 440,
    "start_time": "2022-03-20T17:38:00.711Z"
   },
   {
    "duration": 62,
    "start_time": "2022-03-20T17:38:01.153Z"
   },
   {
    "duration": 27,
    "start_time": "2022-03-20T17:38:01.217Z"
   },
   {
    "duration": 19,
    "start_time": "2022-03-20T17:38:01.246Z"
   },
   {
    "duration": 11,
    "start_time": "2022-03-20T17:38:01.267Z"
   },
   {
    "duration": 5,
    "start_time": "2022-03-20T17:38:01.280Z"
   },
   {
    "duration": 24,
    "start_time": "2022-03-20T17:38:01.287Z"
   },
   {
    "duration": 31,
    "start_time": "2022-03-20T17:38:01.313Z"
   },
   {
    "duration": 9,
    "start_time": "2022-03-20T17:38:01.346Z"
   },
   {
    "duration": 37,
    "start_time": "2022-03-20T17:38:01.358Z"
   },
   {
    "duration": 28,
    "start_time": "2022-03-20T17:38:01.397Z"
   },
   {
    "duration": 5,
    "start_time": "2022-03-20T17:38:01.427Z"
   },
   {
    "duration": 23,
    "start_time": "2022-03-20T17:38:01.438Z"
   },
   {
    "duration": 36,
    "start_time": "2022-03-20T17:38:01.462Z"
   },
   {
    "duration": 35,
    "start_time": "2022-03-20T17:38:01.500Z"
   },
   {
    "duration": 25,
    "start_time": "2022-03-20T17:38:01.537Z"
   },
   {
    "duration": 14,
    "start_time": "2022-03-20T17:38:01.564Z"
   },
   {
    "duration": 29,
    "start_time": "2022-03-20T17:38:01.580Z"
   },
   {
    "duration": 52,
    "start_time": "2022-03-20T17:38:01.611Z"
   },
   {
    "duration": 30,
    "start_time": "2022-03-20T17:38:01.665Z"
   },
   {
    "duration": 14,
    "start_time": "2022-03-20T17:38:01.697Z"
   },
   {
    "duration": 31,
    "start_time": "2022-03-20T17:38:01.713Z"
   },
   {
    "duration": 28,
    "start_time": "2022-03-20T17:38:01.746Z"
   },
   {
    "duration": 16,
    "start_time": "2022-03-20T17:38:01.776Z"
   },
   {
    "duration": 32,
    "start_time": "2022-03-20T17:38:01.794Z"
   },
   {
    "duration": 53,
    "start_time": "2022-03-20T17:38:01.828Z"
   },
   {
    "duration": 30,
    "start_time": "2022-03-20T17:38:01.883Z"
   },
   {
    "duration": 30,
    "start_time": "2022-03-20T17:38:01.917Z"
   },
   {
    "duration": 31,
    "start_time": "2022-03-20T17:38:01.949Z"
   },
   {
    "duration": 6,
    "start_time": "2022-03-20T17:38:01.983Z"
   },
   {
    "duration": 26,
    "start_time": "2022-03-20T17:38:01.990Z"
   },
   {
    "duration": 19,
    "start_time": "2022-03-20T17:38:02.019Z"
   },
   {
    "duration": 40,
    "start_time": "2022-03-20T17:38:02.040Z"
   },
   {
    "duration": 34,
    "start_time": "2022-03-20T17:38:02.082Z"
   },
   {
    "duration": 15,
    "start_time": "2022-03-20T17:38:02.118Z"
   },
   {
    "duration": 28,
    "start_time": "2022-03-20T17:38:02.135Z"
   },
   {
    "duration": 22,
    "start_time": "2022-03-20T17:38:02.165Z"
   },
   {
    "duration": 371,
    "start_time": "2022-03-20T17:39:00.990Z"
   },
   {
    "duration": 64,
    "start_time": "2022-03-20T17:39:01.363Z"
   },
   {
    "duration": 24,
    "start_time": "2022-03-20T17:39:01.428Z"
   },
   {
    "duration": 31,
    "start_time": "2022-03-20T17:39:01.454Z"
   },
   {
    "duration": 24,
    "start_time": "2022-03-20T17:39:01.488Z"
   },
   {
    "duration": 7,
    "start_time": "2022-03-20T17:39:01.514Z"
   },
   {
    "duration": 32,
    "start_time": "2022-03-20T17:39:01.523Z"
   },
   {
    "duration": 21,
    "start_time": "2022-03-20T17:39:01.557Z"
   },
   {
    "duration": 17,
    "start_time": "2022-03-20T17:39:01.580Z"
   },
   {
    "duration": 30,
    "start_time": "2022-03-20T17:39:01.598Z"
   },
   {
    "duration": 32,
    "start_time": "2022-03-20T17:39:01.630Z"
   },
   {
    "duration": 22,
    "start_time": "2022-03-20T17:39:01.664Z"
   },
   {
    "duration": 40,
    "start_time": "2022-03-20T17:39:01.688Z"
   },
   {
    "duration": 52,
    "start_time": "2022-03-20T17:39:01.731Z"
   },
   {
    "duration": 24,
    "start_time": "2022-03-20T17:39:01.785Z"
   },
   {
    "duration": 32,
    "start_time": "2022-03-20T17:39:01.811Z"
   },
   {
    "duration": 14,
    "start_time": "2022-03-20T17:39:01.845Z"
   },
   {
    "duration": 9,
    "start_time": "2022-03-20T17:39:01.861Z"
   },
   {
    "duration": 48,
    "start_time": "2022-03-20T17:39:01.872Z"
   },
   {
    "duration": 19,
    "start_time": "2022-03-20T17:39:01.922Z"
   },
   {
    "duration": 13,
    "start_time": "2022-03-20T17:39:01.943Z"
   },
   {
    "duration": 25,
    "start_time": "2022-03-20T17:39:01.958Z"
   },
   {
    "duration": 23,
    "start_time": "2022-03-20T17:39:01.984Z"
   },
   {
    "duration": 18,
    "start_time": "2022-03-20T17:39:02.009Z"
   },
   {
    "duration": 29,
    "start_time": "2022-03-20T17:39:02.029Z"
   },
   {
    "duration": 35,
    "start_time": "2022-03-20T17:39:02.060Z"
   },
   {
    "duration": 13,
    "start_time": "2022-03-20T17:39:02.097Z"
   },
   {
    "duration": 18,
    "start_time": "2022-03-20T17:39:02.112Z"
   },
   {
    "duration": 79,
    "start_time": "2022-03-20T17:39:02.131Z"
   },
   {
    "duration": 11,
    "start_time": "2022-03-20T17:39:02.212Z"
   },
   {
    "duration": 36,
    "start_time": "2022-03-20T17:39:02.224Z"
   },
   {
    "duration": 18,
    "start_time": "2022-03-20T17:39:02.262Z"
   },
   {
    "duration": 12,
    "start_time": "2022-03-20T17:39:02.282Z"
   },
   {
    "duration": 22,
    "start_time": "2022-03-20T17:39:02.295Z"
   },
   {
    "duration": 26,
    "start_time": "2022-03-20T17:39:02.319Z"
   },
   {
    "duration": 19,
    "start_time": "2022-03-20T17:39:02.346Z"
   },
   {
    "duration": 21,
    "start_time": "2022-03-20T17:39:02.366Z"
   },
   {
    "duration": 891,
    "start_time": "2022-03-20T18:15:32.801Z"
   },
   {
    "duration": 91,
    "start_time": "2022-03-20T18:17:08.594Z"
   },
   {
    "duration": 15,
    "start_time": "2022-03-20T18:18:12.910Z"
   },
   {
    "duration": 1885,
    "start_time": "2022-03-20T18:18:49.586Z"
   },
   {
    "duration": 11,
    "start_time": "2022-03-20T18:28:51.081Z"
   },
   {
    "duration": 14,
    "start_time": "2022-03-20T18:30:38.518Z"
   },
   {
    "duration": 13,
    "start_time": "2022-03-20T18:31:54.576Z"
   },
   {
    "duration": 5,
    "start_time": "2022-03-20T18:35:13.815Z"
   },
   {
    "duration": 139,
    "start_time": "2022-03-20T18:46:16.495Z"
   },
   {
    "duration": 24,
    "start_time": "2022-03-20T18:50:56.275Z"
   },
   {
    "duration": 14,
    "start_time": "2022-03-20T18:51:29.150Z"
   },
   {
    "duration": 116,
    "start_time": "2022-03-20T18:51:34.733Z"
   },
   {
    "duration": 129,
    "start_time": "2022-03-20T19:47:25.327Z"
   },
   {
    "duration": 128,
    "start_time": "2022-03-20T19:47:57.535Z"
   },
   {
    "duration": 138,
    "start_time": "2022-03-20T19:48:08.266Z"
   },
   {
    "duration": 22,
    "start_time": "2022-03-20T19:52:01.838Z"
   },
   {
    "duration": 21,
    "start_time": "2022-03-20T19:52:09.114Z"
   },
   {
    "duration": 131,
    "start_time": "2022-03-20T19:52:13.208Z"
   },
   {
    "duration": 21,
    "start_time": "2022-03-20T19:52:20.241Z"
   },
   {
    "duration": 21,
    "start_time": "2022-03-20T19:53:23.656Z"
   },
   {
    "duration": 23,
    "start_time": "2022-03-20T19:53:27.512Z"
   },
   {
    "duration": 22,
    "start_time": "2022-03-20T19:53:36.209Z"
   },
   {
    "duration": 20,
    "start_time": "2022-03-20T19:53:41.805Z"
   },
   {
    "duration": 8,
    "start_time": "2022-03-20T19:53:49.236Z"
   },
   {
    "duration": 9,
    "start_time": "2022-03-20T19:54:02.576Z"
   },
   {
    "duration": 9,
    "start_time": "2022-03-20T19:54:05.819Z"
   },
   {
    "duration": 10,
    "start_time": "2022-03-20T19:54:09.510Z"
   },
   {
    "duration": 128,
    "start_time": "2022-03-20T19:54:17.366Z"
   },
   {
    "duration": 126,
    "start_time": "2022-03-20T19:54:24.631Z"
   },
   {
    "duration": 126,
    "start_time": "2022-03-20T19:54:33.165Z"
   },
   {
    "duration": 20,
    "start_time": "2022-03-20T19:54:41.798Z"
   },
   {
    "duration": 192,
    "start_time": "2022-03-20T19:54:48.570Z"
   },
   {
    "duration": 20,
    "start_time": "2022-03-20T19:55:01.672Z"
   },
   {
    "duration": 142,
    "start_time": "2022-03-20T19:55:06.440Z"
   },
   {
    "duration": 21,
    "start_time": "2022-03-20T19:55:14.575Z"
   },
   {
    "duration": 137,
    "start_time": "2022-03-20T19:55:22.422Z"
   },
   {
    "duration": 23,
    "start_time": "2022-03-20T19:55:40.018Z"
   },
   {
    "duration": 127,
    "start_time": "2022-03-20T19:55:46.279Z"
   },
   {
    "duration": 634,
    "start_time": "2022-03-20T19:56:29.475Z"
   },
   {
    "duration": 127,
    "start_time": "2022-03-20T19:58:11.082Z"
   },
   {
    "duration": 9,
    "start_time": "2022-03-20T20:00:23.132Z"
   },
   {
    "duration": 14,
    "start_time": "2022-03-20T20:00:33.075Z"
   },
   {
    "duration": 12,
    "start_time": "2022-03-20T20:02:10.920Z"
   },
   {
    "duration": 119,
    "start_time": "2022-03-20T20:03:42.020Z"
   },
   {
    "duration": 115,
    "start_time": "2022-03-20T20:04:13.323Z"
   },
   {
    "duration": 23,
    "start_time": "2022-03-20T20:04:25.588Z"
   },
   {
    "duration": 128,
    "start_time": "2022-03-20T20:04:52.198Z"
   },
   {
    "duration": 14,
    "start_time": "2022-03-20T20:05:10.407Z"
   },
   {
    "duration": 28,
    "start_time": "2022-03-20T20:05:49.138Z"
   },
   {
    "duration": 20,
    "start_time": "2022-03-20T20:06:17.805Z"
   },
   {
    "duration": 12,
    "start_time": "2022-03-20T20:06:26.493Z"
   },
   {
    "duration": 19,
    "start_time": "2022-03-20T20:06:47.594Z"
   },
   {
    "duration": 2096,
    "start_time": "2022-03-20T20:09:09.058Z"
   },
   {
    "duration": 436,
    "start_time": "2022-03-20T20:10:01.745Z"
   },
   {
    "duration": 70,
    "start_time": "2022-03-20T20:10:02.183Z"
   },
   {
    "duration": 21,
    "start_time": "2022-03-20T20:10:02.259Z"
   },
   {
    "duration": 17,
    "start_time": "2022-03-20T20:10:02.282Z"
   },
   {
    "duration": 40,
    "start_time": "2022-03-20T20:10:02.300Z"
   },
   {
    "duration": 14,
    "start_time": "2022-03-20T20:10:02.342Z"
   },
   {
    "duration": 18,
    "start_time": "2022-03-20T20:10:02.357Z"
   },
   {
    "duration": 17,
    "start_time": "2022-03-20T20:10:02.377Z"
   },
   {
    "duration": 7,
    "start_time": "2022-03-20T20:10:02.397Z"
   },
   {
    "duration": 42,
    "start_time": "2022-03-20T20:10:02.406Z"
   },
   {
    "duration": 32,
    "start_time": "2022-03-20T20:10:02.451Z"
   },
   {
    "duration": 5,
    "start_time": "2022-03-20T20:10:02.484Z"
   },
   {
    "duration": 16,
    "start_time": "2022-03-20T20:10:02.491Z"
   },
   {
    "duration": 21,
    "start_time": "2022-03-20T20:10:02.509Z"
   },
   {
    "duration": 17,
    "start_time": "2022-03-20T20:10:02.538Z"
   },
   {
    "duration": 29,
    "start_time": "2022-03-20T20:10:02.556Z"
   },
   {
    "duration": 14,
    "start_time": "2022-03-20T20:10:02.587Z"
   },
   {
    "duration": 36,
    "start_time": "2022-03-20T20:10:02.603Z"
   },
   {
    "duration": 33,
    "start_time": "2022-03-20T20:10:02.642Z"
   },
   {
    "duration": 20,
    "start_time": "2022-03-20T20:10:02.678Z"
   },
   {
    "duration": 8,
    "start_time": "2022-03-20T20:10:02.700Z"
   },
   {
    "duration": 31,
    "start_time": "2022-03-20T20:10:02.711Z"
   },
   {
    "duration": 14,
    "start_time": "2022-03-20T20:10:02.744Z"
   },
   {
    "duration": 8,
    "start_time": "2022-03-20T20:10:02.760Z"
   },
   {
    "duration": 24,
    "start_time": "2022-03-20T20:10:02.770Z"
   },
   {
    "duration": 26,
    "start_time": "2022-03-20T20:10:02.796Z"
   },
   {
    "duration": 30,
    "start_time": "2022-03-20T20:10:02.826Z"
   },
   {
    "duration": 10,
    "start_time": "2022-03-20T20:10:02.858Z"
   },
   {
    "duration": 23,
    "start_time": "2022-03-20T20:10:02.869Z"
   },
   {
    "duration": 8,
    "start_time": "2022-03-20T20:10:02.894Z"
   },
   {
    "duration": 35,
    "start_time": "2022-03-20T20:10:02.903Z"
   },
   {
    "duration": 19,
    "start_time": "2022-03-20T20:10:02.940Z"
   },
   {
    "duration": 10,
    "start_time": "2022-03-20T20:10:02.961Z"
   },
   {
    "duration": 884,
    "start_time": "2022-03-20T20:10:02.973Z"
   },
   {
    "duration": 0,
    "start_time": "2022-03-20T20:10:03.859Z"
   },
   {
    "duration": 0,
    "start_time": "2022-03-20T20:10:03.860Z"
   },
   {
    "duration": 0,
    "start_time": "2022-03-20T20:10:03.862Z"
   },
   {
    "duration": 0,
    "start_time": "2022-03-20T20:10:03.863Z"
   },
   {
    "duration": 0,
    "start_time": "2022-03-20T20:10:03.864Z"
   },
   {
    "duration": 0,
    "start_time": "2022-03-20T20:10:03.865Z"
   },
   {
    "duration": 20,
    "start_time": "2022-03-20T20:12:10.267Z"
   },
   {
    "duration": 19,
    "start_time": "2022-03-20T20:12:33.801Z"
   },
   {
    "duration": 20,
    "start_time": "2022-03-20T20:13:03.302Z"
   },
   {
    "duration": 19,
    "start_time": "2022-03-20T20:13:10.756Z"
   },
   {
    "duration": 20,
    "start_time": "2022-03-20T20:13:23.785Z"
   },
   {
    "duration": 21,
    "start_time": "2022-03-20T20:13:31.477Z"
   },
   {
    "duration": 11,
    "start_time": "2022-03-20T20:13:44.438Z"
   },
   {
    "duration": 130,
    "start_time": "2022-03-20T20:13:55.683Z"
   },
   {
    "duration": 17,
    "start_time": "2022-03-20T20:14:53.448Z"
   },
   {
    "duration": 18,
    "start_time": "2022-03-20T20:14:57.894Z"
   },
   {
    "duration": 13,
    "start_time": "2022-03-20T20:15:03.780Z"
   },
   {
    "duration": 128,
    "start_time": "2022-03-20T20:15:37.157Z"
   },
   {
    "duration": 21,
    "start_time": "2022-03-20T20:17:08.875Z"
   },
   {
    "duration": 122,
    "start_time": "2022-03-20T20:17:26.025Z"
   },
   {
    "duration": 22,
    "start_time": "2022-03-20T20:24:14.419Z"
   },
   {
    "duration": 19,
    "start_time": "2022-03-20T20:25:36.652Z"
   },
   {
    "duration": 19,
    "start_time": "2022-03-20T20:26:24.965Z"
   },
   {
    "duration": 18,
    "start_time": "2022-03-20T20:26:47.082Z"
   },
   {
    "duration": 20,
    "start_time": "2022-03-20T20:27:22.120Z"
   },
   {
    "duration": 19,
    "start_time": "2022-03-20T20:27:26.685Z"
   },
   {
    "duration": 19,
    "start_time": "2022-03-20T20:27:33.823Z"
   },
   {
    "duration": 110,
    "start_time": "2022-03-20T20:28:07.759Z"
   },
   {
    "duration": 416,
    "start_time": "2022-03-20T20:44:05.741Z"
   },
   {
    "duration": 60,
    "start_time": "2022-03-20T20:44:06.158Z"
   },
   {
    "duration": 25,
    "start_time": "2022-03-20T20:44:06.220Z"
   },
   {
    "duration": 16,
    "start_time": "2022-03-20T20:44:06.248Z"
   },
   {
    "duration": 14,
    "start_time": "2022-03-20T20:44:06.266Z"
   },
   {
    "duration": 12,
    "start_time": "2022-03-20T20:44:06.282Z"
   },
   {
    "duration": 17,
    "start_time": "2022-03-20T20:44:06.295Z"
   },
   {
    "duration": 39,
    "start_time": "2022-03-20T20:44:06.313Z"
   },
   {
    "duration": 8,
    "start_time": "2022-03-20T20:44:06.353Z"
   },
   {
    "duration": 13,
    "start_time": "2022-03-20T20:44:06.364Z"
   },
   {
    "duration": 24,
    "start_time": "2022-03-20T20:44:06.378Z"
   },
   {
    "duration": 34,
    "start_time": "2022-03-20T20:44:06.404Z"
   },
   {
    "duration": 7,
    "start_time": "2022-03-20T20:44:06.440Z"
   },
   {
    "duration": 14,
    "start_time": "2022-03-20T20:44:06.448Z"
   },
   {
    "duration": 15,
    "start_time": "2022-03-20T20:44:06.464Z"
   },
   {
    "duration": 26,
    "start_time": "2022-03-20T20:44:06.480Z"
   },
   {
    "duration": 13,
    "start_time": "2022-03-20T20:44:06.538Z"
   },
   {
    "duration": 12,
    "start_time": "2022-03-20T20:44:06.553Z"
   },
   {
    "duration": 24,
    "start_time": "2022-03-20T20:44:06.566Z"
   },
   {
    "duration": 22,
    "start_time": "2022-03-20T20:44:06.591Z"
   },
   {
    "duration": 29,
    "start_time": "2022-03-20T20:44:06.614Z"
   },
   {
    "duration": 12,
    "start_time": "2022-03-20T20:44:06.644Z"
   },
   {
    "duration": 4,
    "start_time": "2022-03-20T20:44:06.658Z"
   },
   {
    "duration": 9,
    "start_time": "2022-03-20T20:44:06.664Z"
   },
   {
    "duration": 18,
    "start_time": "2022-03-20T20:44:06.675Z"
   },
   {
    "duration": 22,
    "start_time": "2022-03-20T20:44:06.694Z"
   },
   {
    "duration": 14,
    "start_time": "2022-03-20T20:44:06.738Z"
   },
   {
    "duration": 3,
    "start_time": "2022-03-20T20:44:06.755Z"
   },
   {
    "duration": 21,
    "start_time": "2022-03-20T20:44:06.760Z"
   },
   {
    "duration": 8,
    "start_time": "2022-03-20T20:44:06.783Z"
   },
   {
    "duration": 25,
    "start_time": "2022-03-20T20:44:06.792Z"
   },
   {
    "duration": 19,
    "start_time": "2022-03-20T20:44:06.837Z"
   },
   {
    "duration": 10,
    "start_time": "2022-03-20T20:44:06.858Z"
   },
   {
    "duration": 917,
    "start_time": "2022-03-20T20:44:06.870Z"
   },
   {
    "duration": 19,
    "start_time": "2022-03-20T20:44:07.789Z"
   },
   {
    "duration": 30,
    "start_time": "2022-03-20T20:44:07.809Z"
   },
   {
    "duration": 131,
    "start_time": "2022-03-20T20:44:07.841Z"
   },
   {
    "duration": 23,
    "start_time": "2022-03-20T20:44:07.974Z"
   },
   {
    "duration": 131,
    "start_time": "2022-03-20T20:44:07.999Z"
   },
   {
    "duration": 23,
    "start_time": "2022-03-20T20:44:08.137Z"
   },
   {
    "duration": 132,
    "start_time": "2022-03-20T20:44:08.162Z"
   },
   {
    "duration": 553,
    "start_time": "2022-03-31T13:45:52.433Z"
   },
   {
    "duration": 77,
    "start_time": "2022-03-31T13:45:52.989Z"
   },
   {
    "duration": 31,
    "start_time": "2022-03-31T13:45:53.068Z"
   },
   {
    "duration": 23,
    "start_time": "2022-03-31T13:45:53.102Z"
   },
   {
    "duration": 49,
    "start_time": "2022-03-31T13:45:53.127Z"
   },
   {
    "duration": 7,
    "start_time": "2022-03-31T13:45:53.178Z"
   },
   {
    "duration": 25,
    "start_time": "2022-03-31T13:45:53.187Z"
   },
   {
    "duration": 55,
    "start_time": "2022-03-31T13:45:53.214Z"
   },
   {
    "duration": 10,
    "start_time": "2022-03-31T13:45:53.271Z"
   },
   {
    "duration": 20,
    "start_time": "2022-03-31T13:45:53.285Z"
   },
   {
    "duration": 66,
    "start_time": "2022-03-31T13:45:53.307Z"
   },
   {
    "duration": 7,
    "start_time": "2022-03-31T13:45:53.375Z"
   },
   {
    "duration": 11,
    "start_time": "2022-03-31T13:45:53.384Z"
   },
   {
    "duration": 24,
    "start_time": "2022-03-31T13:45:53.398Z"
   },
   {
    "duration": 53,
    "start_time": "2022-03-31T13:45:53.425Z"
   },
   {
    "duration": 39,
    "start_time": "2022-03-31T13:45:53.480Z"
   },
   {
    "duration": 18,
    "start_time": "2022-03-31T13:45:53.521Z"
   },
   {
    "duration": 28,
    "start_time": "2022-03-31T13:45:53.541Z"
   },
   {
    "duration": 48,
    "start_time": "2022-03-31T13:45:53.571Z"
   },
   {
    "duration": 50,
    "start_time": "2022-03-31T13:45:53.621Z"
   },
   {
    "duration": 12,
    "start_time": "2022-03-31T13:45:53.673Z"
   },
   {
    "duration": 13,
    "start_time": "2022-03-31T13:45:53.688Z"
   },
   {
    "duration": 8,
    "start_time": "2022-03-31T13:45:53.703Z"
   },
   {
    "duration": 7,
    "start_time": "2022-03-31T13:45:53.714Z"
   },
   {
    "duration": 67,
    "start_time": "2022-03-31T13:45:53.723Z"
   },
   {
    "duration": 35,
    "start_time": "2022-03-31T13:45:53.792Z"
   },
   {
    "duration": 53,
    "start_time": "2022-03-31T13:45:53.830Z"
   },
   {
    "duration": 5,
    "start_time": "2022-03-31T13:45:53.891Z"
   },
   {
    "duration": 27,
    "start_time": "2022-03-31T13:45:53.899Z"
   },
   {
    "duration": 42,
    "start_time": "2022-03-31T13:45:53.929Z"
   },
   {
    "duration": 33,
    "start_time": "2022-03-31T13:45:53.973Z"
   },
   {
    "duration": 27,
    "start_time": "2022-03-31T13:45:54.009Z"
   },
   {
    "duration": 45,
    "start_time": "2022-03-31T13:45:54.038Z"
   },
   {
    "duration": 1419,
    "start_time": "2022-03-31T13:45:54.085Z"
   },
   {
    "duration": 28,
    "start_time": "2022-03-31T13:45:55.506Z"
   },
   {
    "duration": 35,
    "start_time": "2022-03-31T13:45:55.537Z"
   },
   {
    "duration": 210,
    "start_time": "2022-03-31T13:45:55.575Z"
   },
   {
    "duration": 31,
    "start_time": "2022-03-31T13:45:55.788Z"
   },
   {
    "duration": 206,
    "start_time": "2022-03-31T13:45:55.822Z"
   },
   {
    "duration": 45,
    "start_time": "2022-03-31T13:45:56.031Z"
   },
   {
    "duration": 196,
    "start_time": "2022-03-31T13:45:56.079Z"
   },
   {
    "duration": 516,
    "start_time": "2022-03-31T13:51:27.610Z"
   },
   {
    "duration": 98,
    "start_time": "2022-03-31T13:51:28.129Z"
   },
   {
    "duration": 39,
    "start_time": "2022-03-31T13:51:28.230Z"
   },
   {
    "duration": 27,
    "start_time": "2022-03-31T13:51:28.271Z"
   },
   {
    "duration": 21,
    "start_time": "2022-03-31T13:51:28.302Z"
   },
   {
    "duration": 6,
    "start_time": "2022-03-31T13:51:28.325Z"
   },
   {
    "duration": 46,
    "start_time": "2022-03-31T13:51:28.333Z"
   },
   {
    "duration": 27,
    "start_time": "2022-03-31T13:51:28.381Z"
   },
   {
    "duration": 8,
    "start_time": "2022-03-31T13:51:28.411Z"
   },
   {
    "duration": 54,
    "start_time": "2022-03-31T13:51:28.421Z"
   },
   {
    "duration": 33,
    "start_time": "2022-03-31T13:51:28.477Z"
   },
   {
    "duration": 6,
    "start_time": "2022-03-31T13:51:28.513Z"
   },
   {
    "duration": 8,
    "start_time": "2022-03-31T13:51:28.521Z"
   },
   {
    "duration": 54,
    "start_time": "2022-03-31T13:51:28.533Z"
   },
   {
    "duration": 19,
    "start_time": "2022-03-31T13:51:28.589Z"
   },
   {
    "duration": 69,
    "start_time": "2022-03-31T13:51:28.610Z"
   },
   {
    "duration": 18,
    "start_time": "2022-03-31T13:51:28.681Z"
   },
   {
    "duration": 9,
    "start_time": "2022-03-31T13:51:28.701Z"
   },
   {
    "duration": 58,
    "start_time": "2022-03-31T13:51:28.712Z"
   },
   {
    "duration": 25,
    "start_time": "2022-03-31T13:51:28.772Z"
   },
   {
    "duration": 10,
    "start_time": "2022-03-31T13:51:28.799Z"
   },
   {
    "duration": 12,
    "start_time": "2022-03-31T13:51:28.811Z"
   },
   {
    "duration": 44,
    "start_time": "2022-03-31T13:51:28.825Z"
   },
   {
    "duration": 6,
    "start_time": "2022-03-31T13:51:28.871Z"
   },
   {
    "duration": 24,
    "start_time": "2022-03-31T13:51:28.879Z"
   },
   {
    "duration": 32,
    "start_time": "2022-03-31T13:51:28.905Z"
   },
   {
    "duration": 19,
    "start_time": "2022-03-31T13:51:28.968Z"
   },
   {
    "duration": 24,
    "start_time": "2022-03-31T13:51:28.989Z"
   },
   {
    "duration": 29,
    "start_time": "2022-03-31T13:51:29.015Z"
   },
   {
    "duration": 4,
    "start_time": "2022-03-31T13:51:29.047Z"
   },
   {
    "duration": 32,
    "start_time": "2022-03-31T13:51:29.067Z"
   },
   {
    "duration": 29,
    "start_time": "2022-03-31T13:51:29.101Z"
   },
   {
    "duration": 51,
    "start_time": "2022-03-31T13:51:29.132Z"
   },
   {
    "duration": 1185,
    "start_time": "2022-03-31T13:51:29.186Z"
   },
   {
    "duration": 29,
    "start_time": "2022-03-31T13:51:30.374Z"
   },
   {
    "duration": 20,
    "start_time": "2022-03-31T13:51:30.405Z"
   },
   {
    "duration": 240,
    "start_time": "2022-03-31T13:51:30.428Z"
   },
   {
    "duration": 33,
    "start_time": "2022-03-31T13:51:30.671Z"
   },
   {
    "duration": 208,
    "start_time": "2022-03-31T13:51:30.707Z"
   },
   {
    "duration": 33,
    "start_time": "2022-03-31T13:51:30.917Z"
   },
   {
    "duration": 205,
    "start_time": "2022-03-31T13:51:30.968Z"
   },
   {
    "duration": 663,
    "start_time": "2022-03-31T13:52:04.347Z"
   },
   {
    "duration": 76,
    "start_time": "2022-03-31T13:52:05.014Z"
   },
   {
    "duration": 30,
    "start_time": "2022-03-31T13:52:05.092Z"
   },
   {
    "duration": 21,
    "start_time": "2022-03-31T13:52:05.125Z"
   },
   {
    "duration": 20,
    "start_time": "2022-03-31T13:52:05.168Z"
   },
   {
    "duration": 8,
    "start_time": "2022-03-31T13:52:05.190Z"
   },
   {
    "duration": 20,
    "start_time": "2022-03-31T13:52:05.200Z"
   },
   {
    "duration": 65,
    "start_time": "2022-03-31T13:52:05.222Z"
   },
   {
    "duration": 11,
    "start_time": "2022-03-31T13:52:05.289Z"
   },
   {
    "duration": 19,
    "start_time": "2022-03-31T13:52:05.304Z"
   },
   {
    "duration": 73,
    "start_time": "2022-03-31T13:52:05.326Z"
   },
   {
    "duration": 7,
    "start_time": "2022-03-31T13:52:05.402Z"
   },
   {
    "duration": 8,
    "start_time": "2022-03-31T13:52:05.411Z"
   },
   {
    "duration": 56,
    "start_time": "2022-03-31T13:52:05.421Z"
   },
   {
    "duration": 19,
    "start_time": "2022-03-31T13:52:05.479Z"
   },
   {
    "duration": 34,
    "start_time": "2022-03-31T13:52:05.501Z"
   },
   {
    "duration": 46,
    "start_time": "2022-03-31T13:52:05.537Z"
   },
   {
    "duration": 9,
    "start_time": "2022-03-31T13:52:05.586Z"
   },
   {
    "duration": 35,
    "start_time": "2022-03-31T13:52:05.597Z"
   },
   {
    "duration": 50,
    "start_time": "2022-03-31T13:52:05.635Z"
   },
   {
    "duration": 9,
    "start_time": "2022-03-31T13:52:05.687Z"
   },
   {
    "duration": 16,
    "start_time": "2022-03-31T13:52:05.698Z"
   },
   {
    "duration": 8,
    "start_time": "2022-03-31T13:52:05.716Z"
   },
   {
    "duration": 18,
    "start_time": "2022-03-31T13:52:05.726Z"
   },
   {
    "duration": 22,
    "start_time": "2022-03-31T13:52:05.767Z"
   },
   {
    "duration": 32,
    "start_time": "2022-03-31T13:52:05.791Z"
   },
   {
    "duration": 46,
    "start_time": "2022-03-31T13:52:05.825Z"
   },
   {
    "duration": 11,
    "start_time": "2022-03-31T13:52:05.876Z"
   },
   {
    "duration": 27,
    "start_time": "2022-03-31T13:52:05.889Z"
   },
   {
    "duration": 5,
    "start_time": "2022-03-31T13:52:05.918Z"
   },
   {
    "duration": 53,
    "start_time": "2022-03-31T13:52:05.925Z"
   },
   {
    "duration": 26,
    "start_time": "2022-03-31T13:52:05.981Z"
   },
   {
    "duration": 14,
    "start_time": "2022-03-31T13:52:06.010Z"
   },
   {
    "duration": 1191,
    "start_time": "2022-03-31T13:52:06.027Z"
   },
   {
    "duration": 48,
    "start_time": "2022-03-31T13:52:07.221Z"
   },
   {
    "duration": 25,
    "start_time": "2022-03-31T13:52:07.271Z"
   },
   {
    "duration": 213,
    "start_time": "2022-03-31T13:52:07.298Z"
   },
   {
    "duration": 30,
    "start_time": "2022-03-31T13:52:07.513Z"
   },
   {
    "duration": 201,
    "start_time": "2022-03-31T13:52:07.545Z"
   },
   {
    "duration": 39,
    "start_time": "2022-03-31T13:52:07.748Z"
   },
   {
    "duration": 197,
    "start_time": "2022-03-31T13:52:07.790Z"
   },
   {
    "duration": 78,
    "start_time": "2022-03-31T19:48:37.475Z"
   },
   {
    "duration": 691,
    "start_time": "2022-03-31T19:49:00.612Z"
   },
   {
    "duration": 111,
    "start_time": "2022-03-31T19:49:01.307Z"
   },
   {
    "duration": 68,
    "start_time": "2022-03-31T19:49:01.421Z"
   },
   {
    "duration": 24,
    "start_time": "2022-03-31T19:49:01.492Z"
   },
   {
    "duration": 22,
    "start_time": "2022-03-31T19:49:01.518Z"
   },
   {
    "duration": 8,
    "start_time": "2022-03-31T19:49:01.543Z"
   },
   {
    "duration": 52,
    "start_time": "2022-03-31T19:49:01.553Z"
   },
   {
    "duration": 41,
    "start_time": "2022-03-31T19:49:01.608Z"
   },
   {
    "duration": 42,
    "start_time": "2022-03-31T19:49:01.652Z"
   },
   {
    "duration": 26,
    "start_time": "2022-03-31T19:49:01.699Z"
   },
   {
    "duration": 65,
    "start_time": "2022-03-31T19:49:01.728Z"
   },
   {
    "duration": 9,
    "start_time": "2022-03-31T19:49:01.796Z"
   },
   {
    "duration": 35,
    "start_time": "2022-03-31T19:49:01.809Z"
   },
   {
    "duration": 33,
    "start_time": "2022-03-31T19:49:01.846Z"
   },
   {
    "duration": 57,
    "start_time": "2022-03-31T19:49:01.882Z"
   },
   {
    "duration": 78,
    "start_time": "2022-03-31T19:49:01.942Z"
   },
   {
    "duration": 23,
    "start_time": "2022-03-31T19:49:02.023Z"
   },
   {
    "duration": 36,
    "start_time": "2022-03-31T19:49:02.050Z"
   },
   {
    "duration": 61,
    "start_time": "2022-03-31T19:49:02.089Z"
   },
   {
    "duration": 37,
    "start_time": "2022-03-31T19:49:02.152Z"
   },
   {
    "duration": 19,
    "start_time": "2022-03-31T19:49:02.195Z"
   },
   {
    "duration": 30,
    "start_time": "2022-03-31T19:49:02.217Z"
   },
   {
    "duration": 13,
    "start_time": "2022-03-31T19:49:02.250Z"
   },
   {
    "duration": 25,
    "start_time": "2022-03-31T19:49:02.266Z"
   },
   {
    "duration": 67,
    "start_time": "2022-03-31T19:49:02.294Z"
   },
   {
    "duration": 48,
    "start_time": "2022-03-31T19:49:02.364Z"
   },
   {
    "duration": 30,
    "start_time": "2022-03-31T19:49:02.415Z"
   },
   {
    "duration": 28,
    "start_time": "2022-03-31T19:49:02.454Z"
   },
   {
    "duration": 51,
    "start_time": "2022-03-31T19:49:02.489Z"
   },
   {
    "duration": 7,
    "start_time": "2022-03-31T19:49:02.543Z"
   },
   {
    "duration": 65,
    "start_time": "2022-03-31T19:49:02.552Z"
   },
   {
    "duration": 39,
    "start_time": "2022-03-31T19:49:02.620Z"
   },
   {
    "duration": 42,
    "start_time": "2022-03-31T19:49:02.662Z"
   },
   {
    "duration": 1548,
    "start_time": "2022-03-31T19:49:02.706Z"
   },
   {
    "duration": 52,
    "start_time": "2022-03-31T19:49:04.257Z"
   },
   {
    "duration": 23,
    "start_time": "2022-03-31T19:49:04.312Z"
   },
   {
    "duration": 233,
    "start_time": "2022-03-31T19:49:04.337Z"
   },
   {
    "duration": 39,
    "start_time": "2022-03-31T19:49:04.573Z"
   },
   {
    "duration": 220,
    "start_time": "2022-03-31T19:49:04.615Z"
   },
   {
    "duration": 55,
    "start_time": "2022-03-31T19:49:04.838Z"
   },
   {
    "duration": 213,
    "start_time": "2022-03-31T19:49:04.896Z"
   },
   {
    "duration": 13,
    "start_time": "2022-03-31T19:51:09.944Z"
   },
   {
    "duration": 16,
    "start_time": "2022-03-31T19:51:55.086Z"
   },
   {
    "duration": 662,
    "start_time": "2022-03-31T19:56:42.805Z"
   },
   {
    "duration": 79,
    "start_time": "2022-03-31T19:56:43.469Z"
   },
   {
    "duration": 39,
    "start_time": "2022-03-31T19:56:43.550Z"
   },
   {
    "duration": 27,
    "start_time": "2022-03-31T19:56:43.593Z"
   },
   {
    "duration": 29,
    "start_time": "2022-03-31T19:56:43.623Z"
   },
   {
    "duration": 33,
    "start_time": "2022-03-31T19:56:43.655Z"
   },
   {
    "duration": 31,
    "start_time": "2022-03-31T19:56:43.690Z"
   },
   {
    "duration": 33,
    "start_time": "2022-03-31T19:56:43.724Z"
   },
   {
    "duration": 32,
    "start_time": "2022-03-31T19:56:43.759Z"
   },
   {
    "duration": 26,
    "start_time": "2022-03-31T19:56:43.795Z"
   },
   {
    "duration": 60,
    "start_time": "2022-03-31T19:56:43.824Z"
   },
   {
    "duration": 6,
    "start_time": "2022-03-31T19:56:43.886Z"
   },
   {
    "duration": 18,
    "start_time": "2022-03-31T19:56:43.894Z"
   },
   {
    "duration": 13,
    "start_time": "2022-03-31T19:56:43.914Z"
   },
   {
    "duration": 62,
    "start_time": "2022-03-31T19:56:43.929Z"
   },
   {
    "duration": 51,
    "start_time": "2022-03-31T19:56:43.994Z"
   },
   {
    "duration": 15,
    "start_time": "2022-03-31T19:56:44.047Z"
   },
   {
    "duration": 21,
    "start_time": "2022-03-31T19:56:44.082Z"
   },
   {
    "duration": 22,
    "start_time": "2022-03-31T19:56:44.106Z"
   },
   {
    "duration": 23,
    "start_time": "2022-03-31T19:56:44.131Z"
   },
   {
    "duration": 39,
    "start_time": "2022-03-31T19:56:44.156Z"
   },
   {
    "duration": 18,
    "start_time": "2022-03-31T19:56:44.197Z"
   },
   {
    "duration": 7,
    "start_time": "2022-03-31T19:56:44.217Z"
   },
   {
    "duration": 7,
    "start_time": "2022-03-31T19:56:44.226Z"
   },
   {
    "duration": 61,
    "start_time": "2022-03-31T19:56:44.235Z"
   },
   {
    "duration": 31,
    "start_time": "2022-03-31T19:56:44.298Z"
   },
   {
    "duration": 18,
    "start_time": "2022-03-31T19:56:44.331Z"
   },
   {
    "duration": 29,
    "start_time": "2022-03-31T19:56:44.354Z"
   },
   {
    "duration": 39,
    "start_time": "2022-03-31T19:56:44.384Z"
   },
   {
    "duration": 6,
    "start_time": "2022-03-31T19:56:44.426Z"
   },
   {
    "duration": 50,
    "start_time": "2022-03-31T19:56:44.434Z"
   },
   {
    "duration": 31,
    "start_time": "2022-03-31T19:56:44.487Z"
   },
   {
    "duration": 15,
    "start_time": "2022-03-31T19:56:44.520Z"
   },
   {
    "duration": 1199,
    "start_time": "2022-03-31T19:56:44.537Z"
   },
   {
    "duration": 24,
    "start_time": "2022-03-31T19:56:45.739Z"
   },
   {
    "duration": 36,
    "start_time": "2022-03-31T19:56:45.765Z"
   },
   {
    "duration": 207,
    "start_time": "2022-03-31T19:56:45.803Z"
   },
   {
    "duration": 30,
    "start_time": "2022-03-31T19:56:46.012Z"
   },
   {
    "duration": 207,
    "start_time": "2022-03-31T19:56:46.045Z"
   },
   {
    "duration": 46,
    "start_time": "2022-03-31T19:56:46.255Z"
   },
   {
    "duration": 189,
    "start_time": "2022-03-31T19:56:46.303Z"
   },
   {
    "duration": 505,
    "start_time": "2022-03-31T20:11:26.561Z"
   },
   {
    "duration": 73,
    "start_time": "2022-03-31T20:11:27.069Z"
   },
   {
    "duration": 48,
    "start_time": "2022-03-31T20:11:27.143Z"
   },
   {
    "duration": 20,
    "start_time": "2022-03-31T20:11:27.194Z"
   },
   {
    "duration": 19,
    "start_time": "2022-03-31T20:11:27.216Z"
   },
   {
    "duration": 10,
    "start_time": "2022-03-31T20:11:27.238Z"
   },
   {
    "duration": 49,
    "start_time": "2022-03-31T20:11:27.250Z"
   },
   {
    "duration": 25,
    "start_time": "2022-03-31T20:11:27.302Z"
   },
   {
    "duration": 8,
    "start_time": "2022-03-31T20:11:27.330Z"
   },
   {
    "duration": 55,
    "start_time": "2022-03-31T20:11:27.342Z"
   },
   {
    "duration": 32,
    "start_time": "2022-03-31T20:11:27.399Z"
   },
   {
    "duration": 6,
    "start_time": "2022-03-31T20:11:27.433Z"
   },
   {
    "duration": 23,
    "start_time": "2022-03-31T20:11:27.441Z"
   },
   {
    "duration": 22,
    "start_time": "2022-03-31T20:11:27.481Z"
   },
   {
    "duration": 32,
    "start_time": "2022-03-31T20:11:27.505Z"
   },
   {
    "duration": 31,
    "start_time": "2022-03-31T20:11:27.539Z"
   },
   {
    "duration": 28,
    "start_time": "2022-03-31T20:11:27.572Z"
   },
   {
    "duration": 27,
    "start_time": "2022-03-31T20:11:27.602Z"
   },
   {
    "duration": 36,
    "start_time": "2022-03-31T20:11:27.631Z"
   },
   {
    "duration": 53,
    "start_time": "2022-03-31T20:11:27.668Z"
   },
   {
    "duration": 10,
    "start_time": "2022-03-31T20:11:27.723Z"
   },
   {
    "duration": 7,
    "start_time": "2022-03-31T20:11:27.735Z"
   },
   {
    "duration": 14,
    "start_time": "2022-03-31T20:11:27.744Z"
   },
   {
    "duration": 57,
    "start_time": "2022-03-31T20:11:27.760Z"
   },
   {
    "duration": 29,
    "start_time": "2022-03-31T20:11:27.820Z"
   },
   {
    "duration": 42,
    "start_time": "2022-03-31T20:11:27.853Z"
   },
   {
    "duration": 14,
    "start_time": "2022-03-31T20:11:27.897Z"
   },
   {
    "duration": 26,
    "start_time": "2022-03-31T20:11:27.918Z"
   },
   {
    "duration": 6,
    "start_time": "2022-03-31T20:11:27.947Z"
   },
   {
    "duration": 59,
    "start_time": "2022-03-31T20:11:27.956Z"
   },
   {
    "duration": 26,
    "start_time": "2022-03-31T20:11:28.018Z"
   },
   {
    "duration": 14,
    "start_time": "2022-03-31T20:11:28.047Z"
   },
   {
    "duration": 1195,
    "start_time": "2022-03-31T20:11:28.082Z"
   },
   {
    "duration": 29,
    "start_time": "2022-03-31T20:11:29.279Z"
   },
   {
    "duration": 17,
    "start_time": "2022-03-31T20:11:29.311Z"
   },
   {
    "duration": 217,
    "start_time": "2022-03-31T20:11:29.330Z"
   },
   {
    "duration": 49,
    "start_time": "2022-03-31T20:11:29.549Z"
   },
   {
    "duration": 291,
    "start_time": "2022-03-31T20:11:29.600Z"
   },
   {
    "duration": 36,
    "start_time": "2022-03-31T20:11:29.893Z"
   },
   {
    "duration": 218,
    "start_time": "2022-03-31T20:11:29.931Z"
   },
   {
    "duration": 134,
    "start_time": "2022-03-31T20:47:53.432Z"
   },
   {
    "duration": 14,
    "start_time": "2022-03-31T20:48:28.557Z"
   },
   {
    "duration": 13,
    "start_time": "2022-03-31T20:52:06.324Z"
   },
   {
    "duration": 536,
    "start_time": "2022-03-31T20:52:32.607Z"
   },
   {
    "duration": 78,
    "start_time": "2022-03-31T20:52:33.146Z"
   },
   {
    "duration": 30,
    "start_time": "2022-03-31T20:52:33.226Z"
   },
   {
    "duration": 43,
    "start_time": "2022-03-31T20:52:33.259Z"
   },
   {
    "duration": 25,
    "start_time": "2022-03-31T20:52:33.305Z"
   },
   {
    "duration": 6,
    "start_time": "2022-03-31T20:52:33.333Z"
   },
   {
    "duration": 50,
    "start_time": "2022-03-31T20:52:33.341Z"
   },
   {
    "duration": 38,
    "start_time": "2022-03-31T20:52:33.395Z"
   },
   {
    "duration": 10,
    "start_time": "2022-03-31T20:52:33.436Z"
   },
   {
    "duration": 50,
    "start_time": "2022-03-31T20:52:33.450Z"
   },
   {
    "duration": 31,
    "start_time": "2022-03-31T20:52:33.502Z"
   },
   {
    "duration": 6,
    "start_time": "2022-03-31T20:52:33.535Z"
   },
   {
    "duration": 8,
    "start_time": "2022-03-31T20:52:33.543Z"
   },
   {
    "duration": 44,
    "start_time": "2022-03-31T20:52:33.553Z"
   },
   {
    "duration": 25,
    "start_time": "2022-03-31T20:52:33.600Z"
   },
   {
    "duration": 19,
    "start_time": "2022-03-31T20:52:33.627Z"
   },
   {
    "duration": 19,
    "start_time": "2022-03-31T20:52:33.648Z"
   },
   {
    "duration": 14,
    "start_time": "2022-03-31T20:52:33.686Z"
   },
   {
    "duration": 34,
    "start_time": "2022-03-31T20:52:33.702Z"
   },
   {
    "duration": 77,
    "start_time": "2022-03-31T20:52:33.739Z"
   },
   {
    "duration": 16,
    "start_time": "2022-03-31T20:52:33.819Z"
   },
   {
    "duration": 11,
    "start_time": "2022-03-31T20:52:33.838Z"
   },
   {
    "duration": 11,
    "start_time": "2022-03-31T20:52:33.884Z"
   },
   {
    "duration": 10,
    "start_time": "2022-03-31T20:52:33.898Z"
   },
   {
    "duration": 24,
    "start_time": "2022-03-31T20:52:33.911Z"
   },
   {
    "duration": 63,
    "start_time": "2022-03-31T20:52:33.938Z"
   },
   {
    "duration": 18,
    "start_time": "2022-03-31T20:52:34.004Z"
   },
   {
    "duration": 10,
    "start_time": "2022-03-31T20:52:34.030Z"
   },
   {
    "duration": 64,
    "start_time": "2022-03-31T20:52:34.042Z"
   },
   {
    "duration": 15,
    "start_time": "2022-03-31T20:52:34.109Z"
   },
   {
    "duration": 62,
    "start_time": "2022-03-31T20:52:34.126Z"
   },
   {
    "duration": 29,
    "start_time": "2022-03-31T20:52:34.190Z"
   },
   {
    "duration": 15,
    "start_time": "2022-03-31T20:52:34.221Z"
   },
   {
    "duration": 1188,
    "start_time": "2022-03-31T20:52:34.238Z"
   },
   {
    "duration": 26,
    "start_time": "2022-03-31T20:52:35.428Z"
   },
   {
    "duration": 35,
    "start_time": "2022-03-31T20:52:35.456Z"
   },
   {
    "duration": 209,
    "start_time": "2022-03-31T20:52:35.494Z"
   },
   {
    "duration": 31,
    "start_time": "2022-03-31T20:52:35.705Z"
   },
   {
    "duration": 199,
    "start_time": "2022-03-31T20:52:35.738Z"
   },
   {
    "duration": 32,
    "start_time": "2022-03-31T20:52:35.939Z"
   },
   {
    "duration": 183,
    "start_time": "2022-03-31T20:52:35.986Z"
   },
   {
    "duration": 143,
    "start_time": "2022-03-31T20:52:49.796Z"
   },
   {
    "duration": 480,
    "start_time": "2022-03-31T20:53:01.010Z"
   },
   {
    "duration": 71,
    "start_time": "2022-03-31T20:53:01.495Z"
   },
   {
    "duration": 33,
    "start_time": "2022-03-31T20:53:01.568Z"
   },
   {
    "duration": 32,
    "start_time": "2022-03-31T20:53:01.604Z"
   },
   {
    "duration": 45,
    "start_time": "2022-03-31T20:53:01.640Z"
   },
   {
    "duration": 42,
    "start_time": "2022-03-31T20:53:01.687Z"
   },
   {
    "duration": 67,
    "start_time": "2022-03-31T20:53:01.732Z"
   },
   {
    "duration": 38,
    "start_time": "2022-03-31T20:53:01.801Z"
   },
   {
    "duration": 11,
    "start_time": "2022-03-31T20:53:01.841Z"
   },
   {
    "duration": 40,
    "start_time": "2022-03-31T20:53:01.857Z"
   },
   {
    "duration": 34,
    "start_time": "2022-03-31T20:53:01.903Z"
   },
   {
    "duration": 7,
    "start_time": "2022-03-31T20:53:01.939Z"
   },
   {
    "duration": 39,
    "start_time": "2022-03-31T20:53:01.948Z"
   },
   {
    "duration": 17,
    "start_time": "2022-03-31T20:53:01.991Z"
   },
   {
    "duration": 24,
    "start_time": "2022-03-31T20:53:02.010Z"
   },
   {
    "duration": 12,
    "start_time": "2022-03-31T20:53:02.036Z"
   },
   {
    "duration": 43,
    "start_time": "2022-03-31T20:53:02.050Z"
   },
   {
    "duration": 18,
    "start_time": "2022-03-31T20:53:02.096Z"
   },
   {
    "duration": 36,
    "start_time": "2022-03-31T20:53:02.116Z"
   },
   {
    "duration": 62,
    "start_time": "2022-03-31T20:53:02.155Z"
   },
   {
    "duration": 19,
    "start_time": "2022-03-31T20:53:02.219Z"
   },
   {
    "duration": 10,
    "start_time": "2022-03-31T20:53:02.240Z"
   },
   {
    "duration": 35,
    "start_time": "2022-03-31T20:53:02.253Z"
   },
   {
    "duration": 12,
    "start_time": "2022-03-31T20:53:02.292Z"
   },
   {
    "duration": 28,
    "start_time": "2022-03-31T20:53:02.306Z"
   },
   {
    "duration": 28,
    "start_time": "2022-03-31T20:53:02.337Z"
   },
   {
    "duration": 32,
    "start_time": "2022-03-31T20:53:02.367Z"
   },
   {
    "duration": 10,
    "start_time": "2022-03-31T20:53:02.404Z"
   },
   {
    "duration": 25,
    "start_time": "2022-03-31T20:53:02.416Z"
   },
   {
    "duration": 54,
    "start_time": "2022-03-31T20:53:02.443Z"
   },
   {
    "duration": 28,
    "start_time": "2022-03-31T20:53:02.499Z"
   },
   {
    "duration": 53,
    "start_time": "2022-03-31T20:53:02.530Z"
   },
   {
    "duration": 22,
    "start_time": "2022-03-31T20:53:02.586Z"
   },
   {
    "duration": 1143,
    "start_time": "2022-03-31T20:53:02.610Z"
   },
   {
    "duration": 37,
    "start_time": "2022-03-31T20:53:03.756Z"
   },
   {
    "duration": 18,
    "start_time": "2022-03-31T20:53:03.796Z"
   },
   {
    "duration": 217,
    "start_time": "2022-03-31T20:53:03.816Z"
   },
   {
    "duration": 30,
    "start_time": "2022-03-31T20:53:04.036Z"
   },
   {
    "duration": 183,
    "start_time": "2022-03-31T20:53:04.069Z"
   },
   {
    "duration": 51,
    "start_time": "2022-03-31T20:53:04.254Z"
   },
   {
    "duration": 193,
    "start_time": "2022-03-31T20:53:04.307Z"
   },
   {
    "duration": 495,
    "start_time": "2022-03-31T21:35:45.569Z"
   },
   {
    "duration": 76,
    "start_time": "2022-03-31T21:35:46.067Z"
   },
   {
    "duration": 40,
    "start_time": "2022-03-31T21:35:46.145Z"
   },
   {
    "duration": 23,
    "start_time": "2022-03-31T21:35:46.192Z"
   },
   {
    "duration": 20,
    "start_time": "2022-03-31T21:35:46.217Z"
   },
   {
    "duration": 7,
    "start_time": "2022-03-31T21:35:46.239Z"
   },
   {
    "duration": 50,
    "start_time": "2022-03-31T21:35:46.248Z"
   },
   {
    "duration": 24,
    "start_time": "2022-03-31T21:35:46.301Z"
   },
   {
    "duration": 9,
    "start_time": "2022-03-31T21:35:46.327Z"
   },
   {
    "duration": 63,
    "start_time": "2022-03-31T21:35:46.340Z"
   },
   {
    "duration": 29,
    "start_time": "2022-03-31T21:35:46.405Z"
   },
   {
    "duration": 6,
    "start_time": "2022-03-31T21:35:46.436Z"
   },
   {
    "duration": 11,
    "start_time": "2022-03-31T21:35:46.443Z"
   },
   {
    "duration": 33,
    "start_time": "2022-03-31T21:35:46.456Z"
   },
   {
    "duration": 18,
    "start_time": "2022-03-31T21:35:46.491Z"
   },
   {
    "duration": 7,
    "start_time": "2022-03-31T21:35:46.511Z"
   },
   {
    "duration": 17,
    "start_time": "2022-03-31T21:35:46.521Z"
   },
   {
    "duration": 9,
    "start_time": "2022-03-31T21:35:46.540Z"
   },
   {
    "duration": 61,
    "start_time": "2022-03-31T21:35:46.551Z"
   },
   {
    "duration": 76,
    "start_time": "2022-03-31T21:35:46.614Z"
   },
   {
    "duration": 22,
    "start_time": "2022-03-31T21:35:46.693Z"
   },
   {
    "duration": 4,
    "start_time": "2022-03-31T21:35:46.717Z"
   },
   {
    "duration": 7,
    "start_time": "2022-03-31T21:35:46.723Z"
   },
   {
    "duration": 12,
    "start_time": "2022-03-31T21:35:46.732Z"
   },
   {
    "duration": 43,
    "start_time": "2022-03-31T21:35:46.746Z"
   },
   {
    "duration": 11,
    "start_time": "2022-03-31T21:35:46.791Z"
   },
   {
    "duration": 22,
    "start_time": "2022-03-31T21:35:46.804Z"
   },
   {
    "duration": 27,
    "start_time": "2022-03-31T21:35:46.831Z"
   },
   {
    "duration": 41,
    "start_time": "2022-03-31T21:35:46.860Z"
   },
   {
    "duration": 13,
    "start_time": "2022-03-31T21:35:46.904Z"
   },
   {
    "duration": 23,
    "start_time": "2022-03-31T21:35:46.919Z"
   },
   {
    "duration": 48,
    "start_time": "2022-03-31T21:35:46.944Z"
   },
   {
    "duration": 30,
    "start_time": "2022-03-31T21:35:46.994Z"
   },
   {
    "duration": 26,
    "start_time": "2022-03-31T21:35:47.026Z"
   },
   {
    "duration": 43,
    "start_time": "2022-03-31T21:35:47.054Z"
   },
   {
    "duration": 1139,
    "start_time": "2022-03-31T21:35:47.100Z"
   },
   {
    "duration": 25,
    "start_time": "2022-03-31T21:35:48.241Z"
   },
   {
    "duration": 31,
    "start_time": "2022-03-31T21:35:48.268Z"
   },
   {
    "duration": 215,
    "start_time": "2022-03-31T21:35:48.301Z"
   },
   {
    "duration": 29,
    "start_time": "2022-03-31T21:35:48.519Z"
   },
   {
    "duration": 202,
    "start_time": "2022-03-31T21:35:48.550Z"
   },
   {
    "duration": 44,
    "start_time": "2022-03-31T21:35:48.754Z"
   },
   {
    "duration": 192,
    "start_time": "2022-03-31T21:35:48.800Z"
   },
   {
    "duration": 519,
    "start_time": "2022-03-31T21:52:20.744Z"
   },
   {
    "duration": 78,
    "start_time": "2022-03-31T21:52:21.265Z"
   },
   {
    "duration": 42,
    "start_time": "2022-03-31T21:52:21.345Z"
   },
   {
    "duration": 26,
    "start_time": "2022-03-31T21:52:21.391Z"
   },
   {
    "duration": 21,
    "start_time": "2022-03-31T21:52:21.419Z"
   },
   {
    "duration": 50,
    "start_time": "2022-03-31T21:52:21.442Z"
   },
   {
    "duration": 19,
    "start_time": "2022-03-31T21:52:21.494Z"
   },
   {
    "duration": 37,
    "start_time": "2022-03-31T21:52:21.515Z"
   },
   {
    "duration": 30,
    "start_time": "2022-03-31T21:52:21.554Z"
   },
   {
    "duration": 23,
    "start_time": "2022-03-31T21:52:21.592Z"
   },
   {
    "duration": 34,
    "start_time": "2022-03-31T21:52:21.617Z"
   },
   {
    "duration": 37,
    "start_time": "2022-03-31T21:52:21.653Z"
   },
   {
    "duration": 11,
    "start_time": "2022-03-31T21:52:21.692Z"
   },
   {
    "duration": 14,
    "start_time": "2022-03-31T21:52:21.705Z"
   },
   {
    "duration": 16,
    "start_time": "2022-03-31T21:52:21.721Z"
   },
   {
    "duration": 8,
    "start_time": "2022-03-31T21:52:21.739Z"
   },
   {
    "duration": 20,
    "start_time": "2022-03-31T21:52:21.791Z"
   },
   {
    "duration": 11,
    "start_time": "2022-03-31T21:52:21.813Z"
   },
   {
    "duration": 34,
    "start_time": "2022-03-31T21:52:21.826Z"
   },
   {
    "duration": 77,
    "start_time": "2022-03-31T21:52:21.862Z"
   },
   {
    "duration": 50,
    "start_time": "2022-03-31T21:52:21.942Z"
   },
   {
    "duration": 4,
    "start_time": "2022-03-31T21:52:21.995Z"
   },
   {
    "duration": 28,
    "start_time": "2022-03-31T21:52:22.001Z"
   },
   {
    "duration": 22,
    "start_time": "2022-03-31T21:52:22.031Z"
   },
   {
    "duration": 6,
    "start_time": "2022-03-31T21:52:22.056Z"
   },
   {
    "duration": 21,
    "start_time": "2022-03-31T21:52:22.064Z"
   },
   {
    "duration": 36,
    "start_time": "2022-03-31T21:52:22.090Z"
   },
   {
    "duration": 30,
    "start_time": "2022-03-31T21:52:22.131Z"
   },
   {
    "duration": 39,
    "start_time": "2022-03-31T21:52:22.163Z"
   },
   {
    "duration": 15,
    "start_time": "2022-03-31T21:52:22.205Z"
   },
   {
    "duration": 64,
    "start_time": "2022-03-31T21:52:22.223Z"
   },
   {
    "duration": 15,
    "start_time": "2022-03-31T21:52:22.296Z"
   },
   {
    "duration": 31,
    "start_time": "2022-03-31T21:52:22.313Z"
   },
   {
    "duration": 63,
    "start_time": "2022-03-31T21:52:22.347Z"
   },
   {
    "duration": 16,
    "start_time": "2022-03-31T21:52:22.412Z"
   },
   {
    "duration": 1223,
    "start_time": "2022-03-31T21:52:22.430Z"
   },
   {
    "duration": 35,
    "start_time": "2022-03-31T21:52:23.655Z"
   },
   {
    "duration": 30,
    "start_time": "2022-03-31T21:52:23.695Z"
   },
   {
    "duration": 223,
    "start_time": "2022-03-31T21:52:23.728Z"
   },
   {
    "duration": 51,
    "start_time": "2022-03-31T21:52:23.954Z"
   },
   {
    "duration": 202,
    "start_time": "2022-03-31T21:52:24.007Z"
   },
   {
    "duration": 84,
    "start_time": "2022-03-31T21:52:24.211Z"
   },
   {
    "duration": 207,
    "start_time": "2022-03-31T21:52:24.297Z"
   },
   {
    "duration": 536,
    "start_time": "2022-04-01T07:44:53.563Z"
   },
   {
    "duration": 76,
    "start_time": "2022-04-01T07:44:54.101Z"
   },
   {
    "duration": 33,
    "start_time": "2022-04-01T07:44:54.184Z"
   },
   {
    "duration": 59,
    "start_time": "2022-04-01T07:44:54.220Z"
   },
   {
    "duration": 56,
    "start_time": "2022-04-01T07:44:54.281Z"
   },
   {
    "duration": 22,
    "start_time": "2022-04-01T07:44:54.339Z"
   },
   {
    "duration": 42,
    "start_time": "2022-04-01T07:44:54.363Z"
   },
   {
    "duration": 25,
    "start_time": "2022-04-01T07:44:54.407Z"
   },
   {
    "duration": 9,
    "start_time": "2022-04-01T07:44:54.434Z"
   },
   {
    "duration": 49,
    "start_time": "2022-04-01T07:44:54.447Z"
   },
   {
    "duration": 34,
    "start_time": "2022-04-01T07:44:54.498Z"
   },
   {
    "duration": 6,
    "start_time": "2022-04-01T07:44:54.535Z"
   },
   {
    "duration": 10,
    "start_time": "2022-04-01T07:44:54.543Z"
   },
   {
    "duration": 11,
    "start_time": "2022-04-01T07:44:54.585Z"
   },
   {
    "duration": 16,
    "start_time": "2022-04-01T07:44:54.598Z"
   },
   {
    "duration": 13,
    "start_time": "2022-04-01T07:44:54.616Z"
   },
   {
    "duration": 19,
    "start_time": "2022-04-01T07:44:54.631Z"
   },
   {
    "duration": 11,
    "start_time": "2022-04-01T07:44:54.684Z"
   },
   {
    "duration": 40,
    "start_time": "2022-04-01T07:44:54.697Z"
   },
   {
    "duration": 75,
    "start_time": "2022-04-01T07:44:54.739Z"
   },
   {
    "duration": 21,
    "start_time": "2022-04-01T07:44:54.816Z"
   },
   {
    "duration": 3,
    "start_time": "2022-04-01T07:44:54.839Z"
   },
   {
    "duration": 12,
    "start_time": "2022-04-01T07:44:54.844Z"
   },
   {
    "duration": 33,
    "start_time": "2022-04-01T07:44:54.858Z"
   },
   {
    "duration": 20,
    "start_time": "2022-04-01T07:44:54.893Z"
   },
   {
    "duration": 26,
    "start_time": "2022-04-01T07:44:54.915Z"
   },
   {
    "duration": 41,
    "start_time": "2022-04-01T07:44:54.943Z"
   },
   {
    "duration": 30,
    "start_time": "2022-04-01T07:44:54.989Z"
   },
   {
    "duration": 32,
    "start_time": "2022-04-01T07:44:55.021Z"
   },
   {
    "duration": 30,
    "start_time": "2022-04-01T07:44:55.055Z"
   },
   {
    "duration": 26,
    "start_time": "2022-04-01T07:44:55.087Z"
   },
   {
    "duration": 13,
    "start_time": "2022-04-01T07:44:55.115Z"
   },
   {
    "duration": 68,
    "start_time": "2022-04-01T07:44:55.130Z"
   },
   {
    "duration": 27,
    "start_time": "2022-04-01T07:44:55.201Z"
   },
   {
    "duration": 17,
    "start_time": "2022-04-01T07:44:55.230Z"
   },
   {
    "duration": 1271,
    "start_time": "2022-04-01T07:44:55.250Z"
   },
   {
    "duration": 25,
    "start_time": "2022-04-01T07:44:56.524Z"
   },
   {
    "duration": 34,
    "start_time": "2022-04-01T07:44:56.551Z"
   },
   {
    "duration": 218,
    "start_time": "2022-04-01T07:44:56.587Z"
   },
   {
    "duration": 34,
    "start_time": "2022-04-01T07:44:56.808Z"
   },
   {
    "duration": 207,
    "start_time": "2022-04-01T07:44:56.844Z"
   },
   {
    "duration": 40,
    "start_time": "2022-04-01T07:44:57.053Z"
   },
   {
    "duration": 199,
    "start_time": "2022-04-01T07:44:57.095Z"
   },
   {
    "duration": 534,
    "start_time": "2022-04-01T07:47:18.333Z"
   },
   {
    "duration": 80,
    "start_time": "2022-04-01T07:47:18.869Z"
   },
   {
    "duration": 40,
    "start_time": "2022-04-01T07:47:18.951Z"
   },
   {
    "duration": 28,
    "start_time": "2022-04-01T07:47:18.993Z"
   },
   {
    "duration": 22,
    "start_time": "2022-04-01T07:47:19.023Z"
   },
   {
    "duration": 7,
    "start_time": "2022-04-01T07:47:19.047Z"
   },
   {
    "duration": 44,
    "start_time": "2022-04-01T07:47:19.056Z"
   },
   {
    "duration": 27,
    "start_time": "2022-04-01T07:47:19.102Z"
   },
   {
    "duration": 9,
    "start_time": "2022-04-01T07:47:19.132Z"
   },
   {
    "duration": 58,
    "start_time": "2022-04-01T07:47:19.144Z"
   },
   {
    "duration": 35,
    "start_time": "2022-04-01T07:47:19.205Z"
   },
   {
    "duration": 6,
    "start_time": "2022-04-01T07:47:19.242Z"
   },
   {
    "duration": 42,
    "start_time": "2022-04-01T07:47:19.251Z"
   },
   {
    "duration": 11,
    "start_time": "2022-04-01T07:47:19.295Z"
   },
   {
    "duration": 16,
    "start_time": "2022-04-01T07:47:19.308Z"
   },
   {
    "duration": 14,
    "start_time": "2022-04-01T07:47:19.326Z"
   },
   {
    "duration": 47,
    "start_time": "2022-04-01T07:47:19.342Z"
   },
   {
    "duration": 9,
    "start_time": "2022-04-01T07:47:19.392Z"
   },
   {
    "duration": 34,
    "start_time": "2022-04-01T07:47:19.404Z"
   },
   {
    "duration": 78,
    "start_time": "2022-04-01T07:47:19.440Z"
   },
   {
    "duration": 21,
    "start_time": "2022-04-01T07:47:19.520Z"
   },
   {
    "duration": 4,
    "start_time": "2022-04-01T07:47:19.543Z"
   },
   {
    "duration": 23,
    "start_time": "2022-04-01T07:47:19.549Z"
   },
   {
    "duration": 19,
    "start_time": "2022-04-01T07:47:19.574Z"
   },
   {
    "duration": 8,
    "start_time": "2022-04-01T07:47:19.596Z"
   },
   {
    "duration": 16,
    "start_time": "2022-04-01T07:47:19.606Z"
   },
   {
    "duration": 22,
    "start_time": "2022-04-01T07:47:19.625Z"
   },
   {
    "duration": 43,
    "start_time": "2022-04-01T07:47:19.654Z"
   },
   {
    "duration": 39,
    "start_time": "2022-04-01T07:47:19.700Z"
   },
   {
    "duration": 20,
    "start_time": "2022-04-01T07:47:19.741Z"
   },
   {
    "duration": 30,
    "start_time": "2022-04-01T07:47:19.764Z"
   },
   {
    "duration": 28,
    "start_time": "2022-04-01T07:47:19.796Z"
   },
   {
    "duration": 60,
    "start_time": "2022-04-01T07:47:19.827Z"
   },
   {
    "duration": 34,
    "start_time": "2022-04-01T07:47:19.890Z"
   },
   {
    "duration": 61,
    "start_time": "2022-04-01T07:47:19.927Z"
   },
   {
    "duration": 16,
    "start_time": "2022-04-01T07:47:19.991Z"
   },
   {
    "duration": 1251,
    "start_time": "2022-04-01T07:47:20.009Z"
   },
   {
    "duration": 45,
    "start_time": "2022-04-01T07:47:21.263Z"
   },
   {
    "duration": 28,
    "start_time": "2022-04-01T07:47:21.311Z"
   },
   {
    "duration": 335,
    "start_time": "2022-04-01T07:47:21.342Z"
   },
   {
    "duration": 34,
    "start_time": "2022-04-01T07:47:21.685Z"
   },
   {
    "duration": 204,
    "start_time": "2022-04-01T07:47:21.721Z"
   },
   {
    "duration": 34,
    "start_time": "2022-04-01T07:47:21.927Z"
   },
   {
    "duration": 210,
    "start_time": "2022-04-01T07:47:21.963Z"
   }
  ],
  "kernelspec": {
   "display_name": "Python 3 (ipykernel)",
   "language": "python",
   "name": "python3"
  },
  "language_info": {
   "codemirror_mode": {
    "name": "ipython",
    "version": 3
   },
   "file_extension": ".py",
   "mimetype": "text/x-python",
   "name": "python",
   "nbconvert_exporter": "python",
   "pygments_lexer": "ipython3",
   "version": "3.9.7"
  },
  "toc": {
   "base_numbering": 1,
   "nav_menu": {},
   "number_sections": true,
   "sideBar": true,
   "skip_h1_title": true,
   "title_cell": "Table of Contents",
   "title_sidebar": "Contents",
   "toc_cell": false,
   "toc_position": {},
   "toc_section_display": true,
   "toc_window_display": true
  }
 },
 "nbformat": 4,
 "nbformat_minor": 5
}
