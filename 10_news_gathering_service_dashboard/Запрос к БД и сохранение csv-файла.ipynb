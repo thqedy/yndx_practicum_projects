{
 "cells": [
  {
   "cell_type": "markdown",
   "id": "a3dd7d97",
   "metadata": {},
   "source": [
    "# Анализ пользовательского взаимодействия с карточками статей Яндекс.Дзен\n",
    "\n",
    "\n",
    "Создадим коннекцию к базе и сохраним таблицу в переменную `dash_visits`."
   ]
  },
  {
   "cell_type": "code",
   "execution_count": 1,
   "id": "466ff862",
   "metadata": {},
   "outputs": [],
   "source": [
    "#!/usr/bin/python\n",
    "# -*- coding: utf-8 -*-\n",
    "\n",
    "# импортируем библиотеки\n",
    "import pandas as pd\n",
    "from sqlalchemy import create_engine\n",
    "\n",
    "db_config = {'user': 'praktikum_student', # имя пользователя\n",
    "            'pwd': 'Sdf4$2;d-d30pp', # пароль\n",
    "            'host': 'rc1b-wcoijxj3yxfsf3fs.mdb.yandexcloud.net',\n",
    "            'port': 6432, # порт подключения\n",
    "            'db': 'data-analyst-zen-project-db'} # название базы данных\n",
    "\n",
    "connection_string = 'postgresql://{}:{}@{}:{}/{}'.format(db_config['user'],\n",
    "                                                db_config['pwd'],\n",
    "                                                db_config['host'],\n",
    "                                                db_config['port'],\n",
    "                                                db_config['db'])\n",
    "\n",
    "engine = create_engine(connection_string)\n",
    "\n",
    "query = '''\n",
    "        SELECT * \n",
    "        FROM dash_visits\n",
    "        '''\n",
    "\n",
    "dash_visits = pd.io.sql.read_sql(query, con = engine)"
   ]
  },
  {
   "cell_type": "markdown",
   "id": "4a15d9cc",
   "metadata": {},
   "source": [
    "Посмотрим на таблицу."
   ]
  },
  {
   "cell_type": "code",
   "execution_count": 2,
   "id": "dfcfa867",
   "metadata": {},
   "outputs": [
    {
     "data": {
      "text/html": [
       "<div>\n",
       "<style scoped>\n",
       "    .dataframe tbody tr th:only-of-type {\n",
       "        vertical-align: middle;\n",
       "    }\n",
       "\n",
       "    .dataframe tbody tr th {\n",
       "        vertical-align: top;\n",
       "    }\n",
       "\n",
       "    .dataframe thead th {\n",
       "        text-align: right;\n",
       "    }\n",
       "</style>\n",
       "<table border=\"1\" class=\"dataframe\">\n",
       "  <thead>\n",
       "    <tr style=\"text-align: right;\">\n",
       "      <th></th>\n",
       "      <th>record_id</th>\n",
       "      <th>item_topic</th>\n",
       "      <th>source_topic</th>\n",
       "      <th>age_segment</th>\n",
       "      <th>dt</th>\n",
       "      <th>visits</th>\n",
       "    </tr>\n",
       "  </thead>\n",
       "  <tbody>\n",
       "    <tr>\n",
       "      <th>25569</th>\n",
       "      <td>1066166</td>\n",
       "      <td>Семья</td>\n",
       "      <td>Знаменитости</td>\n",
       "      <td>18-25</td>\n",
       "      <td>2019-09-24 18:54:00</td>\n",
       "      <td>11</td>\n",
       "    </tr>\n",
       "    <tr>\n",
       "      <th>16558</th>\n",
       "      <td>1057155</td>\n",
       "      <td>Отношения</td>\n",
       "      <td>История</td>\n",
       "      <td>18-25</td>\n",
       "      <td>2019-09-24 18:53:00</td>\n",
       "      <td>1</td>\n",
       "    </tr>\n",
       "    <tr>\n",
       "      <th>12268</th>\n",
       "      <td>1052865</td>\n",
       "      <td>Культура</td>\n",
       "      <td>Интерьеры</td>\n",
       "      <td>36-40</td>\n",
       "      <td>2019-09-24 18:57:00</td>\n",
       "      <td>3</td>\n",
       "    </tr>\n",
       "    <tr>\n",
       "      <th>27448</th>\n",
       "      <td>1068045</td>\n",
       "      <td>Скандалы</td>\n",
       "      <td>Семья</td>\n",
       "      <td>18-25</td>\n",
       "      <td>2019-09-24 19:00:00</td>\n",
       "      <td>10</td>\n",
       "    </tr>\n",
       "    <tr>\n",
       "      <th>18640</th>\n",
       "      <td>1059237</td>\n",
       "      <td>Подборки</td>\n",
       "      <td>Россия</td>\n",
       "      <td>36-40</td>\n",
       "      <td>2019-09-24 18:56:00</td>\n",
       "      <td>13</td>\n",
       "    </tr>\n",
       "  </tbody>\n",
       "</table>\n",
       "</div>"
      ],
      "text/plain": [
       "       record_id item_topic  source_topic age_segment                  dt  \\\n",
       "25569    1066166      Семья  Знаменитости       18-25 2019-09-24 18:54:00   \n",
       "16558    1057155  Отношения       История       18-25 2019-09-24 18:53:00   \n",
       "12268    1052865   Культура     Интерьеры       36-40 2019-09-24 18:57:00   \n",
       "27448    1068045   Скандалы         Семья       18-25 2019-09-24 19:00:00   \n",
       "18640    1059237   Подборки        Россия       36-40 2019-09-24 18:56:00   \n",
       "\n",
       "       visits  \n",
       "25569      11  \n",
       "16558       1  \n",
       "12268       3  \n",
       "27448      10  \n",
       "18640      13  "
      ]
     },
     "execution_count": 2,
     "metadata": {},
     "output_type": "execute_result"
    }
   ],
   "source": [
    "dash_visits.sample(5)"
   ]
  },
  {
   "cell_type": "markdown",
   "id": "6ab88323",
   "metadata": {},
   "source": [
    "Каждую карточку определяют её тема `item_topic` и источник `source_topic` (у него тоже есть тема). Примеры тем: «Красота и здоровье», «Россия», «Путешествия».\n",
    "\n",
    "Пользователей системы характеризует возрастная категория `age_segment`. Скажем, «26-30» или «45+».\n",
    "\n",
    "Есть три способа взаимодействия пользователей с системой:\n",
    "- Карточка отображена для пользователя (*show*);\n",
    "- Пользователь кликнул на карточку (*click*);\n",
    "- Пользователь просмотрел статью карточки (*view*);\n",
    "\n",
    "в этой агрегированной таблице мы рассматриваем суммарные визиты — `visits`."
   ]
  },
  {
   "cell_type": "markdown",
   "id": "529d1c9e",
   "metadata": {},
   "source": [
    "Ознакомимся с общей информацией о данных в таблице."
   ]
  },
  {
   "cell_type": "code",
   "execution_count": 3,
   "id": "72f67fcc",
   "metadata": {},
   "outputs": [
    {
     "name": "stdout",
     "output_type": "stream",
     "text": [
      "<class 'pandas.core.frame.DataFrame'>\n",
      "RangeIndex: 30745 entries, 0 to 30744\n",
      "Data columns (total 6 columns):\n",
      " #   Column        Non-Null Count  Dtype         \n",
      "---  ------        --------------  -----         \n",
      " 0   record_id     30745 non-null  int64         \n",
      " 1   item_topic    30745 non-null  object        \n",
      " 2   source_topic  30745 non-null  object        \n",
      " 3   age_segment   30745 non-null  object        \n",
      " 4   dt            30745 non-null  datetime64[ns]\n",
      " 5   visits        30745 non-null  int64         \n",
      "dtypes: datetime64[ns](1), int64(2), object(3)\n",
      "memory usage: 1.4+ MB\n"
     ]
    }
   ],
   "source": [
    "dash_visits.info()"
   ]
  },
  {
   "cell_type": "markdown",
   "id": "7c81029f",
   "metadata": {},
   "source": [
    "Пропусков нет, все типы данных соответствуют значениям."
   ]
  },
  {
   "cell_type": "code",
   "execution_count": 4,
   "id": "26c1a9ec",
   "metadata": {},
   "outputs": [
    {
     "data": {
      "text/plain": [
       "'Количество явных дубликатов: 0'"
      ]
     },
     "metadata": {},
     "output_type": "display_data"
    }
   ],
   "source": [
    "display(f'Количество явных дубликатов: {dash_visits.duplicated().sum()}')"
   ]
  },
  {
   "cell_type": "markdown",
   "id": "a8580152",
   "metadata": {},
   "source": [
    "Проверим данные в строковых столбцах."
   ]
  },
  {
   "cell_type": "code",
   "execution_count": 5,
   "id": "18ab3a7d",
   "metadata": {},
   "outputs": [
    {
     "data": {
      "text/plain": [
       "'Значения колонки item_topic:'"
      ]
     },
     "metadata": {},
     "output_type": "display_data"
    },
    {
     "data": {
      "text/plain": [
       "Отношения             1536\n",
       "Интересные факты      1535\n",
       "Наука                 1505\n",
       "Подборки              1456\n",
       "Полезные советы       1424\n",
       "Общество              1422\n",
       "Россия                1385\n",
       "История               1363\n",
       "Семья                 1287\n",
       "Путешествия           1247\n",
       "Деньги                1234\n",
       "Женщины               1230\n",
       "Дети                  1229\n",
       "Туризм                1206\n",
       "Здоровье              1203\n",
       "Красота               1193\n",
       "Культура              1160\n",
       "Юмор                  1129\n",
       "Искусство             1119\n",
       "Рассказы              1109\n",
       "Психология            1056\n",
       "Скандалы              1023\n",
       "Знаменитости           976\n",
       "Женская психология     914\n",
       "Шоу                    804\n",
       "Name: item_topic, dtype: int64"
      ]
     },
     "metadata": {},
     "output_type": "display_data"
    },
    {
     "name": "stdout",
     "output_type": "stream",
     "text": [
      "\n"
     ]
    },
    {
     "data": {
      "text/plain": [
       "'Значения колонки source_topic:'"
      ]
     },
     "metadata": {},
     "output_type": "display_data"
    },
    {
     "data": {
      "text/plain": [
       "Семейные отношения    1822\n",
       "Россия                1687\n",
       "Знаменитости          1650\n",
       "Полезные советы       1578\n",
       "Путешествия           1563\n",
       "Кино                  1505\n",
       "Дети                  1459\n",
       "История               1437\n",
       "Семья                 1405\n",
       "Одежда                1379\n",
       "Здоровье              1243\n",
       "Искусство             1228\n",
       "Авто                  1077\n",
       "Психология            1055\n",
       "Сад и дача            1036\n",
       "Политика              1024\n",
       "Спорт                 1007\n",
       "Сделай сам             995\n",
       "Ремонт                 985\n",
       "Деньги                 973\n",
       "Еда                    912\n",
       "Интерьеры              809\n",
       "Строительство          758\n",
       "Музыка                 750\n",
       "Технологии             741\n",
       "Финансы                667\n",
       "Name: source_topic, dtype: int64"
      ]
     },
     "metadata": {},
     "output_type": "display_data"
    },
    {
     "name": "stdout",
     "output_type": "stream",
     "text": [
      "\n"
     ]
    },
    {
     "data": {
      "text/plain": [
       "'Значения колонки age_segment:'"
      ]
     },
     "metadata": {},
     "output_type": "display_data"
    },
    {
     "data": {
      "text/plain": [
       "18-25    7056\n",
       "26-30    5875\n",
       "31-35    5552\n",
       "36-40    5105\n",
       "41-45    3903\n",
       "45+      3254\n",
       "Name: age_segment, dtype: int64"
      ]
     },
     "metadata": {},
     "output_type": "display_data"
    },
    {
     "name": "stdout",
     "output_type": "stream",
     "text": [
      "\n"
     ]
    }
   ],
   "source": [
    "for col in ['item_topic', 'source_topic', 'age_segment']:\n",
    "    display(f'Значения колонки {col}:')    \n",
    "    display(dash_visits[col].value_counts())\n",
    "    print()"
   ]
  },
  {
   "cell_type": "markdown",
   "id": "eca4d7fe",
   "metadata": {},
   "source": [
    "Нет ничего подозрительного."
   ]
  },
  {
   "cell_type": "code",
   "execution_count": 6,
   "id": "605e8af1",
   "metadata": {},
   "outputs": [
    {
     "data": {
      "text/plain": [
       "'Временной интервал записей таблицы: с 2019-09-24 18:28:00 до 2019-09-24 19:00:00'"
      ]
     },
     "metadata": {},
     "output_type": "display_data"
    }
   ],
   "source": [
    "display(f'Временной интервал записей таблицы: с {dash_visits[\"dt\"].min()} до {dash_visits[\"dt\"].max()}')"
   ]
  },
  {
   "cell_type": "markdown",
   "id": "e5f7ae9a",
   "metadata": {},
   "source": [
    "Всего полчаса вечером 24-ого сентября 2019.\n",
    "\n",
    "И, наконец, посмотрим на разброс значений в колонке `visits`."
   ]
  },
  {
   "cell_type": "code",
   "execution_count": 7,
   "id": "13daf171",
   "metadata": {},
   "outputs": [
    {
     "data": {
      "text/plain": [
       "count    30745.000000\n",
       "mean        10.089673\n",
       "std         19.727601\n",
       "min          1.000000\n",
       "25%          1.000000\n",
       "50%          3.000000\n",
       "75%         10.000000\n",
       "max        371.000000\n",
       "Name: visits, dtype: float64"
      ]
     },
     "execution_count": 7,
     "metadata": {},
     "output_type": "execute_result"
    }
   ],
   "source": [
    "dash_visits['visits'].describe()"
   ]
  },
  {
   "cell_type": "code",
   "execution_count": 8,
   "id": "9152a021",
   "metadata": {},
   "outputs": [
    {
     "data": {
      "image/png": "[encoded data removed]",
      "text/plain": [
       "<Figure size 1080x504 with 1 Axes>"
      ]
     },
     "metadata": {
      "needs_background": "light"
     },
     "output_type": "display_data"
    }
   ],
   "source": [
    "dash_visits['visits'].hist(bins=90, range=(100,372), figsize=(15,7), color='crimson');"
   ]
  },
  {
   "cell_type": "markdown",
   "id": "f042c44b",
   "metadata": {},
   "source": [
    "У распределения длинный хвост, уходящий вправо — среднее значительно отличается от медианы. Но, похоже, что большие значения всё-таки не аномалии.\n",
    "\n",
    "Стало быть, данные в порядке — можно выгружать таблицу в файл `dash_visits.csv`."
   ]
  },
  {
   "cell_type": "code",
   "execution_count": null,
   "id": "0cc4e160",
   "metadata": {},
   "outputs": [],
   "source": [
    "dash_visits.to_csv('dash_visits.csv', index=False)"
   ]
  }
 ],
 "metadata": {
  "kernelspec": {
   "display_name": "Python 3 (ipykernel)",
   "language": "python",
   "name": "python3"
  },
  "language_info": {
   "codemirror_mode": {
    "name": "ipython",
    "version": 3
   },
   "file_extension": ".py",
   "mimetype": "text/x-python",
   "name": "python",
   "nbconvert_exporter": "python",
   "pygments_lexer": "ipython3",
   "version": "3.9.7"
  }
 },
 "nbformat": 4,
 "nbformat_minor": 5
}
