{
 "cells": [
  {
   "cell_type": "markdown",
   "metadata": {},
   "source": [
    "# Определение перспективного тарифа для телеком-компании"
   ]
  },
  {
   "cell_type": "markdown",
   "metadata": {
    "toc": true
   },
   "source": [
    "<h1>Содержание проекта<span class=\"tocSkip\"></span></h1>\n",
    "<div class=\"toc\"><ul class=\"toc-item\"><li><span><a href=\"#Обзор-данных\" data-toc-modified-id=\"Обзор-данных-1\"><span class=\"toc-item-num\">1&nbsp;&nbsp;</span>Обзор данных</a></span><ul class=\"toc-item\"><li><span><a href=\"#Вывод\" data-toc-modified-id=\"Вывод-1.1\"><span class=\"toc-item-num\">1.1&nbsp;&nbsp;</span>Вывод</a></span></li></ul></li><li><span><a href=\"#Предобработка-данных\" data-toc-modified-id=\"Предобработка-данных-2\"><span class=\"toc-item-num\">2&nbsp;&nbsp;</span>Предобработка данных</a></span><ul class=\"toc-item\"><li><span><a href=\"#Исправление-выявленных-недочётов\" data-toc-modified-id=\"Исправление-выявленных-недочётов-2.1\"><span class=\"toc-item-num\">2.1&nbsp;&nbsp;</span>Исправление выявленных недочётов</a></span></li><li><span><a href=\"#Подготовка-данных\" data-toc-modified-id=\"Подготовка-данных-2.2\"><span class=\"toc-item-num\">2.2&nbsp;&nbsp;</span>Подготовка данных</a></span></li><li><span><a href=\"#Вывод\" data-toc-modified-id=\"Вывод-2.3\"><span class=\"toc-item-num\">2.3&nbsp;&nbsp;</span>Вывод</a></span></li></ul></li><li><span><a href=\"#Расчёт-дополнительных-параметров\" data-toc-modified-id=\"Расчёт-дополнительных-параметров-3\"><span class=\"toc-item-num\">3&nbsp;&nbsp;</span>Расчёт дополнительных параметров</a></span><ul class=\"toc-item\"><li><span><a href=\"#Звонки\" data-toc-modified-id=\"Звонки-3.1\"><span class=\"toc-item-num\">3.1&nbsp;&nbsp;</span>Звонки</a></span></li><li><span><a href=\"#Сообщения\" data-toc-modified-id=\"Сообщения-3.2\"><span class=\"toc-item-num\">3.2&nbsp;&nbsp;</span>Сообщения</a></span></li><li><span><a href=\"#Интернет-трафик\" data-toc-modified-id=\"Интернет-трафик-3.3\"><span class=\"toc-item-num\">3.3&nbsp;&nbsp;</span>Интернет-трафик</a></span></li><li><span><a href=\"#Выручка\" data-toc-modified-id=\"Выручка-3.4\"><span class=\"toc-item-num\">3.4&nbsp;&nbsp;</span>Выручка</a></span></li><li><span><a href=\"#Вывод\" data-toc-modified-id=\"Вывод-3.5\"><span class=\"toc-item-num\">3.5&nbsp;&nbsp;</span>Вывод</a></span></li></ul></li><li><span><a href=\"#Анализ-данных\" data-toc-modified-id=\"Анализ-данных-4\"><span class=\"toc-item-num\">4&nbsp;&nbsp;</span>Анализ данных</a></span><ul class=\"toc-item\"><li><span><a href=\"#Звонки\" data-toc-modified-id=\"Звонки-4.1\"><span class=\"toc-item-num\">4.1&nbsp;&nbsp;</span>Звонки</a></span></li><li><span><a href=\"#Сообщения\" data-toc-modified-id=\"Сообщения-4.2\"><span class=\"toc-item-num\">4.2&nbsp;&nbsp;</span>Сообщения</a></span></li><li><span><a href=\"#Интернет-трафик\" data-toc-modified-id=\"Интернет-трафик-4.3\"><span class=\"toc-item-num\">4.3&nbsp;&nbsp;</span>Интернет-трафик</a></span></li><li><span><a href=\"#Выручка\" data-toc-modified-id=\"Выручка-4.4\"><span class=\"toc-item-num\">4.4&nbsp;&nbsp;</span>Выручка</a></span></li><li><span><a href=\"#Вывод\" data-toc-modified-id=\"Вывод-4.5\"><span class=\"toc-item-num\">4.5&nbsp;&nbsp;</span>Вывод</a></span></li></ul></li><li><span><a href=\"#Проверка-гипотез\" data-toc-modified-id=\"Проверка-гипотез-5\"><span class=\"toc-item-num\">5&nbsp;&nbsp;</span>Проверка гипотез</a></span><ul class=\"toc-item\"><li><span><a href=\"#Зависимость-средней-выручки-от-тарифа\" data-toc-modified-id=\"Зависимость-средней-выручки-от-тарифа-5.1\"><span class=\"toc-item-num\">5.1&nbsp;&nbsp;</span>Зависимость средней выручки от тарифа</a></span></li><li><span><a href=\"#Зависимость-средней-выручки-от-региона\" data-toc-modified-id=\"Зависимость-средней-выручки-от-региона-5.2\"><span class=\"toc-item-num\">5.2&nbsp;&nbsp;</span>Зависимость средней выручки от региона</a></span></li><li><span><a href=\"#Вывод\" data-toc-modified-id=\"Вывод-5.3\"><span class=\"toc-item-num\">5.3&nbsp;&nbsp;</span>Вывод</a></span></li></ul></li><li><span><a href=\"#Вывод\" data-toc-modified-id=\"Вывод-6\"><span class=\"toc-item-num\">6&nbsp;&nbsp;</span>Вывод</a></span></li></ul></div>"
   ]
  },
  {
   "cell_type": "markdown",
   "metadata": {},
   "source": [
    "## Обзор данных"
   ]
  },
  {
   "cell_type": "markdown",
   "metadata": {},
   "source": [
    "Импортируем библиотеку Pandas (а заодно тут же и все остальные библиотеки, которые понадобятся в ходе выполнения проекта) для работы с таблицами и последовательно посмотрим на каждую из предоставленных таблиц с данными.\n",
    "\n",
    "Прочитаем файл `users.csv`, сохранив его в перемнной `users`. Выведем на экран первые строки и общую информацию о таблице для ознакомления со структурой данных."
   ]
  },
  {
   "cell_type": "code",
   "execution_count": 1,
   "metadata": {},
   "outputs": [],
   "source": [
    "import pandas as pd\n",
    "import numpy as np\n",
    "\n",
    "import matplotlib.pyplot as plt\n",
    "import seaborn as sns\n",
    "\n",
    "from scipy import stats as st"
   ]
  },
  {
   "cell_type": "code",
   "execution_count": 2,
   "metadata": {},
   "outputs": [
    {
     "data": {
      "text/html": [
       "<div>\n",
       "<style scoped>\n",
       "    .dataframe tbody tr th:only-of-type {\n",
       "        vertical-align: middle;\n",
       "    }\n",
       "\n",
       "    .dataframe tbody tr th {\n",
       "        vertical-align: top;\n",
       "    }\n",
       "\n",
       "    .dataframe thead th {\n",
       "        text-align: right;\n",
       "    }\n",
       "</style>\n",
       "<table border=\"1\" class=\"dataframe\">\n",
       "  <thead>\n",
       "    <tr style=\"text-align: right;\">\n",
       "      <th></th>\n",
       "      <th>user_id</th>\n",
       "      <th>age</th>\n",
       "      <th>churn_date</th>\n",
       "      <th>city</th>\n",
       "      <th>first_name</th>\n",
       "      <th>last_name</th>\n",
       "      <th>reg_date</th>\n",
       "      <th>tariff</th>\n",
       "    </tr>\n",
       "  </thead>\n",
       "  <tbody>\n",
       "    <tr>\n",
       "      <th>0</th>\n",
       "      <td>1000</td>\n",
       "      <td>52</td>\n",
       "      <td>NaN</td>\n",
       "      <td>Краснодар</td>\n",
       "      <td>Рафаил</td>\n",
       "      <td>Верещагин</td>\n",
       "      <td>2018-05-25</td>\n",
       "      <td>ultra</td>\n",
       "    </tr>\n",
       "    <tr>\n",
       "      <th>1</th>\n",
       "      <td>1001</td>\n",
       "      <td>41</td>\n",
       "      <td>NaN</td>\n",
       "      <td>Москва</td>\n",
       "      <td>Иван</td>\n",
       "      <td>Ежов</td>\n",
       "      <td>2018-11-01</td>\n",
       "      <td>smart</td>\n",
       "    </tr>\n",
       "    <tr>\n",
       "      <th>2</th>\n",
       "      <td>1002</td>\n",
       "      <td>59</td>\n",
       "      <td>NaN</td>\n",
       "      <td>Стерлитамак</td>\n",
       "      <td>Евгений</td>\n",
       "      <td>Абрамович</td>\n",
       "      <td>2018-06-17</td>\n",
       "      <td>smart</td>\n",
       "    </tr>\n",
       "    <tr>\n",
       "      <th>3</th>\n",
       "      <td>1003</td>\n",
       "      <td>23</td>\n",
       "      <td>NaN</td>\n",
       "      <td>Москва</td>\n",
       "      <td>Белла</td>\n",
       "      <td>Белякова</td>\n",
       "      <td>2018-08-17</td>\n",
       "      <td>ultra</td>\n",
       "    </tr>\n",
       "    <tr>\n",
       "      <th>4</th>\n",
       "      <td>1004</td>\n",
       "      <td>68</td>\n",
       "      <td>NaN</td>\n",
       "      <td>Новокузнецк</td>\n",
       "      <td>Татьяна</td>\n",
       "      <td>Авдеенко</td>\n",
       "      <td>2018-05-14</td>\n",
       "      <td>ultra</td>\n",
       "    </tr>\n",
       "    <tr>\n",
       "      <th>5</th>\n",
       "      <td>1005</td>\n",
       "      <td>67</td>\n",
       "      <td>NaN</td>\n",
       "      <td>Набережные Челны</td>\n",
       "      <td>Афанасий</td>\n",
       "      <td>Горлов</td>\n",
       "      <td>2018-01-25</td>\n",
       "      <td>smart</td>\n",
       "    </tr>\n",
       "    <tr>\n",
       "      <th>6</th>\n",
       "      <td>1006</td>\n",
       "      <td>21</td>\n",
       "      <td>NaN</td>\n",
       "      <td>Ульяновск</td>\n",
       "      <td>Леонид</td>\n",
       "      <td>Ермолаев</td>\n",
       "      <td>2018-02-26</td>\n",
       "      <td>smart</td>\n",
       "    </tr>\n",
       "    <tr>\n",
       "      <th>7</th>\n",
       "      <td>1007</td>\n",
       "      <td>65</td>\n",
       "      <td>NaN</td>\n",
       "      <td>Москва</td>\n",
       "      <td>Юна</td>\n",
       "      <td>Березина</td>\n",
       "      <td>2018-04-19</td>\n",
       "      <td>smart</td>\n",
       "    </tr>\n",
       "    <tr>\n",
       "      <th>8</th>\n",
       "      <td>1008</td>\n",
       "      <td>63</td>\n",
       "      <td>NaN</td>\n",
       "      <td>Челябинск</td>\n",
       "      <td>Рустэм</td>\n",
       "      <td>Пономарёв</td>\n",
       "      <td>2018-12-19</td>\n",
       "      <td>smart</td>\n",
       "    </tr>\n",
       "    <tr>\n",
       "      <th>9</th>\n",
       "      <td>1009</td>\n",
       "      <td>24</td>\n",
       "      <td>NaN</td>\n",
       "      <td>Пермь</td>\n",
       "      <td>Василиса</td>\n",
       "      <td>Блинова</td>\n",
       "      <td>2018-03-22</td>\n",
       "      <td>smart</td>\n",
       "    </tr>\n",
       "  </tbody>\n",
       "</table>\n",
       "</div>"
      ],
      "text/plain": [
       "   user_id  age churn_date              city first_name  last_name  \\\n",
       "0     1000   52        NaN         Краснодар     Рафаил  Верещагин   \n",
       "1     1001   41        NaN            Москва       Иван       Ежов   \n",
       "2     1002   59        NaN       Стерлитамак    Евгений  Абрамович   \n",
       "3     1003   23        NaN            Москва      Белла   Белякова   \n",
       "4     1004   68        NaN       Новокузнецк    Татьяна   Авдеенко   \n",
       "5     1005   67        NaN  Набережные Челны   Афанасий     Горлов   \n",
       "6     1006   21        NaN         Ульяновск     Леонид   Ермолаев   \n",
       "7     1007   65        NaN            Москва        Юна   Березина   \n",
       "8     1008   63        NaN         Челябинск     Рустэм  Пономарёв   \n",
       "9     1009   24        NaN             Пермь   Василиса    Блинова   \n",
       "\n",
       "     reg_date tariff  \n",
       "0  2018-05-25  ultra  \n",
       "1  2018-11-01  smart  \n",
       "2  2018-06-17  smart  \n",
       "3  2018-08-17  ultra  \n",
       "4  2018-05-14  ultra  \n",
       "5  2018-01-25  smart  \n",
       "6  2018-02-26  smart  \n",
       "7  2018-04-19  smart  \n",
       "8  2018-12-19  smart  \n",
       "9  2018-03-22  smart  "
      ]
     },
     "metadata": {},
     "output_type": "display_data"
    },
    {
     "name": "stdout",
     "output_type": "stream",
     "text": [
      "<class 'pandas.core.frame.DataFrame'>\n",
      "RangeIndex: 500 entries, 0 to 499\n",
      "Data columns (total 8 columns):\n",
      " #   Column      Non-Null Count  Dtype \n",
      "---  ------      --------------  ----- \n",
      " 0   user_id     500 non-null    int64 \n",
      " 1   age         500 non-null    int64 \n",
      " 2   churn_date  38 non-null     object\n",
      " 3   city        500 non-null    object\n",
      " 4   first_name  500 non-null    object\n",
      " 5   last_name   500 non-null    object\n",
      " 6   reg_date    500 non-null    object\n",
      " 7   tariff      500 non-null    object\n",
      "dtypes: int64(2), object(6)\n",
      "memory usage: 31.4+ KB\n"
     ]
    }
   ],
   "source": [
    "try:\n",
    "    users = pd.read_csv('/datasets/users.csv')\n",
    "except FileNotFoundError:\n",
    "    display('Указан неверный путь к файлу')\n",
    "else:\n",
    "    display(users.head(10))\n",
    "    users.info()"
   ]
  },
  {
   "cell_type": "markdown",
   "metadata": {},
   "source": [
    "В таблице — данные о 500 пользователях; 8 колонок с типами данных object и int. Столбец `churn_date` состоит из пропусков практически полностью.\n",
    "\n",
    "Согласно документации к данным:\n",
    "\n",
    "- `user_id` — уникальный идентификатор пользователя\n",
    "- `first_name` — имя пользователя\n",
    "- `last_name` — фамилия пользователя\n",
    "- `age` — возраст пользователя (годы)\n",
    "- `reg_date` — дата подключения тарифа (день, месяц, год)\n",
    "- `churn_date` — дата прекращения пользования тарифом (если значение пропущено, то тариф ещё действовал на момент выгрузки данных)\n",
    "- `city` — город проживания пользователя\n",
    "- `tariff` — название тарифного плана\n",
    "\n",
    "Таким образом, пропуски в колонке `churn_date` объясняются использованием пользователем тарифа на момент выгрузки данных, других пропусков в таблице нет. Типы данных преимущественно корректны, стоит изменить тип данных в столбцах с датами."
   ]
  },
  {
   "cell_type": "markdown",
   "metadata": {},
   "source": [
    "Следующая таблица — с информацией о звонках. Читаем файл `calls.csv` и сохраняем его в переменную `calls`, ознакамливаемся с данными:"
   ]
  },
  {
   "cell_type": "code",
   "execution_count": 3,
   "metadata": {},
   "outputs": [
    {
     "data": {
      "text/html": [
       "<div>\n",
       "<style scoped>\n",
       "    .dataframe tbody tr th:only-of-type {\n",
       "        vertical-align: middle;\n",
       "    }\n",
       "\n",
       "    .dataframe tbody tr th {\n",
       "        vertical-align: top;\n",
       "    }\n",
       "\n",
       "    .dataframe thead th {\n",
       "        text-align: right;\n",
       "    }\n",
       "</style>\n",
       "<table border=\"1\" class=\"dataframe\">\n",
       "  <thead>\n",
       "    <tr style=\"text-align: right;\">\n",
       "      <th></th>\n",
       "      <th>id</th>\n",
       "      <th>call_date</th>\n",
       "      <th>duration</th>\n",
       "      <th>user_id</th>\n",
       "    </tr>\n",
       "  </thead>\n",
       "  <tbody>\n",
       "    <tr>\n",
       "      <th>0</th>\n",
       "      <td>1000_0</td>\n",
       "      <td>2018-07-25</td>\n",
       "      <td>0.00</td>\n",
       "      <td>1000</td>\n",
       "    </tr>\n",
       "    <tr>\n",
       "      <th>1</th>\n",
       "      <td>1000_1</td>\n",
       "      <td>2018-08-17</td>\n",
       "      <td>0.00</td>\n",
       "      <td>1000</td>\n",
       "    </tr>\n",
       "    <tr>\n",
       "      <th>2</th>\n",
       "      <td>1000_2</td>\n",
       "      <td>2018-06-11</td>\n",
       "      <td>2.85</td>\n",
       "      <td>1000</td>\n",
       "    </tr>\n",
       "    <tr>\n",
       "      <th>3</th>\n",
       "      <td>1000_3</td>\n",
       "      <td>2018-09-21</td>\n",
       "      <td>13.80</td>\n",
       "      <td>1000</td>\n",
       "    </tr>\n",
       "    <tr>\n",
       "      <th>4</th>\n",
       "      <td>1000_4</td>\n",
       "      <td>2018-12-15</td>\n",
       "      <td>5.18</td>\n",
       "      <td>1000</td>\n",
       "    </tr>\n",
       "    <tr>\n",
       "      <th>5</th>\n",
       "      <td>1000_5</td>\n",
       "      <td>2018-11-02</td>\n",
       "      <td>0.00</td>\n",
       "      <td>1000</td>\n",
       "    </tr>\n",
       "    <tr>\n",
       "      <th>6</th>\n",
       "      <td>1000_6</td>\n",
       "      <td>2018-10-18</td>\n",
       "      <td>0.00</td>\n",
       "      <td>1000</td>\n",
       "    </tr>\n",
       "    <tr>\n",
       "      <th>7</th>\n",
       "      <td>1000_7</td>\n",
       "      <td>2018-08-22</td>\n",
       "      <td>18.31</td>\n",
       "      <td>1000</td>\n",
       "    </tr>\n",
       "    <tr>\n",
       "      <th>8</th>\n",
       "      <td>1000_8</td>\n",
       "      <td>2018-09-15</td>\n",
       "      <td>18.44</td>\n",
       "      <td>1000</td>\n",
       "    </tr>\n",
       "    <tr>\n",
       "      <th>9</th>\n",
       "      <td>1000_9</td>\n",
       "      <td>2018-08-15</td>\n",
       "      <td>0.00</td>\n",
       "      <td>1000</td>\n",
       "    </tr>\n",
       "  </tbody>\n",
       "</table>\n",
       "</div>"
      ],
      "text/plain": [
       "       id   call_date  duration  user_id\n",
       "0  1000_0  2018-07-25      0.00     1000\n",
       "1  1000_1  2018-08-17      0.00     1000\n",
       "2  1000_2  2018-06-11      2.85     1000\n",
       "3  1000_3  2018-09-21     13.80     1000\n",
       "4  1000_4  2018-12-15      5.18     1000\n",
       "5  1000_5  2018-11-02      0.00     1000\n",
       "6  1000_6  2018-10-18      0.00     1000\n",
       "7  1000_7  2018-08-22     18.31     1000\n",
       "8  1000_8  2018-09-15     18.44     1000\n",
       "9  1000_9  2018-08-15      0.00     1000"
      ]
     },
     "metadata": {},
     "output_type": "display_data"
    },
    {
     "name": "stdout",
     "output_type": "stream",
     "text": [
      "<class 'pandas.core.frame.DataFrame'>\n",
      "RangeIndex: 202607 entries, 0 to 202606\n",
      "Data columns (total 4 columns):\n",
      " #   Column     Non-Null Count   Dtype  \n",
      "---  ------     --------------   -----  \n",
      " 0   id         202607 non-null  object \n",
      " 1   call_date  202607 non-null  object \n",
      " 2   duration   202607 non-null  float64\n",
      " 3   user_id    202607 non-null  int64  \n",
      "dtypes: float64(1), int64(1), object(2)\n",
      "memory usage: 6.2+ MB\n"
     ]
    }
   ],
   "source": [
    "try:\n",
    "    calls = pd.read_csv('/datasets/calls.csv')\n",
    "except FileNotFoundError:\n",
    "    display('Указан неверный путь к файлу')\n",
    "else:\n",
    "    display(calls.head(10))\n",
    "    calls.info()"
   ]
  },
  {
   "cell_type": "markdown",
   "metadata": {},
   "source": [
    "В этой таблице пропусков нет, столбец с датами звонков также следует привести к правильному типу данных. Звонки с нулевой продолжительностью — это пропущенные звонки. Остальные данные выглядят адекватными.\n",
    "\n",
    "Из документации:\n",
    "- `id` — уникальный номер звонка\n",
    "- `call_date` — дата звонка\n",
    "- `duration` — длительность звонка в минутах\n",
    "- `user_id` — идентификатор пользователя, сделавшего звонок"
   ]
  },
  {
   "cell_type": "markdown",
   "metadata": {},
   "source": [
    "Аналогично следующая таблица: файл `messages.csv` с информацией о сообщениях сохраняем в переменную `messages`."
   ]
  },
  {
   "cell_type": "code",
   "execution_count": 4,
   "metadata": {},
   "outputs": [
    {
     "data": {
      "text/html": [
       "<div>\n",
       "<style scoped>\n",
       "    .dataframe tbody tr th:only-of-type {\n",
       "        vertical-align: middle;\n",
       "    }\n",
       "\n",
       "    .dataframe tbody tr th {\n",
       "        vertical-align: top;\n",
       "    }\n",
       "\n",
       "    .dataframe thead th {\n",
       "        text-align: right;\n",
       "    }\n",
       "</style>\n",
       "<table border=\"1\" class=\"dataframe\">\n",
       "  <thead>\n",
       "    <tr style=\"text-align: right;\">\n",
       "      <th></th>\n",
       "      <th>id</th>\n",
       "      <th>message_date</th>\n",
       "      <th>user_id</th>\n",
       "    </tr>\n",
       "  </thead>\n",
       "  <tbody>\n",
       "    <tr>\n",
       "      <th>0</th>\n",
       "      <td>1000_0</td>\n",
       "      <td>2018-06-27</td>\n",
       "      <td>1000</td>\n",
       "    </tr>\n",
       "    <tr>\n",
       "      <th>1</th>\n",
       "      <td>1000_1</td>\n",
       "      <td>2018-10-08</td>\n",
       "      <td>1000</td>\n",
       "    </tr>\n",
       "    <tr>\n",
       "      <th>2</th>\n",
       "      <td>1000_2</td>\n",
       "      <td>2018-08-04</td>\n",
       "      <td>1000</td>\n",
       "    </tr>\n",
       "    <tr>\n",
       "      <th>3</th>\n",
       "      <td>1000_3</td>\n",
       "      <td>2018-06-16</td>\n",
       "      <td>1000</td>\n",
       "    </tr>\n",
       "    <tr>\n",
       "      <th>4</th>\n",
       "      <td>1000_4</td>\n",
       "      <td>2018-12-05</td>\n",
       "      <td>1000</td>\n",
       "    </tr>\n",
       "    <tr>\n",
       "      <th>5</th>\n",
       "      <td>1000_5</td>\n",
       "      <td>2018-06-20</td>\n",
       "      <td>1000</td>\n",
       "    </tr>\n",
       "    <tr>\n",
       "      <th>6</th>\n",
       "      <td>1000_6</td>\n",
       "      <td>2018-11-19</td>\n",
       "      <td>1000</td>\n",
       "    </tr>\n",
       "    <tr>\n",
       "      <th>7</th>\n",
       "      <td>1000_7</td>\n",
       "      <td>2018-10-29</td>\n",
       "      <td>1000</td>\n",
       "    </tr>\n",
       "    <tr>\n",
       "      <th>8</th>\n",
       "      <td>1000_8</td>\n",
       "      <td>2018-06-25</td>\n",
       "      <td>1000</td>\n",
       "    </tr>\n",
       "    <tr>\n",
       "      <th>9</th>\n",
       "      <td>1000_9</td>\n",
       "      <td>2018-12-18</td>\n",
       "      <td>1000</td>\n",
       "    </tr>\n",
       "  </tbody>\n",
       "</table>\n",
       "</div>"
      ],
      "text/plain": [
       "       id message_date  user_id\n",
       "0  1000_0   2018-06-27     1000\n",
       "1  1000_1   2018-10-08     1000\n",
       "2  1000_2   2018-08-04     1000\n",
       "3  1000_3   2018-06-16     1000\n",
       "4  1000_4   2018-12-05     1000\n",
       "5  1000_5   2018-06-20     1000\n",
       "6  1000_6   2018-11-19     1000\n",
       "7  1000_7   2018-10-29     1000\n",
       "8  1000_8   2018-06-25     1000\n",
       "9  1000_9   2018-12-18     1000"
      ]
     },
     "metadata": {},
     "output_type": "display_data"
    },
    {
     "name": "stdout",
     "output_type": "stream",
     "text": [
      "<class 'pandas.core.frame.DataFrame'>\n",
      "RangeIndex: 123036 entries, 0 to 123035\n",
      "Data columns (total 3 columns):\n",
      " #   Column        Non-Null Count   Dtype \n",
      "---  ------        --------------   ----- \n",
      " 0   id            123036 non-null  object\n",
      " 1   message_date  123036 non-null  object\n",
      " 2   user_id       123036 non-null  int64 \n",
      "dtypes: int64(1), object(2)\n",
      "memory usage: 2.8+ MB\n"
     ]
    }
   ],
   "source": [
    "try:\n",
    "    messages = pd.read_csv('/datasets/messages.csv')\n",
    "except FileNotFoundError:\n",
    "    display('Указан неверный путь к файлу')\n",
    "else:\n",
    "    display(messages.head(10))\n",
    "    messages.info()"
   ]
  },
  {
   "cell_type": "markdown",
   "metadata": {},
   "source": [
    "Пропусков нет, в столбце с датой следует изменить тип данных.\n",
    "\n",
    "Из документации:\n",
    "- `id` — уникальный номер сообщения\n",
    "- `message_date` — дата сообщения\n",
    "- `user_id` — идентификатор пользователя, отправившего сообщение"
   ]
  },
  {
   "cell_type": "markdown",
   "metadata": {},
   "source": [
    "Следующая таблица: файл `internet.csv` с информацией об интернет-сессиях сохраняем в переменную `internet`."
   ]
  },
  {
   "cell_type": "code",
   "execution_count": 5,
   "metadata": {},
   "outputs": [
    {
     "data": {
      "text/html": [
       "<div>\n",
       "<style scoped>\n",
       "    .dataframe tbody tr th:only-of-type {\n",
       "        vertical-align: middle;\n",
       "    }\n",
       "\n",
       "    .dataframe tbody tr th {\n",
       "        vertical-align: top;\n",
       "    }\n",
       "\n",
       "    .dataframe thead th {\n",
       "        text-align: right;\n",
       "    }\n",
       "</style>\n",
       "<table border=\"1\" class=\"dataframe\">\n",
       "  <thead>\n",
       "    <tr style=\"text-align: right;\">\n",
       "      <th></th>\n",
       "      <th>id</th>\n",
       "      <th>mb_used</th>\n",
       "      <th>session_date</th>\n",
       "      <th>user_id</th>\n",
       "    </tr>\n",
       "  </thead>\n",
       "  <tbody>\n",
       "    <tr>\n",
       "      <th>0</th>\n",
       "      <td>1000_0</td>\n",
       "      <td>112.95</td>\n",
       "      <td>2018-11-25</td>\n",
       "      <td>1000</td>\n",
       "    </tr>\n",
       "    <tr>\n",
       "      <th>1</th>\n",
       "      <td>1000_1</td>\n",
       "      <td>1052.81</td>\n",
       "      <td>2018-09-07</td>\n",
       "      <td>1000</td>\n",
       "    </tr>\n",
       "    <tr>\n",
       "      <th>2</th>\n",
       "      <td>1000_2</td>\n",
       "      <td>1197.26</td>\n",
       "      <td>2018-06-25</td>\n",
       "      <td>1000</td>\n",
       "    </tr>\n",
       "    <tr>\n",
       "      <th>3</th>\n",
       "      <td>1000_3</td>\n",
       "      <td>550.27</td>\n",
       "      <td>2018-08-22</td>\n",
       "      <td>1000</td>\n",
       "    </tr>\n",
       "    <tr>\n",
       "      <th>4</th>\n",
       "      <td>1000_4</td>\n",
       "      <td>302.56</td>\n",
       "      <td>2018-09-24</td>\n",
       "      <td>1000</td>\n",
       "    </tr>\n",
       "    <tr>\n",
       "      <th>5</th>\n",
       "      <td>1000_5</td>\n",
       "      <td>399.97</td>\n",
       "      <td>2018-10-02</td>\n",
       "      <td>1000</td>\n",
       "    </tr>\n",
       "    <tr>\n",
       "      <th>6</th>\n",
       "      <td>1000_6</td>\n",
       "      <td>540.08</td>\n",
       "      <td>2018-09-07</td>\n",
       "      <td>1000</td>\n",
       "    </tr>\n",
       "    <tr>\n",
       "      <th>7</th>\n",
       "      <td>1000_7</td>\n",
       "      <td>415.70</td>\n",
       "      <td>2018-07-11</td>\n",
       "      <td>1000</td>\n",
       "    </tr>\n",
       "    <tr>\n",
       "      <th>8</th>\n",
       "      <td>1000_8</td>\n",
       "      <td>505.40</td>\n",
       "      <td>2018-10-08</td>\n",
       "      <td>1000</td>\n",
       "    </tr>\n",
       "    <tr>\n",
       "      <th>9</th>\n",
       "      <td>1000_9</td>\n",
       "      <td>345.54</td>\n",
       "      <td>2018-09-03</td>\n",
       "      <td>1000</td>\n",
       "    </tr>\n",
       "  </tbody>\n",
       "</table>\n",
       "</div>"
      ],
      "text/plain": [
       "       id  mb_used session_date  user_id\n",
       "0  1000_0   112.95   2018-11-25     1000\n",
       "1  1000_1  1052.81   2018-09-07     1000\n",
       "2  1000_2  1197.26   2018-06-25     1000\n",
       "3  1000_3   550.27   2018-08-22     1000\n",
       "4  1000_4   302.56   2018-09-24     1000\n",
       "5  1000_5   399.97   2018-10-02     1000\n",
       "6  1000_6   540.08   2018-09-07     1000\n",
       "7  1000_7   415.70   2018-07-11     1000\n",
       "8  1000_8   505.40   2018-10-08     1000\n",
       "9  1000_9   345.54   2018-09-03     1000"
      ]
     },
     "metadata": {},
     "output_type": "display_data"
    },
    {
     "name": "stdout",
     "output_type": "stream",
     "text": [
      "<class 'pandas.core.frame.DataFrame'>\n",
      "Int64Index: 149396 entries, 0 to 149395\n",
      "Data columns (total 4 columns):\n",
      " #   Column        Non-Null Count   Dtype  \n",
      "---  ------        --------------   -----  \n",
      " 0   id            149396 non-null  object \n",
      " 1   mb_used       149396 non-null  float64\n",
      " 2   session_date  149396 non-null  object \n",
      " 3   user_id       149396 non-null  int64  \n",
      "dtypes: float64(1), int64(1), object(2)\n",
      "memory usage: 5.7+ MB\n"
     ]
    }
   ],
   "source": [
    "try:\n",
    "    internet = pd.read_csv('/datasets/internet.csv', index_col=0)\n",
    "except FileNotFoundError:\n",
    "    display('Указан неверный путь к файлу')\n",
    "else:\n",
    "    display(internet.head(10))\n",
    "    internet.info()"
   ]
  },
  {
   "cell_type": "markdown",
   "metadata": {},
   "source": [
    "Пропусков нет, в столбце с датой следует изменить тип данных, а также избавиться от столбца `Unnamed: 0`, дублирующего индексы.\n",
    "\n",
    "Из документации:\n",
    "- `id` — уникальный номер сессии\n",
    "- `mb_used` — объём потраченного за сессию интернет-трафика (в мегабайтах)\n",
    "- `session_date` — дата интернет-сессии\n",
    "- `user_id` — идентификатор пользователя"
   ]
  },
  {
   "cell_type": "markdown",
   "metadata": {},
   "source": [
    "И последняя таблица — с информацией о тарифах: файл `tariffs.csv` сохраняем в переменную `tariffs`."
   ]
  },
  {
   "cell_type": "code",
   "execution_count": 6,
   "metadata": {},
   "outputs": [
    {
     "data": {
      "text/html": [
       "<div>\n",
       "<style scoped>\n",
       "    .dataframe tbody tr th:only-of-type {\n",
       "        vertical-align: middle;\n",
       "    }\n",
       "\n",
       "    .dataframe tbody tr th {\n",
       "        vertical-align: top;\n",
       "    }\n",
       "\n",
       "    .dataframe thead th {\n",
       "        text-align: right;\n",
       "    }\n",
       "</style>\n",
       "<table border=\"1\" class=\"dataframe\">\n",
       "  <thead>\n",
       "    <tr style=\"text-align: right;\">\n",
       "      <th></th>\n",
       "      <th>messages_included</th>\n",
       "      <th>mb_per_month_included</th>\n",
       "      <th>minutes_included</th>\n",
       "      <th>rub_monthly_fee</th>\n",
       "      <th>rub_per_gb</th>\n",
       "      <th>rub_per_message</th>\n",
       "      <th>rub_per_minute</th>\n",
       "      <th>tariff_name</th>\n",
       "    </tr>\n",
       "  </thead>\n",
       "  <tbody>\n",
       "    <tr>\n",
       "      <th>0</th>\n",
       "      <td>50</td>\n",
       "      <td>15360</td>\n",
       "      <td>500</td>\n",
       "      <td>550</td>\n",
       "      <td>200</td>\n",
       "      <td>3</td>\n",
       "      <td>3</td>\n",
       "      <td>smart</td>\n",
       "    </tr>\n",
       "    <tr>\n",
       "      <th>1</th>\n",
       "      <td>1000</td>\n",
       "      <td>30720</td>\n",
       "      <td>3000</td>\n",
       "      <td>1950</td>\n",
       "      <td>150</td>\n",
       "      <td>1</td>\n",
       "      <td>1</td>\n",
       "      <td>ultra</td>\n",
       "    </tr>\n",
       "  </tbody>\n",
       "</table>\n",
       "</div>"
      ],
      "text/plain": [
       "   messages_included  mb_per_month_included  minutes_included  \\\n",
       "0                 50                  15360               500   \n",
       "1               1000                  30720              3000   \n",
       "\n",
       "   rub_monthly_fee  rub_per_gb  rub_per_message  rub_per_minute tariff_name  \n",
       "0              550         200                3               3       smart  \n",
       "1             1950         150                1               1       ultra  "
      ]
     },
     "metadata": {},
     "output_type": "display_data"
    },
    {
     "name": "stdout",
     "output_type": "stream",
     "text": [
      "<class 'pandas.core.frame.DataFrame'>\n",
      "RangeIndex: 2 entries, 0 to 1\n",
      "Data columns (total 8 columns):\n",
      " #   Column                 Non-Null Count  Dtype \n",
      "---  ------                 --------------  ----- \n",
      " 0   messages_included      2 non-null      int64 \n",
      " 1   mb_per_month_included  2 non-null      int64 \n",
      " 2   minutes_included       2 non-null      int64 \n",
      " 3   rub_monthly_fee        2 non-null      int64 \n",
      " 4   rub_per_gb             2 non-null      int64 \n",
      " 5   rub_per_message        2 non-null      int64 \n",
      " 6   rub_per_minute         2 non-null      int64 \n",
      " 7   tariff_name            2 non-null      object\n",
      "dtypes: int64(7), object(1)\n",
      "memory usage: 256.0+ bytes\n"
     ]
    }
   ],
   "source": [
    "try:    \n",
    "    tariffs = pd.read_csv('/datasets/tariffs.csv')\n",
    "except FileNotFoundError:\n",
    "    display('Указан неверный путь к файлу')\n",
    "else:\n",
    "    display(tariffs)\n",
    "    tariffs.info()"
   ]
  },
  {
   "cell_type": "markdown",
   "metadata": {},
   "source": [
    "Данные и типы данных в порядке.\n",
    "\n",
    "Из документации:\n",
    "- `tariff_name` — название тарифа\n",
    "- `rub_monthly_fee` — ежемесячная абонентская плата в рублях\n",
    "- `minutes_included` — количество минут разговора в месяц, включённых в абонентскую плату\n",
    "- `messages_included` — количество сообщений в месяц, включённых в абонентскую плату\n",
    "- `mb_per_month_included` — объём интернет-трафика, включённого в абонентскую плату (в мегабайтах)\n",
    "- `rub_per_minute` — стоимость минуты разговора сверх тарифного пакета (например, если в тарифе 100 минут разговора в месяц, то со 101 минуты будет взиматься плата)\n",
    "- `rub_per_message` — стоимость отправки сообщения сверх тарифного пакета\n",
    "- `rub_per_gb` — стоимость дополнительного гигабайта интернет-трафика сверх тарифного пакета (1 гигабайт = 1024 мегабайта)"
   ]
  },
  {
   "cell_type": "markdown",
   "metadata": {},
   "source": [
    "### Вывод\n",
    "\n",
    "Предварительный обзор данных в предоставленных таблицах показал, что данные в них представлены адекватно. Пропуски есть лишь в одном столбце, и они объясняются особенностью формирования значения в этом столбце при выгрузке. Названия столбцов таблицы корректны. \n",
    "В четырёх таблицах следует исправить тип данных в колонках с датами на *datetime*, чтобы иметь возможность работать с атрибутами даты.\n",
    "Также в таблице `internet` обнаруженен столбец-дубликат индексов.\n"
   ]
  },
  {
   "cell_type": "markdown",
   "metadata": {},
   "source": [
    "## Предобработка данных"
   ]
  },
  {
   "cell_type": "markdown",
   "metadata": {},
   "source": [
    "### Исправление выявленных недочётов"
   ]
  },
  {
   "cell_type": "markdown",
   "metadata": {},
   "source": [
    "Изменим тип данных в столбцах с датами во всех четырёх таблицах."
   ]
  },
  {
   "cell_type": "code",
   "execution_count": 7,
   "metadata": {},
   "outputs": [
    {
     "data": {
      "text/plain": [
       "user_id                int64\n",
       "age                    int64\n",
       "churn_date    datetime64[ns]\n",
       "city                  object\n",
       "first_name            object\n",
       "last_name             object\n",
       "reg_date      datetime64[ns]\n",
       "tariff                object\n",
       "dtype: object"
      ]
     },
     "metadata": {},
     "output_type": "display_data"
    },
    {
     "data": {
      "text/plain": [
       "id                   object\n",
       "call_date    datetime64[ns]\n",
       "duration            float64\n",
       "user_id               int64\n",
       "dtype: object"
      ]
     },
     "metadata": {},
     "output_type": "display_data"
    },
    {
     "data": {
      "text/plain": [
       "id                      object\n",
       "message_date    datetime64[ns]\n",
       "user_id                  int64\n",
       "dtype: object"
      ]
     },
     "metadata": {},
     "output_type": "display_data"
    },
    {
     "data": {
      "text/plain": [
       "id                      object\n",
       "mb_used                float64\n",
       "session_date    datetime64[ns]\n",
       "user_id                  int64\n",
       "dtype: object"
      ]
     },
     "metadata": {},
     "output_type": "display_data"
    }
   ],
   "source": [
    "users['reg_date'] = pd.to_datetime(users['reg_date'])\n",
    "users['churn_date'] = pd.to_datetime(users['churn_date'])\n",
    "\n",
    "calls['call_date'] = pd.to_datetime(calls['call_date'])\n",
    "\n",
    "messages['message_date'] = pd.to_datetime(messages['message_date'])\n",
    "\n",
    "internet['session_date'] = pd.to_datetime(internet['session_date'])\n",
    "\n",
    "display(users.dtypes, calls.dtypes, messages.dtypes, internet.dtypes)"
   ]
  },
  {
   "cell_type": "markdown",
   "metadata": {},
   "source": [
    "Убедимся, что в таблицах нет явных дубликатов:"
   ]
  },
  {
   "cell_type": "code",
   "execution_count": 8,
   "metadata": {},
   "outputs": [
    {
     "data": {
      "text/plain": [
       "0"
      ]
     },
     "metadata": {},
     "output_type": "display_data"
    },
    {
     "data": {
      "text/plain": [
       "0"
      ]
     },
     "metadata": {},
     "output_type": "display_data"
    },
    {
     "data": {
      "text/plain": [
       "0"
      ]
     },
     "metadata": {},
     "output_type": "display_data"
    },
    {
     "data": {
      "text/plain": [
       "0"
      ]
     },
     "metadata": {},
     "output_type": "display_data"
    }
   ],
   "source": [
    "display(users.duplicated().sum(), calls.duplicated().sum(), messages.duplicated().sum(), internet.duplicated().sum())"
   ]
  },
  {
   "cell_type": "markdown",
   "metadata": {},
   "source": [
    "И проверим уникальные значения в колонке с тарифами с таблице `users`: должно быть два варианта, иначе с группировкой возникнут проблемы."
   ]
  },
  {
   "cell_type": "code",
   "execution_count": 9,
   "metadata": {},
   "outputs": [
    {
     "data": {
      "text/plain": [
       "array(['ultra', 'smart'], dtype=object)"
      ]
     },
     "execution_count": 9,
     "metadata": {},
     "output_type": "execute_result"
    }
   ],
   "source": [
    "users['tariff'].unique()"
   ]
  },
  {
   "cell_type": "markdown",
   "metadata": {},
   "source": [
    "### Подготовка данных"
   ]
  },
  {
   "cell_type": "markdown",
   "metadata": {},
   "source": [
    "Теперь, чтобы сделать возможной дальнейшую работу с данными таблиц, добавим по столбцу с месяцем в каждую из трёх: `calls`, `messages` и `internet`. Это позволит группировать действия пользователей по месяцам. Тут же удалим оригинальные столбцы с датами, они больше не будут нужны. (Используем метод *.month*, поскольку согласно ТЗ данные представлены на один год).\n",
    "\n",
    "Всем им дадим одинаковое название *month*, чтобы впоследствии группировать и соединять таблицы по этой колонке."
   ]
  },
  {
   "cell_type": "code",
   "execution_count": 10,
   "metadata": {},
   "outputs": [],
   "source": [
    "calls['month'] = calls['call_date'].dt.month\n",
    "calls.drop(columns='call_date', inplace=True)\n",
    "\n",
    "messages['month'] = messages['message_date'].dt.month\n",
    "messages.drop(columns='message_date', inplace=True)\n",
    "\n",
    "internet['month'] = internet['session_date'].dt.month\n",
    "internet.drop(columns='session_date', inplace=True)"
   ]
  },
  {
   "cell_type": "markdown",
   "metadata": {},
   "source": [
    "Согласно условиям тарифов:\n",
    "> «Мегалайн» всегда округляет секунды до минут. Каждый звонок округляется отдельно.\n",
    "\n",
    "Поэтому в таблице `calls` сразу округлим продолжительность каждого звонка до минут в бóльшую сторону и, поскольку теперь там лишь целые числа, изменим тип данных на *int*."
   ]
  },
  {
   "cell_type": "code",
   "execution_count": 11,
   "metadata": {},
   "outputs": [
    {
     "data": {
      "text/html": [
       "<div>\n",
       "<style scoped>\n",
       "    .dataframe tbody tr th:only-of-type {\n",
       "        vertical-align: middle;\n",
       "    }\n",
       "\n",
       "    .dataframe tbody tr th {\n",
       "        vertical-align: top;\n",
       "    }\n",
       "\n",
       "    .dataframe thead th {\n",
       "        text-align: right;\n",
       "    }\n",
       "</style>\n",
       "<table border=\"1\" class=\"dataframe\">\n",
       "  <thead>\n",
       "    <tr style=\"text-align: right;\">\n",
       "      <th></th>\n",
       "      <th>id</th>\n",
       "      <th>duration</th>\n",
       "      <th>user_id</th>\n",
       "      <th>month</th>\n",
       "    </tr>\n",
       "  </thead>\n",
       "  <tbody>\n",
       "    <tr>\n",
       "      <th>0</th>\n",
       "      <td>1000_0</td>\n",
       "      <td>0</td>\n",
       "      <td>1000</td>\n",
       "      <td>7</td>\n",
       "    </tr>\n",
       "    <tr>\n",
       "      <th>1</th>\n",
       "      <td>1000_1</td>\n",
       "      <td>0</td>\n",
       "      <td>1000</td>\n",
       "      <td>8</td>\n",
       "    </tr>\n",
       "    <tr>\n",
       "      <th>2</th>\n",
       "      <td>1000_2</td>\n",
       "      <td>3</td>\n",
       "      <td>1000</td>\n",
       "      <td>6</td>\n",
       "    </tr>\n",
       "    <tr>\n",
       "      <th>3</th>\n",
       "      <td>1000_3</td>\n",
       "      <td>14</td>\n",
       "      <td>1000</td>\n",
       "      <td>9</td>\n",
       "    </tr>\n",
       "    <tr>\n",
       "      <th>4</th>\n",
       "      <td>1000_4</td>\n",
       "      <td>6</td>\n",
       "      <td>1000</td>\n",
       "      <td>12</td>\n",
       "    </tr>\n",
       "  </tbody>\n",
       "</table>\n",
       "</div>"
      ],
      "text/plain": [
       "       id  duration  user_id  month\n",
       "0  1000_0         0     1000      7\n",
       "1  1000_1         0     1000      8\n",
       "2  1000_2         3     1000      6\n",
       "3  1000_3        14     1000      9\n",
       "4  1000_4         6     1000     12"
      ]
     },
     "execution_count": 11,
     "metadata": {},
     "output_type": "execute_result"
    }
   ],
   "source": [
    "calls['duration'] = np.ceil(calls['duration']).astype('int')\n",
    "calls.head()"
   ]
  },
  {
   "cell_type": "markdown",
   "metadata": {},
   "source": [
    "### Вывод\n",
    "\n",
    "В разделе 2 данные были приведены к нужным типам, таблица проверена на наличие явных дубликатов, удалены лишние столбцы. Также в таблицы с трафиком добавлены столбцы `month` с месяцем каждой записи и округлена продолжительность звонков в соответствии с правилами тарифов."
   ]
  },
  {
   "cell_type": "markdown",
   "metadata": {},
   "source": [
    "## Расчёт дополнительных параметров"
   ]
  },
  {
   "cell_type": "markdown",
   "metadata": {},
   "source": [
    "В этом разделе посчитаем _для каждого пользователя_:\n",
    "* количество сделанных звонков и израсходованных минут разговора по месяцам;\n",
    "* количество отправленных сообщений по месяцам;\n",
    "* объём израсходованного интернет-трафика по месяцам;\n",
    "* помесячную выручку с каждого пользователя."
   ]
  },
  {
   "cell_type": "markdown",
   "metadata": {},
   "source": [
    "### Звонки\n",
    "\n",
    "Сгруппируем данные таблицы `calls` _по идентификаторам пользователей_ и _месяцам_, посчитаем количество и общую продолжительность звонков.\n",
    "После группировки приведём в порядок индексы и названия столбцов новой таблицы `calls_gr`."
   ]
  },
  {
   "cell_type": "code",
   "execution_count": 12,
   "metadata": {},
   "outputs": [
    {
     "data": {
      "text/html": [
       "<div>\n",
       "<style scoped>\n",
       "    .dataframe tbody tr th:only-of-type {\n",
       "        vertical-align: middle;\n",
       "    }\n",
       "\n",
       "    .dataframe tbody tr th {\n",
       "        vertical-align: top;\n",
       "    }\n",
       "\n",
       "    .dataframe thead th {\n",
       "        text-align: right;\n",
       "    }\n",
       "</style>\n",
       "<table border=\"1\" class=\"dataframe\">\n",
       "  <thead>\n",
       "    <tr style=\"text-align: right;\">\n",
       "      <th></th>\n",
       "      <th>user_id</th>\n",
       "      <th>month</th>\n",
       "      <th>calls_count</th>\n",
       "      <th>calls_duration_sum</th>\n",
       "    </tr>\n",
       "  </thead>\n",
       "  <tbody>\n",
       "    <tr>\n",
       "      <th>0</th>\n",
       "      <td>1000</td>\n",
       "      <td>5</td>\n",
       "      <td>22</td>\n",
       "      <td>159</td>\n",
       "    </tr>\n",
       "    <tr>\n",
       "      <th>1</th>\n",
       "      <td>1000</td>\n",
       "      <td>6</td>\n",
       "      <td>43</td>\n",
       "      <td>172</td>\n",
       "    </tr>\n",
       "    <tr>\n",
       "      <th>2</th>\n",
       "      <td>1000</td>\n",
       "      <td>7</td>\n",
       "      <td>47</td>\n",
       "      <td>340</td>\n",
       "    </tr>\n",
       "    <tr>\n",
       "      <th>3</th>\n",
       "      <td>1000</td>\n",
       "      <td>8</td>\n",
       "      <td>52</td>\n",
       "      <td>408</td>\n",
       "    </tr>\n",
       "    <tr>\n",
       "      <th>4</th>\n",
       "      <td>1000</td>\n",
       "      <td>9</td>\n",
       "      <td>58</td>\n",
       "      <td>466</td>\n",
       "    </tr>\n",
       "    <tr>\n",
       "      <th>5</th>\n",
       "      <td>1000</td>\n",
       "      <td>10</td>\n",
       "      <td>57</td>\n",
       "      <td>350</td>\n",
       "    </tr>\n",
       "    <tr>\n",
       "      <th>6</th>\n",
       "      <td>1000</td>\n",
       "      <td>11</td>\n",
       "      <td>43</td>\n",
       "      <td>338</td>\n",
       "    </tr>\n",
       "    <tr>\n",
       "      <th>7</th>\n",
       "      <td>1000</td>\n",
       "      <td>12</td>\n",
       "      <td>46</td>\n",
       "      <td>333</td>\n",
       "    </tr>\n",
       "    <tr>\n",
       "      <th>8</th>\n",
       "      <td>1001</td>\n",
       "      <td>11</td>\n",
       "      <td>59</td>\n",
       "      <td>430</td>\n",
       "    </tr>\n",
       "    <tr>\n",
       "      <th>9</th>\n",
       "      <td>1001</td>\n",
       "      <td>12</td>\n",
       "      <td>63</td>\n",
       "      <td>414</td>\n",
       "    </tr>\n",
       "    <tr>\n",
       "      <th>10</th>\n",
       "      <td>1002</td>\n",
       "      <td>6</td>\n",
       "      <td>15</td>\n",
       "      <td>117</td>\n",
       "    </tr>\n",
       "    <tr>\n",
       "      <th>11</th>\n",
       "      <td>1002</td>\n",
       "      <td>7</td>\n",
       "      <td>26</td>\n",
       "      <td>214</td>\n",
       "    </tr>\n",
       "    <tr>\n",
       "      <th>12</th>\n",
       "      <td>1002</td>\n",
       "      <td>8</td>\n",
       "      <td>42</td>\n",
       "      <td>289</td>\n",
       "    </tr>\n",
       "    <tr>\n",
       "      <th>13</th>\n",
       "      <td>1002</td>\n",
       "      <td>9</td>\n",
       "      <td>36</td>\n",
       "      <td>206</td>\n",
       "    </tr>\n",
       "    <tr>\n",
       "      <th>14</th>\n",
       "      <td>1002</td>\n",
       "      <td>10</td>\n",
       "      <td>33</td>\n",
       "      <td>212</td>\n",
       "    </tr>\n",
       "  </tbody>\n",
       "</table>\n",
       "</div>"
      ],
      "text/plain": [
       "    user_id  month  calls_count  calls_duration_sum\n",
       "0      1000      5           22                 159\n",
       "1      1000      6           43                 172\n",
       "2      1000      7           47                 340\n",
       "3      1000      8           52                 408\n",
       "4      1000      9           58                 466\n",
       "5      1000     10           57                 350\n",
       "6      1000     11           43                 338\n",
       "7      1000     12           46                 333\n",
       "8      1001     11           59                 430\n",
       "9      1001     12           63                 414\n",
       "10     1002      6           15                 117\n",
       "11     1002      7           26                 214\n",
       "12     1002      8           42                 289\n",
       "13     1002      9           36                 206\n",
       "14     1002     10           33                 212"
      ]
     },
     "execution_count": 12,
     "metadata": {},
     "output_type": "execute_result"
    }
   ],
   "source": [
    "calls_gr = calls.groupby(['user_id', 'month']).agg({'duration': ['count', 'sum']}).reset_index()\n",
    "calls_gr.columns = ['user_id', 'month', 'calls_count', 'calls_duration_sum']\n",
    "calls_gr.head(15)"
   ]
  },
  {
   "cell_type": "markdown",
   "metadata": {},
   "source": [
    "### Сообщения\n",
    "\n",
    "Аналогичным образом получим новую таблицу `messages_gr`, в которой посчитаем количество отправленных пользователями сообщений по месяцам."
   ]
  },
  {
   "cell_type": "code",
   "execution_count": 13,
   "metadata": {},
   "outputs": [
    {
     "data": {
      "text/html": [
       "<div>\n",
       "<style scoped>\n",
       "    .dataframe tbody tr th:only-of-type {\n",
       "        vertical-align: middle;\n",
       "    }\n",
       "\n",
       "    .dataframe tbody tr th {\n",
       "        vertical-align: top;\n",
       "    }\n",
       "\n",
       "    .dataframe thead th {\n",
       "        text-align: right;\n",
       "    }\n",
       "</style>\n",
       "<table border=\"1\" class=\"dataframe\">\n",
       "  <thead>\n",
       "    <tr style=\"text-align: right;\">\n",
       "      <th></th>\n",
       "      <th>user_id</th>\n",
       "      <th>month</th>\n",
       "      <th>messages_count</th>\n",
       "    </tr>\n",
       "  </thead>\n",
       "  <tbody>\n",
       "    <tr>\n",
       "      <th>0</th>\n",
       "      <td>1000</td>\n",
       "      <td>5</td>\n",
       "      <td>22</td>\n",
       "    </tr>\n",
       "    <tr>\n",
       "      <th>1</th>\n",
       "      <td>1000</td>\n",
       "      <td>6</td>\n",
       "      <td>60</td>\n",
       "    </tr>\n",
       "    <tr>\n",
       "      <th>2</th>\n",
       "      <td>1000</td>\n",
       "      <td>7</td>\n",
       "      <td>75</td>\n",
       "    </tr>\n",
       "    <tr>\n",
       "      <th>3</th>\n",
       "      <td>1000</td>\n",
       "      <td>8</td>\n",
       "      <td>81</td>\n",
       "    </tr>\n",
       "    <tr>\n",
       "      <th>4</th>\n",
       "      <td>1000</td>\n",
       "      <td>9</td>\n",
       "      <td>57</td>\n",
       "    </tr>\n",
       "    <tr>\n",
       "      <th>5</th>\n",
       "      <td>1000</td>\n",
       "      <td>10</td>\n",
       "      <td>73</td>\n",
       "    </tr>\n",
       "    <tr>\n",
       "      <th>6</th>\n",
       "      <td>1000</td>\n",
       "      <td>11</td>\n",
       "      <td>58</td>\n",
       "    </tr>\n",
       "    <tr>\n",
       "      <th>7</th>\n",
       "      <td>1000</td>\n",
       "      <td>12</td>\n",
       "      <td>70</td>\n",
       "    </tr>\n",
       "    <tr>\n",
       "      <th>8</th>\n",
       "      <td>1002</td>\n",
       "      <td>6</td>\n",
       "      <td>4</td>\n",
       "    </tr>\n",
       "    <tr>\n",
       "      <th>9</th>\n",
       "      <td>1002</td>\n",
       "      <td>7</td>\n",
       "      <td>11</td>\n",
       "    </tr>\n",
       "    <tr>\n",
       "      <th>10</th>\n",
       "      <td>1002</td>\n",
       "      <td>8</td>\n",
       "      <td>13</td>\n",
       "    </tr>\n",
       "    <tr>\n",
       "      <th>11</th>\n",
       "      <td>1002</td>\n",
       "      <td>9</td>\n",
       "      <td>4</td>\n",
       "    </tr>\n",
       "    <tr>\n",
       "      <th>12</th>\n",
       "      <td>1002</td>\n",
       "      <td>10</td>\n",
       "      <td>10</td>\n",
       "    </tr>\n",
       "    <tr>\n",
       "      <th>13</th>\n",
       "      <td>1002</td>\n",
       "      <td>11</td>\n",
       "      <td>16</td>\n",
       "    </tr>\n",
       "    <tr>\n",
       "      <th>14</th>\n",
       "      <td>1002</td>\n",
       "      <td>12</td>\n",
       "      <td>12</td>\n",
       "    </tr>\n",
       "  </tbody>\n",
       "</table>\n",
       "</div>"
      ],
      "text/plain": [
       "    user_id  month  messages_count\n",
       "0      1000      5              22\n",
       "1      1000      6              60\n",
       "2      1000      7              75\n",
       "3      1000      8              81\n",
       "4      1000      9              57\n",
       "5      1000     10              73\n",
       "6      1000     11              58\n",
       "7      1000     12              70\n",
       "8      1002      6               4\n",
       "9      1002      7              11\n",
       "10     1002      8              13\n",
       "11     1002      9               4\n",
       "12     1002     10              10\n",
       "13     1002     11              16\n",
       "14     1002     12              12"
      ]
     },
     "execution_count": 13,
     "metadata": {},
     "output_type": "execute_result"
    }
   ],
   "source": [
    "messages_gr = messages.groupby(['user_id', 'month']).agg({'id': 'count'}).reset_index()\n",
    "messages_gr.columns = ['user_id', 'month', 'messages_count']\n",
    "messages_gr.head(15)"
   ]
  },
  {
   "cell_type": "markdown",
   "metadata": {},
   "source": [
    "### Интернет-трафик\n",
    "\n",
    "Формируем таблицу `internet_gr`, суммируя израсходованный трафик по месяцам."
   ]
  },
  {
   "cell_type": "code",
   "execution_count": 14,
   "metadata": {},
   "outputs": [
    {
     "data": {
      "text/html": [
       "<div>\n",
       "<style scoped>\n",
       "    .dataframe tbody tr th:only-of-type {\n",
       "        vertical-align: middle;\n",
       "    }\n",
       "\n",
       "    .dataframe tbody tr th {\n",
       "        vertical-align: top;\n",
       "    }\n",
       "\n",
       "    .dataframe thead th {\n",
       "        text-align: right;\n",
       "    }\n",
       "</style>\n",
       "<table border=\"1\" class=\"dataframe\">\n",
       "  <thead>\n",
       "    <tr style=\"text-align: right;\">\n",
       "      <th></th>\n",
       "      <th>user_id</th>\n",
       "      <th>month</th>\n",
       "      <th>mb_used</th>\n",
       "    </tr>\n",
       "  </thead>\n",
       "  <tbody>\n",
       "    <tr>\n",
       "      <th>0</th>\n",
       "      <td>1000</td>\n",
       "      <td>5</td>\n",
       "      <td>2253.49</td>\n",
       "    </tr>\n",
       "    <tr>\n",
       "      <th>1</th>\n",
       "      <td>1000</td>\n",
       "      <td>6</td>\n",
       "      <td>23233.77</td>\n",
       "    </tr>\n",
       "    <tr>\n",
       "      <th>2</th>\n",
       "      <td>1000</td>\n",
       "      <td>7</td>\n",
       "      <td>14003.64</td>\n",
       "    </tr>\n",
       "    <tr>\n",
       "      <th>3</th>\n",
       "      <td>1000</td>\n",
       "      <td>8</td>\n",
       "      <td>14055.93</td>\n",
       "    </tr>\n",
       "    <tr>\n",
       "      <th>4</th>\n",
       "      <td>1000</td>\n",
       "      <td>9</td>\n",
       "      <td>14568.91</td>\n",
       "    </tr>\n",
       "    <tr>\n",
       "      <th>5</th>\n",
       "      <td>1000</td>\n",
       "      <td>10</td>\n",
       "      <td>14702.49</td>\n",
       "    </tr>\n",
       "    <tr>\n",
       "      <th>6</th>\n",
       "      <td>1000</td>\n",
       "      <td>11</td>\n",
       "      <td>14756.47</td>\n",
       "    </tr>\n",
       "    <tr>\n",
       "      <th>7</th>\n",
       "      <td>1000</td>\n",
       "      <td>12</td>\n",
       "      <td>9817.61</td>\n",
       "    </tr>\n",
       "    <tr>\n",
       "      <th>8</th>\n",
       "      <td>1001</td>\n",
       "      <td>11</td>\n",
       "      <td>18429.34</td>\n",
       "    </tr>\n",
       "    <tr>\n",
       "      <th>9</th>\n",
       "      <td>1001</td>\n",
       "      <td>12</td>\n",
       "      <td>14036.66</td>\n",
       "    </tr>\n",
       "    <tr>\n",
       "      <th>10</th>\n",
       "      <td>1002</td>\n",
       "      <td>6</td>\n",
       "      <td>10856.82</td>\n",
       "    </tr>\n",
       "    <tr>\n",
       "      <th>11</th>\n",
       "      <td>1002</td>\n",
       "      <td>7</td>\n",
       "      <td>17580.10</td>\n",
       "    </tr>\n",
       "    <tr>\n",
       "      <th>12</th>\n",
       "      <td>1002</td>\n",
       "      <td>8</td>\n",
       "      <td>20319.26</td>\n",
       "    </tr>\n",
       "    <tr>\n",
       "      <th>13</th>\n",
       "      <td>1002</td>\n",
       "      <td>9</td>\n",
       "      <td>16691.08</td>\n",
       "    </tr>\n",
       "    <tr>\n",
       "      <th>14</th>\n",
       "      <td>1002</td>\n",
       "      <td>10</td>\n",
       "      <td>13888.25</td>\n",
       "    </tr>\n",
       "  </tbody>\n",
       "</table>\n",
       "</div>"
      ],
      "text/plain": [
       "    user_id  month   mb_used\n",
       "0      1000      5   2253.49\n",
       "1      1000      6  23233.77\n",
       "2      1000      7  14003.64\n",
       "3      1000      8  14055.93\n",
       "4      1000      9  14568.91\n",
       "5      1000     10  14702.49\n",
       "6      1000     11  14756.47\n",
       "7      1000     12   9817.61\n",
       "8      1001     11  18429.34\n",
       "9      1001     12  14036.66\n",
       "10     1002      6  10856.82\n",
       "11     1002      7  17580.10\n",
       "12     1002      8  20319.26\n",
       "13     1002      9  16691.08\n",
       "14     1002     10  13888.25"
      ]
     },
     "execution_count": 14,
     "metadata": {},
     "output_type": "execute_result"
    }
   ],
   "source": [
    "internet_gr = internet.groupby(['user_id', 'month']).agg({'mb_used': 'sum'}).reset_index()\n",
    "internet_gr.head(15)"
   ]
  },
  {
   "cell_type": "markdown",
   "metadata": {},
   "source": [
    "В таблице `internet_gr` в столбце `mb_used` посчитана сумма использованных клиентом мегабайт интернет-трафика за каждый месяц. Согласно условиям тарифа:\n",
    "> «Мегалайн» всегда округляет мегабайты до гигабайт. Для веб-трафика отдельные сессии не считаются. Вместо этого общая сумма за месяц округляется в бо́льшую сторону.\n",
    "\n",
    "Поэтому на основе колонки `mb_used` создадим колонку `gb_used`, в которую запишем округлённое количество израсходованного пользователем интернет-трафика в гигабайтах (1 gb = 1024 mb). Столбец с мегабайтами больше не нужен.\n"
   ]
  },
  {
   "cell_type": "code",
   "execution_count": 15,
   "metadata": {},
   "outputs": [
    {
     "data": {
      "text/html": [
       "<div>\n",
       "<style scoped>\n",
       "    .dataframe tbody tr th:only-of-type {\n",
       "        vertical-align: middle;\n",
       "    }\n",
       "\n",
       "    .dataframe tbody tr th {\n",
       "        vertical-align: top;\n",
       "    }\n",
       "\n",
       "    .dataframe thead th {\n",
       "        text-align: right;\n",
       "    }\n",
       "</style>\n",
       "<table border=\"1\" class=\"dataframe\">\n",
       "  <thead>\n",
       "    <tr style=\"text-align: right;\">\n",
       "      <th></th>\n",
       "      <th>user_id</th>\n",
       "      <th>month</th>\n",
       "      <th>gb_used</th>\n",
       "    </tr>\n",
       "  </thead>\n",
       "  <tbody>\n",
       "    <tr>\n",
       "      <th>0</th>\n",
       "      <td>1000</td>\n",
       "      <td>5</td>\n",
       "      <td>3</td>\n",
       "    </tr>\n",
       "    <tr>\n",
       "      <th>1</th>\n",
       "      <td>1000</td>\n",
       "      <td>6</td>\n",
       "      <td>23</td>\n",
       "    </tr>\n",
       "    <tr>\n",
       "      <th>2</th>\n",
       "      <td>1000</td>\n",
       "      <td>7</td>\n",
       "      <td>14</td>\n",
       "    </tr>\n",
       "    <tr>\n",
       "      <th>3</th>\n",
       "      <td>1000</td>\n",
       "      <td>8</td>\n",
       "      <td>14</td>\n",
       "    </tr>\n",
       "    <tr>\n",
       "      <th>4</th>\n",
       "      <td>1000</td>\n",
       "      <td>9</td>\n",
       "      <td>15</td>\n",
       "    </tr>\n",
       "    <tr>\n",
       "      <th>5</th>\n",
       "      <td>1000</td>\n",
       "      <td>10</td>\n",
       "      <td>15</td>\n",
       "    </tr>\n",
       "    <tr>\n",
       "      <th>6</th>\n",
       "      <td>1000</td>\n",
       "      <td>11</td>\n",
       "      <td>15</td>\n",
       "    </tr>\n",
       "    <tr>\n",
       "      <th>7</th>\n",
       "      <td>1000</td>\n",
       "      <td>12</td>\n",
       "      <td>10</td>\n",
       "    </tr>\n",
       "    <tr>\n",
       "      <th>8</th>\n",
       "      <td>1001</td>\n",
       "      <td>11</td>\n",
       "      <td>18</td>\n",
       "    </tr>\n",
       "    <tr>\n",
       "      <th>9</th>\n",
       "      <td>1001</td>\n",
       "      <td>12</td>\n",
       "      <td>14</td>\n",
       "    </tr>\n",
       "    <tr>\n",
       "      <th>10</th>\n",
       "      <td>1002</td>\n",
       "      <td>6</td>\n",
       "      <td>11</td>\n",
       "    </tr>\n",
       "    <tr>\n",
       "      <th>11</th>\n",
       "      <td>1002</td>\n",
       "      <td>7</td>\n",
       "      <td>18</td>\n",
       "    </tr>\n",
       "    <tr>\n",
       "      <th>12</th>\n",
       "      <td>1002</td>\n",
       "      <td>8</td>\n",
       "      <td>20</td>\n",
       "    </tr>\n",
       "    <tr>\n",
       "      <th>13</th>\n",
       "      <td>1002</td>\n",
       "      <td>9</td>\n",
       "      <td>17</td>\n",
       "    </tr>\n",
       "    <tr>\n",
       "      <th>14</th>\n",
       "      <td>1002</td>\n",
       "      <td>10</td>\n",
       "      <td>14</td>\n",
       "    </tr>\n",
       "  </tbody>\n",
       "</table>\n",
       "</div>"
      ],
      "text/plain": [
       "    user_id  month  gb_used\n",
       "0      1000      5        3\n",
       "1      1000      6       23\n",
       "2      1000      7       14\n",
       "3      1000      8       14\n",
       "4      1000      9       15\n",
       "5      1000     10       15\n",
       "6      1000     11       15\n",
       "7      1000     12       10\n",
       "8      1001     11       18\n",
       "9      1001     12       14\n",
       "10     1002      6       11\n",
       "11     1002      7       18\n",
       "12     1002      8       20\n",
       "13     1002      9       17\n",
       "14     1002     10       14"
      ]
     },
     "execution_count": 15,
     "metadata": {},
     "output_type": "execute_result"
    }
   ],
   "source": [
    "internet_gr['gb_used'] = np.ceil(internet_gr['mb_used'] / 1024).astype('int')\n",
    "internet_gr.drop(columns='mb_used', inplace=True)\n",
    "internet_gr.head(15)"
   ]
  },
  {
   "cell_type": "markdown",
   "metadata": {},
   "source": [
    "### Выручка\n",
    "Чтобы посчитать помесячную выручку с каждого пользователя, создадим общую таблицу со всеми данными. Сначала последовательно объединим таблицы `calls_gr`, `messages_gr` и `internet_gr`.\n"
   ]
  },
  {
   "cell_type": "code",
   "execution_count": 16,
   "metadata": {},
   "outputs": [
    {
     "data": {
      "text/html": [
       "<div>\n",
       "<style scoped>\n",
       "    .dataframe tbody tr th:only-of-type {\n",
       "        vertical-align: middle;\n",
       "    }\n",
       "\n",
       "    .dataframe tbody tr th {\n",
       "        vertical-align: top;\n",
       "    }\n",
       "\n",
       "    .dataframe thead th {\n",
       "        text-align: right;\n",
       "    }\n",
       "</style>\n",
       "<table border=\"1\" class=\"dataframe\">\n",
       "  <thead>\n",
       "    <tr style=\"text-align: right;\">\n",
       "      <th></th>\n",
       "      <th>user_id</th>\n",
       "      <th>month</th>\n",
       "      <th>calls_count</th>\n",
       "      <th>calls_duration_sum</th>\n",
       "      <th>messages_count</th>\n",
       "    </tr>\n",
       "  </thead>\n",
       "  <tbody>\n",
       "    <tr>\n",
       "      <th>0</th>\n",
       "      <td>1000</td>\n",
       "      <td>5</td>\n",
       "      <td>22.0</td>\n",
       "      <td>159.0</td>\n",
       "      <td>22.0</td>\n",
       "    </tr>\n",
       "    <tr>\n",
       "      <th>1</th>\n",
       "      <td>1000</td>\n",
       "      <td>6</td>\n",
       "      <td>43.0</td>\n",
       "      <td>172.0</td>\n",
       "      <td>60.0</td>\n",
       "    </tr>\n",
       "    <tr>\n",
       "      <th>2</th>\n",
       "      <td>1000</td>\n",
       "      <td>7</td>\n",
       "      <td>47.0</td>\n",
       "      <td>340.0</td>\n",
       "      <td>75.0</td>\n",
       "    </tr>\n",
       "    <tr>\n",
       "      <th>3</th>\n",
       "      <td>1000</td>\n",
       "      <td>8</td>\n",
       "      <td>52.0</td>\n",
       "      <td>408.0</td>\n",
       "      <td>81.0</td>\n",
       "    </tr>\n",
       "    <tr>\n",
       "      <th>4</th>\n",
       "      <td>1000</td>\n",
       "      <td>9</td>\n",
       "      <td>58.0</td>\n",
       "      <td>466.0</td>\n",
       "      <td>57.0</td>\n",
       "    </tr>\n",
       "  </tbody>\n",
       "</table>\n",
       "</div>"
      ],
      "text/plain": [
       "   user_id  month  calls_count  calls_duration_sum  messages_count\n",
       "0     1000      5         22.0               159.0            22.0\n",
       "1     1000      6         43.0               172.0            60.0\n",
       "2     1000      7         47.0               340.0            75.0\n",
       "3     1000      8         52.0               408.0            81.0\n",
       "4     1000      9         58.0               466.0            57.0"
      ]
     },
     "execution_count": 16,
     "metadata": {},
     "output_type": "execute_result"
    }
   ],
   "source": [
    "data = calls_gr.merge(messages_gr, on=['user_id', 'month'], how='outer')\n",
    "data.head()"
   ]
  },
  {
   "cell_type": "code",
   "execution_count": 17,
   "metadata": {},
   "outputs": [
    {
     "data": {
      "text/html": [
       "<div>\n",
       "<style scoped>\n",
       "    .dataframe tbody tr th:only-of-type {\n",
       "        vertical-align: middle;\n",
       "    }\n",
       "\n",
       "    .dataframe tbody tr th {\n",
       "        vertical-align: top;\n",
       "    }\n",
       "\n",
       "    .dataframe thead th {\n",
       "        text-align: right;\n",
       "    }\n",
       "</style>\n",
       "<table border=\"1\" class=\"dataframe\">\n",
       "  <thead>\n",
       "    <tr style=\"text-align: right;\">\n",
       "      <th></th>\n",
       "      <th>user_id</th>\n",
       "      <th>month</th>\n",
       "      <th>calls_count</th>\n",
       "      <th>calls_duration_sum</th>\n",
       "      <th>messages_count</th>\n",
       "      <th>gb_used</th>\n",
       "    </tr>\n",
       "  </thead>\n",
       "  <tbody>\n",
       "    <tr>\n",
       "      <th>0</th>\n",
       "      <td>1000</td>\n",
       "      <td>5</td>\n",
       "      <td>22.0</td>\n",
       "      <td>159.0</td>\n",
       "      <td>22.0</td>\n",
       "      <td>3.0</td>\n",
       "    </tr>\n",
       "    <tr>\n",
       "      <th>1</th>\n",
       "      <td>1000</td>\n",
       "      <td>6</td>\n",
       "      <td>43.0</td>\n",
       "      <td>172.0</td>\n",
       "      <td>60.0</td>\n",
       "      <td>23.0</td>\n",
       "    </tr>\n",
       "    <tr>\n",
       "      <th>2</th>\n",
       "      <td>1000</td>\n",
       "      <td>7</td>\n",
       "      <td>47.0</td>\n",
       "      <td>340.0</td>\n",
       "      <td>75.0</td>\n",
       "      <td>14.0</td>\n",
       "    </tr>\n",
       "    <tr>\n",
       "      <th>3</th>\n",
       "      <td>1000</td>\n",
       "      <td>8</td>\n",
       "      <td>52.0</td>\n",
       "      <td>408.0</td>\n",
       "      <td>81.0</td>\n",
       "      <td>14.0</td>\n",
       "    </tr>\n",
       "    <tr>\n",
       "      <th>4</th>\n",
       "      <td>1000</td>\n",
       "      <td>9</td>\n",
       "      <td>58.0</td>\n",
       "      <td>466.0</td>\n",
       "      <td>57.0</td>\n",
       "      <td>15.0</td>\n",
       "    </tr>\n",
       "  </tbody>\n",
       "</table>\n",
       "</div>"
      ],
      "text/plain": [
       "   user_id  month  calls_count  calls_duration_sum  messages_count  gb_used\n",
       "0     1000      5         22.0               159.0            22.0      3.0\n",
       "1     1000      6         43.0               172.0            60.0     23.0\n",
       "2     1000      7         47.0               340.0            75.0     14.0\n",
       "3     1000      8         52.0               408.0            81.0     14.0\n",
       "4     1000      9         58.0               466.0            57.0     15.0"
      ]
     },
     "execution_count": 17,
     "metadata": {},
     "output_type": "execute_result"
    }
   ],
   "source": [
    "data = data.merge(internet_gr, on=['user_id', 'month'], how='outer')\n",
    "data.head()"
   ]
  },
  {
   "cell_type": "markdown",
   "metadata": {},
   "source": [
    "<a id=\"ячейка_про_пропуски\"></a>\n",
    "\n",
    "Видим, что числа в последних четырёх столбцах приобрели дробную часть. Это значит, что при слиянии таблиц в этих столбцах возникли пропуски: например, пользователь мог в каком-то месяце тратить минуты, но не отправлять сообщения и т.д. Пропуски NaN имеют тип данных *float* и позволяют проводить с ними арифметические операции, поэтому заполнять их необязательно.\n",
    "\n",
    "Теперь таблицу `data` нужно объединить с таблицей `users` — из неё нужно будет получать информацию о тарифном плане клиента."
   ]
  },
  {
   "cell_type": "code",
   "execution_count": 18,
   "metadata": {},
   "outputs": [
    {
     "data": {
      "text/html": [
       "<div>\n",
       "<style scoped>\n",
       "    .dataframe tbody tr th:only-of-type {\n",
       "        vertical-align: middle;\n",
       "    }\n",
       "\n",
       "    .dataframe tbody tr th {\n",
       "        vertical-align: top;\n",
       "    }\n",
       "\n",
       "    .dataframe thead th {\n",
       "        text-align: right;\n",
       "    }\n",
       "</style>\n",
       "<table border=\"1\" class=\"dataframe\">\n",
       "  <thead>\n",
       "    <tr style=\"text-align: right;\">\n",
       "      <th></th>\n",
       "      <th>user_id</th>\n",
       "      <th>age</th>\n",
       "      <th>churn_date</th>\n",
       "      <th>city</th>\n",
       "      <th>first_name</th>\n",
       "      <th>last_name</th>\n",
       "      <th>reg_date</th>\n",
       "      <th>tariff</th>\n",
       "      <th>month</th>\n",
       "      <th>calls_count</th>\n",
       "      <th>calls_duration_sum</th>\n",
       "      <th>messages_count</th>\n",
       "      <th>gb_used</th>\n",
       "    </tr>\n",
       "  </thead>\n",
       "  <tbody>\n",
       "    <tr>\n",
       "      <th>0</th>\n",
       "      <td>1000</td>\n",
       "      <td>52</td>\n",
       "      <td>NaT</td>\n",
       "      <td>Краснодар</td>\n",
       "      <td>Рафаил</td>\n",
       "      <td>Верещагин</td>\n",
       "      <td>2018-05-25</td>\n",
       "      <td>ultra</td>\n",
       "      <td>5.0</td>\n",
       "      <td>22.0</td>\n",
       "      <td>159.0</td>\n",
       "      <td>22.0</td>\n",
       "      <td>3.0</td>\n",
       "    </tr>\n",
       "    <tr>\n",
       "      <th>1</th>\n",
       "      <td>1000</td>\n",
       "      <td>52</td>\n",
       "      <td>NaT</td>\n",
       "      <td>Краснодар</td>\n",
       "      <td>Рафаил</td>\n",
       "      <td>Верещагин</td>\n",
       "      <td>2018-05-25</td>\n",
       "      <td>ultra</td>\n",
       "      <td>6.0</td>\n",
       "      <td>43.0</td>\n",
       "      <td>172.0</td>\n",
       "      <td>60.0</td>\n",
       "      <td>23.0</td>\n",
       "    </tr>\n",
       "    <tr>\n",
       "      <th>2</th>\n",
       "      <td>1000</td>\n",
       "      <td>52</td>\n",
       "      <td>NaT</td>\n",
       "      <td>Краснодар</td>\n",
       "      <td>Рафаил</td>\n",
       "      <td>Верещагин</td>\n",
       "      <td>2018-05-25</td>\n",
       "      <td>ultra</td>\n",
       "      <td>7.0</td>\n",
       "      <td>47.0</td>\n",
       "      <td>340.0</td>\n",
       "      <td>75.0</td>\n",
       "      <td>14.0</td>\n",
       "    </tr>\n",
       "    <tr>\n",
       "      <th>3</th>\n",
       "      <td>1000</td>\n",
       "      <td>52</td>\n",
       "      <td>NaT</td>\n",
       "      <td>Краснодар</td>\n",
       "      <td>Рафаил</td>\n",
       "      <td>Верещагин</td>\n",
       "      <td>2018-05-25</td>\n",
       "      <td>ultra</td>\n",
       "      <td>8.0</td>\n",
       "      <td>52.0</td>\n",
       "      <td>408.0</td>\n",
       "      <td>81.0</td>\n",
       "      <td>14.0</td>\n",
       "    </tr>\n",
       "    <tr>\n",
       "      <th>4</th>\n",
       "      <td>1000</td>\n",
       "      <td>52</td>\n",
       "      <td>NaT</td>\n",
       "      <td>Краснодар</td>\n",
       "      <td>Рафаил</td>\n",
       "      <td>Верещагин</td>\n",
       "      <td>2018-05-25</td>\n",
       "      <td>ultra</td>\n",
       "      <td>9.0</td>\n",
       "      <td>58.0</td>\n",
       "      <td>466.0</td>\n",
       "      <td>57.0</td>\n",
       "      <td>15.0</td>\n",
       "    </tr>\n",
       "  </tbody>\n",
       "</table>\n",
       "</div>"
      ],
      "text/plain": [
       "   user_id  age churn_date       city first_name  last_name   reg_date tariff  \\\n",
       "0     1000   52        NaT  Краснодар     Рафаил  Верещагин 2018-05-25  ultra   \n",
       "1     1000   52        NaT  Краснодар     Рафаил  Верещагин 2018-05-25  ultra   \n",
       "2     1000   52        NaT  Краснодар     Рафаил  Верещагин 2018-05-25  ultra   \n",
       "3     1000   52        NaT  Краснодар     Рафаил  Верещагин 2018-05-25  ultra   \n",
       "4     1000   52        NaT  Краснодар     Рафаил  Верещагин 2018-05-25  ultra   \n",
       "\n",
       "   month  calls_count  calls_duration_sum  messages_count  gb_used  \n",
       "0    5.0         22.0               159.0            22.0      3.0  \n",
       "1    6.0         43.0               172.0            60.0     23.0  \n",
       "2    7.0         47.0               340.0            75.0     14.0  \n",
       "3    8.0         52.0               408.0            81.0     14.0  \n",
       "4    9.0         58.0               466.0            57.0     15.0  "
      ]
     },
     "execution_count": 18,
     "metadata": {},
     "output_type": "execute_result"
    }
   ],
   "source": [
    "data = users.merge(data, on='user_id', how='outer')\n",
    "data.head()"
   ]
  },
  {
   "cell_type": "markdown",
   "metadata": {},
   "source": [
    "Замечаем, что числа в колонке с месяцами тоже стали дробными, стало быть и в ней при сведении появились пропуски. В отличие от столбцов с трафиком тут их быть не должно. Посмотрим на эти строчки:"
   ]
  },
  {
   "cell_type": "code",
   "execution_count": 19,
   "metadata": {},
   "outputs": [
    {
     "data": {
      "text/html": [
       "<div>\n",
       "<style scoped>\n",
       "    .dataframe tbody tr th:only-of-type {\n",
       "        vertical-align: middle;\n",
       "    }\n",
       "\n",
       "    .dataframe tbody tr th {\n",
       "        vertical-align: top;\n",
       "    }\n",
       "\n",
       "    .dataframe thead th {\n",
       "        text-align: right;\n",
       "    }\n",
       "</style>\n",
       "<table border=\"1\" class=\"dataframe\">\n",
       "  <thead>\n",
       "    <tr style=\"text-align: right;\">\n",
       "      <th></th>\n",
       "      <th>user_id</th>\n",
       "      <th>age</th>\n",
       "      <th>churn_date</th>\n",
       "      <th>city</th>\n",
       "      <th>first_name</th>\n",
       "      <th>last_name</th>\n",
       "      <th>reg_date</th>\n",
       "      <th>tariff</th>\n",
       "      <th>month</th>\n",
       "      <th>calls_count</th>\n",
       "      <th>calls_duration_sum</th>\n",
       "      <th>messages_count</th>\n",
       "      <th>gb_used</th>\n",
       "    </tr>\n",
       "  </thead>\n",
       "  <tbody>\n",
       "    <tr>\n",
       "      <th>827</th>\n",
       "      <td>1128</td>\n",
       "      <td>51</td>\n",
       "      <td>2018-12-23</td>\n",
       "      <td>Волжский</td>\n",
       "      <td>Ксения</td>\n",
       "      <td>Агаева</td>\n",
       "      <td>2018-12-15</td>\n",
       "      <td>ultra</td>\n",
       "      <td>NaN</td>\n",
       "      <td>NaN</td>\n",
       "      <td>NaN</td>\n",
       "      <td>NaN</td>\n",
       "      <td>NaN</td>\n",
       "    </tr>\n",
       "    <tr>\n",
       "      <th>2335</th>\n",
       "      <td>1371</td>\n",
       "      <td>50</td>\n",
       "      <td>2018-12-30</td>\n",
       "      <td>Омск</td>\n",
       "      <td>Ириней</td>\n",
       "      <td>Трофимов</td>\n",
       "      <td>2018-12-25</td>\n",
       "      <td>smart</td>\n",
       "      <td>NaN</td>\n",
       "      <td>NaN</td>\n",
       "      <td>NaN</td>\n",
       "      <td>NaN</td>\n",
       "      <td>NaN</td>\n",
       "    </tr>\n",
       "  </tbody>\n",
       "</table>\n",
       "</div>"
      ],
      "text/plain": [
       "      user_id  age churn_date      city first_name last_name   reg_date  \\\n",
       "827      1128   51 2018-12-23  Волжский     Ксения    Агаева 2018-12-15   \n",
       "2335     1371   50 2018-12-30      Омск     Ириней  Трофимов 2018-12-25   \n",
       "\n",
       "     tariff  month  calls_count  calls_duration_sum  messages_count  gb_used  \n",
       "827   ultra    NaN          NaN                 NaN             NaN      NaN  \n",
       "2335  smart    NaN          NaN                 NaN             NaN      NaN  "
      ]
     },
     "execution_count": 19,
     "metadata": {},
     "output_type": "execute_result"
    }
   ],
   "source": [
    "data[data['month'].isna()]"
   ]
  },
  {
   "cell_type": "markdown",
   "metadata": {},
   "source": [
    "Видим двух клиентов, которые не пользовались услугами сотовой связи, между подключением и отключением тарифов — несколько дней. Никакую информацию эти строки не несут, поэтому можно их удалить."
   ]
  },
  {
   "cell_type": "code",
   "execution_count": 20,
   "metadata": {},
   "outputs": [],
   "source": [
    "data = data.dropna(subset=['month']).reset_index(drop=True)\n",
    "data['month'] = data['month'].astype('int')"
   ]
  },
  {
   "cell_type": "markdown",
   "metadata": {},
   "source": [
    "На этом этапе также кажется логичным избавиться от лишних столбцов, перенесённых из таблицы `users`. Исходя из ТЗ можно сделать вывод, что информация об именах (ведь у нас есть id), датах подключения и прекращения пользования тарифом в исследовании не понадобится. Колонку с возрастом из интереса оставлю.\n",
    "\n",
    "(Если в ходе исследования выяснится, что эти данные всё же необходимы, я вернусь к этому пункту.)"
   ]
  },
  {
   "cell_type": "code",
   "execution_count": 21,
   "metadata": {},
   "outputs": [
    {
     "data": {
      "text/html": [
       "<div>\n",
       "<style scoped>\n",
       "    .dataframe tbody tr th:only-of-type {\n",
       "        vertical-align: middle;\n",
       "    }\n",
       "\n",
       "    .dataframe tbody tr th {\n",
       "        vertical-align: top;\n",
       "    }\n",
       "\n",
       "    .dataframe thead th {\n",
       "        text-align: right;\n",
       "    }\n",
       "</style>\n",
       "<table border=\"1\" class=\"dataframe\">\n",
       "  <thead>\n",
       "    <tr style=\"text-align: right;\">\n",
       "      <th></th>\n",
       "      <th>user_id</th>\n",
       "      <th>age</th>\n",
       "      <th>city</th>\n",
       "      <th>tariff</th>\n",
       "      <th>month</th>\n",
       "      <th>calls_count</th>\n",
       "      <th>calls_duration_sum</th>\n",
       "      <th>messages_count</th>\n",
       "      <th>gb_used</th>\n",
       "    </tr>\n",
       "  </thead>\n",
       "  <tbody>\n",
       "    <tr>\n",
       "      <th>0</th>\n",
       "      <td>1000</td>\n",
       "      <td>52</td>\n",
       "      <td>Краснодар</td>\n",
       "      <td>ultra</td>\n",
       "      <td>5</td>\n",
       "      <td>22.0</td>\n",
       "      <td>159.0</td>\n",
       "      <td>22.0</td>\n",
       "      <td>3.0</td>\n",
       "    </tr>\n",
       "    <tr>\n",
       "      <th>1</th>\n",
       "      <td>1000</td>\n",
       "      <td>52</td>\n",
       "      <td>Краснодар</td>\n",
       "      <td>ultra</td>\n",
       "      <td>6</td>\n",
       "      <td>43.0</td>\n",
       "      <td>172.0</td>\n",
       "      <td>60.0</td>\n",
       "      <td>23.0</td>\n",
       "    </tr>\n",
       "    <tr>\n",
       "      <th>2</th>\n",
       "      <td>1000</td>\n",
       "      <td>52</td>\n",
       "      <td>Краснодар</td>\n",
       "      <td>ultra</td>\n",
       "      <td>7</td>\n",
       "      <td>47.0</td>\n",
       "      <td>340.0</td>\n",
       "      <td>75.0</td>\n",
       "      <td>14.0</td>\n",
       "    </tr>\n",
       "    <tr>\n",
       "      <th>3</th>\n",
       "      <td>1000</td>\n",
       "      <td>52</td>\n",
       "      <td>Краснодар</td>\n",
       "      <td>ultra</td>\n",
       "      <td>8</td>\n",
       "      <td>52.0</td>\n",
       "      <td>408.0</td>\n",
       "      <td>81.0</td>\n",
       "      <td>14.0</td>\n",
       "    </tr>\n",
       "    <tr>\n",
       "      <th>4</th>\n",
       "      <td>1000</td>\n",
       "      <td>52</td>\n",
       "      <td>Краснодар</td>\n",
       "      <td>ultra</td>\n",
       "      <td>9</td>\n",
       "      <td>58.0</td>\n",
       "      <td>466.0</td>\n",
       "      <td>57.0</td>\n",
       "      <td>15.0</td>\n",
       "    </tr>\n",
       "  </tbody>\n",
       "</table>\n",
       "</div>"
      ],
      "text/plain": [
       "   user_id  age       city tariff  month  calls_count  calls_duration_sum  \\\n",
       "0     1000   52  Краснодар  ultra      5         22.0               159.0   \n",
       "1     1000   52  Краснодар  ultra      6         43.0               172.0   \n",
       "2     1000   52  Краснодар  ultra      7         47.0               340.0   \n",
       "3     1000   52  Краснодар  ultra      8         52.0               408.0   \n",
       "4     1000   52  Краснодар  ultra      9         58.0               466.0   \n",
       "\n",
       "   messages_count  gb_used  \n",
       "0            22.0      3.0  \n",
       "1            60.0     23.0  \n",
       "2            75.0     14.0  \n",
       "3            81.0     14.0  \n",
       "4            57.0     15.0  "
      ]
     },
     "execution_count": 21,
     "metadata": {},
     "output_type": "execute_result"
    }
   ],
   "source": [
    "data.drop(columns=['churn_date', 'reg_date', 'first_name', 'last_name'], inplace=True)\n",
    "data.head()"
   ]
  },
  {
   "cell_type": "markdown",
   "metadata": {},
   "source": [
    "Получили объединённую таблицу. Выполним проверку, чтобы убедиться, что объединение произошло правильно. Количество строк в таблице не должно превышать 500 [пользователей] х 12 [месяцев] = 6000.\n",
    "А также сравним общее количество минут, СМС и Гб интернет-трафика в итоговой и в сгруппированных таблицах перед объединением."
   ]
  },
  {
   "cell_type": "code",
   "execution_count": 22,
   "metadata": {},
   "outputs": [
    {
     "data": {
      "text/plain": [
       "'Количество строк в объединённой таблице: 3214'"
      ]
     },
     "metadata": {},
     "output_type": "display_data"
    },
    {
     "data": {
      "text/plain": [
       "'Продолжительность звонков совпадает: True'"
      ]
     },
     "metadata": {},
     "output_type": "display_data"
    },
    {
     "data": {
      "text/plain": [
       "'Количество сообщений совпадает: True'"
      ]
     },
     "metadata": {},
     "output_type": "display_data"
    },
    {
     "data": {
      "text/plain": [
       "'Количество интернет-трафика совпадает: True'"
      ]
     },
     "metadata": {},
     "output_type": "display_data"
    }
   ],
   "source": [
    "display(f'Количество строк в объединённой таблице: {data.shape[0]}')\n",
    "\n",
    "display(f'Продолжительность звонков совпадает: {data[\"calls_duration_sum\"].sum() == calls_gr[\"calls_duration_sum\"].sum()}')\n",
    "display(f'Количество сообщений совпадает: {data[\"messages_count\"].sum() == messages_gr[\"messages_count\"].sum()}')\n",
    "display(f'Количество интернет-трафика совпадает: {data[\"gb_used\"].sum() == internet_gr[\"gb_used\"].sum()}')"
   ]
  },
  {
   "cell_type": "markdown",
   "metadata": {},
   "source": [
    "Кроме того, проверим таблицу на наличие пропусков."
   ]
  },
  {
   "cell_type": "code",
   "execution_count": 23,
   "metadata": {},
   "outputs": [
    {
     "data": {
      "text/plain": [
       "user_id                 0\n",
       "age                     0\n",
       "city                    0\n",
       "tariff                  0\n",
       "month                   0\n",
       "calls_count            40\n",
       "calls_duration_sum     40\n",
       "messages_count        497\n",
       "gb_used                11\n",
       "dtype: int64"
      ]
     },
     "execution_count": 23,
     "metadata": {},
     "output_type": "execute_result"
    }
   ],
   "source": [
    "data.isna().sum()"
   ]
  },
  {
   "cell_type": "markdown",
   "metadata": {},
   "source": [
    "Видим, что в четырёх колонках с трафиком при объединении образовались пропуски. Логично предположить, что они говорят о неиспользованном типе трафика конкретным пользователем в конкретный месяц, поэтому заполним их нулями."
   ]
  },
  {
   "cell_type": "code",
   "execution_count": 24,
   "metadata": {},
   "outputs": [
    {
     "data": {
      "text/plain": [
       "user_id               0\n",
       "age                   0\n",
       "city                  0\n",
       "tariff                0\n",
       "month                 0\n",
       "calls_count           0\n",
       "calls_duration_sum    0\n",
       "messages_count        0\n",
       "gb_used               0\n",
       "dtype: int64"
      ]
     },
     "execution_count": 24,
     "metadata": {},
     "output_type": "execute_result"
    }
   ],
   "source": [
    "na_columns = ['calls_count', 'calls_duration_sum', 'messages_count', 'gb_used']\n",
    "\n",
    "for col in na_columns:\n",
    "    data[col] = data[col].fillna(0)\n",
    "    data[col] = data[col].astype('int')\n",
    "    \n",
    "data.isna().sum()"
   ]
  },
  {
   "cell_type": "markdown",
   "metadata": {},
   "source": [
    "Теперь у нас есть объединённая лаконичная таблица со всеми необходимыми данными. Можно считать выручку.\n",
    "\n",
    "Здесь можно также присоединить к общей таблице `data` и двустрочную таблицу с детализацией тарифных планов `tariffs`, тогда внутри одной таблицы обращаться к данным будет проще, но я оставлю таблицы отдельными, чтобы данные в них было удобнее воспринимать, и буду обращаться к внешней таблице `tariffs` как к \"словарю\".\n",
    "\n",
    "Для подсчёта напишем функцию `proceeds`. Она принимает в качестве аргумента датасет и, в зависимости от значения в колонке `tariff`, будет ссылаться на одну из двух строк в таблице `tariffs`.\n",
    "В теле функции считаем выручку последовательно прибавляя к переменной-счётчику абонентскую плату и стоимость каждого вида трафика, использованного сверх плана."
   ]
  },
  {
   "cell_type": "code",
   "execution_count": 62,
   "metadata": {},
   "outputs": [
    {
     "name": "stdout",
     "output_type": "stream",
     "text": [
      "<class 'pandas.core.frame.DataFrame'>\n",
      "RangeIndex: 3214 entries, 0 to 3213\n",
      "Data columns (total 10 columns):\n",
      " #   Column              Non-Null Count  Dtype \n",
      "---  ------              --------------  ----- \n",
      " 0   user_id             3214 non-null   int64 \n",
      " 1   age                 3214 non-null   int64 \n",
      " 2   city                3214 non-null   object\n",
      " 3   tariff              3214 non-null   object\n",
      " 4   month               3214 non-null   int64 \n",
      " 5   calls_count         3214 non-null   int64 \n",
      " 6   calls_duration_sum  3214 non-null   int64 \n",
      " 7   messages_count      3214 non-null   int64 \n",
      " 8   gb_used             3214 non-null   int64 \n",
      " 9   proceeds            3214 non-null   int64 \n",
      "dtypes: int64(8), object(2)\n",
      "memory usage: 251.2+ KB\n"
     ]
    }
   ],
   "source": [
    "data.info()"
   ]
  },
  {
   "cell_type": "code",
   "execution_count": 25,
   "metadata": {},
   "outputs": [
    {
     "data": {
      "text/html": [
       "<div>\n",
       "<style scoped>\n",
       "    .dataframe tbody tr th:only-of-type {\n",
       "        vertical-align: middle;\n",
       "    }\n",
       "\n",
       "    .dataframe tbody tr th {\n",
       "        vertical-align: top;\n",
       "    }\n",
       "\n",
       "    .dataframe thead th {\n",
       "        text-align: right;\n",
       "    }\n",
       "</style>\n",
       "<table border=\"1\" class=\"dataframe\">\n",
       "  <thead>\n",
       "    <tr style=\"text-align: right;\">\n",
       "      <th></th>\n",
       "      <th>messages_included</th>\n",
       "      <th>mb_per_month_included</th>\n",
       "      <th>minutes_included</th>\n",
       "      <th>rub_monthly_fee</th>\n",
       "      <th>rub_per_gb</th>\n",
       "      <th>rub_per_message</th>\n",
       "      <th>rub_per_minute</th>\n",
       "      <th>tariff_name</th>\n",
       "    </tr>\n",
       "  </thead>\n",
       "  <tbody>\n",
       "    <tr>\n",
       "      <th>0</th>\n",
       "      <td>50</td>\n",
       "      <td>15360</td>\n",
       "      <td>500</td>\n",
       "      <td>550</td>\n",
       "      <td>200</td>\n",
       "      <td>3</td>\n",
       "      <td>3</td>\n",
       "      <td>smart</td>\n",
       "    </tr>\n",
       "    <tr>\n",
       "      <th>1</th>\n",
       "      <td>1000</td>\n",
       "      <td>30720</td>\n",
       "      <td>3000</td>\n",
       "      <td>1950</td>\n",
       "      <td>150</td>\n",
       "      <td>1</td>\n",
       "      <td>1</td>\n",
       "      <td>ultra</td>\n",
       "    </tr>\n",
       "  </tbody>\n",
       "</table>\n",
       "</div>"
      ],
      "text/plain": [
       "   messages_included  mb_per_month_included  minutes_included  \\\n",
       "0                 50                  15360               500   \n",
       "1               1000                  30720              3000   \n",
       "\n",
       "   rub_monthly_fee  rub_per_gb  rub_per_message  rub_per_minute tariff_name  \n",
       "0              550         200                3               3       smart  \n",
       "1             1950         150                1               1       ultra  "
      ]
     },
     "execution_count": 25,
     "metadata": {},
     "output_type": "execute_result"
    }
   ],
   "source": [
    "tariffs # для наглядности при написании ф-ции"
   ]
  },
  {
   "cell_type": "code",
   "execution_count": 26,
   "metadata": {},
   "outputs": [],
   "source": [
    "def proceeds(row):\n",
    "    summ = 0\n",
    "    \n",
    "    if row['tariff'] == 'smart':\n",
    "        tr = tariffs.loc[0]\n",
    "    else:\n",
    "        tr = tariffs.loc[1]\n",
    "        \n",
    "    summ += tr['rub_monthly_fee']\n",
    "    \n",
    "    if row['calls_duration_sum'] > tr['minutes_included']:\n",
    "        summ += (row['calls_duration_sum'] - tr['minutes_included']) * tr['rub_per_minute']\n",
    "    if row['messages_count'] > tr['messages_included']:\n",
    "        summ += (row['messages_count'] - tr['messages_included']) * tr['rub_per_message']\n",
    "    if row['gb_used'] > tr['mb_per_month_included'] / 1024:\n",
    "        summ += (row['gb_used'] - tr['mb_per_month_included'] / 1024) * tr['rub_per_gb']\n",
    "        \n",
    "    return int(summ)"
   ]
  },
  {
   "cell_type": "markdown",
   "metadata": {},
   "source": [
    "Применяем новую функцию ко всем строкам датафрейма `data`, сохраняем результат в новый столбец `proceeds`."
   ]
  },
  {
   "cell_type": "code",
   "execution_count": 27,
   "metadata": {},
   "outputs": [
    {
     "data": {
      "text/html": [
       "<div>\n",
       "<style scoped>\n",
       "    .dataframe tbody tr th:only-of-type {\n",
       "        vertical-align: middle;\n",
       "    }\n",
       "\n",
       "    .dataframe tbody tr th {\n",
       "        vertical-align: top;\n",
       "    }\n",
       "\n",
       "    .dataframe thead th {\n",
       "        text-align: right;\n",
       "    }\n",
       "</style>\n",
       "<table border=\"1\" class=\"dataframe\">\n",
       "  <thead>\n",
       "    <tr style=\"text-align: right;\">\n",
       "      <th></th>\n",
       "      <th>user_id</th>\n",
       "      <th>age</th>\n",
       "      <th>city</th>\n",
       "      <th>tariff</th>\n",
       "      <th>month</th>\n",
       "      <th>calls_count</th>\n",
       "      <th>calls_duration_sum</th>\n",
       "      <th>messages_count</th>\n",
       "      <th>gb_used</th>\n",
       "      <th>proceeds</th>\n",
       "    </tr>\n",
       "  </thead>\n",
       "  <tbody>\n",
       "    <tr>\n",
       "      <th>70</th>\n",
       "      <td>1009</td>\n",
       "      <td>24</td>\n",
       "      <td>Пермь</td>\n",
       "      <td>smart</td>\n",
       "      <td>10</td>\n",
       "      <td>28</td>\n",
       "      <td>213</td>\n",
       "      <td>15</td>\n",
       "      <td>20</td>\n",
       "      <td>1550</td>\n",
       "    </tr>\n",
       "    <tr>\n",
       "      <th>71</th>\n",
       "      <td>1009</td>\n",
       "      <td>24</td>\n",
       "      <td>Пермь</td>\n",
       "      <td>smart</td>\n",
       "      <td>11</td>\n",
       "      <td>39</td>\n",
       "      <td>290</td>\n",
       "      <td>11</td>\n",
       "      <td>17</td>\n",
       "      <td>950</td>\n",
       "    </tr>\n",
       "    <tr>\n",
       "      <th>72</th>\n",
       "      <td>1009</td>\n",
       "      <td>24</td>\n",
       "      <td>Пермь</td>\n",
       "      <td>smart</td>\n",
       "      <td>12</td>\n",
       "      <td>32</td>\n",
       "      <td>229</td>\n",
       "      <td>12</td>\n",
       "      <td>19</td>\n",
       "      <td>1350</td>\n",
       "    </tr>\n",
       "    <tr>\n",
       "      <th>73</th>\n",
       "      <td>1010</td>\n",
       "      <td>26</td>\n",
       "      <td>Тюмень</td>\n",
       "      <td>smart</td>\n",
       "      <td>8</td>\n",
       "      <td>19</td>\n",
       "      <td>142</td>\n",
       "      <td>0</td>\n",
       "      <td>15</td>\n",
       "      <td>550</td>\n",
       "    </tr>\n",
       "    <tr>\n",
       "      <th>74</th>\n",
       "      <td>1010</td>\n",
       "      <td>26</td>\n",
       "      <td>Тюмень</td>\n",
       "      <td>smart</td>\n",
       "      <td>9</td>\n",
       "      <td>29</td>\n",
       "      <td>142</td>\n",
       "      <td>0</td>\n",
       "      <td>16</td>\n",
       "      <td>750</td>\n",
       "    </tr>\n",
       "    <tr>\n",
       "      <th>75</th>\n",
       "      <td>1010</td>\n",
       "      <td>26</td>\n",
       "      <td>Тюмень</td>\n",
       "      <td>smart</td>\n",
       "      <td>10</td>\n",
       "      <td>36</td>\n",
       "      <td>245</td>\n",
       "      <td>0</td>\n",
       "      <td>15</td>\n",
       "      <td>550</td>\n",
       "    </tr>\n",
       "    <tr>\n",
       "      <th>76</th>\n",
       "      <td>1010</td>\n",
       "      <td>26</td>\n",
       "      <td>Тюмень</td>\n",
       "      <td>smart</td>\n",
       "      <td>11</td>\n",
       "      <td>39</td>\n",
       "      <td>290</td>\n",
       "      <td>0</td>\n",
       "      <td>19</td>\n",
       "      <td>1350</td>\n",
       "    </tr>\n",
       "    <tr>\n",
       "      <th>77</th>\n",
       "      <td>1010</td>\n",
       "      <td>26</td>\n",
       "      <td>Тюмень</td>\n",
       "      <td>smart</td>\n",
       "      <td>12</td>\n",
       "      <td>32</td>\n",
       "      <td>336</td>\n",
       "      <td>0</td>\n",
       "      <td>19</td>\n",
       "      <td>1350</td>\n",
       "    </tr>\n",
       "    <tr>\n",
       "      <th>78</th>\n",
       "      <td>1011</td>\n",
       "      <td>44</td>\n",
       "      <td>Самара</td>\n",
       "      <td>smart</td>\n",
       "      <td>3</td>\n",
       "      <td>23</td>\n",
       "      <td>212</td>\n",
       "      <td>4</td>\n",
       "      <td>6</td>\n",
       "      <td>550</td>\n",
       "    </tr>\n",
       "    <tr>\n",
       "      <th>79</th>\n",
       "      <td>1011</td>\n",
       "      <td>44</td>\n",
       "      <td>Самара</td>\n",
       "      <td>smart</td>\n",
       "      <td>4</td>\n",
       "      <td>62</td>\n",
       "      <td>371</td>\n",
       "      <td>7</td>\n",
       "      <td>18</td>\n",
       "      <td>1150</td>\n",
       "    </tr>\n",
       "  </tbody>\n",
       "</table>\n",
       "</div>"
      ],
      "text/plain": [
       "    user_id  age    city tariff  month  calls_count  calls_duration_sum  \\\n",
       "70     1009   24   Пермь  smart     10           28                 213   \n",
       "71     1009   24   Пермь  smart     11           39                 290   \n",
       "72     1009   24   Пермь  smart     12           32                 229   \n",
       "73     1010   26  Тюмень  smart      8           19                 142   \n",
       "74     1010   26  Тюмень  smart      9           29                 142   \n",
       "75     1010   26  Тюмень  smart     10           36                 245   \n",
       "76     1010   26  Тюмень  smart     11           39                 290   \n",
       "77     1010   26  Тюмень  smart     12           32                 336   \n",
       "78     1011   44  Самара  smart      3           23                 212   \n",
       "79     1011   44  Самара  smart      4           62                 371   \n",
       "\n",
       "    messages_count  gb_used  proceeds  \n",
       "70              15       20      1550  \n",
       "71              11       17       950  \n",
       "72              12       19      1350  \n",
       "73               0       15       550  \n",
       "74               0       16       750  \n",
       "75               0       15       550  \n",
       "76               0       19      1350  \n",
       "77               0       19      1350  \n",
       "78               4        6       550  \n",
       "79               7       18      1150  "
      ]
     },
     "execution_count": 27,
     "metadata": {},
     "output_type": "execute_result"
    }
   ],
   "source": [
    "data['proceeds'] = data.apply(proceeds, axis=1)\n",
    "data[70:80]"
   ]
  },
  {
   "cell_type": "markdown",
   "metadata": {},
   "source": [
    "### Вывод\n",
    "\n",
    "В разделе 3 для каждого пользователя посчитано количество и продолжительность совершённых звонков, количество отправленных сообщений и использованных гигабайт интернет-трафика по месяцам. Посчитана помесячная выручка с каждого пользователя. Вся информация собрана в единую таблицу."
   ]
  },
  {
   "cell_type": "markdown",
   "metadata": {},
   "source": [
    "## Анализ данных\n",
    "\n",
    "В этом разделе опишем *поведение* клиентов оператора, исходя из выборки.\n",
    "\n",
    "### Звонки\n",
    "\n",
    "Посмотрим, сколько минут разговора требуется пользователям каждого тарифа в месяц. Посчитаем среднее количество, дисперсию и стандартное отклонение. Построим гистограмму. Опишем распределения.\n",
    "\n",
    "Сначала посмотрим на распределение продолжительности звонков в целом, чтобы убедиться, что данные в таблице адекватны и сними можно работать."
   ]
  },
  {
   "cell_type": "code",
   "execution_count": 28,
   "metadata": {},
   "outputs": [
    {
     "data": {
      "image/png": "[encoded data removed]",
      "text/plain": [
       "<Figure size 432x288 with 1 Axes>"
      ]
     },
     "metadata": {
      "needs_background": "light"
     },
     "output_type": "display_data"
    }
   ],
   "source": [
    "data['calls_duration_sum'].hist(bins=20, color='gray');"
   ]
  },
  {
   "cell_type": "markdown",
   "metadata": {},
   "source": [
    "На гистограмме видим нормальное распределение. Никаких внезапных пиков на графике нет. Нулевых значений достаточно, но они \"вписываются\" в распределение — пользователи, не совершающие звонков, вполне могут существовать.\n",
    "\n",
    "Сформируем сводную таблицу со средними значениями потраченных в месяц минут разговора по каждому тарифу."
   ]
  },
  {
   "cell_type": "code",
   "execution_count": 29,
   "metadata": {},
   "outputs": [],
   "source": [
    "data_calls = data.pivot_table(index='month', columns='tariff', values='calls_duration_sum')"
   ]
  },
  {
   "cell_type": "markdown",
   "metadata": {},
   "source": [
    "Построим столбчатую диаграмму, чтобы наглядно сравнить характерное поведение пользователей двух тарифов:"
   ]
  },
  {
   "cell_type": "code",
   "execution_count": 30,
   "metadata": {},
   "outputs": [
    {
     "data": {
      "image/png": "[encoded data removed]",
      "text/plain": [
       "<Figure size 864x504 with 1 Axes>"
      ]
     },
     "metadata": {
      "needs_background": "light"
     },
     "output_type": "display_data"
    }
   ],
   "source": [
    "data_calls.plot(\n",
    "    kind='bar', \n",
    "    title='Среднее количество минут разговора ', \n",
    "    color={'smart': '#0057b8', 'ultra': '#ffd700'}, \n",
    "    grid=True, \n",
    "    figsize=(12,7))\n",
    "plt.ylabel('minutes');"
   ]
  },
  {
   "cell_type": "markdown",
   "metadata": {},
   "source": [
    "Из графика видно, что пользователи тарифа _ultra_ страндартно тратят в месяц как минимум минут на 100 разговора больше, чем пользователи тарифа _smart_. Кроме того средняя продолжительность разговоров растёт от начала к концу года."
   ]
  },
  {
   "cell_type": "markdown",
   "metadata": {},
   "source": [
    "Посчитаем статистики продолжительности разговоров по тарифам и построим гистограмму, чтобы оценить распределения."
   ]
  },
  {
   "cell_type": "code",
   "execution_count": 31,
   "metadata": {},
   "outputs": [
    {
     "data": {
      "text/html": [
       "<style  type=\"text/css\" >\n",
       "</style><table id=\"T_6a266_\" ><thead>    <tr>        <th class=\"blank level0\" ></th>        <th class=\"col_heading level0 col0\" colspan=\"4\">calls_duration_sum</th>    </tr>    <tr>        <th class=\"blank level1\" ></th>        <th class=\"col_heading level1 col0\" >median</th>        <th class=\"col_heading level1 col1\" >mean</th>        <th class=\"col_heading level1 col2\" >var</th>        <th class=\"col_heading level1 col3\" >std</th>    </tr>    <tr>        <th class=\"index_name level0\" >tariff</th>        <th class=\"blank\" ></th>        <th class=\"blank\" ></th>        <th class=\"blank\" ></th>        <th class=\"blank\" ></th>    </tr></thead><tbody>\n",
       "                <tr>\n",
       "                        <th id=\"T_6a266_level0_row0\" class=\"row_heading level0 row0\" >smart</th>\n",
       "                        <td id=\"T_6a266_row0_col0\" class=\"data row0 col0\" >422.00</td>\n",
       "                        <td id=\"T_6a266_row0_col1\" class=\"data row0 col1\" >417.93</td>\n",
       "                        <td id=\"T_6a266_row0_col2\" class=\"data row0 col2\" >36219.32</td>\n",
       "                        <td id=\"T_6a266_row0_col3\" class=\"data row0 col3\" >190.31</td>\n",
       "            </tr>\n",
       "            <tr>\n",
       "                        <th id=\"T_6a266_level0_row1\" class=\"row_heading level0 row1\" >ultra</th>\n",
       "                        <td id=\"T_6a266_row1_col0\" class=\"data row1 col0\" >518.00</td>\n",
       "                        <td id=\"T_6a266_row1_col1\" class=\"data row1 col1\" >526.62</td>\n",
       "                        <td id=\"T_6a266_row1_col2\" class=\"data row1 col2\" >100873.63</td>\n",
       "                        <td id=\"T_6a266_row1_col3\" class=\"data row1 col3\" >317.61</td>\n",
       "            </tr>\n",
       "    </tbody></table>"
      ],
      "text/plain": [
       "<pandas.io.formats.style.Styler at 0x7f8f20b15640>"
      ]
     },
     "execution_count": 31,
     "metadata": {},
     "output_type": "execute_result"
    }
   ],
   "source": [
    "data.groupby('tariff')\\\n",
    "  .agg({'calls_duration_sum':['median','mean','var','std']})\\\n",
    "  .style.format(\"{:.2f}\")"
   ]
  },
  {
   "cell_type": "code",
   "execution_count": 32,
   "metadata": {
    "scrolled": false
   },
   "outputs": [
    {
     "data": {
      "image/png": "[encoded data removed]",
      "text/plain": [
       "<Figure size 864x504 with 1 Axes>"
      ]
     },
     "metadata": {
      "needs_background": "light"
     },
     "output_type": "display_data"
    }
   ],
   "source": [
    "ax = data[data['tariff'] == 'smart']['calls_duration_sum'].plot(\n",
    "    kind='hist',\n",
    "    histtype='step',\n",
    "    linewidth=6,\n",
    "    alpha=0.8,\n",
    "    label='smart',\n",
    "    color='#0057b8',\n",
    "    legend=True,\n",
    "    bins=10,\n",
    "    figsize=(12,7))\n",
    "\n",
    "data[data['tariff'] == 'ultra']['calls_duration_sum'].plot(\n",
    "    kind='hist',\n",
    "    histtype='step',\n",
    "    linewidth=6,\n",
    "    alpha=0.8,\n",
    "    label='ultra',\n",
    "    color='#ffd700',\n",
    "    grid=True,\n",
    "    ax=ax,\n",
    "    legend=True)\n",
    "\n",
    "plt.xlabel('minutes')\n",
    "plt.title('Израсходованные минуты в месяц');"
   ]
  },
  {
   "cell_type": "markdown",
   "metadata": {},
   "source": [
    "График построен в одних осях, и разница в частотах (здесь и далее) объясняется разным количеством значений, по которым мы строим гистограмму, что в свою очередь объясняется неравной пропорцией клиентов, использующих эти тарифы:"
   ]
  },
  {
   "cell_type": "code",
   "execution_count": 33,
   "metadata": {},
   "outputs": [
    {
     "data": {
      "text/plain": [
       "'количество значений'"
      ]
     },
     "metadata": {},
     "output_type": "display_data"
    },
    {
     "data": {
      "text/plain": [
       "smart    2229\n",
       "ultra     985\n",
       "Name: tariff, dtype: int64"
      ]
     },
     "metadata": {},
     "output_type": "display_data"
    },
    {
     "data": {
      "text/plain": [
       "'количество пользователей'"
      ]
     },
     "metadata": {},
     "output_type": "display_data"
    },
    {
     "data": {
      "text/plain": [
       "smart    351\n",
       "ultra    149\n",
       "Name: tariff, dtype: int64"
      ]
     },
     "metadata": {},
     "output_type": "display_data"
    }
   ],
   "source": [
    "display('количество значений', data['tariff'].value_counts())\n",
    "display('количество пользователей', users['tariff'].value_counts())"
   ]
  },
  {
   "cell_type": "markdown",
   "metadata": {},
   "source": [
    "Итак, видим, что в обоих тарифах люди в среднем укладываются в предоплаченный лимит (для _smart_ это 500 минут, для _ultra_ — 3000 минут). Однако в то время как у пользователей _ultra_ в запасе всегда остаётся ещё много неиспользованных минут, пользователи _smart_ ходят по границе лимита своего тарифа и то и дело пересекают его порог. Их среднее находится очень близко к пороговому значению, и на гистограмме видим пик именно вокруг значения в 500 минут.\n",
    "\n",
    "Характер распределений в обоих случаях можно считать близким к нормальному, нет никаких экстремальных участков. Перепады значений у пользователей _smart_ гораздо более резкие. Распределение _ultra_ довольно пологое."
   ]
  },
  {
   "cell_type": "markdown",
   "metadata": {},
   "source": [
    "### Сообщения"
   ]
  },
  {
   "cell_type": "markdown",
   "metadata": {},
   "source": [
    "Аналогично с сообщениями.\n",
    "\n",
    "Сначала смотрим на распределение."
   ]
  },
  {
   "cell_type": "code",
   "execution_count": 34,
   "metadata": {},
   "outputs": [
    {
     "data": {
      "image/png": "[encoded data removed]",
      "text/plain": [
       "<Figure size 432x288 with 1 Axes>"
      ]
     },
     "metadata": {
      "needs_background": "light"
     },
     "output_type": "display_data"
    }
   ],
   "source": [
    "data['messages_count'].hist(bins=20, color='gray');"
   ]
  },
  {
   "cell_type": "markdown",
   "metadata": {},
   "source": [
    "Видим пик в нуле. Но такое распределение выглядит адекватным: СМС уходят в прошлое, несложно поверить, что большинство людей ими не пользуются.\n",
    "\n",
    "Теперь сводная таблица:"
   ]
  },
  {
   "cell_type": "code",
   "execution_count": 35,
   "metadata": {},
   "outputs": [],
   "source": [
    "data_messages = data.pivot_table(index='month', columns='tariff', values='messages_count')"
   ]
  },
  {
   "cell_type": "code",
   "execution_count": 36,
   "metadata": {},
   "outputs": [
    {
     "data": {
      "image/png": "[encoded data removed]",
      "text/plain": [
       "<Figure size 864x504 with 1 Axes>"
      ]
     },
     "metadata": {
      "needs_background": "light"
     },
     "output_type": "display_data"
    }
   ],
   "source": [
    "data_messages.plot(\n",
    "    kind='bar', \n",
    "    title='Среднее количество сообщений', \n",
    "    color={'smart': '#0057b8', 'ultra': '#ffd700'}, \n",
    "    grid=True, \n",
    "    figsize=(12,7))\n",
    "plt.ylabel('messages');"
   ]
  },
  {
   "cell_type": "markdown",
   "metadata": {},
   "source": [
    "По столбчатой диаграмме видим, что пользователи тарифа _ultra_ и сообщений отправляют больше, чем пользователи _smart_, причём ближе к концу года их количество заметно возрастает, в то время как в _smart_ на протяжении всего года (за исключением первых двух месяцев) их среднее количество всегда близко к 40."
   ]
  },
  {
   "cell_type": "code",
   "execution_count": 37,
   "metadata": {},
   "outputs": [
    {
     "data": {
      "text/html": [
       "<style  type=\"text/css\" >\n",
       "</style><table id=\"T_92ae7_\" ><thead>    <tr>        <th class=\"blank level0\" ></th>        <th class=\"col_heading level0 col0\" colspan=\"4\">messages_count</th>    </tr>    <tr>        <th class=\"blank level1\" ></th>        <th class=\"col_heading level1 col0\" >median</th>        <th class=\"col_heading level1 col1\" >mean</th>        <th class=\"col_heading level1 col2\" >var</th>        <th class=\"col_heading level1 col3\" >std</th>    </tr>    <tr>        <th class=\"index_name level0\" >tariff</th>        <th class=\"blank\" ></th>        <th class=\"blank\" ></th>        <th class=\"blank\" ></th>        <th class=\"blank\" ></th>    </tr></thead><tbody>\n",
       "                <tr>\n",
       "                        <th id=\"T_92ae7_level0_row0\" class=\"row_heading level0 row0\" >smart</th>\n",
       "                        <td id=\"T_92ae7_row0_col0\" class=\"data row0 col0\" >28.00</td>\n",
       "                        <td id=\"T_92ae7_row0_col1\" class=\"data row0 col1\" >33.38</td>\n",
       "                        <td id=\"T_92ae7_row0_col2\" class=\"data row0 col2\" >796.81</td>\n",
       "                        <td id=\"T_92ae7_row0_col3\" class=\"data row0 col3\" >28.23</td>\n",
       "            </tr>\n",
       "            <tr>\n",
       "                        <th id=\"T_92ae7_level0_row1\" class=\"row_heading level0 row1\" >ultra</th>\n",
       "                        <td id=\"T_92ae7_row1_col0\" class=\"data row1 col0\" >38.00</td>\n",
       "                        <td id=\"T_92ae7_row1_col1\" class=\"data row1 col1\" >49.36</td>\n",
       "                        <td id=\"T_92ae7_row1_col2\" class=\"data row1 col2\" >2285.27</td>\n",
       "                        <td id=\"T_92ae7_row1_col3\" class=\"data row1 col3\" >47.80</td>\n",
       "            </tr>\n",
       "    </tbody></table>"
      ],
      "text/plain": [
       "<pandas.io.formats.style.Styler at 0x7f8f20bb6790>"
      ]
     },
     "execution_count": 37,
     "metadata": {},
     "output_type": "execute_result"
    }
   ],
   "source": [
    "data.groupby('tariff')\\\n",
    "  .agg({'messages_count':['median','mean','var','std']})\\\n",
    "  .style.format(\"{:.2f}\")"
   ]
  },
  {
   "cell_type": "code",
   "execution_count": 38,
   "metadata": {},
   "outputs": [
    {
     "data": {
      "image/png": "[encoded data removed]",
      "text/plain": [
       "<Figure size 864x504 with 1 Axes>"
      ]
     },
     "metadata": {
      "needs_background": "light"
     },
     "output_type": "display_data"
    }
   ],
   "source": [
    "ax = data[data['tariff'] == 'smart']['messages_count'].plot(\n",
    "    kind='hist',\n",
    "    histtype='step',\n",
    "    linewidth=6,\n",
    "    alpha=0.8,\n",
    "    label='smart',\n",
    "    color='#0057b8',\n",
    "    legend=True,\n",
    "    bins=10,\n",
    "    figsize=(12,7))\n",
    "\n",
    "data[data['tariff'] == 'ultra']['messages_count'].plot(\n",
    "    kind='hist',\n",
    "    histtype='step',\n",
    "    linewidth=6,\n",
    "    alpha=0.8,\n",
    "    label='ultra',\n",
    "    color='#ffd700',\n",
    "    grid=True,\n",
    "    ax=ax,\n",
    "    legend=True)\n",
    "\n",
    "plt.xlabel('messages')\n",
    "plt.title('Отправленные сообщения в месяц');"
   ]
  },
  {
   "cell_type": "markdown",
   "metadata": {},
   "source": [
    "Поведение пользователей двух тарифов в использовании СМС похоже: большинство клиентов их вообще не отправляет.\n",
    "При этом график _ultra_ снова более пологий — дисперсия значительно выше, но к 1000 входящих в тариф сообщений не приближается, кажется, вообще никто.\n",
    "В тарифе _smart_, где в абонентскую плату включено 50 сообщений, пользователи гораздно чаще доплачивают за сообщения сверх лимита (ну как чаще, в принципе доплачивают, в отличие от другого тарифа)."
   ]
  },
  {
   "cell_type": "markdown",
   "metadata": {},
   "source": [
    "### Интернет-трафик"
   ]
  },
  {
   "cell_type": "markdown",
   "metadata": {},
   "source": [
    "Смотрим распределение."
   ]
  },
  {
   "cell_type": "code",
   "execution_count": 39,
   "metadata": {},
   "outputs": [
    {
     "data": {
      "image/png": "[encoded data removed]",
      "text/plain": [
       "<Figure size 432x288 with 1 Axes>"
      ]
     },
     "metadata": {
      "needs_background": "light"
     },
     "output_type": "display_data"
    }
   ],
   "source": [
    "data['gb_used'].hist(bins=20, color='gray');"
   ]
  },
  {
   "cell_type": "markdown",
   "metadata": {},
   "source": [
    "Наблюдаем пик в районе 15 Гб. Скорее всего это пользователи, пытающиеся уложиться в свой тарифный лимит. в остальном ничего необычного.\n",
    "\n",
    "Сводная талблица для построения диаграммы."
   ]
  },
  {
   "cell_type": "code",
   "execution_count": 40,
   "metadata": {},
   "outputs": [],
   "source": [
    "data_internet = data.pivot_table(index='month', columns='tariff', values='gb_used')"
   ]
  },
  {
   "cell_type": "code",
   "execution_count": 41,
   "metadata": {},
   "outputs": [
    {
     "data": {
      "image/png": "[encoded data removed]",
      "text/plain": [
       "<Figure size 864x504 with 1 Axes>"
      ]
     },
     "metadata": {
      "needs_background": "light"
     },
     "output_type": "display_data"
    }
   ],
   "source": [
    "data_internet.plot(\n",
    "    kind='bar', \n",
    "    title='Среднее потребление интернет-трафика', \n",
    "    color={'smart': '#0057b8', 'ultra': '#ffd700'}, \n",
    "    grid=True, \n",
    "    figsize=(12,7))\n",
    "plt.ylabel('gb used');"
   ]
  },
  {
   "cell_type": "markdown",
   "metadata": {},
   "source": [
    "Пользователи _ultra_ снова чуть больше пользуются интернетом, в среднем тратя примерно на 3 Гб больше пользователей _smart_.\n",
    "Примечательно (кстати для всех видов трафика), что пользование услугами мобильного оператора в первые два месяца года значительно уступает последующим месяцам."
   ]
  },
  {
   "cell_type": "code",
   "execution_count": 42,
   "metadata": {},
   "outputs": [
    {
     "data": {
      "text/html": [
       "<style  type=\"text/css\" >\n",
       "</style><table id=\"T_d42a9_\" ><thead>    <tr>        <th class=\"blank level0\" ></th>        <th class=\"col_heading level0 col0\" colspan=\"4\">gb_used</th>    </tr>    <tr>        <th class=\"blank level1\" ></th>        <th class=\"col_heading level1 col0\" >median</th>        <th class=\"col_heading level1 col1\" >mean</th>        <th class=\"col_heading level1 col2\" >var</th>        <th class=\"col_heading level1 col3\" >std</th>    </tr>    <tr>        <th class=\"index_name level0\" >tariff</th>        <th class=\"blank\" ></th>        <th class=\"blank\" ></th>        <th class=\"blank\" ></th>        <th class=\"blank\" ></th>    </tr></thead><tbody>\n",
       "                <tr>\n",
       "                        <th id=\"T_d42a9_level0_row0\" class=\"row_heading level0 row0\" >smart</th>\n",
       "                        <td id=\"T_d42a9_row0_col0\" class=\"data row0 col0\" >17.00</td>\n",
       "                        <td id=\"T_d42a9_row0_col1\" class=\"data row0 col1\" >16.33</td>\n",
       "                        <td id=\"T_d42a9_row0_col2\" class=\"data row0 col2\" >33.03</td>\n",
       "                        <td id=\"T_d42a9_row0_col3\" class=\"data row0 col3\" >5.75</td>\n",
       "            </tr>\n",
       "            <tr>\n",
       "                        <th id=\"T_d42a9_level0_row1\" class=\"row_heading level0 row1\" >ultra</th>\n",
       "                        <td id=\"T_d42a9_row1_col0\" class=\"data row1 col0\" >19.00</td>\n",
       "                        <td id=\"T_d42a9_row1_col1\" class=\"data row1 col1\" >19.49</td>\n",
       "                        <td id=\"T_d42a9_row1_col2\" class=\"data row1 col2\" >97.09</td>\n",
       "                        <td id=\"T_d42a9_row1_col3\" class=\"data row1 col3\" >9.85</td>\n",
       "            </tr>\n",
       "    </tbody></table>"
      ],
      "text/plain": [
       "<pandas.io.formats.style.Styler at 0x7f8f1f6a1bb0>"
      ]
     },
     "execution_count": 42,
     "metadata": {},
     "output_type": "execute_result"
    }
   ],
   "source": [
    "data.groupby('tariff')\\\n",
    "  .agg({'gb_used':['median','mean','var','std']})\\\n",
    "  .style.format(\"{:.2f}\")"
   ]
  },
  {
   "cell_type": "code",
   "execution_count": 43,
   "metadata": {},
   "outputs": [
    {
     "data": {
      "image/png": "[encoded data removed]",
      "text/plain": [
       "<Figure size 864x504 with 1 Axes>"
      ]
     },
     "metadata": {
      "needs_background": "light"
     },
     "output_type": "display_data"
    }
   ],
   "source": [
    "ax = data[data['tariff'] == 'smart']['gb_used'].plot(\n",
    "    kind='hist',\n",
    "    histtype='step',\n",
    "    linewidth=6,\n",
    "    alpha=0.8,\n",
    "    label='smart',\n",
    "    color='#0057b8',\n",
    "    legend=True,\n",
    "    bins=10,\n",
    "    figsize=(12,7))\n",
    "\n",
    "data[data['tariff'] == 'ultra']['gb_used'].plot(\n",
    "    kind='hist',\n",
    "    histtype='step',\n",
    "    linewidth=6,\n",
    "    alpha=0.8,\n",
    "    label='ultra',\n",
    "    color='#ffd700',\n",
    "    grid=True,\n",
    "    ax=ax,\n",
    "    legend=True)\n",
    "\n",
    "plt.xlabel('gb used')\n",
    "plt.title('Потребление интернет-трафика в месяц');"
   ]
  },
  {
   "cell_type": "markdown",
   "metadata": {},
   "source": [
    "По статистикам и гистограммам видим, что в использовании интернета средние значения (и медиана тоже) у пользователей двух тарифов очень близки. При этом дисперсия в тарифе _ultra_ значительно выше — график более растянутый, и лишь небольшая часть клиентов не укладывается в лимит тарифа в 30 Гб. Клиенты же _smart_, напротив, даже в среднем превышают свой лимит в 15 Гб, а значит, более, чем в половине случаев доплачивают за дополнительные гигабайты."
   ]
  },
  {
   "cell_type": "markdown",
   "metadata": {},
   "source": [
    "### Выручка"
   ]
  },
  {
   "cell_type": "markdown",
   "metadata": {},
   "source": [
    "Аналогичный анализ проведём также о выручке."
   ]
  },
  {
   "cell_type": "code",
   "execution_count": 44,
   "metadata": {},
   "outputs": [
    {
     "data": {
      "image/png": "[encoded data removed]",
      "text/plain": [
       "<Figure size 432x288 with 1 Axes>"
      ]
     },
     "metadata": {
      "needs_background": "light"
     },
     "output_type": "display_data"
    }
   ],
   "source": [
    "data['proceeds'].hist(bins=20, color='black', alpha=0.8);"
   ]
  },
  {
   "cell_type": "markdown",
   "metadata": {},
   "source": [
    "В распределении видим два пика на выручке, равной абонентским платам двух тарифов, что логично: значит, большинство пользователей всё же не выходит за рамки своих тарифных ограничений.\n",
    "\n",
    "Интересно, что несмотря на относительно меньшее количество пользователей тарифа _ultra_, пик на величине абонентской платы их тарифа значительно более острый. Такой высокий пик и пологое распределение значений справа от него говорит о том, что пользователи _ultra_ преимущественно укладываются в лимит и не переплачивают. Пик на абонентской плане тарифа _smart_ ниже, а распределение справа от него гораздо более крутое: здесь очень много клиентов превышают лимиты трафика."
   ]
  },
  {
   "cell_type": "code",
   "execution_count": 45,
   "metadata": {},
   "outputs": [],
   "source": [
    "data_proceeds = data.pivot_table(index='month', columns='tariff', values='proceeds')"
   ]
  },
  {
   "cell_type": "code",
   "execution_count": 46,
   "metadata": {},
   "outputs": [
    {
     "data": {
      "image/png": "[encoded data removed]",
      "text/plain": [
       "<Figure size 864x504 with 1 Axes>"
      ]
     },
     "metadata": {
      "needs_background": "light"
     },
     "output_type": "display_data"
    }
   ],
   "source": [
    "data_proceeds.plot(\n",
    "    kind='bar', \n",
    "    title='Средняя выручка', \n",
    "    color={'smart': '#0057b8', 'ultra': '#ffd700'}, \n",
    "    grid=True, \n",
    "    figsize=(12,7))\n",
    "plt.ylabel('proceeds');"
   ]
  },
  {
   "cell_type": "markdown",
   "metadata": {},
   "source": [
    "Тенденцию увеличения потребления всех видов трафика в течение года мы видели выше на графиках для пользователей обоих тарифов, однако на диаграмме средней выручки заметно, что выручка от клиентов _ultra_ очень стабильна на протяжении всего года. Сверх абонентской платы эти пользователи генерируют очень мало прибыли.\n",
    "А выручка от пользователей тарифа _smart_ как раз коррелирует с возрастающим объёмом потребления трафика."
   ]
  },
  {
   "cell_type": "code",
   "execution_count": 47,
   "metadata": {},
   "outputs": [
    {
     "data": {
      "text/html": [
       "<style  type=\"text/css\" >\n",
       "</style><table id=\"T_35b78_\" ><thead>    <tr>        <th class=\"blank level0\" ></th>        <th class=\"col_heading level0 col0\" colspan=\"4\">proceeds</th>    </tr>    <tr>        <th class=\"blank level1\" ></th>        <th class=\"col_heading level1 col0\" >median</th>        <th class=\"col_heading level1 col1\" >mean</th>        <th class=\"col_heading level1 col2\" >var</th>        <th class=\"col_heading level1 col3\" >std</th>    </tr>    <tr>        <th class=\"index_name level0\" >tariff</th>        <th class=\"blank\" ></th>        <th class=\"blank\" ></th>        <th class=\"blank\" ></th>        <th class=\"blank\" ></th>    </tr></thead><tbody>\n",
       "                <tr>\n",
       "                        <th id=\"T_35b78_level0_row0\" class=\"row_heading level0 row0\" >smart</th>\n",
       "                        <td id=\"T_35b78_row0_col0\" class=\"data row0 col0\" >1023.00</td>\n",
       "                        <td id=\"T_35b78_row0_col1\" class=\"data row0 col1\" >1289.97</td>\n",
       "                        <td id=\"T_35b78_row0_col2\" class=\"data row0 col2\" >669785.71</td>\n",
       "                        <td id=\"T_35b78_row0_col3\" class=\"data row0 col3\" >818.40</td>\n",
       "            </tr>\n",
       "            <tr>\n",
       "                        <th id=\"T_35b78_level0_row1\" class=\"row_heading level0 row1\" >ultra</th>\n",
       "                        <td id=\"T_35b78_row1_col0\" class=\"data row1 col0\" >1950.00</td>\n",
       "                        <td id=\"T_35b78_row1_col1\" class=\"data row1 col1\" >2070.15</td>\n",
       "                        <td id=\"T_35b78_row1_col2\" class=\"data row1 col2\" >141516.75</td>\n",
       "                        <td id=\"T_35b78_row1_col3\" class=\"data row1 col3\" >376.19</td>\n",
       "            </tr>\n",
       "    </tbody></table>"
      ],
      "text/plain": [
       "<pandas.io.formats.style.Styler at 0x7f8f20ad3430>"
      ]
     },
     "execution_count": 47,
     "metadata": {},
     "output_type": "execute_result"
    }
   ],
   "source": [
    "data.groupby('tariff')\\\n",
    "  .agg({'proceeds':['median','mean','var','std']})\\\n",
    "  .style.format(\"{:.2f}\")"
   ]
  },
  {
   "cell_type": "code",
   "execution_count": 48,
   "metadata": {},
   "outputs": [
    {
     "data": {
      "image/png": "[encoded data removed]",
      "text/plain": [
       "<Figure size 864x504 with 1 Axes>"
      ]
     },
     "metadata": {
      "needs_background": "light"
     },
     "output_type": "display_data"
    }
   ],
   "source": [
    "ax = data[data['tariff'] == 'smart']['proceeds'].plot(\n",
    "    kind='hist',\n",
    "    histtype='step',\n",
    "    linewidth=6,\n",
    "    alpha=0.8,\n",
    "    label='smart',\n",
    "    color='#0057b8',\n",
    "    legend=True,\n",
    "    bins=20,\n",
    "    figsize=(12,7))\n",
    "\n",
    "data[data['tariff'] == 'ultra']['proceeds'].plot(\n",
    "    kind='hist',\n",
    "    histtype='step',\n",
    "    linewidth=6,\n",
    "    alpha=0.8,\n",
    "    label='ultra',\n",
    "    color='#ffd700',\n",
    "    grid=True,\n",
    "    ax=ax,\n",
    "    legend=True)\n",
    "\n",
    "plt.xlabel('proceeds')\n",
    "plt.title('Выручка в месяц');"
   ]
  },
  {
   "cell_type": "markdown",
   "metadata": {},
   "source": [
    "Ещё раз убеждаемся, что пользователи _smart_ генерируют много дополнительной выручки сверх своей абонентсвой платы. Но средняя выручка на тарифе _ultra_ всё равно выше."
   ]
  },
  {
   "cell_type": "markdown",
   "metadata": {},
   "source": [
    "### Вывод\n",
    "\n",
    "<a id=\"выводы_поведение\"></a>\n",
    "\n",
    "Среднее **потребление** всех видов трафика **выше** у пользователей тарифа _ultra_, что логично, ведь они выбрали тариф с более высокими лимитами трафика, включённого в абонентскую плату.\n",
    "\n",
    "Тем не менее, пользователи _ultra_ довольно **редко превышают** эти лимиты и лишь иногда платят за **дополнительный интернет-трафик**.\n",
    "\n",
    "Пользователи _smart_, напротив, **чаще всего используют количество трафика, близкое к лимиту тарифа**, а значит, довольно **часто доплачивают за трафик сверх абонентской платы**.\n",
    "\n",
    "**СМС — наименее популярный** вид коммуникации: большинство пользователей обоих тарифов вообще **не отправляют** сообщения.\n",
    "\n",
    "Распределения по всем видам трафика в тарифе _ultra_ гораздо более пологие, чем в _smart_. Это говорит о том, что поведение пользователей этого тарифа более вариативно."
   ]
  },
  {
   "cell_type": "markdown",
   "metadata": {},
   "source": [
    "## Проверка гипотез"
   ]
  },
  {
   "cell_type": "markdown",
   "metadata": {},
   "source": [
    "### Зависимость средней выручки от тарифа\n",
    "\n",
    "Проверим, различается ли средняя выручка пользователей тарифов _ultra_ и _smart_.\n",
    "\n",
    "Для этого сначала сформулируем *нулевую гипотезу* **Н0** и *альтернативную гипотезу* **Н1**:\n",
    "\n",
    "**Н0**: средняя выручка пользователей тарифа _ultra_ ***равна*** средней выручке пользователей тарифа _smart_.\n",
    "\n",
    "**Н1**: средняя выручка пользователей тарифа _ultra_ ***отличается*** от средней выручки пользователей тарифа _smart_.\n",
    "\n",
    "Сравниваемые выборки *независимы* между собой, поэтому будем использовать *t-критерий Стьюдента для несвязанных выборок*. С его помощью можно оценить, насколько различаются их средние.\n",
    "Т.к. формула t-критерия включает в себя средние значения выборок, то критерий может давать неадекватные результаты при наличии выбросов. Поэтому проверим выборки на наличие выбросов в столбце с выручкой `proceeds`."
   ]
  },
  {
   "cell_type": "code",
   "execution_count": 49,
   "metadata": {},
   "outputs": [
    {
     "data": {
      "text/plain": [
       "count    2229.000000\n",
       "mean     1289.973531\n",
       "std       818.404367\n",
       "min       550.000000\n",
       "25%       550.000000\n",
       "50%      1023.000000\n",
       "75%      1750.000000\n",
       "max      6770.000000\n",
       "Name: proceeds, dtype: float64"
      ]
     },
     "metadata": {},
     "output_type": "display_data"
    },
    {
     "data": {
      "image/png": "[encoded data removed]",
      "text/plain": [
       "<Figure size 864x504 with 1 Axes>"
      ]
     },
     "metadata": {
      "needs_background": "light"
     },
     "output_type": "display_data"
    }
   ],
   "source": [
    "# формируем срезы по тарифам\n",
    "data_smart = data.query('tariff==\"smart\"')\n",
    "data_ultra = data.query('tariff==\"ultra\"')\n",
    "\n",
    "display(data_smart['proceeds'].describe())\n",
    "data_smart.boxplot(column='proceeds', figsize=(12,7));"
   ]
  },
  {
   "cell_type": "code",
   "execution_count": 50,
   "metadata": {},
   "outputs": [
    {
     "data": {
      "text/plain": [
       "count     985.000000\n",
       "mean     2070.152284\n",
       "std       376.187114\n",
       "min      1950.000000\n",
       "25%      1950.000000\n",
       "50%      1950.000000\n",
       "75%      1950.000000\n",
       "max      4800.000000\n",
       "Name: proceeds, dtype: float64"
      ]
     },
     "metadata": {},
     "output_type": "display_data"
    },
    {
     "data": {
      "image/png": "[encoded data removed]",
      "text/plain": [
       "<Figure size 864x504 with 1 Axes>"
      ]
     },
     "metadata": {
      "needs_background": "light"
     },
     "output_type": "display_data"
    }
   ],
   "source": [
    "display(data_ultra['proceeds'].describe())\n",
    "data_ultra.boxplot(column='proceeds', figsize=(12,7));"
   ]
  },
  {
   "cell_type": "markdown",
   "metadata": {},
   "source": [
    "Выбросы в обеих выборках действительно есть. Все \"сверху\". Поэтому перед проверкой гипотез избавимся от них, удалив из срезов значения, выходящие за предел верхнего \"уса\" диаграммы, т.е. больше полутора межквартильных расстояний от 3-его квартиля.\n",
    "\n",
    "Напишем функцию, которая будет возвращать эту верхнюю границу."
   ]
  },
  {
   "cell_type": "code",
   "execution_count": 51,
   "metadata": {},
   "outputs": [],
   "source": [
    "def outlier(df):\n",
    "    \n",
    "    iqr = df.quantile(0.75) - df.quantile(0.25) # межквартильный размах\n",
    "    return df.quantile(0.75) + 1.5 * iqr # возвращает верхнюю границу"
   ]
  },
  {
   "cell_type": "markdown",
   "metadata": {},
   "source": [
    "И теперь очистим наши выборки от выбросов и сформируем из них массивы со значениями выручки для использования в функции далее."
   ]
  },
  {
   "cell_type": "code",
   "execution_count": 52,
   "metadata": {},
   "outputs": [],
   "source": [
    "data_smart = data_smart[data_smart['proceeds'] <= outlier(data_smart['proceeds'])]\n",
    "data_smart = data_smart['proceeds']\n",
    "\n",
    "data_ultra = data_ultra[data_ultra['proceeds'] <= outlier(data_ultra['proceeds'])]\n",
    "data_ultra = data_ultra['proceeds']"
   ]
  },
  {
   "cell_type": "markdown",
   "metadata": {},
   "source": [
    "И можно наконец проверять *гипотезу о равенстве средних* двух генеральных совокупностей по взятым из них выборкам. Критерий значимости `alpha` зададим стандартный — 5 %."
   ]
  },
  {
   "cell_type": "markdown",
   "metadata": {},
   "source": [
    "Чтобы определить значение параметра `equal_var` функции `st.ttest_ind`, сравним дисперсии выборок."
   ]
  },
  {
   "cell_type": "code",
   "execution_count": 53,
   "metadata": {},
   "outputs": [
    {
     "data": {
      "text/plain": [
       "532840.5111072549"
      ]
     },
     "metadata": {},
     "output_type": "display_data"
    },
    {
     "data": {
      "text/plain": [
       "0.0"
      ]
     },
     "metadata": {},
     "output_type": "display_data"
    }
   ],
   "source": [
    "display(data_smart.var(), data_ultra.var())"
   ]
  },
  {
   "cell_type": "markdown",
   "metadata": {},
   "source": [
    "Дисперсии отличаются значительно, поэтому будем испльзовать значение _False_."
   ]
  },
  {
   "cell_type": "code",
   "execution_count": 54,
   "metadata": {},
   "outputs": [
    {
     "data": {
      "text/plain": [
       "'значение p-value: 4.665521e-316'"
      ]
     },
     "metadata": {},
     "output_type": "display_data"
    },
    {
     "data": {
      "text/plain": [
       "True"
      ]
     },
     "execution_count": 54,
     "metadata": {},
     "output_type": "execute_result"
    }
   ],
   "source": [
    "alpha = 0.05\n",
    "\n",
    "results_1 = st.ttest_ind(data_smart, data_ultra, equal_var=False)\n",
    "display(f'значение p-value: {results_1.pvalue}')\n",
    "results_1.pvalue < alpha"
   ]
  },
  {
   "cell_type": "markdown",
   "metadata": {},
   "source": [
    "Полученное значение p-value значительно _меньше_ критерия значимости `alpha`, следовательно, между выборками существует значимое различие, поэтому отвергаем нулевую гипотезу и принимаем альтернативную: средняя выручка пользователей тарифа _ultra_ ***отличается*** от средней выручки пользователей тарифа _smart_."
   ]
  },
  {
   "cell_type": "markdown",
   "metadata": {},
   "source": [
    "### Зависимость средней выручки от региона\n",
    "\n",
    "Проверим, отличается ли средняя выручка пользователей из Москвы от выручки пользователей из других регионов.\n",
    "\n",
    "Сформулируем гипотезы:\n",
    "\n",
    "**Н0**: средняя выручка пользователей из Москвы ***равна*** средней выручке пользователей из других регионов.\n",
    "**Н1**: средняя выручка пользователей из Москвы ***отличается*** от средней выручки пользователей из других регионов.\n",
    "\n",
    "Эти выборки также *независимы*, поэтому используем всё тот же *t-критерий Стьюдента для несвязанных выборок* и проверяем *гипотезу о равенстве средних* двух генеральных совокупностей по взятым из них выборкам."
   ]
  },
  {
   "cell_type": "code",
   "execution_count": 55,
   "metadata": {},
   "outputs": [],
   "source": [
    "# формируем срезы по Москве и регионам\n",
    "\n",
    "data_msk = data.query('city==\"Москва\"')\n",
    "data_reg = data.query('city!=\"Москва\"')"
   ]
  },
  {
   "cell_type": "markdown",
   "metadata": {},
   "source": [
    "Проверим срезы на выбросы."
   ]
  },
  {
   "cell_type": "code",
   "execution_count": 56,
   "metadata": {},
   "outputs": [
    {
     "data": {
      "text/plain": [
       "count     611.000000\n",
       "mean     1546.713584\n",
       "std       752.088071\n",
       "min       550.000000\n",
       "25%       780.500000\n",
       "50%      1750.000000\n",
       "75%      1950.000000\n",
       "max      5321.000000\n",
       "Name: proceeds, dtype: float64"
      ]
     },
     "metadata": {},
     "output_type": "display_data"
    },
    {
     "data": {
      "image/png": "[encoded data removed]",
      "text/plain": [
       "<Figure size 864x504 with 1 Axes>"
      ]
     },
     "metadata": {
      "needs_background": "light"
     },
     "output_type": "display_data"
    }
   ],
   "source": [
    "display(data_msk['proceeds'].describe())\n",
    "data_msk.boxplot(column='proceeds', figsize=(12,7));"
   ]
  },
  {
   "cell_type": "code",
   "execution_count": 57,
   "metadata": {},
   "outputs": [
    {
     "data": {
      "text/plain": [
       "count    2603.000000\n",
       "mean     1524.936227\n",
       "std       808.787752\n",
       "min       550.000000\n",
       "25%       750.000000\n",
       "50%      1583.000000\n",
       "75%      1950.000000\n",
       "max      6770.000000\n",
       "Name: proceeds, dtype: float64"
      ]
     },
     "metadata": {},
     "output_type": "display_data"
    },
    {
     "data": {
      "image/png": "[encoded data removed]",
      "text/plain": [
       "<Figure size 864x504 with 1 Axes>"
      ]
     },
     "metadata": {
      "needs_background": "light"
     },
     "output_type": "display_data"
    }
   ],
   "source": [
    "display(data_reg['proceeds'].describe())\n",
    "data_reg.boxplot(column='proceeds', figsize=(12,7));"
   ]
  },
  {
   "cell_type": "markdown",
   "metadata": {},
   "source": [
    "Видим картину, аналогичную ситуации в предыдущем пункте: выбросы за пределом верхнего \"уса\". Избавляемся. Формируем массивы со значениями выручки."
   ]
  },
  {
   "cell_type": "code",
   "execution_count": 58,
   "metadata": {},
   "outputs": [],
   "source": [
    "data_msk = data_msk[data_msk['proceeds'] <= outlier(data_msk['proceeds'])]\n",
    "data_msk = data_msk['proceeds']\n",
    "\n",
    "data_reg = data_reg[data_reg['proceeds'] <= outlier(data_reg['proceeds'])]\n",
    "data_reg = data_reg['proceeds']"
   ]
  },
  {
   "cell_type": "code",
   "execution_count": 59,
   "metadata": {},
   "outputs": [
    {
     "data": {
      "text/plain": [
       "507828.83958486764"
      ]
     },
     "metadata": {},
     "output_type": "display_data"
    },
    {
     "data": {
      "text/plain": [
       "551513.9879775193"
      ]
     },
     "metadata": {},
     "output_type": "display_data"
    }
   ],
   "source": [
    "display(data_msk.var(), data_reg.var())"
   ]
  },
  {
   "cell_type": "markdown",
   "metadata": {},
   "source": [
    "В этом случае дисперсии выборок сопоставимы, поэтому параметр `equal_var` оставим по умолчанию равным _True_."
   ]
  },
  {
   "cell_type": "code",
   "execution_count": 60,
   "metadata": {},
   "outputs": [
    {
     "data": {
      "text/plain": [
       "'значение p-value: 0.29404256281786195'"
      ]
     },
     "metadata": {},
     "output_type": "display_data"
    },
    {
     "data": {
      "text/plain": [
       "False"
      ]
     },
     "execution_count": 60,
     "metadata": {},
     "output_type": "execute_result"
    }
   ],
   "source": [
    "results_2 = st.ttest_ind(data_msk, data_reg)\n",
    "display(f'значение p-value: {results_2.pvalue}')\n",
    "results_2.pvalue < alpha"
   ]
  },
  {
   "cell_type": "markdown",
   "metadata": {},
   "source": [
    "Полученное значение p-value _больше_ критерия значимости alpha и говорит о том, что вероятность получить такое или большее различие случайно почти 30%, следовательно, между выборками отсутствует значимое различие, а значит нулевая гипотеза не может быть отвергнута, т.е. средняя выручка пользователей из Москвы ***равна*** средней выручке пользователей из других регионов."
   ]
  },
  {
   "cell_type": "markdown",
   "metadata": {},
   "source": [
    "### Вывод\n",
    "\n",
    "<a id=\"выводы_статистика\"></a>\n",
    "\n",
    "На основании проведённого статистического анализа можно сделать вывод о том, что:\n",
    "- средняя выручка пользователей тарифов «Ультра» и «Смарт» **различаются**;\n",
    "- средняя выручка пользователей из Москвы **не отличается** от выручки пользователей из других регионов."
   ]
  },
  {
   "cell_type": "markdown",
   "metadata": {},
   "source": [
    "## Вывод"
   ]
  },
  {
   "cell_type": "markdown",
   "metadata": {},
   "source": [
    "В ходе выполнения проекта был проведён обзор и предобработка данных: исправлены недочёты, изменены типы данных там, где это требовалось, сами данные подготовлены к дальнейшему анализу в соответствии с предоставленными условиями тарифов.\n",
    "\n",
    "Для каждого пользователя посчитано количество и продолжительность совершённых звонков, количество отправленных сообщений и использованных гигабайт интернет-трафика по месяцам. Посчитана помесячная выручка с каждого пользователя. Вся информация собрана в единую таблицу.\n",
    "\n",
    "Проведён исследовательский анализ данных, изучено поведение клиентов оператора, исходя из выборки.\n",
    "Выводы о поведении пользователей подробнее изложены в [пункте 4.4](#выводы_поведение).\n",
    "\n",
    "Проведён статистический анализ, проверены гипотезы о различии выручки пользователей на разных тарифах и в разных регионах. Выводы в [пункте 5.3](#выводы_статистика).\n",
    "\n",
    "Пользователи разных тарифов ведут себя по-разному, сегментируются исходя из своих запросов. При этом клиенты тарифа _smart_ склонны доплачивать сверх фиксированной абонентской платы, то есть генерируют дополнительную прибыль. Причём происходит это с высокой степенью вероятности. Однако, можно предположить, что настолько частая переплата может заставить пользователей пересмотреть выбор тарифа.\n",
    "\n",
    "Пользователи _ultra_, напротив, зачастую даже не приближаются к своим тарифным лимитам: стоит обратить внимание на эту особенность, например, извлечь выгоду из сокращения пороговых значений.\n",
    "\n",
    "Поскольку значимых различий в выручке в московской и региональной выборках обнаружено не было, не имеет смысла разделять регионы и выводить на рынок разные тарифы для столицы и провинций.\n",
    "\n",
    "Пользователи же разных тарифов приносят отличающуюся выручку, поэтому выбор тарифов для пользователей должен сохраняться, оптимизацию следует проводить внутри каждого тарифа отдельно.\n",
    "\n",
    "Кроме того, хочется отметить, что несмотря на напрашивающееся решение несколько снизить лимиты трафика для тарифа _ultra_, следует брать во внимание, что, вероятно, именно большой разрыв в лимитах и абонентской плате этих тарифов останавливает пользователей _smart_ от перехода на _ultra_ и заставляет продолжать переплачивать за превышение трафика. Следовательно, нужно либо очень аккуратно отнестись к снижению пороговых значений потребления трафика в тарифе _ultra_, либо задуматься о формировании третьего, промежуточного, тарифа, который поощрит переплачивающих клиентов _smart_ немного повысить как своё потребление, так и абонентскую плату."
   ]
  }
 ],
 "metadata": {
  "ExecuteTimeLog": [
   {
    "duration": 2539,
    "start_time": "2022-05-03T19:49:36.988Z"
   },
   {
    "duration": 80,
    "start_time": "2022-05-03T19:52:02.543Z"
   },
   {
    "duration": 61,
    "start_time": "2022-05-03T19:52:22.961Z"
   },
   {
    "duration": 59,
    "start_time": "2022-05-03T19:52:46.313Z"
   },
   {
    "duration": 351,
    "start_time": "2022-05-03T20:08:14.947Z"
   },
   {
    "duration": 147,
    "start_time": "2022-05-03T20:13:32.355Z"
   },
   {
    "duration": 319,
    "start_time": "2022-05-03T20:17:39.597Z"
   },
   {
    "duration": 46,
    "start_time": "2022-05-03T20:24:32.890Z"
   },
   {
    "duration": 45,
    "start_time": "2022-05-08T11:17:10.091Z"
   },
   {
    "duration": 1353,
    "start_time": "2022-05-08T11:17:20.274Z"
   },
   {
    "duration": 171,
    "start_time": "2022-05-08T11:17:21.629Z"
   },
   {
    "duration": 106,
    "start_time": "2022-05-08T11:17:21.802Z"
   },
   {
    "duration": 162,
    "start_time": "2022-05-08T11:17:21.911Z"
   },
   {
    "duration": 22,
    "start_time": "2022-05-08T11:17:22.075Z"
   },
   {
    "duration": 111,
    "start_time": "2022-05-08T11:17:22.098Z"
   },
   {
    "duration": 0,
    "start_time": "2022-05-08T11:17:22.210Z"
   },
   {
    "duration": 18,
    "start_time": "2022-05-08T11:17:51.580Z"
   },
   {
    "duration": 10,
    "start_time": "2022-05-08T11:18:19.588Z"
   },
   {
    "duration": 16,
    "start_time": "2022-05-08T11:18:30.194Z"
   },
   {
    "duration": 1163,
    "start_time": "2022-05-08T11:18:42.522Z"
   },
   {
    "duration": 173,
    "start_time": "2022-05-08T11:18:43.688Z"
   },
   {
    "duration": 113,
    "start_time": "2022-05-08T11:18:43.863Z"
   },
   {
    "duration": 156,
    "start_time": "2022-05-08T11:18:43.977Z"
   },
   {
    "duration": 21,
    "start_time": "2022-05-08T11:18:44.135Z"
   },
   {
    "duration": 23,
    "start_time": "2022-05-08T11:18:44.157Z"
   },
   {
    "duration": 102,
    "start_time": "2022-05-08T11:18:44.182Z"
   },
   {
    "duration": 8,
    "start_time": "2022-05-08T11:21:34.789Z"
   },
   {
    "duration": 5,
    "start_time": "2022-05-08T11:21:48.308Z"
   },
   {
    "duration": 10,
    "start_time": "2022-05-08T11:22:04.068Z"
   },
   {
    "duration": 10,
    "start_time": "2022-05-08T11:22:32.521Z"
   },
   {
    "duration": 1125,
    "start_time": "2022-05-08T11:29:09.180Z"
   },
   {
    "duration": 168,
    "start_time": "2022-05-08T11:29:10.307Z"
   },
   {
    "duration": 102,
    "start_time": "2022-05-08T11:29:10.476Z"
   },
   {
    "duration": 152,
    "start_time": "2022-05-08T11:29:10.581Z"
   },
   {
    "duration": 21,
    "start_time": "2022-05-08T11:29:10.734Z"
   },
   {
    "duration": 18,
    "start_time": "2022-05-08T11:29:10.757Z"
   },
   {
    "duration": 80,
    "start_time": "2022-05-08T11:29:10.777Z"
   },
   {
    "duration": 5,
    "start_time": "2022-05-08T11:29:10.859Z"
   },
   {
    "duration": 9,
    "start_time": "2022-05-08T11:29:10.874Z"
   },
   {
    "duration": 12,
    "start_time": "2022-05-08T11:29:42.957Z"
   },
   {
    "duration": 1169,
    "start_time": "2022-05-08T11:30:11.349Z"
   },
   {
    "duration": 176,
    "start_time": "2022-05-08T11:30:12.520Z"
   },
   {
    "duration": 100,
    "start_time": "2022-05-08T11:30:12.698Z"
   },
   {
    "duration": 155,
    "start_time": "2022-05-08T11:30:12.800Z"
   },
   {
    "duration": 25,
    "start_time": "2022-05-08T11:30:12.957Z"
   },
   {
    "duration": 8,
    "start_time": "2022-05-08T11:30:12.984Z"
   },
   {
    "duration": 92,
    "start_time": "2022-05-08T11:30:12.993Z"
   },
   {
    "duration": 9,
    "start_time": "2022-05-08T11:30:13.087Z"
   },
   {
    "duration": 12,
    "start_time": "2022-05-08T11:32:32.677Z"
   },
   {
    "duration": 8,
    "start_time": "2022-05-08T11:32:48.469Z"
   },
   {
    "duration": 6,
    "start_time": "2022-05-08T11:32:55.452Z"
   },
   {
    "duration": 107,
    "start_time": "2022-05-08T11:33:13.126Z"
   },
   {
    "duration": 103,
    "start_time": "2022-05-08T11:33:18.360Z"
   },
   {
    "duration": 146,
    "start_time": "2022-05-08T11:33:56.282Z"
   },
   {
    "duration": 121,
    "start_time": "2022-05-08T11:34:08.277Z"
   },
   {
    "duration": 179,
    "start_time": "2022-05-08T11:34:13.812Z"
   },
   {
    "duration": 95,
    "start_time": "2022-05-08T11:36:00.511Z"
   },
   {
    "duration": 107,
    "start_time": "2022-05-08T11:36:06.532Z"
   },
   {
    "duration": 179,
    "start_time": "2022-05-08T11:36:38.535Z"
   },
   {
    "duration": 1522,
    "start_time": "2022-05-08T11:38:03.403Z"
   },
   {
    "duration": 4,
    "start_time": "2022-05-08T11:38:28.607Z"
   },
   {
    "duration": 66,
    "start_time": "2022-05-08T12:10:52.410Z"
   },
   {
    "duration": 8,
    "start_time": "2022-05-08T12:11:03.098Z"
   },
   {
    "duration": 9,
    "start_time": "2022-05-08T12:11:14.795Z"
   },
   {
    "duration": 7,
    "start_time": "2022-05-08T12:11:27.134Z"
   },
   {
    "duration": 1194,
    "start_time": "2022-05-08T12:11:59.719Z"
   },
   {
    "duration": 179,
    "start_time": "2022-05-08T12:12:00.915Z"
   },
   {
    "duration": 111,
    "start_time": "2022-05-08T12:12:01.096Z"
   },
   {
    "duration": 168,
    "start_time": "2022-05-08T12:12:01.209Z"
   },
   {
    "duration": 23,
    "start_time": "2022-05-08T12:12:01.378Z"
   },
   {
    "duration": 10,
    "start_time": "2022-05-08T12:12:01.402Z"
   },
   {
    "duration": 106,
    "start_time": "2022-05-08T12:12:01.413Z"
   },
   {
    "duration": 224,
    "start_time": "2022-05-08T12:12:01.521Z"
   },
   {
    "duration": 5,
    "start_time": "2022-05-08T12:12:01.746Z"
   },
   {
    "duration": 96,
    "start_time": "2022-05-08T12:12:01.754Z"
   },
   {
    "duration": 7,
    "start_time": "2022-05-08T12:12:01.853Z"
   },
   {
    "duration": 6,
    "start_time": "2022-05-08T12:23:24.001Z"
   },
   {
    "duration": 13,
    "start_time": "2022-05-08T12:23:32.582Z"
   },
   {
    "duration": 4,
    "start_time": "2022-05-08T12:24:08.046Z"
   },
   {
    "duration": 7,
    "start_time": "2022-05-08T12:24:12.877Z"
   },
   {
    "duration": 5,
    "start_time": "2022-05-08T12:24:25.428Z"
   },
   {
    "duration": 1246,
    "start_time": "2022-05-08T12:26:48.247Z"
   },
   {
    "duration": 175,
    "start_time": "2022-05-08T12:26:49.495Z"
   },
   {
    "duration": 104,
    "start_time": "2022-05-08T12:26:49.673Z"
   },
   {
    "duration": 161,
    "start_time": "2022-05-08T12:26:49.779Z"
   },
   {
    "duration": 31,
    "start_time": "2022-05-08T12:26:49.942Z"
   },
   {
    "duration": 9,
    "start_time": "2022-05-08T12:26:49.975Z"
   },
   {
    "duration": 100,
    "start_time": "2022-05-08T12:26:49.986Z"
   },
   {
    "duration": 203,
    "start_time": "2022-05-08T12:26:50.088Z"
   },
   {
    "duration": 5,
    "start_time": "2022-05-08T12:26:50.292Z"
   },
   {
    "duration": 88,
    "start_time": "2022-05-08T12:26:50.299Z"
   },
   {
    "duration": 10,
    "start_time": "2022-05-08T12:26:50.389Z"
   },
   {
    "duration": 1338,
    "start_time": "2022-05-08T16:42:45.791Z"
   },
   {
    "duration": 179,
    "start_time": "2022-05-08T16:42:47.131Z"
   },
   {
    "duration": 114,
    "start_time": "2022-05-08T16:42:47.314Z"
   },
   {
    "duration": 166,
    "start_time": "2022-05-08T16:42:47.430Z"
   },
   {
    "duration": 20,
    "start_time": "2022-05-08T16:42:47.598Z"
   },
   {
    "duration": 7,
    "start_time": "2022-05-08T16:42:47.620Z"
   },
   {
    "duration": 104,
    "start_time": "2022-05-08T16:42:47.629Z"
   },
   {
    "duration": 225,
    "start_time": "2022-05-08T16:42:47.750Z"
   },
   {
    "duration": 4,
    "start_time": "2022-05-08T16:42:47.978Z"
   },
   {
    "duration": 83,
    "start_time": "2022-05-08T16:42:47.984Z"
   },
   {
    "duration": 9,
    "start_time": "2022-05-08T16:42:48.069Z"
   },
   {
    "duration": 119,
    "start_time": "2022-05-08T16:42:48.080Z"
   },
   {
    "duration": 30,
    "start_time": "2022-05-08T16:43:09.331Z"
   },
   {
    "duration": 29,
    "start_time": "2022-05-08T16:49:30.915Z"
   },
   {
    "duration": 4,
    "start_time": "2022-05-08T16:56:09.727Z"
   },
   {
    "duration": 8,
    "start_time": "2022-05-08T16:56:23.287Z"
   },
   {
    "duration": 34,
    "start_time": "2022-05-08T16:56:46.889Z"
   },
   {
    "duration": 425,
    "start_time": "2022-05-08T16:56:53.623Z"
   },
   {
    "duration": 26,
    "start_time": "2022-05-08T16:57:19.934Z"
   },
   {
    "duration": 23,
    "start_time": "2022-05-08T16:57:28.765Z"
   },
   {
    "duration": 3,
    "start_time": "2022-05-08T16:57:32.770Z"
   },
   {
    "duration": 21,
    "start_time": "2022-05-08T17:00:41.419Z"
   },
   {
    "duration": 21,
    "start_time": "2022-05-08T17:00:53.183Z"
   },
   {
    "duration": 20,
    "start_time": "2022-05-08T17:01:18.097Z"
   },
   {
    "duration": 20,
    "start_time": "2022-05-08T17:01:31.309Z"
   },
   {
    "duration": 20,
    "start_time": "2022-05-08T17:02:38.650Z"
   },
   {
    "duration": 18,
    "start_time": "2022-05-08T17:05:55.348Z"
   },
   {
    "duration": 17,
    "start_time": "2022-05-08T17:06:30.491Z"
   },
   {
    "duration": 18,
    "start_time": "2022-05-08T17:06:40.069Z"
   },
   {
    "duration": 22,
    "start_time": "2022-05-08T17:06:59.365Z"
   },
   {
    "duration": 30,
    "start_time": "2022-05-08T17:07:32.453Z"
   },
   {
    "duration": 18,
    "start_time": "2022-05-08T17:07:58.851Z"
   },
   {
    "duration": 11,
    "start_time": "2022-05-08T17:18:23.985Z"
   },
   {
    "duration": 8,
    "start_time": "2022-05-08T17:18:33.901Z"
   },
   {
    "duration": 13,
    "start_time": "2022-05-08T17:18:44.704Z"
   },
   {
    "duration": 9,
    "start_time": "2022-05-08T17:19:35.684Z"
   },
   {
    "duration": 17,
    "start_time": "2022-05-08T17:20:06.269Z"
   },
   {
    "duration": 13,
    "start_time": "2022-05-08T17:20:25.516Z"
   },
   {
    "duration": 12,
    "start_time": "2022-05-08T17:20:57.411Z"
   },
   {
    "duration": 1589,
    "start_time": "2022-05-08T17:21:10.934Z"
   },
   {
    "duration": 1328,
    "start_time": "2022-05-08T17:21:46.136Z"
   },
   {
    "duration": 181,
    "start_time": "2022-05-08T17:21:47.466Z"
   },
   {
    "duration": 104,
    "start_time": "2022-05-08T17:21:47.650Z"
   },
   {
    "duration": 153,
    "start_time": "2022-05-08T17:21:47.757Z"
   },
   {
    "duration": 21,
    "start_time": "2022-05-08T17:21:47.912Z"
   },
   {
    "duration": 19,
    "start_time": "2022-05-08T17:21:47.935Z"
   },
   {
    "duration": 98,
    "start_time": "2022-05-08T17:21:47.956Z"
   },
   {
    "duration": 185,
    "start_time": "2022-05-08T17:21:48.055Z"
   },
   {
    "duration": 4,
    "start_time": "2022-05-08T17:21:48.248Z"
   },
   {
    "duration": 72,
    "start_time": "2022-05-08T17:21:48.254Z"
   },
   {
    "duration": 26,
    "start_time": "2022-05-08T17:21:48.327Z"
   },
   {
    "duration": 23,
    "start_time": "2022-05-08T17:21:48.354Z"
   },
   {
    "duration": 18,
    "start_time": "2022-05-08T17:21:48.379Z"
   },
   {
    "duration": 16,
    "start_time": "2022-05-08T17:21:48.399Z"
   },
   {
    "duration": 35,
    "start_time": "2022-05-08T17:21:48.417Z"
   },
   {
    "duration": 90,
    "start_time": "2022-05-08T17:26:34.885Z"
   },
   {
    "duration": 9,
    "start_time": "2022-05-08T17:27:25.059Z"
   },
   {
    "duration": 11,
    "start_time": "2022-05-08T17:27:34.671Z"
   },
   {
    "duration": 8,
    "start_time": "2022-05-08T17:28:57.409Z"
   },
   {
    "duration": 13,
    "start_time": "2022-05-08T17:29:05.760Z"
   },
   {
    "duration": 8,
    "start_time": "2022-05-08T17:31:36.393Z"
   },
   {
    "duration": 17,
    "start_time": "2022-05-08T17:31:46.633Z"
   },
   {
    "duration": 5,
    "start_time": "2022-05-08T17:33:14.930Z"
   },
   {
    "duration": 34,
    "start_time": "2022-05-08T17:33:39.276Z"
   },
   {
    "duration": 12,
    "start_time": "2022-05-08T17:34:20.996Z"
   },
   {
    "duration": 1986,
    "start_time": "2022-05-08T19:48:14.772Z"
   },
   {
    "duration": 259,
    "start_time": "2022-05-08T19:48:26.172Z"
   },
   {
    "duration": 160,
    "start_time": "2022-05-08T19:48:37.211Z"
   },
   {
    "duration": 233,
    "start_time": "2022-05-08T19:48:43.950Z"
   },
   {
    "duration": 40,
    "start_time": "2022-05-08T19:48:50.374Z"
   },
   {
    "duration": 14,
    "start_time": "2022-05-08T19:49:09.576Z"
   },
   {
    "duration": 128,
    "start_time": "2022-05-08T19:49:13.859Z"
   },
   {
    "duration": 257,
    "start_time": "2022-05-08T19:50:22.603Z"
   },
   {
    "duration": 6,
    "start_time": "2022-05-08T19:50:27.948Z"
   },
   {
    "duration": 101,
    "start_time": "2022-05-08T19:50:45.638Z"
   },
   {
    "duration": 13,
    "start_time": "2022-05-08T19:51:25.810Z"
   },
   {
    "duration": 46,
    "start_time": "2022-05-08T20:18:14.324Z"
   },
   {
    "duration": 42,
    "start_time": "2022-05-08T20:20:36.242Z"
   },
   {
    "duration": 9,
    "start_time": "2022-05-08T20:21:14.326Z"
   },
   {
    "duration": 25,
    "start_time": "2022-05-08T20:23:06.933Z"
   },
   {
    "duration": 9,
    "start_time": "2022-05-08T20:23:37.697Z"
   },
   {
    "duration": 19,
    "start_time": "2022-05-08T20:25:36.133Z"
   },
   {
    "duration": 179,
    "start_time": "2022-05-08T20:28:20.481Z"
   },
   {
    "duration": 23,
    "start_time": "2022-05-08T20:32:08.731Z"
   },
   {
    "duration": 11,
    "start_time": "2022-05-08T20:32:40.865Z"
   },
   {
    "duration": 9,
    "start_time": "2022-05-08T20:32:56.886Z"
   },
   {
    "duration": 23,
    "start_time": "2022-05-08T20:34:13.589Z"
   },
   {
    "duration": 6,
    "start_time": "2022-05-08T20:54:16.893Z"
   },
   {
    "duration": 11,
    "start_time": "2022-05-08T20:54:51.580Z"
   },
   {
    "duration": 12,
    "start_time": "2022-05-08T20:55:51.595Z"
   },
   {
    "duration": 46,
    "start_time": "2022-05-08T20:55:52.876Z"
   },
   {
    "duration": 17,
    "start_time": "2022-05-08T20:57:55.380Z"
   },
   {
    "duration": 13,
    "start_time": "2022-05-08T21:01:02.036Z"
   },
   {
    "duration": 12,
    "start_time": "2022-05-08T21:01:26.976Z"
   },
   {
    "duration": 45,
    "start_time": "2022-05-08T21:01:59.810Z"
   },
   {
    "duration": 15,
    "start_time": "2022-05-08T21:03:10.944Z"
   },
   {
    "duration": 1677,
    "start_time": "2022-05-08T21:04:12.401Z"
   },
   {
    "duration": 236,
    "start_time": "2022-05-08T21:04:14.081Z"
   },
   {
    "duration": 152,
    "start_time": "2022-05-08T21:04:14.320Z"
   },
   {
    "duration": 196,
    "start_time": "2022-05-08T21:04:14.475Z"
   },
   {
    "duration": 38,
    "start_time": "2022-05-08T21:04:14.673Z"
   },
   {
    "duration": 11,
    "start_time": "2022-05-08T21:04:14.713Z"
   },
   {
    "duration": 147,
    "start_time": "2022-05-08T21:04:14.727Z"
   },
   {
    "duration": 260,
    "start_time": "2022-05-08T21:04:14.877Z"
   },
   {
    "duration": 6,
    "start_time": "2022-05-08T21:04:15.140Z"
   },
   {
    "duration": 117,
    "start_time": "2022-05-08T21:04:15.152Z"
   },
   {
    "duration": 22,
    "start_time": "2022-05-08T21:04:15.272Z"
   },
   {
    "duration": 34,
    "start_time": "2022-05-08T21:04:15.297Z"
   },
   {
    "duration": 28,
    "start_time": "2022-05-08T21:04:15.333Z"
   },
   {
    "duration": 52,
    "start_time": "2022-05-08T21:04:15.363Z"
   },
   {
    "duration": 17,
    "start_time": "2022-05-08T21:04:15.417Z"
   },
   {
    "duration": 19,
    "start_time": "2022-05-08T21:04:15.436Z"
   },
   {
    "duration": 21,
    "start_time": "2022-05-08T21:04:15.493Z"
   },
   {
    "duration": 4,
    "start_time": "2022-05-08T21:04:15.516Z"
   },
   {
    "duration": 13,
    "start_time": "2022-05-08T21:04:15.522Z"
   },
   {
    "duration": 20,
    "start_time": "2022-05-08T21:04:15.537Z"
   },
   {
    "duration": 17,
    "start_time": "2022-05-08T21:04:15.592Z"
   },
   {
    "duration": 1556,
    "start_time": "2022-05-08T21:09:00.720Z"
   },
   {
    "duration": 239,
    "start_time": "2022-05-08T21:09:02.279Z"
   },
   {
    "duration": 139,
    "start_time": "2022-05-08T21:09:02.521Z"
   },
   {
    "duration": 202,
    "start_time": "2022-05-08T21:09:02.663Z"
   },
   {
    "duration": 36,
    "start_time": "2022-05-08T21:09:02.868Z"
   },
   {
    "duration": 13,
    "start_time": "2022-05-08T21:09:02.906Z"
   },
   {
    "duration": 142,
    "start_time": "2022-05-08T21:09:02.921Z"
   },
   {
    "duration": 371,
    "start_time": "2022-05-08T21:09:03.065Z"
   },
   {
    "duration": 6,
    "start_time": "2022-05-08T21:09:03.438Z"
   },
   {
    "duration": 121,
    "start_time": "2022-05-08T21:09:03.447Z"
   },
   {
    "duration": 23,
    "start_time": "2022-05-08T21:09:03.571Z"
   },
   {
    "duration": 42,
    "start_time": "2022-05-08T21:09:03.597Z"
   },
   {
    "duration": 60,
    "start_time": "2022-05-08T21:09:03.641Z"
   },
   {
    "duration": 28,
    "start_time": "2022-05-08T21:09:03.706Z"
   },
   {
    "duration": 19,
    "start_time": "2022-05-08T21:09:03.736Z"
   },
   {
    "duration": 50,
    "start_time": "2022-05-08T21:09:03.757Z"
   },
   {
    "duration": 22,
    "start_time": "2022-05-08T21:09:03.809Z"
   },
   {
    "duration": 58,
    "start_time": "2022-05-08T21:09:03.834Z"
   },
   {
    "duration": 23,
    "start_time": "2022-05-08T21:09:03.894Z"
   },
   {
    "duration": 4,
    "start_time": "2022-05-08T21:09:03.919Z"
   },
   {
    "duration": 5,
    "start_time": "2022-05-08T21:09:03.926Z"
   },
   {
    "duration": 7,
    "start_time": "2022-05-08T21:14:05.340Z"
   },
   {
    "duration": 21,
    "start_time": "2022-05-08T21:14:22.557Z"
   },
   {
    "duration": 18,
    "start_time": "2022-05-08T21:14:31.815Z"
   },
   {
    "duration": 1680,
    "start_time": "2022-05-08T21:15:29.476Z"
   },
   {
    "duration": 250,
    "start_time": "2022-05-08T21:15:31.158Z"
   },
   {
    "duration": 148,
    "start_time": "2022-05-08T21:15:31.410Z"
   },
   {
    "duration": 222,
    "start_time": "2022-05-08T21:15:31.561Z"
   },
   {
    "duration": 37,
    "start_time": "2022-05-08T21:15:31.793Z"
   },
   {
    "duration": 14,
    "start_time": "2022-05-08T21:15:31.833Z"
   },
   {
    "duration": 184,
    "start_time": "2022-05-08T21:15:31.849Z"
   },
   {
    "duration": 258,
    "start_time": "2022-05-08T21:15:32.035Z"
   },
   {
    "duration": 6,
    "start_time": "2022-05-08T21:15:32.295Z"
   },
   {
    "duration": 108,
    "start_time": "2022-05-08T21:15:32.304Z"
   },
   {
    "duration": 13,
    "start_time": "2022-05-08T21:15:32.415Z"
   },
   {
    "duration": 32,
    "start_time": "2022-05-08T21:15:32.430Z"
   },
   {
    "duration": 65,
    "start_time": "2022-05-08T21:15:32.465Z"
   },
   {
    "duration": 27,
    "start_time": "2022-05-08T21:15:32.532Z"
   },
   {
    "duration": 43,
    "start_time": "2022-05-08T21:15:32.561Z"
   },
   {
    "duration": 22,
    "start_time": "2022-05-08T21:15:32.606Z"
   },
   {
    "duration": 25,
    "start_time": "2022-05-08T21:15:32.631Z"
   },
   {
    "duration": 61,
    "start_time": "2022-05-08T21:15:32.658Z"
   },
   {
    "duration": 20,
    "start_time": "2022-05-08T21:15:32.721Z"
   },
   {
    "duration": 14,
    "start_time": "2022-05-08T21:15:32.744Z"
   },
   {
    "duration": 54,
    "start_time": "2022-05-08T21:15:32.760Z"
   },
   {
    "duration": 6,
    "start_time": "2022-05-08T21:15:32.816Z"
   },
   {
    "duration": 12,
    "start_time": "2022-05-08T21:15:32.825Z"
   },
   {
    "duration": 1646,
    "start_time": "2022-05-08T21:16:05.648Z"
   },
   {
    "duration": 231,
    "start_time": "2022-05-08T21:16:07.297Z"
   },
   {
    "duration": 159,
    "start_time": "2022-05-08T21:16:07.534Z"
   },
   {
    "duration": 208,
    "start_time": "2022-05-08T21:16:07.695Z"
   },
   {
    "duration": 35,
    "start_time": "2022-05-08T21:16:07.905Z"
   },
   {
    "duration": 11,
    "start_time": "2022-05-08T21:16:07.942Z"
   },
   {
    "duration": 130,
    "start_time": "2022-05-08T21:16:07.955Z"
   },
   {
    "duration": 255,
    "start_time": "2022-05-08T21:16:08.087Z"
   },
   {
    "duration": 6,
    "start_time": "2022-05-08T21:16:08.345Z"
   },
   {
    "duration": 101,
    "start_time": "2022-05-08T21:16:08.353Z"
   },
   {
    "duration": 13,
    "start_time": "2022-05-08T21:16:08.456Z"
   },
   {
    "duration": 42,
    "start_time": "2022-05-08T21:16:08.471Z"
   },
   {
    "duration": 43,
    "start_time": "2022-05-08T21:16:08.516Z"
   },
   {
    "duration": 35,
    "start_time": "2022-05-08T21:16:08.561Z"
   },
   {
    "duration": 27,
    "start_time": "2022-05-08T21:16:08.598Z"
   },
   {
    "duration": 24,
    "start_time": "2022-05-08T21:16:08.627Z"
   },
   {
    "duration": 29,
    "start_time": "2022-05-08T21:16:08.692Z"
   },
   {
    "duration": 29,
    "start_time": "2022-05-08T21:16:08.723Z"
   },
   {
    "duration": 21,
    "start_time": "2022-05-08T21:16:08.754Z"
   },
   {
    "duration": 20,
    "start_time": "2022-05-08T21:16:08.778Z"
   },
   {
    "duration": 20,
    "start_time": "2022-05-08T21:16:08.801Z"
   },
   {
    "duration": 9,
    "start_time": "2022-05-08T21:16:08.824Z"
   },
   {
    "duration": 16,
    "start_time": "2022-05-08T21:16:08.836Z"
   },
   {
    "duration": 1678,
    "start_time": "2022-05-08T21:16:31.786Z"
   },
   {
    "duration": 245,
    "start_time": "2022-05-08T21:16:33.467Z"
   },
   {
    "duration": 157,
    "start_time": "2022-05-08T21:16:33.715Z"
   },
   {
    "duration": 199,
    "start_time": "2022-05-08T21:16:33.875Z"
   },
   {
    "duration": 36,
    "start_time": "2022-05-08T21:16:34.076Z"
   },
   {
    "duration": 12,
    "start_time": "2022-05-08T21:16:34.115Z"
   },
   {
    "duration": 167,
    "start_time": "2022-05-08T21:16:34.130Z"
   },
   {
    "duration": 266,
    "start_time": "2022-05-08T21:16:34.299Z"
   },
   {
    "duration": 6,
    "start_time": "2022-05-08T21:16:34.568Z"
   },
   {
    "duration": 104,
    "start_time": "2022-05-08T21:16:34.593Z"
   },
   {
    "duration": 12,
    "start_time": "2022-05-08T21:16:34.699Z"
   },
   {
    "duration": 37,
    "start_time": "2022-05-08T21:16:34.713Z"
   },
   {
    "duration": 56,
    "start_time": "2022-05-08T21:16:34.753Z"
   },
   {
    "duration": 26,
    "start_time": "2022-05-08T21:16:34.811Z"
   },
   {
    "duration": 19,
    "start_time": "2022-05-08T21:16:34.839Z"
   },
   {
    "duration": 55,
    "start_time": "2022-05-08T21:16:34.860Z"
   },
   {
    "duration": 28,
    "start_time": "2022-05-08T21:16:34.918Z"
   },
   {
    "duration": 65,
    "start_time": "2022-05-08T21:16:34.949Z"
   },
   {
    "duration": 23,
    "start_time": "2022-05-08T21:16:35.017Z"
   },
   {
    "duration": 10,
    "start_time": "2022-05-08T21:16:35.043Z"
   },
   {
    "duration": 55,
    "start_time": "2022-05-08T21:16:35.056Z"
   },
   {
    "duration": 18,
    "start_time": "2022-05-08T21:16:35.114Z"
   },
   {
    "duration": 9,
    "start_time": "2022-05-08T21:16:35.134Z"
   },
   {
    "duration": 17,
    "start_time": "2022-05-08T21:17:51.244Z"
   },
   {
    "duration": 1582,
    "start_time": "2022-05-08T21:18:31.764Z"
   },
   {
    "duration": 235,
    "start_time": "2022-05-08T21:18:33.349Z"
   },
   {
    "duration": 148,
    "start_time": "2022-05-08T21:18:33.587Z"
   },
   {
    "duration": 208,
    "start_time": "2022-05-08T21:18:33.738Z"
   },
   {
    "duration": 35,
    "start_time": "2022-05-08T21:18:33.948Z"
   },
   {
    "duration": 12,
    "start_time": "2022-05-08T21:18:33.993Z"
   },
   {
    "duration": 137,
    "start_time": "2022-05-08T21:18:34.007Z"
   },
   {
    "duration": 282,
    "start_time": "2022-05-08T21:18:34.147Z"
   },
   {
    "duration": 6,
    "start_time": "2022-05-08T21:18:34.432Z"
   },
   {
    "duration": 120,
    "start_time": "2022-05-08T21:18:34.442Z"
   },
   {
    "duration": 13,
    "start_time": "2022-05-08T21:18:34.564Z"
   },
   {
    "duration": 48,
    "start_time": "2022-05-08T21:18:34.578Z"
   },
   {
    "duration": 28,
    "start_time": "2022-05-08T21:18:34.628Z"
   },
   {
    "duration": 49,
    "start_time": "2022-05-08T21:18:34.658Z"
   },
   {
    "duration": 18,
    "start_time": "2022-05-08T21:18:34.709Z"
   },
   {
    "duration": 19,
    "start_time": "2022-05-08T21:18:34.730Z"
   },
   {
    "duration": 54,
    "start_time": "2022-05-08T21:18:34.751Z"
   },
   {
    "duration": 30,
    "start_time": "2022-05-08T21:18:34.807Z"
   },
   {
    "duration": 21,
    "start_time": "2022-05-08T21:18:34.839Z"
   },
   {
    "duration": 39,
    "start_time": "2022-05-08T21:18:34.862Z"
   },
   {
    "duration": 24,
    "start_time": "2022-05-08T21:18:34.904Z"
   },
   {
    "duration": 6,
    "start_time": "2022-05-08T21:18:34.930Z"
   },
   {
    "duration": 7,
    "start_time": "2022-05-08T21:18:34.938Z"
   },
   {
    "duration": 1570,
    "start_time": "2022-05-08T21:18:54.879Z"
   },
   {
    "duration": 234,
    "start_time": "2022-05-08T21:18:56.451Z"
   },
   {
    "duration": 158,
    "start_time": "2022-05-08T21:18:56.687Z"
   },
   {
    "duration": 207,
    "start_time": "2022-05-08T21:18:56.849Z"
   },
   {
    "duration": 41,
    "start_time": "2022-05-08T21:18:57.059Z"
   },
   {
    "duration": 14,
    "start_time": "2022-05-08T21:18:57.102Z"
   },
   {
    "duration": 156,
    "start_time": "2022-05-08T21:18:57.119Z"
   },
   {
    "duration": 293,
    "start_time": "2022-05-08T21:18:57.277Z"
   },
   {
    "duration": 22,
    "start_time": "2022-05-08T21:18:57.572Z"
   },
   {
    "duration": 119,
    "start_time": "2022-05-08T21:18:57.599Z"
   },
   {
    "duration": 14,
    "start_time": "2022-05-08T21:18:57.720Z"
   },
   {
    "duration": 58,
    "start_time": "2022-05-08T21:18:57.736Z"
   },
   {
    "duration": 28,
    "start_time": "2022-05-08T21:18:57.796Z"
   },
   {
    "duration": 27,
    "start_time": "2022-05-08T21:18:57.826Z"
   },
   {
    "duration": 49,
    "start_time": "2022-05-08T21:18:57.855Z"
   },
   {
    "duration": 26,
    "start_time": "2022-05-08T21:18:57.907Z"
   },
   {
    "duration": 21,
    "start_time": "2022-05-08T21:18:57.935Z"
   },
   {
    "duration": 61,
    "start_time": "2022-05-08T21:18:57.958Z"
   },
   {
    "duration": 20,
    "start_time": "2022-05-08T21:18:58.022Z"
   },
   {
    "duration": 9,
    "start_time": "2022-05-08T21:18:58.044Z"
   },
   {
    "duration": 54,
    "start_time": "2022-05-08T21:18:58.055Z"
   },
   {
    "duration": 3,
    "start_time": "2022-05-08T21:18:58.111Z"
   },
   {
    "duration": 11,
    "start_time": "2022-05-08T21:18:58.116Z"
   },
   {
    "duration": 26,
    "start_time": "2022-05-08T21:21:22.993Z"
   },
   {
    "duration": 11,
    "start_time": "2022-05-08T22:11:50.067Z"
   },
   {
    "duration": 210,
    "start_time": "2022-05-08T22:26:25.330Z"
   },
   {
    "duration": 197,
    "start_time": "2022-05-08T22:26:46.070Z"
   },
   {
    "duration": 217,
    "start_time": "2022-05-08T22:27:13.790Z"
   },
   {
    "duration": 209,
    "start_time": "2022-05-08T22:32:33.842Z"
   },
   {
    "duration": 216,
    "start_time": "2022-05-08T22:37:54.890Z"
   },
   {
    "duration": 212,
    "start_time": "2022-05-08T22:38:24.915Z"
   },
   {
    "duration": 206,
    "start_time": "2022-05-08T22:39:33.628Z"
   },
   {
    "duration": 320,
    "start_time": "2022-05-08T22:40:02.586Z"
   },
   {
    "duration": 210,
    "start_time": "2022-05-08T22:40:48.976Z"
   },
   {
    "duration": 214,
    "start_time": "2022-05-08T22:40:58.360Z"
   },
   {
    "duration": 208,
    "start_time": "2022-05-08T22:41:05.384Z"
   },
   {
    "duration": 6,
    "start_time": "2022-05-08T22:41:29.269Z"
   },
   {
    "duration": 7,
    "start_time": "2022-05-08T22:46:29.232Z"
   },
   {
    "duration": 212,
    "start_time": "2022-05-08T22:48:10.691Z"
   },
   {
    "duration": 6,
    "start_time": "2022-05-08T22:52:22.208Z"
   },
   {
    "duration": 3245,
    "start_time": "2022-05-08T22:52:23.700Z"
   },
   {
    "duration": 6,
    "start_time": "2022-05-08T22:52:45.446Z"
   },
   {
    "duration": 43,
    "start_time": "2022-05-08T22:52:50.728Z"
   },
   {
    "duration": 2849,
    "start_time": "2022-05-09T08:31:05.255Z"
   },
   {
    "duration": 374,
    "start_time": "2022-05-09T08:31:08.108Z"
   },
   {
    "duration": 223,
    "start_time": "2022-05-09T08:31:08.484Z"
   },
   {
    "duration": 320,
    "start_time": "2022-05-09T08:31:08.710Z"
   },
   {
    "duration": 54,
    "start_time": "2022-05-09T08:31:09.034Z"
   },
   {
    "duration": 15,
    "start_time": "2022-05-09T08:31:09.090Z"
   },
   {
    "duration": 224,
    "start_time": "2022-05-09T08:31:09.107Z"
   },
   {
    "duration": 375,
    "start_time": "2022-05-09T08:31:09.333Z"
   },
   {
    "duration": 7,
    "start_time": "2022-05-09T08:31:09.711Z"
   },
   {
    "duration": 146,
    "start_time": "2022-05-09T08:31:09.721Z"
   },
   {
    "duration": 21,
    "start_time": "2022-05-09T08:31:09.870Z"
   },
   {
    "duration": 55,
    "start_time": "2022-05-09T08:31:09.894Z"
   },
   {
    "duration": 68,
    "start_time": "2022-05-09T08:31:09.952Z"
   },
   {
    "duration": 40,
    "start_time": "2022-05-09T08:31:10.025Z"
   },
   {
    "duration": 19,
    "start_time": "2022-05-09T08:31:10.083Z"
   },
   {
    "duration": 30,
    "start_time": "2022-05-09T08:31:10.105Z"
   },
   {
    "duration": 46,
    "start_time": "2022-05-09T08:31:10.137Z"
   },
   {
    "duration": 29,
    "start_time": "2022-05-09T08:31:10.185Z"
   },
   {
    "duration": 21,
    "start_time": "2022-05-09T08:31:10.216Z"
   },
   {
    "duration": 43,
    "start_time": "2022-05-09T08:31:10.239Z"
   },
   {
    "duration": 20,
    "start_time": "2022-05-09T08:31:10.284Z"
   },
   {
    "duration": 12,
    "start_time": "2022-05-09T08:31:10.305Z"
   },
   {
    "duration": 6,
    "start_time": "2022-05-09T08:31:10.319Z"
   },
   {
    "duration": 210,
    "start_time": "2022-05-09T08:31:10.327Z"
   },
   {
    "duration": 9,
    "start_time": "2022-05-09T08:40:56.074Z"
   },
   {
    "duration": 1720,
    "start_time": "2022-05-09T08:41:01.306Z"
   },
   {
    "duration": 22,
    "start_time": "2022-05-09T08:41:15.406Z"
   },
   {
    "duration": 29,
    "start_time": "2022-05-09T08:44:12.571Z"
   },
   {
    "duration": 1618,
    "start_time": "2022-05-09T08:44:58.010Z"
   },
   {
    "duration": 13,
    "start_time": "2022-05-09T08:45:11.735Z"
   },
   {
    "duration": 10,
    "start_time": "2022-05-09T08:45:52.717Z"
   },
   {
    "duration": 14,
    "start_time": "2022-05-09T08:46:12.560Z"
   },
   {
    "duration": 24,
    "start_time": "2022-05-09T08:46:27.638Z"
   },
   {
    "duration": 26,
    "start_time": "2022-05-09T08:48:43.791Z"
   },
   {
    "duration": 25,
    "start_time": "2022-05-09T08:49:19.132Z"
   },
   {
    "duration": 1561,
    "start_time": "2022-05-09T09:09:26.249Z"
   },
   {
    "duration": 245,
    "start_time": "2022-05-09T09:09:27.813Z"
   },
   {
    "duration": 153,
    "start_time": "2022-05-09T09:09:28.060Z"
   },
   {
    "duration": 215,
    "start_time": "2022-05-09T09:09:28.217Z"
   },
   {
    "duration": 35,
    "start_time": "2022-05-09T09:09:28.434Z"
   },
   {
    "duration": 21,
    "start_time": "2022-05-09T09:09:28.470Z"
   },
   {
    "duration": 143,
    "start_time": "2022-05-09T09:09:28.494Z"
   },
   {
    "duration": 262,
    "start_time": "2022-05-09T09:09:28.639Z"
   },
   {
    "duration": 7,
    "start_time": "2022-05-09T09:09:28.904Z"
   },
   {
    "duration": 125,
    "start_time": "2022-05-09T09:09:28.915Z"
   },
   {
    "duration": 13,
    "start_time": "2022-05-09T09:09:29.042Z"
   },
   {
    "duration": 52,
    "start_time": "2022-05-09T09:09:29.058Z"
   },
   {
    "duration": 29,
    "start_time": "2022-05-09T09:09:29.112Z"
   },
   {
    "duration": 50,
    "start_time": "2022-05-09T09:09:29.143Z"
   },
   {
    "duration": 19,
    "start_time": "2022-05-09T09:09:29.195Z"
   },
   {
    "duration": 21,
    "start_time": "2022-05-09T09:09:29.216Z"
   },
   {
    "duration": 55,
    "start_time": "2022-05-09T09:09:29.239Z"
   },
   {
    "duration": 29,
    "start_time": "2022-05-09T09:09:29.296Z"
   },
   {
    "duration": 20,
    "start_time": "2022-05-09T09:09:29.328Z"
   },
   {
    "duration": 10,
    "start_time": "2022-05-09T09:09:29.382Z"
   },
   {
    "duration": 18,
    "start_time": "2022-05-09T09:09:29.394Z"
   },
   {
    "duration": 11,
    "start_time": "2022-05-09T09:09:29.414Z"
   },
   {
    "duration": 13,
    "start_time": "2022-05-09T09:09:29.427Z"
   },
   {
    "duration": 1048,
    "start_time": "2022-05-09T09:09:29.442Z"
   },
   {
    "duration": 1612,
    "start_time": "2022-05-09T09:11:33.949Z"
   },
   {
    "duration": 244,
    "start_time": "2022-05-09T09:11:35.564Z"
   },
   {
    "duration": 148,
    "start_time": "2022-05-09T09:11:35.810Z"
   },
   {
    "duration": 222,
    "start_time": "2022-05-09T09:11:35.961Z"
   },
   {
    "duration": 36,
    "start_time": "2022-05-09T09:11:36.186Z"
   },
   {
    "duration": 12,
    "start_time": "2022-05-09T09:11:36.225Z"
   },
   {
    "duration": 157,
    "start_time": "2022-05-09T09:11:36.239Z"
   },
   {
    "duration": 273,
    "start_time": "2022-05-09T09:11:36.399Z"
   },
   {
    "duration": 6,
    "start_time": "2022-05-09T09:11:36.682Z"
   },
   {
    "duration": 112,
    "start_time": "2022-05-09T09:11:36.691Z"
   },
   {
    "duration": 12,
    "start_time": "2022-05-09T09:11:36.806Z"
   },
   {
    "duration": 34,
    "start_time": "2022-05-09T09:11:36.820Z"
   },
   {
    "duration": 50,
    "start_time": "2022-05-09T09:11:36.856Z"
   },
   {
    "duration": 27,
    "start_time": "2022-05-09T09:11:36.909Z"
   },
   {
    "duration": 51,
    "start_time": "2022-05-09T09:11:36.939Z"
   },
   {
    "duration": 22,
    "start_time": "2022-05-09T09:11:36.994Z"
   },
   {
    "duration": 24,
    "start_time": "2022-05-09T09:11:37.018Z"
   },
   {
    "duration": 64,
    "start_time": "2022-05-09T09:11:37.045Z"
   },
   {
    "duration": 32,
    "start_time": "2022-05-09T09:11:37.112Z"
   },
   {
    "duration": 39,
    "start_time": "2022-05-09T09:11:37.147Z"
   },
   {
    "duration": 30,
    "start_time": "2022-05-09T09:11:37.189Z"
   },
   {
    "duration": 17,
    "start_time": "2022-05-09T09:11:37.222Z"
   },
   {
    "duration": 7,
    "start_time": "2022-05-09T09:11:37.241Z"
   },
   {
    "duration": 1019,
    "start_time": "2022-05-09T09:11:37.281Z"
   },
   {
    "duration": 7,
    "start_time": "2022-05-09T09:12:16.438Z"
   },
   {
    "duration": 1964,
    "start_time": "2022-05-09T18:55:27.674Z"
   },
   {
    "duration": 238,
    "start_time": "2022-05-09T18:55:29.641Z"
   },
   {
    "duration": 145,
    "start_time": "2022-05-09T18:55:29.882Z"
   },
   {
    "duration": 210,
    "start_time": "2022-05-09T18:55:30.030Z"
   },
   {
    "duration": 31,
    "start_time": "2022-05-09T18:55:30.242Z"
   },
   {
    "duration": 11,
    "start_time": "2022-05-09T18:55:30.275Z"
   },
   {
    "duration": 154,
    "start_time": "2022-05-09T18:55:30.288Z"
   },
   {
    "duration": 265,
    "start_time": "2022-05-09T18:55:30.453Z"
   },
   {
    "duration": 6,
    "start_time": "2022-05-09T18:55:30.720Z"
   },
   {
    "duration": 100,
    "start_time": "2022-05-09T18:55:30.751Z"
   },
   {
    "duration": 13,
    "start_time": "2022-05-09T18:55:30.853Z"
   },
   {
    "duration": 49,
    "start_time": "2022-05-09T18:55:30.868Z"
   },
   {
    "duration": 55,
    "start_time": "2022-05-09T18:55:30.920Z"
   },
   {
    "duration": 26,
    "start_time": "2022-05-09T18:55:30.978Z"
   },
   {
    "duration": 18,
    "start_time": "2022-05-09T18:55:31.006Z"
   },
   {
    "duration": 48,
    "start_time": "2022-05-09T18:55:31.026Z"
   },
   {
    "duration": 24,
    "start_time": "2022-05-09T18:55:31.076Z"
   },
   {
    "duration": 58,
    "start_time": "2022-05-09T18:55:31.102Z"
   },
   {
    "duration": 21,
    "start_time": "2022-05-09T18:55:31.162Z"
   },
   {
    "duration": 9,
    "start_time": "2022-05-09T18:55:31.185Z"
   },
   {
    "duration": 21,
    "start_time": "2022-05-09T18:55:31.196Z"
   },
   {
    "duration": 12,
    "start_time": "2022-05-09T18:55:31.251Z"
   },
   {
    "duration": 19,
    "start_time": "2022-05-09T18:55:31.265Z"
   },
   {
    "duration": 1117,
    "start_time": "2022-05-09T18:55:31.287Z"
   },
   {
    "duration": 166,
    "start_time": "2022-05-09T19:20:06.684Z"
   },
   {
    "duration": 32,
    "start_time": "2022-05-09T19:20:57.036Z"
   },
   {
    "duration": 1596,
    "start_time": "2022-05-09T19:21:21.291Z"
   },
   {
    "duration": 245,
    "start_time": "2022-05-09T19:21:22.890Z"
   },
   {
    "duration": 153,
    "start_time": "2022-05-09T19:21:23.137Z"
   },
   {
    "duration": 217,
    "start_time": "2022-05-09T19:21:23.292Z"
   },
   {
    "duration": 43,
    "start_time": "2022-05-09T19:21:23.511Z"
   },
   {
    "duration": 12,
    "start_time": "2022-05-09T19:21:23.556Z"
   },
   {
    "duration": 146,
    "start_time": "2022-05-09T19:21:23.570Z"
   },
   {
    "duration": 276,
    "start_time": "2022-05-09T19:21:23.719Z"
   },
   {
    "duration": 6,
    "start_time": "2022-05-09T19:21:23.997Z"
   },
   {
    "duration": 125,
    "start_time": "2022-05-09T19:21:24.007Z"
   },
   {
    "duration": 21,
    "start_time": "2022-05-09T19:21:24.134Z"
   },
   {
    "duration": 36,
    "start_time": "2022-05-09T19:21:24.157Z"
   },
   {
    "duration": 30,
    "start_time": "2022-05-09T19:21:24.195Z"
   },
   {
    "duration": 27,
    "start_time": "2022-05-09T19:21:24.252Z"
   },
   {
    "duration": 24,
    "start_time": "2022-05-09T19:21:24.281Z"
   },
   {
    "duration": 58,
    "start_time": "2022-05-09T19:21:24.308Z"
   },
   {
    "duration": 29,
    "start_time": "2022-05-09T19:21:24.369Z"
   },
   {
    "duration": 65,
    "start_time": "2022-05-09T19:21:24.400Z"
   },
   {
    "duration": 29,
    "start_time": "2022-05-09T19:21:24.467Z"
   },
   {
    "duration": 12,
    "start_time": "2022-05-09T19:21:24.498Z"
   },
   {
    "duration": 57,
    "start_time": "2022-05-09T19:21:24.512Z"
   },
   {
    "duration": 14,
    "start_time": "2022-05-09T19:21:24.572Z"
   },
   {
    "duration": 8,
    "start_time": "2022-05-09T19:21:24.589Z"
   },
   {
    "duration": 1601,
    "start_time": "2022-05-09T19:21:24.600Z"
   },
   {
    "duration": 175,
    "start_time": "2022-05-09T19:21:26.205Z"
   },
   {
    "duration": 27,
    "start_time": "2022-05-09T19:22:50.459Z"
   },
   {
    "duration": 22,
    "start_time": "2022-05-09T19:23:47.116Z"
   },
   {
    "duration": 21,
    "start_time": "2022-05-09T19:23:56.269Z"
   },
   {
    "duration": 22,
    "start_time": "2022-05-09T19:24:09.416Z"
   },
   {
    "duration": 26,
    "start_time": "2022-05-09T19:25:07.084Z"
   },
   {
    "duration": 10,
    "start_time": "2022-05-09T19:25:24.003Z"
   },
   {
    "duration": 10,
    "start_time": "2022-05-09T19:29:03.179Z"
   },
   {
    "duration": 18,
    "start_time": "2022-05-09T19:33:08.918Z"
   },
   {
    "duration": 276,
    "start_time": "2022-05-09T19:37:13.571Z"
   },
   {
    "duration": 276,
    "start_time": "2022-05-09T19:37:34.197Z"
   },
   {
    "duration": 340,
    "start_time": "2022-05-09T19:37:45.878Z"
   },
   {
    "duration": 240,
    "start_time": "2022-05-09T19:38:08.501Z"
   },
   {
    "duration": 306,
    "start_time": "2022-05-09T19:39:18.700Z"
   },
   {
    "duration": 377,
    "start_time": "2022-05-09T19:39:54.987Z"
   },
   {
    "duration": 342,
    "start_time": "2022-05-09T19:40:13.638Z"
   },
   {
    "duration": 342,
    "start_time": "2022-05-09T19:41:41.435Z"
   },
   {
    "duration": 401,
    "start_time": "2022-05-09T19:42:00.708Z"
   },
   {
    "duration": 359,
    "start_time": "2022-05-09T19:44:27.072Z"
   },
   {
    "duration": 332,
    "start_time": "2022-05-09T19:44:43.939Z"
   },
   {
    "duration": 305,
    "start_time": "2022-05-09T19:44:57.616Z"
   },
   {
    "duration": 99,
    "start_time": "2022-05-09T19:45:16.594Z"
   },
   {
    "duration": 317,
    "start_time": "2022-05-09T19:45:25.704Z"
   },
   {
    "duration": 289,
    "start_time": "2022-05-09T19:45:48.431Z"
   },
   {
    "duration": 504,
    "start_time": "2022-05-09T19:46:12.124Z"
   },
   {
    "duration": 311,
    "start_time": "2022-05-09T19:49:24.362Z"
   },
   {
    "duration": 328,
    "start_time": "2022-05-09T19:49:55.298Z"
   },
   {
    "duration": 311,
    "start_time": "2022-05-09T19:50:28.366Z"
   },
   {
    "duration": 414,
    "start_time": "2022-05-09T19:52:06.652Z"
   },
   {
    "duration": 26,
    "start_time": "2022-05-09T19:56:43.316Z"
   },
   {
    "duration": 100,
    "start_time": "2022-05-09T19:59:04.766Z"
   },
   {
    "duration": 301,
    "start_time": "2022-05-09T19:59:17.221Z"
   },
   {
    "duration": 310,
    "start_time": "2022-05-09T19:59:29.372Z"
   },
   {
    "duration": 296,
    "start_time": "2022-05-09T20:00:15.231Z"
   },
   {
    "duration": 344,
    "start_time": "2022-05-09T20:00:41.171Z"
   },
   {
    "duration": 347,
    "start_time": "2022-05-09T20:02:10.685Z"
   },
   {
    "duration": 358,
    "start_time": "2022-05-09T20:04:52.714Z"
   },
   {
    "duration": 352,
    "start_time": "2022-05-09T20:07:46.707Z"
   },
   {
    "duration": 22,
    "start_time": "2022-05-09T20:12:40.331Z"
   },
   {
    "duration": 11,
    "start_time": "2022-05-09T20:22:40.849Z"
   },
   {
    "duration": 9,
    "start_time": "2022-05-09T20:25:31.804Z"
   },
   {
    "duration": 8,
    "start_time": "2022-05-09T20:25:57.276Z"
   },
   {
    "duration": 9,
    "start_time": "2022-05-09T20:26:03.688Z"
   },
   {
    "duration": 85,
    "start_time": "2022-05-09T20:26:45.386Z"
   },
   {
    "duration": 13,
    "start_time": "2022-05-09T20:26:53.455Z"
   },
   {
    "duration": 13,
    "start_time": "2022-05-09T20:27:10.407Z"
   },
   {
    "duration": 10,
    "start_time": "2022-05-09T20:28:20.866Z"
   },
   {
    "duration": 216,
    "start_time": "2022-05-09T21:50:10.094Z"
   },
   {
    "duration": 200,
    "start_time": "2022-05-09T21:52:54.756Z"
   },
   {
    "duration": 83,
    "start_time": "2022-05-09T21:53:24.828Z"
   },
   {
    "duration": 201,
    "start_time": "2022-05-09T21:53:36.343Z"
   },
   {
    "duration": 332,
    "start_time": "2022-05-09T21:54:34.311Z"
   },
   {
    "duration": 261,
    "start_time": "2022-05-09T21:55:03.501Z"
   },
   {
    "duration": 228,
    "start_time": "2022-05-09T21:56:09.168Z"
   },
   {
    "duration": 93,
    "start_time": "2022-05-09T21:56:56.130Z"
   },
   {
    "duration": 233,
    "start_time": "2022-05-09T21:57:00.972Z"
   },
   {
    "duration": 247,
    "start_time": "2022-05-09T21:57:19.459Z"
   },
   {
    "duration": 282,
    "start_time": "2022-05-09T21:57:54.331Z"
   },
   {
    "duration": 282,
    "start_time": "2022-05-09T21:59:28.374Z"
   },
   {
    "duration": 298,
    "start_time": "2022-05-09T22:01:27.568Z"
   },
   {
    "duration": 8,
    "start_time": "2022-05-09T22:02:12.125Z"
   },
   {
    "duration": 302,
    "start_time": "2022-05-09T22:05:53.614Z"
   },
   {
    "duration": 20,
    "start_time": "2022-05-09T22:09:47.798Z"
   },
   {
    "duration": 15,
    "start_time": "2022-05-09T22:10:31.916Z"
   },
   {
    "duration": 99,
    "start_time": "2022-05-09T22:11:45.281Z"
   },
   {
    "duration": 73,
    "start_time": "2022-05-10T08:40:30.016Z"
   },
   {
    "duration": 1942,
    "start_time": "2022-05-10T08:40:38.669Z"
   },
   {
    "duration": 237,
    "start_time": "2022-05-10T08:40:40.614Z"
   },
   {
    "duration": 144,
    "start_time": "2022-05-10T08:40:40.853Z"
   },
   {
    "duration": 209,
    "start_time": "2022-05-10T08:40:41.000Z"
   },
   {
    "duration": 45,
    "start_time": "2022-05-10T08:40:41.211Z"
   },
   {
    "duration": 16,
    "start_time": "2022-05-10T08:40:41.259Z"
   },
   {
    "duration": 220,
    "start_time": "2022-05-10T08:40:41.278Z"
   },
   {
    "duration": 348,
    "start_time": "2022-05-10T08:40:41.500Z"
   },
   {
    "duration": 7,
    "start_time": "2022-05-10T08:40:41.851Z"
   },
   {
    "duration": 150,
    "start_time": "2022-05-10T08:40:41.863Z"
   },
   {
    "duration": 17,
    "start_time": "2022-05-10T08:40:42.016Z"
   },
   {
    "duration": 77,
    "start_time": "2022-05-10T08:40:42.035Z"
   },
   {
    "duration": 44,
    "start_time": "2022-05-10T08:40:42.115Z"
   },
   {
    "duration": 53,
    "start_time": "2022-05-10T08:40:42.163Z"
   },
   {
    "duration": 25,
    "start_time": "2022-05-10T08:40:42.218Z"
   },
   {
    "duration": 52,
    "start_time": "2022-05-10T08:40:42.246Z"
   },
   {
    "duration": 31,
    "start_time": "2022-05-10T08:40:42.300Z"
   },
   {
    "duration": 28,
    "start_time": "2022-05-10T08:40:42.333Z"
   },
   {
    "duration": 50,
    "start_time": "2022-05-10T08:40:42.363Z"
   },
   {
    "duration": 9,
    "start_time": "2022-05-10T08:40:42.415Z"
   },
   {
    "duration": 23,
    "start_time": "2022-05-10T08:40:42.427Z"
   },
   {
    "duration": 40,
    "start_time": "2022-05-10T08:40:42.452Z"
   },
   {
    "duration": 7,
    "start_time": "2022-05-10T08:40:42.494Z"
   },
   {
    "duration": 1064,
    "start_time": "2022-05-10T08:40:42.503Z"
   },
   {
    "duration": 30,
    "start_time": "2022-05-10T08:40:43.569Z"
   },
   {
    "duration": 372,
    "start_time": "2022-05-10T08:40:43.601Z"
   },
   {
    "duration": 72,
    "start_time": "2022-05-10T08:40:43.975Z"
   },
   {
    "duration": 307,
    "start_time": "2022-05-10T08:40:44.051Z"
   },
   {
    "duration": 8,
    "start_time": "2022-05-10T08:40:44.360Z"
   },
   {
    "duration": 27,
    "start_time": "2022-05-10T08:40:44.371Z"
   },
   {
    "duration": 14,
    "start_time": "2022-05-10T08:40:44.400Z"
   },
   {
    "duration": 11,
    "start_time": "2022-05-10T08:41:29.367Z"
   },
   {
    "duration": 209,
    "start_time": "2022-05-10T08:43:06.317Z"
   },
   {
    "duration": 13,
    "start_time": "2022-05-10T08:43:12.947Z"
   },
   {
    "duration": 20,
    "start_time": "2022-05-10T08:43:59.777Z"
   },
   {
    "duration": 20,
    "start_time": "2022-05-10T09:33:45.039Z"
   },
   {
    "duration": 365,
    "start_time": "2022-05-10T09:34:38.214Z"
   },
   {
    "duration": 1294,
    "start_time": "2022-05-10T17:25:27.833Z"
   },
   {
    "duration": 171,
    "start_time": "2022-05-10T17:25:29.129Z"
   },
   {
    "duration": 101,
    "start_time": "2022-05-10T17:25:29.301Z"
   },
   {
    "duration": 145,
    "start_time": "2022-05-10T17:25:29.404Z"
   },
   {
    "duration": 26,
    "start_time": "2022-05-10T17:25:29.551Z"
   },
   {
    "duration": 9,
    "start_time": "2022-05-10T17:25:29.578Z"
   },
   {
    "duration": 113,
    "start_time": "2022-05-10T17:25:29.589Z"
   },
   {
    "duration": 164,
    "start_time": "2022-05-10T17:25:29.704Z"
   },
   {
    "duration": 4,
    "start_time": "2022-05-10T17:25:29.870Z"
   },
   {
    "duration": 78,
    "start_time": "2022-05-10T17:25:29.876Z"
   },
   {
    "duration": 8,
    "start_time": "2022-05-10T17:25:29.955Z"
   },
   {
    "duration": 24,
    "start_time": "2022-05-10T17:25:29.965Z"
   },
   {
    "duration": 24,
    "start_time": "2022-05-10T17:25:29.999Z"
   },
   {
    "duration": 16,
    "start_time": "2022-05-10T17:25:30.025Z"
   },
   {
    "duration": 18,
    "start_time": "2022-05-10T17:25:30.043Z"
   },
   {
    "duration": 12,
    "start_time": "2022-05-10T17:25:30.063Z"
   },
   {
    "duration": 35,
    "start_time": "2022-05-10T17:25:30.076Z"
   },
   {
    "duration": 16,
    "start_time": "2022-05-10T17:25:30.112Z"
   },
   {
    "duration": 13,
    "start_time": "2022-05-10T17:25:30.129Z"
   },
   {
    "duration": 6,
    "start_time": "2022-05-10T17:25:30.143Z"
   },
   {
    "duration": 36,
    "start_time": "2022-05-10T17:25:30.151Z"
   },
   {
    "duration": 14,
    "start_time": "2022-05-10T17:25:30.188Z"
   },
   {
    "duration": 13,
    "start_time": "2022-05-10T17:25:30.204Z"
   },
   {
    "duration": 517,
    "start_time": "2022-05-10T17:25:30.218Z"
   },
   {
    "duration": 11,
    "start_time": "2022-05-10T17:25:30.737Z"
   },
   {
    "duration": 228,
    "start_time": "2022-05-10T17:25:30.749Z"
   },
   {
    "duration": 48,
    "start_time": "2022-05-10T17:25:30.979Z"
   },
   {
    "duration": 170,
    "start_time": "2022-05-10T17:25:31.030Z"
   },
   {
    "duration": 11,
    "start_time": "2022-05-10T17:25:31.201Z"
   },
   {
    "duration": 15,
    "start_time": "2022-05-10T17:25:31.213Z"
   },
   {
    "duration": 230,
    "start_time": "2022-05-10T17:25:31.230Z"
   },
   {
    "duration": 10,
    "start_time": "2022-05-10T17:26:11.578Z"
   },
   {
    "duration": 156,
    "start_time": "2022-05-10T17:27:10.279Z"
   },
   {
    "duration": 13,
    "start_time": "2022-05-10T17:43:08.929Z"
   },
   {
    "duration": 185,
    "start_time": "2022-05-10T17:44:05.717Z"
   },
   {
    "duration": 9,
    "start_time": "2022-05-10T17:45:03.003Z"
   },
   {
    "duration": 175,
    "start_time": "2022-05-10T17:46:17.661Z"
   },
   {
    "duration": 10,
    "start_time": "2022-05-10T19:40:36.558Z"
   },
   {
    "duration": 97,
    "start_time": "2022-05-10T19:41:36.543Z"
   },
   {
    "duration": 95,
    "start_time": "2022-05-10T19:42:26.644Z"
   },
   {
    "duration": 157,
    "start_time": "2022-05-10T19:42:45.322Z"
   },
   {
    "duration": 124,
    "start_time": "2022-05-10T19:43:38.693Z"
   },
   {
    "duration": 111,
    "start_time": "2022-05-10T19:46:40.779Z"
   },
   {
    "duration": 95,
    "start_time": "2022-05-10T19:47:39.815Z"
   },
   {
    "duration": 92,
    "start_time": "2022-05-10T19:48:06.269Z"
   },
   {
    "duration": 110,
    "start_time": "2022-05-10T19:48:45.333Z"
   },
   {
    "duration": 102,
    "start_time": "2022-05-10T19:49:22.640Z"
   },
   {
    "duration": 8,
    "start_time": "2022-05-10T20:11:20.186Z"
   },
   {
    "duration": 12,
    "start_time": "2022-05-10T20:11:30.597Z"
   },
   {
    "duration": 23,
    "start_time": "2022-05-10T20:12:21.868Z"
   },
   {
    "duration": 23,
    "start_time": "2022-05-10T20:12:49.099Z"
   },
   {
    "duration": 110,
    "start_time": "2022-05-10T20:13:14.167Z"
   },
   {
    "duration": 3,
    "start_time": "2022-05-10T20:15:57.982Z"
   },
   {
    "duration": 9,
    "start_time": "2022-05-10T20:17:15.331Z"
   },
   {
    "duration": 205,
    "start_time": "2022-05-10T20:17:34.562Z"
   },
   {
    "duration": 243,
    "start_time": "2022-05-10T20:17:51.232Z"
   },
   {
    "duration": 7,
    "start_time": "2022-05-10T20:18:34.725Z"
   },
   {
    "duration": 6,
    "start_time": "2022-05-10T20:21:01.892Z"
   },
   {
    "duration": 8,
    "start_time": "2022-05-10T20:21:22.557Z"
   },
   {
    "duration": 16,
    "start_time": "2022-05-10T20:21:49.878Z"
   },
   {
    "duration": 9,
    "start_time": "2022-05-10T20:25:40.383Z"
   },
   {
    "duration": 110,
    "start_time": "2022-05-10T20:25:58.121Z"
   },
   {
    "duration": 8,
    "start_time": "2022-05-10T20:26:42.666Z"
   },
   {
    "duration": 9,
    "start_time": "2022-05-10T20:39:39.820Z"
   },
   {
    "duration": 5,
    "start_time": "2022-05-10T20:40:06.005Z"
   },
   {
    "duration": 5,
    "start_time": "2022-05-10T20:40:14.523Z"
   },
   {
    "duration": 5,
    "start_time": "2022-05-10T20:41:44.928Z"
   },
   {
    "duration": 4,
    "start_time": "2022-05-10T20:42:08.130Z"
   },
   {
    "duration": 5,
    "start_time": "2022-05-10T20:44:39.294Z"
   },
   {
    "duration": 6,
    "start_time": "2022-05-10T20:45:50.791Z"
   },
   {
    "duration": 8,
    "start_time": "2022-05-10T20:46:40.119Z"
   },
   {
    "duration": 6,
    "start_time": "2022-05-10T20:47:10.335Z"
   },
   {
    "duration": 8,
    "start_time": "2022-05-10T20:47:25.703Z"
   },
   {
    "duration": 8,
    "start_time": "2022-05-10T20:47:33.607Z"
   },
   {
    "duration": 6,
    "start_time": "2022-05-10T20:48:38.716Z"
   },
   {
    "duration": 7,
    "start_time": "2022-05-10T20:54:55.085Z"
   },
   {
    "duration": 11,
    "start_time": "2022-05-10T20:55:13.760Z"
   },
   {
    "duration": 13,
    "start_time": "2022-05-10T20:55:24.432Z"
   },
   {
    "duration": 12,
    "start_time": "2022-05-10T20:55:39.986Z"
   },
   {
    "duration": 96,
    "start_time": "2022-05-10T20:57:30.534Z"
   },
   {
    "duration": 109,
    "start_time": "2022-05-10T20:57:57.098Z"
   },
   {
    "duration": 9,
    "start_time": "2022-05-10T21:01:10.922Z"
   },
   {
    "duration": 5,
    "start_time": "2022-05-10T21:03:00.321Z"
   },
   {
    "duration": 5,
    "start_time": "2022-05-10T21:03:07.547Z"
   },
   {
    "duration": 5,
    "start_time": "2022-05-10T21:03:43.508Z"
   },
   {
    "duration": 5,
    "start_time": "2022-05-10T21:07:18.998Z"
   },
   {
    "duration": 6,
    "start_time": "2022-05-10T21:08:09.197Z"
   },
   {
    "duration": 1247,
    "start_time": "2022-05-10T21:42:23.789Z"
   },
   {
    "duration": 169,
    "start_time": "2022-05-10T21:42:25.037Z"
   },
   {
    "duration": 100,
    "start_time": "2022-05-10T21:42:25.208Z"
   },
   {
    "duration": 147,
    "start_time": "2022-05-10T21:42:25.310Z"
   },
   {
    "duration": 25,
    "start_time": "2022-05-10T21:42:25.458Z"
   },
   {
    "duration": 8,
    "start_time": "2022-05-10T21:42:25.484Z"
   },
   {
    "duration": 78,
    "start_time": "2022-05-10T21:42:25.494Z"
   },
   {
    "duration": 164,
    "start_time": "2022-05-10T21:42:25.573Z"
   },
   {
    "duration": 4,
    "start_time": "2022-05-10T21:42:25.739Z"
   },
   {
    "duration": 77,
    "start_time": "2022-05-10T21:42:25.745Z"
   },
   {
    "duration": 8,
    "start_time": "2022-05-10T21:42:25.824Z"
   },
   {
    "duration": 21,
    "start_time": "2022-05-10T21:42:25.833Z"
   },
   {
    "duration": 19,
    "start_time": "2022-05-10T21:42:25.855Z"
   },
   {
    "duration": 38,
    "start_time": "2022-05-10T21:42:25.875Z"
   },
   {
    "duration": 9,
    "start_time": "2022-05-10T21:42:25.914Z"
   },
   {
    "duration": 12,
    "start_time": "2022-05-10T21:42:25.924Z"
   },
   {
    "duration": 12,
    "start_time": "2022-05-10T21:42:25.937Z"
   },
   {
    "duration": 15,
    "start_time": "2022-05-10T21:42:25.951Z"
   },
   {
    "duration": 42,
    "start_time": "2022-05-10T21:42:25.968Z"
   },
   {
    "duration": 6,
    "start_time": "2022-05-10T21:42:26.012Z"
   },
   {
    "duration": 12,
    "start_time": "2022-05-10T21:42:26.019Z"
   },
   {
    "duration": 7,
    "start_time": "2022-05-10T21:42:26.032Z"
   },
   {
    "duration": 4,
    "start_time": "2022-05-10T21:42:26.040Z"
   },
   {
    "duration": 476,
    "start_time": "2022-05-10T21:42:26.045Z"
   },
   {
    "duration": 11,
    "start_time": "2022-05-10T21:42:26.522Z"
   },
   {
    "duration": 202,
    "start_time": "2022-05-10T21:42:26.534Z"
   },
   {
    "duration": 40,
    "start_time": "2022-05-10T21:42:26.738Z"
   },
   {
    "duration": 165,
    "start_time": "2022-05-10T21:42:26.781Z"
   },
   {
    "duration": 10,
    "start_time": "2022-05-10T21:42:26.948Z"
   },
   {
    "duration": 10,
    "start_time": "2022-05-10T21:42:26.959Z"
   },
   {
    "duration": 208,
    "start_time": "2022-05-10T21:42:26.971Z"
   },
   {
    "duration": 21,
    "start_time": "2022-05-10T21:42:27.180Z"
   },
   {
    "duration": 160,
    "start_time": "2022-05-10T21:42:27.202Z"
   },
   {
    "duration": 11,
    "start_time": "2022-05-10T21:42:27.363Z"
   },
   {
    "duration": 186,
    "start_time": "2022-05-10T21:42:27.375Z"
   },
   {
    "duration": 9,
    "start_time": "2022-05-10T21:42:27.563Z"
   },
   {
    "duration": 162,
    "start_time": "2022-05-10T21:42:27.573Z"
   },
   {
    "duration": 117,
    "start_time": "2022-05-10T21:42:27.737Z"
   },
   {
    "duration": 183,
    "start_time": "2022-05-10T21:42:27.856Z"
   },
   {
    "duration": 4,
    "start_time": "2022-05-10T21:42:28.041Z"
   },
   {
    "duration": 10,
    "start_time": "2022-05-10T21:42:28.046Z"
   },
   {
    "duration": 6,
    "start_time": "2022-05-10T21:42:28.058Z"
   },
   {
    "duration": 7,
    "start_time": "2022-05-10T21:42:28.065Z"
   },
   {
    "duration": 8,
    "start_time": "2022-05-10T21:42:28.100Z"
   },
   {
    "duration": 116,
    "start_time": "2022-05-10T21:42:28.110Z"
   },
   {
    "duration": 122,
    "start_time": "2022-05-10T21:42:28.228Z"
   },
   {
    "duration": 10,
    "start_time": "2022-05-10T21:42:28.351Z"
   },
   {
    "duration": 7,
    "start_time": "2022-05-10T21:42:28.362Z"
   },
   {
    "duration": 6,
    "start_time": "2022-05-10T21:42:28.371Z"
   },
   {
    "duration": 1469,
    "start_time": "2022-05-11T11:17:38.982Z"
   },
   {
    "duration": 208,
    "start_time": "2022-05-11T11:17:40.455Z"
   },
   {
    "duration": 117,
    "start_time": "2022-05-11T11:17:40.665Z"
   },
   {
    "duration": 171,
    "start_time": "2022-05-11T11:17:40.784Z"
   },
   {
    "duration": 28,
    "start_time": "2022-05-11T11:17:40.956Z"
   },
   {
    "duration": 9,
    "start_time": "2022-05-11T11:17:40.985Z"
   },
   {
    "duration": 112,
    "start_time": "2022-05-11T11:17:40.996Z"
   },
   {
    "duration": 205,
    "start_time": "2022-05-11T11:17:41.110Z"
   },
   {
    "duration": 18,
    "start_time": "2022-05-11T11:17:41.317Z"
   },
   {
    "duration": 70,
    "start_time": "2022-05-11T11:17:41.340Z"
   },
   {
    "duration": 30,
    "start_time": "2022-05-11T11:17:41.412Z"
   },
   {
    "duration": 26,
    "start_time": "2022-05-11T11:17:41.445Z"
   },
   {
    "duration": 23,
    "start_time": "2022-05-11T11:17:41.474Z"
   },
   {
    "duration": 48,
    "start_time": "2022-05-11T11:17:41.498Z"
   },
   {
    "duration": 12,
    "start_time": "2022-05-11T11:17:41.548Z"
   },
   {
    "duration": 15,
    "start_time": "2022-05-11T11:17:41.562Z"
   },
   {
    "duration": 16,
    "start_time": "2022-05-11T11:17:41.579Z"
   },
   {
    "duration": 54,
    "start_time": "2022-05-11T11:17:41.597Z"
   },
   {
    "duration": 16,
    "start_time": "2022-05-11T11:17:41.653Z"
   },
   {
    "duration": 8,
    "start_time": "2022-05-11T11:17:41.671Z"
   },
   {
    "duration": 17,
    "start_time": "2022-05-11T11:17:41.681Z"
   },
   {
    "duration": 38,
    "start_time": "2022-05-11T11:17:41.700Z"
   },
   {
    "duration": 11,
    "start_time": "2022-05-11T11:17:41.740Z"
   },
   {
    "duration": 579,
    "start_time": "2022-05-11T11:17:41.753Z"
   },
   {
    "duration": 14,
    "start_time": "2022-05-11T11:17:42.334Z"
   },
   {
    "duration": 285,
    "start_time": "2022-05-11T11:17:42.350Z"
   },
   {
    "duration": 48,
    "start_time": "2022-05-11T11:17:42.637Z"
   },
   {
    "duration": 228,
    "start_time": "2022-05-11T11:17:42.689Z"
   },
   {
    "duration": 21,
    "start_time": "2022-05-11T11:17:42.919Z"
   },
   {
    "duration": 15,
    "start_time": "2022-05-11T11:17:42.942Z"
   },
   {
    "duration": 295,
    "start_time": "2022-05-11T11:17:42.958Z"
   },
   {
    "duration": 12,
    "start_time": "2022-05-11T11:17:43.255Z"
   },
   {
    "duration": 221,
    "start_time": "2022-05-11T11:17:43.268Z"
   },
   {
    "duration": 14,
    "start_time": "2022-05-11T11:17:43.491Z"
   },
   {
    "duration": 264,
    "start_time": "2022-05-11T11:17:43.507Z"
   },
   {
    "duration": 11,
    "start_time": "2022-05-11T11:17:43.773Z"
   },
   {
    "duration": 218,
    "start_time": "2022-05-11T11:17:43.785Z"
   },
   {
    "duration": 163,
    "start_time": "2022-05-11T11:17:44.005Z"
   },
   {
    "duration": 215,
    "start_time": "2022-05-11T11:17:44.170Z"
   },
   {
    "duration": 3,
    "start_time": "2022-05-11T11:17:44.387Z"
   },
   {
    "duration": 42,
    "start_time": "2022-05-11T11:17:44.391Z"
   },
   {
    "duration": 7,
    "start_time": "2022-05-11T11:17:44.435Z"
   },
   {
    "duration": 9,
    "start_time": "2022-05-11T11:17:44.444Z"
   },
   {
    "duration": 16,
    "start_time": "2022-05-11T11:17:44.455Z"
   },
   {
    "duration": 178,
    "start_time": "2022-05-11T11:17:44.473Z"
   },
   {
    "duration": 148,
    "start_time": "2022-05-11T11:17:44.653Z"
   },
   {
    "duration": 12,
    "start_time": "2022-05-11T11:17:44.802Z"
   },
   {
    "duration": 29,
    "start_time": "2022-05-11T11:17:44.817Z"
   },
   {
    "duration": 22,
    "start_time": "2022-05-11T11:17:44.848Z"
   },
   {
    "duration": 27,
    "start_time": "2022-05-11T11:33:39.383Z"
   },
   {
    "duration": 13,
    "start_time": "2022-05-11T11:34:42.067Z"
   },
   {
    "duration": 5,
    "start_time": "2022-05-11T11:35:44.560Z"
   },
   {
    "duration": 6,
    "start_time": "2022-05-11T11:44:32.450Z"
   },
   {
    "duration": 6,
    "start_time": "2022-05-11T11:44:42.150Z"
   },
   {
    "duration": 6,
    "start_time": "2022-05-11T11:45:24.830Z"
   },
   {
    "duration": 20,
    "start_time": "2022-05-11T11:45:41.757Z"
   },
   {
    "duration": 7,
    "start_time": "2022-05-11T11:46:16.124Z"
   },
   {
    "duration": 7,
    "start_time": "2022-05-11T11:46:22.861Z"
   },
   {
    "duration": 7,
    "start_time": "2022-05-11T11:46:28.125Z"
   },
   {
    "duration": 6,
    "start_time": "2022-05-11T11:46:35.173Z"
   },
   {
    "duration": 1322,
    "start_time": "2022-05-15T08:04:23.971Z"
   },
   {
    "duration": 41,
    "start_time": "2022-05-15T08:04:25.295Z"
   },
   {
    "duration": 170,
    "start_time": "2022-05-15T08:04:25.338Z"
   },
   {
    "duration": 101,
    "start_time": "2022-05-15T08:04:25.510Z"
   },
   {
    "duration": 157,
    "start_time": "2022-05-15T08:04:25.613Z"
   },
   {
    "duration": 29,
    "start_time": "2022-05-15T08:04:25.771Z"
   },
   {
    "duration": 93,
    "start_time": "2022-05-15T08:04:25.801Z"
   },
   {
    "duration": 176,
    "start_time": "2022-05-15T08:04:25.896Z"
   },
   {
    "duration": 4,
    "start_time": "2022-05-15T08:04:26.073Z"
   },
   {
    "duration": 67,
    "start_time": "2022-05-15T08:04:26.089Z"
   },
   {
    "duration": 10,
    "start_time": "2022-05-15T08:04:26.157Z"
   },
   {
    "duration": 42,
    "start_time": "2022-05-15T08:04:26.168Z"
   },
   {
    "duration": 20,
    "start_time": "2022-05-15T08:04:26.212Z"
   },
   {
    "duration": 18,
    "start_time": "2022-05-15T08:04:26.233Z"
   },
   {
    "duration": 37,
    "start_time": "2022-05-15T08:04:26.252Z"
   },
   {
    "duration": 13,
    "start_time": "2022-05-15T08:04:26.291Z"
   },
   {
    "duration": 13,
    "start_time": "2022-05-15T08:04:26.306Z"
   },
   {
    "duration": 18,
    "start_time": "2022-05-15T08:04:26.321Z"
   },
   {
    "duration": 13,
    "start_time": "2022-05-15T08:04:26.340Z"
   },
   {
    "duration": 36,
    "start_time": "2022-05-15T08:04:26.355Z"
   },
   {
    "duration": 19,
    "start_time": "2022-05-15T08:04:26.393Z"
   },
   {
    "duration": 10,
    "start_time": "2022-05-15T08:04:26.413Z"
   },
   {
    "duration": 10,
    "start_time": "2022-05-15T08:04:26.424Z"
   },
   {
    "duration": 11,
    "start_time": "2022-05-15T08:04:26.435Z"
   },
   {
    "duration": 7,
    "start_time": "2022-05-15T08:04:26.448Z"
   },
   {
    "duration": 33,
    "start_time": "2022-05-15T08:04:26.457Z"
   },
   {
    "duration": 431,
    "start_time": "2022-05-15T08:04:26.492Z"
   },
   {
    "duration": 150,
    "start_time": "2022-05-15T08:04:26.926Z"
   },
   {
    "duration": 21,
    "start_time": "2022-05-15T08:04:27.078Z"
   },
   {
    "duration": 232,
    "start_time": "2022-05-15T08:04:27.101Z"
   },
   {
    "duration": 54,
    "start_time": "2022-05-15T08:04:27.335Z"
   },
   {
    "duration": 189,
    "start_time": "2022-05-15T08:04:27.390Z"
   },
   {
    "duration": 11,
    "start_time": "2022-05-15T08:04:27.580Z"
   },
   {
    "duration": 119,
    "start_time": "2022-05-15T08:04:27.593Z"
   },
   {
    "duration": 13,
    "start_time": "2022-05-15T08:04:27.713Z"
   },
   {
    "duration": 218,
    "start_time": "2022-05-15T08:04:27.727Z"
   },
   {
    "duration": 12,
    "start_time": "2022-05-15T08:04:27.947Z"
   },
   {
    "duration": 193,
    "start_time": "2022-05-15T08:04:27.960Z"
   },
   {
    "duration": 144,
    "start_time": "2022-05-15T08:04:28.155Z"
   },
   {
    "duration": 13,
    "start_time": "2022-05-15T08:04:28.300Z"
   },
   {
    "duration": 307,
    "start_time": "2022-05-15T08:04:28.314Z"
   },
   {
    "duration": 12,
    "start_time": "2022-05-15T08:04:28.622Z"
   },
   {
    "duration": 182,
    "start_time": "2022-05-15T08:04:28.635Z"
   },
   {
    "duration": 138,
    "start_time": "2022-05-15T08:04:28.819Z"
   },
   {
    "duration": 12,
    "start_time": "2022-05-15T08:04:28.959Z"
   },
   {
    "duration": 232,
    "start_time": "2022-05-15T08:04:28.973Z"
   },
   {
    "duration": 12,
    "start_time": "2022-05-15T08:04:29.206Z"
   },
   {
    "duration": 177,
    "start_time": "2022-05-15T08:04:29.219Z"
   },
   {
    "duration": 127,
    "start_time": "2022-05-15T08:04:29.398Z"
   },
   {
    "duration": 135,
    "start_time": "2022-05-15T08:04:29.527Z"
   },
   {
    "duration": 3,
    "start_time": "2022-05-15T08:04:29.664Z"
   },
   {
    "duration": 23,
    "start_time": "2022-05-15T08:04:29.668Z"
   },
   {
    "duration": 6,
    "start_time": "2022-05-15T08:04:29.693Z"
   },
   {
    "duration": 7,
    "start_time": "2022-05-15T08:04:29.700Z"
   },
   {
    "duration": 9,
    "start_time": "2022-05-15T08:04:29.709Z"
   },
   {
    "duration": 129,
    "start_time": "2022-05-15T08:04:29.719Z"
   },
   {
    "duration": 127,
    "start_time": "2022-05-15T08:04:29.850Z"
   },
   {
    "duration": 15,
    "start_time": "2022-05-15T08:04:29.978Z"
   },
   {
    "duration": 6,
    "start_time": "2022-05-15T08:04:29.994Z"
   },
   {
    "duration": 25,
    "start_time": "2022-05-15T08:04:30.001Z"
   },
   {
    "duration": 97,
    "start_time": "2022-05-15T08:05:11.876Z"
   },
   {
    "duration": 11,
    "start_time": "2022-05-15T08:05:22.604Z"
   }
  ],
  "kernelspec": {
   "display_name": "Python 3 (ipykernel)",
   "language": "python",
   "name": "python3"
  },
  "language_info": {
   "codemirror_mode": {
    "name": "ipython",
    "version": 3
   },
   "file_extension": ".py",
   "mimetype": "text/x-python",
   "name": "python",
   "nbconvert_exporter": "python",
   "pygments_lexer": "ipython3",
   "version": "3.9.7"
  },
  "toc": {
   "base_numbering": 1,
   "nav_menu": {},
   "number_sections": true,
   "sideBar": true,
   "skip_h1_title": true,
   "title_cell": "Содержание проекта",
   "title_sidebar": "Contents",
   "toc_cell": true,
   "toc_position": {},
   "toc_section_display": true,
   "toc_window_display": true
  }
 },
 "nbformat": 4,
 "nbformat_minor": 2
}
